{
 "cells": [
  {
   "cell_type": "code",
   "execution_count": 1,
   "id": "055eee21",
   "metadata": {},
   "outputs": [],
   "source": [
    "import pandas as pd\n",
    "import matplotlib.pyplot as plt\n",
    "import seaborn as sns\n",
    "import numpy as np"
   ]
  },
  {
   "cell_type": "code",
   "execution_count": 2,
   "id": "f82cda33",
   "metadata": {},
   "outputs": [],
   "source": [
    "mlc = pd.read_csv('../data/MLC_Matching_Sample_NSS.csv')"
   ]
  },
  {
   "cell_type": "code",
   "execution_count": 3,
   "id": "a06accfc",
   "metadata": {
    "scrolled": true
   },
   "outputs": [],
   "source": [
    "# mlc.head()"
   ]
  },
  {
   "cell_type": "code",
   "execution_count": 4,
   "id": "6b4e1b03",
   "metadata": {},
   "outputs": [],
   "source": [
    "mlc.columns = ['ISRC', 'Country', 'Registrant', 'Release_Year', 'Period', 'DSP', 'Streams', 'Artist', 'Label', 'Song', 'Album', 'Duration', 'Songwriter?']"
   ]
  },
  {
   "cell_type": "code",
   "execution_count": 5,
   "id": "df3d233e",
   "metadata": {},
   "outputs": [],
   "source": [
    "mlc[\"Streams\"] = mlc[\"Streams\"].str.replace(\",\", \"\")\n",
    "mlc[\"Streams\"] = mlc[\"Streams\"].str.replace(\" \", \"\")\n",
    "mlc[[\"Streams\"]] = mlc[[\"Streams\"]].apply(pd.to_numeric)"
   ]
  },
  {
   "cell_type": "code",
   "execution_count": 6,
   "id": "3e6e7426",
   "metadata": {},
   "outputs": [],
   "source": [
    "# domestic = mlc.loc[mlc['Country']== 'US']"
   ]
  },
  {
   "cell_type": "code",
   "execution_count": 7,
   "id": "8a18c577",
   "metadata": {
    "scrolled": true
   },
   "outputs": [],
   "source": [
    "# domestic.head()"
   ]
  },
  {
   "cell_type": "code",
   "execution_count": 8,
   "id": "9fbe466b",
   "metadata": {},
   "outputs": [],
   "source": [
    "# domestic['DSP'].value_counts()"
   ]
  },
  {
   "cell_type": "code",
   "execution_count": 9,
   "id": "9ca742ea",
   "metadata": {},
   "outputs": [],
   "source": [
    "# mlc.info"
   ]
  },
  {
   "cell_type": "code",
   "execution_count": 10,
   "id": "5463d8bd",
   "metadata": {},
   "outputs": [],
   "source": [
    "# mlc.sort_values('Streams')"
   ]
  },
  {
   "cell_type": "code",
   "execution_count": 11,
   "id": "ad6ca0f1",
   "metadata": {},
   "outputs": [],
   "source": [
    "# mlc.describe()"
   ]
  },
  {
   "cell_type": "code",
   "execution_count": 12,
   "id": "12e63f83",
   "metadata": {},
   "outputs": [],
   "source": [
    "# mlc.isnull().sum()"
   ]
  },
  {
   "cell_type": "code",
   "execution_count": 13,
   "id": "89fcd984",
   "metadata": {},
   "outputs": [],
   "source": [
    "# mlc.Artist.value_counts()"
   ]
  },
  {
   "cell_type": "code",
   "execution_count": 14,
   "id": "b2356dc2",
   "metadata": {},
   "outputs": [],
   "source": [
    "# mlc.loc[mlc['Streams'] ==mlc.Streams.max()]"
   ]
  },
  {
   "cell_type": "code",
   "execution_count": 15,
   "id": "27efcc2f",
   "metadata": {},
   "outputs": [
    {
     "name": "stdout",
     "output_type": "stream",
     "text": [
      "DSP\n",
      "Classical Archives         1.0\n",
      "Qoboz                 0.903846\n",
      "Deezer                0.862745\n",
      "Spotify               0.854376\n",
      "Apple                 0.808514\n",
      "Recisio               0.545455\n",
      "Amazon                 0.26174\n",
      "Pandora               0.244828\n",
      "Melodyv               0.114596\n",
      "LiveXLive                 0.07\n",
      "GTL                    0.02844\n",
      "Tidal                 0.003692\n",
      "Smithsonian                0.0\n",
      "Ultimate Guitar            0.0\n",
      "Trebel                     0.0\n",
      "Wolfgangs                  0.0\n",
      "SoundCloud                 0.0\n",
      "Sonos                      0.0\n",
      "YouTube                    0.0\n",
      "Pacemaker                  0.0\n",
      "PowerMusic                 0.0\n",
      "Anghami                    0.0\n",
      "NugsNet                    0.0\n",
      "MonkingMe                  0.0\n",
      "MixCloud                   0.0\n",
      "Midwest Tape               0.0\n",
      "Fan Label                  0.0\n",
      "AudioMack                  0.0\n",
      "iHeart Radio               0.0\n",
      "Name: Songwriter?, dtype: object\n"
     ]
    }
   ],
   "source": [
    "# Songwriter ratio: Liklihood of each DSP to provide songwriter info\n",
    "sw_ratio = mlc.groupby('DSP')['Songwriter?'].mean()\n",
    "sw_ratio = sw_ratio.sort_values(ascending=False)\n",
    "sw_ratio = sw_ratio.astype(object)\n",
    "print(sw_ratio)"
   ]
  },
  {
   "cell_type": "code",
   "execution_count": 16,
   "id": "adb23947",
   "metadata": {},
   "outputs": [
    {
     "name": "stdout",
     "output_type": "stream",
     "text": [
      "                   DSP    SW_Avg\n",
      "0   Classical Archives       1.0\n",
      "1                Qoboz  0.903846\n",
      "2               Deezer  0.862745\n",
      "3              Spotify  0.854376\n",
      "4                Apple  0.808514\n",
      "5              Recisio  0.545455\n",
      "6               Amazon   0.26174\n",
      "7              Pandora  0.244828\n",
      "8              Melodyv  0.114596\n",
      "9            LiveXLive      0.07\n",
      "10                 GTL   0.02844\n",
      "11               Tidal  0.003692\n",
      "12         Smithsonian       0.0\n",
      "13     Ultimate Guitar       0.0\n",
      "14              Trebel       0.0\n",
      "15           Wolfgangs       0.0\n",
      "16          SoundCloud       0.0\n",
      "17               Sonos       0.0\n",
      "18             YouTube       0.0\n",
      "19           Pacemaker       0.0\n",
      "20          PowerMusic       0.0\n",
      "21             Anghami       0.0\n",
      "22             NugsNet       0.0\n",
      "23           MonkingMe       0.0\n",
      "24            MixCloud       0.0\n",
      "25        Midwest Tape       0.0\n",
      "26           Fan Label       0.0\n",
      "27           AudioMack       0.0\n",
      "28        iHeart Radio       0.0\n"
     ]
    }
   ],
   "source": [
    "# Make sw_ratio into dataframe and rename the first column (DSP is index)\n",
    "songwriter_df = pd.DataFrame(sw_ratio)\n",
    "songwriter_df.reset_index(inplace=True)\n",
    "songwriter_df.columns = ['DSP', 'SW_Avg']\n",
    "print(songwriter_df)"
   ]
  },
  {
   "cell_type": "code",
   "execution_count": 17,
   "id": "0c968298",
   "metadata": {},
   "outputs": [],
   "source": [
    "# mlc['ISRC'].isnull().sum()"
   ]
  },
  {
   "cell_type": "code",
   "execution_count": 18,
   "id": "c9c247cf",
   "metadata": {},
   "outputs": [],
   "source": [
    "# mlc.loc[mlc['DSP'] == 'Amazon']"
   ]
  },
  {
   "cell_type": "code",
   "execution_count": 19,
   "id": "2e7bc694",
   "metadata": {},
   "outputs": [],
   "source": [
    "# mlc.loc[(mlc['DSP'] == 'Amazon') & (mlc['Registrant'] == isnull()]"
   ]
  },
  {
   "cell_type": "code",
   "execution_count": 20,
   "id": "a6bf5d42",
   "metadata": {},
   "outputs": [
    {
     "name": "stdout",
     "output_type": "stream",
     "text": [
      "DSP\n",
      "Spotify               2552563722\n",
      "Apple                 1606453701\n",
      "Pandora                874236566\n",
      "SoundCloud             166813813\n",
      "YouTube                158031119\n",
      "Amazon                 151199800\n",
      "Tidal                   48793126\n",
      "AudioMack               11991559\n",
      "Melodyv                  5384657\n",
      "iHeart Radio             2141959\n",
      "GTL                      1280764\n",
      "Trebel                    149347\n",
      "NugsNet                   110709\n",
      "LiveXLive                 101307\n",
      "Deezer                     87830\n",
      "Midwest Tape               85708\n",
      "Anghami                    34682\n",
      "Sonos                      31402\n",
      "Qoboz                       6621\n",
      "MonkingMe                   3549\n",
      "PowerMusic                  3154\n",
      "MixCloud                    2661\n",
      "Pacemaker                   1707\n",
      "Wolfgangs                    965\n",
      "Ultimate Guitar              309\n",
      "Smithsonian                  208\n",
      "Fan Label                     91\n",
      "Recisio                       29\n",
      "Classical Archives            20\n",
      "Name: Streams, dtype: int64\n"
     ]
    }
   ],
   "source": [
    "# Number/sum of streams per DSP\n",
    "streams_per_DSP = mlc.groupby('DSP')['Streams'].sum()\n",
    "streams_per_DSP = streams_per_DSP.sort_values(ascending=False)\n",
    "print(streams_per_DSP)"
   ]
  },
  {
   "cell_type": "code",
   "execution_count": 21,
   "id": "c4871b65",
   "metadata": {},
   "outputs": [
    {
     "name": "stdout",
     "output_type": "stream",
     "text": [
      "                   DSP  Streams_Per_DSP\n",
      "0              Spotify       2552563722\n",
      "1                Apple       1606453701\n",
      "2              Pandora        874236566\n",
      "3           SoundCloud        166813813\n",
      "4              YouTube        158031119\n",
      "5               Amazon        151199800\n",
      "6                Tidal         48793126\n",
      "7            AudioMack         11991559\n",
      "8              Melodyv          5384657\n",
      "9         iHeart Radio          2141959\n",
      "10                 GTL          1280764\n",
      "11              Trebel           149347\n",
      "12             NugsNet           110709\n",
      "13           LiveXLive           101307\n",
      "14              Deezer            87830\n",
      "15        Midwest Tape            85708\n",
      "16             Anghami            34682\n",
      "17               Sonos            31402\n",
      "18               Qoboz             6621\n",
      "19           MonkingMe             3549\n",
      "20          PowerMusic             3154\n",
      "21            MixCloud             2661\n",
      "22           Pacemaker             1707\n",
      "23           Wolfgangs              965\n",
      "24     Ultimate Guitar              309\n",
      "25         Smithsonian              208\n",
      "26           Fan Label               91\n",
      "27             Recisio               29\n",
      "28  Classical Archives               20\n"
     ]
    }
   ],
   "source": [
    "streams_df = pd.DataFrame(streams_per_DSP)\n",
    "streams_df.reset_index(inplace=True)\n",
    "streams_df.columns = ['DSP', 'Streams_Per_DSP']\n",
    "print(streams_df)"
   ]
  },
  {
   "cell_type": "code",
   "execution_count": 22,
   "id": "5db76c5d",
   "metadata": {},
   "outputs": [
    {
     "name": "stdout",
     "output_type": "stream",
     "text": [
      "Spotify               32268\n",
      "Apple                 22200\n",
      "Amazon                14438\n",
      "Pandora               13777\n",
      "Tidal                  3521\n",
      "YouTube                2752\n",
      "SoundCloud             2122\n",
      "GTL                    1090\n",
      "Melodyv                 829\n",
      "Trebel                  817\n",
      "iHeart Radio            707\n",
      "AudioMack               550\n",
      "NugsNet                 316\n",
      "LiveXLive               200\n",
      "Qoboz                   104\n",
      "Midwest Tape            102\n",
      "Deezer                   51\n",
      "Anghami                  46\n",
      "Sonos                    23\n",
      "Recisio                  22\n",
      "Smithsonian              21\n",
      "Ultimate Guitar          19\n",
      "PowerMusic                8\n",
      "Wolfgangs                 4\n",
      "Fan Label                 4\n",
      "MixCloud                  4\n",
      "Pacemaker                 3\n",
      "Classical Archives        2\n",
      "MonkingMe                 1\n",
      "Name: DSP, dtype: int64\n"
     ]
    }
   ],
   "source": [
    "# Number of recordings (rows) per DSP\n",
    "rows_per_DSP = mlc['DSP'].value_counts()\n",
    "print(rows_per_DSP)"
   ]
  },
  {
   "cell_type": "code",
   "execution_count": 32,
   "id": "180c115f",
   "metadata": {},
   "outputs": [
    {
     "name": "stdout",
     "output_type": "stream",
     "text": [
      "                   DSP  Songs_Per_DSP\n",
      "0              Spotify          32268\n",
      "1                Apple          22200\n",
      "2               Amazon          14438\n",
      "3              Pandora          13777\n",
      "4                Tidal           3521\n",
      "5              YouTube           2752\n",
      "6           SoundCloud           2122\n",
      "7                  GTL           1090\n",
      "8              Melodyv            829\n",
      "9               Trebel            817\n",
      "10        iHeart Radio            707\n",
      "11           AudioMack            550\n",
      "12             NugsNet            316\n",
      "13           LiveXLive            200\n",
      "14               Qoboz            104\n",
      "15        Midwest Tape            102\n",
      "16              Deezer             51\n",
      "17             Anghami             46\n",
      "18               Sonos             23\n",
      "19             Recisio             22\n",
      "20         Smithsonian             21\n",
      "21     Ultimate Guitar             19\n",
      "22          PowerMusic              8\n",
      "23           Wolfgangs              4\n",
      "24           Fan Label              4\n",
      "25            MixCloud              4\n",
      "26           Pacemaker              3\n",
      "27  Classical Archives              2\n",
      "28           MonkingMe              1\n"
     ]
    }
   ],
   "source": [
    "rows_df = pd.DataFrame(rows_per_DSP)\n",
    "rows_df.reset_index(inplace=True)\n",
    "rows_df.columns = ['DSP', 'Songs_Per_DSP']\n",
    "print(rows_df)"
   ]
  },
  {
   "cell_type": "code",
   "execution_count": 33,
   "id": "9382cae7",
   "metadata": {},
   "outputs": [
    {
     "name": "stdout",
     "output_type": "stream",
     "text": [
      "                   DSP    SW_Avg  Streams_Per_DSP\n",
      "0   Classical Archives       1.0               20\n",
      "1                Qoboz  0.903846             6621\n",
      "2               Deezer  0.862745            87830\n",
      "3              Spotify  0.854376       2552563722\n",
      "4                Apple  0.808514       1606453701\n",
      "5              Recisio  0.545455               29\n",
      "6               Amazon   0.26174        151199800\n",
      "7              Pandora  0.244828        874236566\n",
      "8              Melodyv  0.114596          5384657\n",
      "9            LiveXLive      0.07           101307\n",
      "10                 GTL   0.02844          1280764\n",
      "11               Tidal  0.003692         48793126\n",
      "12         Smithsonian       0.0              208\n",
      "13     Ultimate Guitar       0.0              309\n",
      "14              Trebel       0.0           149347\n",
      "15           Wolfgangs       0.0              965\n",
      "16          SoundCloud       0.0        166813813\n",
      "17               Sonos       0.0            31402\n",
      "18             YouTube       0.0        158031119\n",
      "19           Pacemaker       0.0             1707\n",
      "20          PowerMusic       0.0             3154\n",
      "21             Anghami       0.0            34682\n",
      "22             NugsNet       0.0           110709\n",
      "23           MonkingMe       0.0             3549\n",
      "24            MixCloud       0.0             2661\n",
      "25        Midwest Tape       0.0            85708\n",
      "26           Fan Label       0.0               91\n",
      "27           AudioMack       0.0         11991559\n",
      "28        iHeart Radio       0.0          2141959\n"
     ]
    }
   ],
   "source": [
    "# Merge the three dataframes together on DSP\n",
    "DSP_df1 = pd.merge(songwriter_df, streams_df, on=['DSP'], how='inner')\n",
    "print(DSP_df1)"
   ]
  },
  {
   "cell_type": "code",
   "execution_count": 34,
   "id": "3fa65b56",
   "metadata": {},
   "outputs": [
    {
     "name": "stdout",
     "output_type": "stream",
     "text": [
      "                   DSP    SW_Avg  Streams_Per_DSP  Songs_Per_DSP\n",
      "0   Classical Archives       1.0               20              2\n",
      "1                Qoboz  0.903846             6621            104\n",
      "2               Deezer  0.862745            87830             51\n",
      "3              Spotify  0.854376       2552563722          32268\n",
      "4                Apple  0.808514       1606453701          22200\n",
      "5              Recisio  0.545455               29             22\n",
      "6               Amazon   0.26174        151199800          14438\n",
      "7              Pandora  0.244828        874236566          13777\n",
      "8              Melodyv  0.114596          5384657            829\n",
      "9            LiveXLive      0.07           101307            200\n",
      "10                 GTL   0.02844          1280764           1090\n",
      "11               Tidal  0.003692         48793126           3521\n",
      "12         Smithsonian       0.0              208             21\n",
      "13     Ultimate Guitar       0.0              309             19\n",
      "14              Trebel       0.0           149347            817\n",
      "15           Wolfgangs       0.0              965              4\n",
      "16          SoundCloud       0.0        166813813           2122\n",
      "17               Sonos       0.0            31402             23\n",
      "18             YouTube       0.0        158031119           2752\n",
      "19           Pacemaker       0.0             1707              3\n",
      "20          PowerMusic       0.0             3154              8\n",
      "21             Anghami       0.0            34682             46\n",
      "22             NugsNet       0.0           110709            316\n",
      "23           MonkingMe       0.0             3549              1\n",
      "24            MixCloud       0.0             2661              4\n",
      "25        Midwest Tape       0.0            85708            102\n",
      "26           Fan Label       0.0               91              4\n",
      "27           AudioMack       0.0         11991559            550\n",
      "28        iHeart Radio       0.0          2141959            707\n"
     ]
    }
   ],
   "source": [
    "DSP_df2 = pd.merge(DSP_df1, rows_df, on=['DSP'], how='inner')\n",
    "print(DSP_df2)"
   ]
  },
  {
   "cell_type": "code",
   "execution_count": 35,
   "id": "3bdd8c01",
   "metadata": {},
   "outputs": [
    {
     "name": "stdout",
     "output_type": "stream",
     "text": [
      "                   DSP    SW_Avg  Streams_Per_DSP  Songs_Per_DSP\n",
      "3              Spotify  0.854376       2552563722          32268\n",
      "4                Apple  0.808514       1606453701          22200\n",
      "7              Pandora  0.244828        874236566          13777\n",
      "16          SoundCloud       0.0        166813813           2122\n",
      "18             YouTube       0.0        158031119           2752\n",
      "6               Amazon   0.26174        151199800          14438\n",
      "11               Tidal  0.003692         48793126           3521\n",
      "27           AudioMack       0.0         11991559            550\n",
      "8              Melodyv  0.114596          5384657            829\n",
      "28        iHeart Radio       0.0          2141959            707\n",
      "10                 GTL   0.02844          1280764           1090\n",
      "14              Trebel       0.0           149347            817\n",
      "22             NugsNet       0.0           110709            316\n",
      "9            LiveXLive      0.07           101307            200\n",
      "2               Deezer  0.862745            87830             51\n",
      "25        Midwest Tape       0.0            85708            102\n",
      "21             Anghami       0.0            34682             46\n",
      "17               Sonos       0.0            31402             23\n",
      "1                Qoboz  0.903846             6621            104\n",
      "23           MonkingMe       0.0             3549              1\n",
      "20          PowerMusic       0.0             3154              8\n",
      "24            MixCloud       0.0             2661              4\n",
      "19           Pacemaker       0.0             1707              3\n",
      "15           Wolfgangs       0.0              965              4\n",
      "13     Ultimate Guitar       0.0              309             19\n",
      "12         Smithsonian       0.0              208             21\n",
      "26           Fan Label       0.0               91              4\n",
      "5              Recisio  0.545455               29             22\n",
      "0   Classical Archives       1.0               20              2\n"
     ]
    }
   ],
   "source": [
    "DSP_df2 = DSP_df2.sort_values(by=['Streams_Per_DSP'], ascending=False)\n",
    "print(DSP_df2)"
   ]
  }
 ],
 "metadata": {
  "kernelspec": {
   "display_name": "Python 3 (ipykernel)",
   "language": "python",
   "name": "python3"
  },
  "language_info": {
   "codemirror_mode": {
    "name": "ipython",
    "version": 3
   },
   "file_extension": ".py",
   "mimetype": "text/x-python",
   "name": "python",
   "nbconvert_exporter": "python",
   "pygments_lexer": "ipython3",
   "version": "3.9.7"
  }
 },
 "nbformat": 4,
 "nbformat_minor": 5
}
