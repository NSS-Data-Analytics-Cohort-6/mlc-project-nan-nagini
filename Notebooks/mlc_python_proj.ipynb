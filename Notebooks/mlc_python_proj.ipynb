{
 "cells": [
  {
   "cell_type": "code",
   "execution_count": 1,
   "id": "055eee21",
   "metadata": {},
   "outputs": [],
   "source": [
    "import pandas as pd\n",
    "import matplotlib.pyplot as plt\n",
    "import matplotlib.ticker as mtick\n",
    "import seaborn as sns\n",
    "import numpy as np"
   ]
  },
  {
   "cell_type": "code",
   "execution_count": 2,
   "id": "f82cda33",
   "metadata": {},
   "outputs": [],
   "source": [
    "mlc = pd.read_csv('../data/MLC_Matching_Sample_NSS.csv')"
   ]
  },
  {
   "cell_type": "code",
   "execution_count": 34,
   "id": "a06accfc",
   "metadata": {
    "scrolled": true
   },
   "outputs": [
    {
     "data": {
      "text/html": [
       "<div>\n",
       "<style scoped>\n",
       "    .dataframe tbody tr th:only-of-type {\n",
       "        vertical-align: middle;\n",
       "    }\n",
       "\n",
       "    .dataframe tbody tr th {\n",
       "        vertical-align: top;\n",
       "    }\n",
       "\n",
       "    .dataframe thead th {\n",
       "        text-align: right;\n",
       "    }\n",
       "</style>\n",
       "<table border=\"1\" class=\"dataframe\">\n",
       "  <thead>\n",
       "    <tr style=\"text-align: right;\">\n",
       "      <th></th>\n",
       "      <th>ISRC</th>\n",
       "      <th>Country</th>\n",
       "      <th>Registrant</th>\n",
       "      <th>Release_Year</th>\n",
       "      <th>Period</th>\n",
       "      <th>DSP</th>\n",
       "      <th>Streams</th>\n",
       "      <th>Artist</th>\n",
       "      <th>Label</th>\n",
       "      <th>Song</th>\n",
       "      <th>Album</th>\n",
       "      <th>Duration</th>\n",
       "      <th>Songwriter?</th>\n",
       "    </tr>\n",
       "  </thead>\n",
       "  <tbody>\n",
       "    <tr>\n",
       "      <th>0</th>\n",
       "      <td>USUG12101043</td>\n",
       "      <td>US</td>\n",
       "      <td>UG1</td>\n",
       "      <td>21.0</td>\n",
       "      <td>NaN</td>\n",
       "      <td>AudioMack</td>\n",
       "      <td>10175</td>\n",
       "      <td>Future</td>\n",
       "      <td>NaN</td>\n",
       "      <td>FUTURE FT DEJ LOAF HEY THERE PROD BY DDS</td>\n",
       "      <td>#unknown#</td>\n",
       "      <td>181</td>\n",
       "      <td>0</td>\n",
       "    </tr>\n",
       "    <tr>\n",
       "      <th>1</th>\n",
       "      <td>USRC12100543</td>\n",
       "      <td>US</td>\n",
       "      <td>RC1</td>\n",
       "      <td>21.0</td>\n",
       "      <td>NaN</td>\n",
       "      <td>SoundCloud</td>\n",
       "      <td>8597</td>\n",
       "      <td>LUCKY3RD</td>\n",
       "      <td>LUCKY3RD</td>\n",
       "      <td>Keep It Cool  LUCKY3RD</td>\n",
       "      <td>Keep It Cool  LUCKY3RD</td>\n",
       "      <td>133</td>\n",
       "      <td>0</td>\n",
       "    </tr>\n",
       "    <tr>\n",
       "      <th>2</th>\n",
       "      <td>USSM12102263</td>\n",
       "      <td>US</td>\n",
       "      <td>SM1</td>\n",
       "      <td>21.0</td>\n",
       "      <td>NaN</td>\n",
       "      <td>SoundCloud</td>\n",
       "      <td>261280</td>\n",
       "      <td>LUCKY3RD</td>\n",
       "      <td>LUCKY3RD</td>\n",
       "      <td>Life Goes On  LUCKY3RD</td>\n",
       "      <td>Life Goes On  LUCKY3RD</td>\n",
       "      <td>171</td>\n",
       "      <td>0</td>\n",
       "    </tr>\n",
       "    <tr>\n",
       "      <th>3</th>\n",
       "      <td>USLD91731547</td>\n",
       "      <td>US</td>\n",
       "      <td>LD9</td>\n",
       "      <td>17.0</td>\n",
       "      <td>2/1/2021</td>\n",
       "      <td>Trebel</td>\n",
       "      <td>5</td>\n",
       "      <td>Bachata &amp; Merengue Mix</td>\n",
       "      <td>Orchard</td>\n",
       "      <td>No dudes de mi- Merengue &amp; Bachata Mix</td>\n",
       "      <td>Mega Mix 2010</td>\n",
       "      <td>1250</td>\n",
       "      <td>0</td>\n",
       "    </tr>\n",
       "    <tr>\n",
       "      <th>4</th>\n",
       "      <td>USAT22007048</td>\n",
       "      <td>US</td>\n",
       "      <td>AT2</td>\n",
       "      <td>20.0</td>\n",
       "      <td>NaN</td>\n",
       "      <td>AudioMack</td>\n",
       "      <td>62105</td>\n",
       "      <td>Foolio</td>\n",
       "      <td>NaN</td>\n",
       "      <td>WHEN I SEE YOU REMIX</td>\n",
       "      <td>#unknown#</td>\n",
       "      <td>187</td>\n",
       "      <td>0</td>\n",
       "    </tr>\n",
       "  </tbody>\n",
       "</table>\n",
       "</div>"
      ],
      "text/plain": [
       "           ISRC Country Registrant  Release_Year    Period         DSP  \\\n",
       "0  USUG12101043      US        UG1          21.0       NaN   AudioMack   \n",
       "1  USRC12100543      US        RC1          21.0       NaN  SoundCloud   \n",
       "2  USSM12102263      US        SM1          21.0       NaN  SoundCloud   \n",
       "3  USLD91731547      US        LD9          17.0  2/1/2021      Trebel   \n",
       "4  USAT22007048      US        AT2          20.0       NaN   AudioMack   \n",
       "\n",
       "   Streams                  Artist     Label  \\\n",
       "0    10175                  Future       NaN   \n",
       "1     8597                LUCKY3RD  LUCKY3RD   \n",
       "2   261280                LUCKY3RD  LUCKY3RD   \n",
       "3        5  Bachata & Merengue Mix   Orchard   \n",
       "4    62105                  Foolio       NaN   \n",
       "\n",
       "                                        Song                    Album  \\\n",
       "0   FUTURE FT DEJ LOAF HEY THERE PROD BY DDS                #unknown#   \n",
       "1                     Keep It Cool  LUCKY3RD   Keep It Cool  LUCKY3RD   \n",
       "2                     Life Goes On  LUCKY3RD   Life Goes On  LUCKY3RD   \n",
       "3     No dudes de mi- Merengue & Bachata Mix            Mega Mix 2010   \n",
       "4                       WHEN I SEE YOU REMIX                #unknown#   \n",
       "\n",
       "   Duration  Songwriter?  \n",
       "0       181            0  \n",
       "1       133            0  \n",
       "2       171            0  \n",
       "3      1250            0  \n",
       "4       187            0  "
      ]
     },
     "execution_count": 34,
     "metadata": {},
     "output_type": "execute_result"
    }
   ],
   "source": [
    "mlc.head()"
   ]
  },
  {
   "cell_type": "code",
   "execution_count": 4,
   "id": "6b4e1b03",
   "metadata": {},
   "outputs": [],
   "source": [
    "# Rename columns\n",
    "mlc.columns = ['ISRC', 'Country', 'Registrant', 'Release_Year', 'Period', 'DSP', 'Streams', 'Artist', 'Label', 'Song', 'Album', 'Duration', 'Songwriter?']"
   ]
  },
  {
   "cell_type": "code",
   "execution_count": 5,
   "id": "df3d233e",
   "metadata": {},
   "outputs": [],
   "source": [
    "mlc[\"Streams\"] = mlc[\"Streams\"].str.replace(\",\", \"\")\n",
    "mlc[\"Streams\"] = mlc[\"Streams\"].str.replace(\" \", \"\")\n",
    "mlc[[\"Streams\"]] = mlc[[\"Streams\"]].apply(pd.to_numeric)"
   ]
  },
  {
   "cell_type": "code",
   "execution_count": 6,
   "id": "3e6e7426",
   "metadata": {},
   "outputs": [],
   "source": [
    "#Exploring US only data\n",
    "# domestic = mlc.loc[mlc['Country']== 'US']"
   ]
  },
  {
   "cell_type": "code",
   "execution_count": 7,
   "id": "8a18c577",
   "metadata": {
    "scrolled": true
   },
   "outputs": [],
   "source": [
    "# domestic.head()"
   ]
  },
  {
   "cell_type": "code",
   "execution_count": 8,
   "id": "9fbe466b",
   "metadata": {},
   "outputs": [],
   "source": [
    "# domestic['DSP'].value_counts()"
   ]
  },
  {
   "cell_type": "code",
   "execution_count": 9,
   "id": "9ca742ea",
   "metadata": {},
   "outputs": [],
   "source": [
    "# More exploration\n",
    "# mlc.info"
   ]
  },
  {
   "cell_type": "code",
   "execution_count": 10,
   "id": "5463d8bd",
   "metadata": {},
   "outputs": [],
   "source": [
    "# mlc.sort_values('Streams')"
   ]
  },
  {
   "cell_type": "code",
   "execution_count": 11,
   "id": "ad6ca0f1",
   "metadata": {},
   "outputs": [],
   "source": [
    "# mlc.describe()"
   ]
  },
  {
   "cell_type": "code",
   "execution_count": 12,
   "id": "12e63f83",
   "metadata": {},
   "outputs": [],
   "source": [
    "# mlc.isnull().sum()"
   ]
  },
  {
   "cell_type": "code",
   "execution_count": 13,
   "id": "89fcd984",
   "metadata": {},
   "outputs": [],
   "source": [
    "# mlc.Artist.value_counts()"
   ]
  },
  {
   "cell_type": "code",
   "execution_count": 14,
   "id": "b2356dc2",
   "metadata": {},
   "outputs": [],
   "source": [
    "# mlc.loc[mlc['Streams'] ==mlc.Streams.max()]"
   ]
  },
  {
   "cell_type": "code",
   "execution_count": 15,
   "id": "27efcc2f",
   "metadata": {
    "scrolled": true
   },
   "outputs": [
    {
     "name": "stdout",
     "output_type": "stream",
     "text": [
      "DSP\n",
      "Classical Archives    1.000000\n",
      "Qoboz                 0.903846\n",
      "Deezer                0.862745\n",
      "Spotify               0.854376\n",
      "Apple                 0.808514\n",
      "Recisio               0.545455\n",
      "Amazon                0.261740\n",
      "Pandora               0.244828\n",
      "Melodyv               0.114596\n",
      "LiveXLive             0.070000\n",
      "GTL                   0.028440\n",
      "Tidal                 0.003692\n",
      "Smithsonian           0.000000\n",
      "Ultimate Guitar       0.000000\n",
      "Trebel                0.000000\n",
      "Wolfgangs             0.000000\n",
      "SoundCloud            0.000000\n",
      "Sonos                 0.000000\n",
      "YouTube               0.000000\n",
      "Pacemaker             0.000000\n",
      "PowerMusic            0.000000\n",
      "Anghami               0.000000\n",
      "NugsNet               0.000000\n",
      "MonkingMe             0.000000\n",
      "MixCloud              0.000000\n",
      "Midwest Tape          0.000000\n",
      "Fan Label             0.000000\n",
      "AudioMack             0.000000\n",
      "iHeart Radio          0.000000\n",
      "Name: Songwriter?, dtype: float64\n"
     ]
    }
   ],
   "source": [
    "# Songwriter ratio: Liklihood of each DSP to provide songwriter info\n",
    "sw_ratio = mlc.groupby('DSP')['Songwriter?'].mean()\n",
    "sw_ratio = sw_ratio.sort_values(ascending=False)\n",
    "print(sw_ratio)"
   ]
  },
  {
   "cell_type": "code",
   "execution_count": 16,
   "id": "3386275c",
   "metadata": {},
   "outputs": [
    {
     "name": "stdout",
     "output_type": "stream",
     "text": [
      "                   DSP    SW_Avg\n",
      "0   Classical Archives  1.000000\n",
      "1                Qoboz  0.903846\n",
      "2               Deezer  0.862745\n",
      "3              Spotify  0.854376\n",
      "4                Apple  0.808514\n",
      "5              Recisio  0.545455\n",
      "6               Amazon  0.261740\n",
      "7              Pandora  0.244828\n",
      "8              Melodyv  0.114596\n",
      "9            LiveXLive  0.070000\n",
      "10                 GTL  0.028440\n",
      "11               Tidal  0.003692\n",
      "12         Smithsonian  0.000000\n",
      "13     Ultimate Guitar  0.000000\n",
      "14              Trebel  0.000000\n",
      "15           Wolfgangs  0.000000\n",
      "16          SoundCloud  0.000000\n",
      "17               Sonos  0.000000\n",
      "18             YouTube  0.000000\n",
      "19           Pacemaker  0.000000\n",
      "20          PowerMusic  0.000000\n",
      "21             Anghami  0.000000\n",
      "22             NugsNet  0.000000\n",
      "23           MonkingMe  0.000000\n",
      "24            MixCloud  0.000000\n",
      "25        Midwest Tape  0.000000\n",
      "26           Fan Label  0.000000\n",
      "27           AudioMack  0.000000\n",
      "28        iHeart Radio  0.000000\n"
     ]
    }
   ],
   "source": [
    "# Make sw_ratio into dataframe and rename the first column (DSP is index)\n",
    "songwriter_df = pd.DataFrame(sw_ratio)\n",
    "songwriter_df.reset_index(inplace=True)\n",
    "songwriter_df.columns = ['DSP', 'SW_Avg']\n",
    "print(songwriter_df)"
   ]
  },
  {
   "cell_type": "code",
   "execution_count": 17,
   "id": "0c968298",
   "metadata": {},
   "outputs": [],
   "source": [
    "# mlc['ISRC'].isnull().sum()"
   ]
  },
  {
   "cell_type": "code",
   "execution_count": 18,
   "id": "c9c247cf",
   "metadata": {},
   "outputs": [],
   "source": [
    "# mlc.loc[mlc['DSP'] == 'Amazon']"
   ]
  },
  {
   "cell_type": "code",
   "execution_count": 19,
   "id": "2e7bc694",
   "metadata": {},
   "outputs": [],
   "source": [
    "# mlc.loc[(mlc['DSP'] == 'Amazon') & (mlc['Registrant'] == isnull()]"
   ]
  },
  {
   "cell_type": "code",
   "execution_count": 20,
   "id": "ecb62c01",
   "metadata": {},
   "outputs": [
    {
     "name": "stdout",
     "output_type": "stream",
     "text": [
      "DSP\n",
      "Spotify               2552563722\n",
      "Apple                 1606453701\n",
      "Pandora                874236566\n",
      "SoundCloud             166813813\n",
      "YouTube                158031119\n",
      "Amazon                 151199800\n",
      "Tidal                   48793126\n",
      "AudioMack               11991559\n",
      "Melodyv                  5384657\n",
      "iHeart Radio             2141959\n",
      "GTL                      1280764\n",
      "Trebel                    149347\n",
      "NugsNet                   110709\n",
      "LiveXLive                 101307\n",
      "Deezer                     87830\n",
      "Midwest Tape               85708\n",
      "Anghami                    34682\n",
      "Sonos                      31402\n",
      "Qoboz                       6621\n",
      "MonkingMe                   3549\n",
      "PowerMusic                  3154\n",
      "MixCloud                    2661\n",
      "Pacemaker                   1707\n",
      "Wolfgangs                    965\n",
      "Ultimate Guitar              309\n",
      "Smithsonian                  208\n",
      "Fan Label                     91\n",
      "Recisio                       29\n",
      "Classical Archives            20\n",
      "Name: Streams, dtype: int64\n"
     ]
    }
   ],
   "source": [
    "# Number/sum of streams per DSP\n",
    "streams_per_DSP = mlc.groupby('DSP')['Streams'].sum()\n",
    "streams_per_DSP = streams_per_DSP.sort_values(ascending=False)\n",
    "print(streams_per_DSP)"
   ]
  },
  {
   "cell_type": "code",
   "execution_count": 21,
   "id": "e994223d",
   "metadata": {},
   "outputs": [
    {
     "name": "stdout",
     "output_type": "stream",
     "text": [
      "                   DSP  Streams_Per_DSP\n",
      "0              Spotify       2552563722\n",
      "1                Apple       1606453701\n",
      "2              Pandora        874236566\n",
      "3           SoundCloud        166813813\n",
      "4              YouTube        158031119\n",
      "5               Amazon        151199800\n",
      "6                Tidal         48793126\n",
      "7            AudioMack         11991559\n",
      "8              Melodyv          5384657\n",
      "9         iHeart Radio          2141959\n",
      "10                 GTL          1280764\n",
      "11              Trebel           149347\n",
      "12             NugsNet           110709\n",
      "13           LiveXLive           101307\n",
      "14              Deezer            87830\n",
      "15        Midwest Tape            85708\n",
      "16             Anghami            34682\n",
      "17               Sonos            31402\n",
      "18               Qoboz             6621\n",
      "19           MonkingMe             3549\n",
      "20          PowerMusic             3154\n",
      "21            MixCloud             2661\n",
      "22           Pacemaker             1707\n",
      "23           Wolfgangs              965\n",
      "24     Ultimate Guitar              309\n",
      "25         Smithsonian              208\n",
      "26           Fan Label               91\n",
      "27             Recisio               29\n",
      "28  Classical Archives               20\n"
     ]
    }
   ],
   "source": [
    "streams_df = pd.DataFrame(streams_per_DSP)\n",
    "streams_df.reset_index(inplace=True)\n",
    "streams_df.columns = ['DSP', 'Streams_Per_DSP']\n",
    "print(streams_df)"
   ]
  },
  {
   "cell_type": "code",
   "execution_count": 22,
   "id": "5937461e",
   "metadata": {},
   "outputs": [
    {
     "name": "stdout",
     "output_type": "stream",
     "text": [
      "Spotify               32268\n",
      "Apple                 22200\n",
      "Amazon                14438\n",
      "Pandora               13777\n",
      "Tidal                  3521\n",
      "YouTube                2752\n",
      "SoundCloud             2122\n",
      "GTL                    1090\n",
      "Melodyv                 829\n",
      "Trebel                  817\n",
      "iHeart Radio            707\n",
      "AudioMack               550\n",
      "NugsNet                 316\n",
      "LiveXLive               200\n",
      "Qoboz                   104\n",
      "Midwest Tape            102\n",
      "Deezer                   51\n",
      "Anghami                  46\n",
      "Sonos                    23\n",
      "Recisio                  22\n",
      "Smithsonian              21\n",
      "Ultimate Guitar          19\n",
      "PowerMusic                8\n",
      "Wolfgangs                 4\n",
      "Fan Label                 4\n",
      "MixCloud                  4\n",
      "Pacemaker                 3\n",
      "Classical Archives        2\n",
      "MonkingMe                 1\n",
      "Name: DSP, dtype: int64\n"
     ]
    }
   ],
   "source": [
    "# Number of recordings (rows) per DSP\n",
    "rows_per_DSP = mlc['DSP'].value_counts()\n",
    "print(rows_per_DSP)"
   ]
  },
  {
   "cell_type": "code",
   "execution_count": 23,
   "id": "7a9bda98",
   "metadata": {},
   "outputs": [
    {
     "name": "stdout",
     "output_type": "stream",
     "text": [
      "                   DSP  Songs_Per_DSP\n",
      "0              Spotify          32268\n",
      "1                Apple          22200\n",
      "2               Amazon          14438\n",
      "3              Pandora          13777\n",
      "4                Tidal           3521\n",
      "5              YouTube           2752\n",
      "6           SoundCloud           2122\n",
      "7                  GTL           1090\n",
      "8              Melodyv            829\n",
      "9               Trebel            817\n",
      "10        iHeart Radio            707\n",
      "11           AudioMack            550\n",
      "12             NugsNet            316\n",
      "13           LiveXLive            200\n",
      "14               Qoboz            104\n",
      "15        Midwest Tape            102\n",
      "16              Deezer             51\n",
      "17             Anghami             46\n",
      "18               Sonos             23\n",
      "19             Recisio             22\n",
      "20         Smithsonian             21\n",
      "21     Ultimate Guitar             19\n",
      "22          PowerMusic              8\n",
      "23           Wolfgangs              4\n",
      "24           Fan Label              4\n",
      "25            MixCloud              4\n",
      "26           Pacemaker              3\n",
      "27  Classical Archives              2\n",
      "28           MonkingMe              1\n"
     ]
    }
   ],
   "source": [
    "rows_df = pd.DataFrame(rows_per_DSP)\n",
    "rows_df.reset_index(inplace=True)\n",
    "rows_df.columns = ['DSP', 'Songs_Per_DSP']\n",
    "print(rows_df)"
   ]
  },
  {
   "cell_type": "code",
   "execution_count": 24,
   "id": "06791d94",
   "metadata": {},
   "outputs": [
    {
     "name": "stdout",
     "output_type": "stream",
     "text": [
      "                   DSP    SW_Avg  Streams_Per_DSP\n",
      "0   Classical Archives  1.000000               20\n",
      "1                Qoboz  0.903846             6621\n",
      "2               Deezer  0.862745            87830\n",
      "3              Spotify  0.854376       2552563722\n",
      "4                Apple  0.808514       1606453701\n",
      "5              Recisio  0.545455               29\n",
      "6               Amazon  0.261740        151199800\n",
      "7              Pandora  0.244828        874236566\n",
      "8              Melodyv  0.114596          5384657\n",
      "9            LiveXLive  0.070000           101307\n",
      "10                 GTL  0.028440          1280764\n",
      "11               Tidal  0.003692         48793126\n",
      "12         Smithsonian  0.000000              208\n",
      "13     Ultimate Guitar  0.000000              309\n",
      "14              Trebel  0.000000           149347\n",
      "15           Wolfgangs  0.000000              965\n",
      "16          SoundCloud  0.000000        166813813\n",
      "17               Sonos  0.000000            31402\n",
      "18             YouTube  0.000000        158031119\n",
      "19           Pacemaker  0.000000             1707\n",
      "20          PowerMusic  0.000000             3154\n",
      "21             Anghami  0.000000            34682\n",
      "22             NugsNet  0.000000           110709\n",
      "23           MonkingMe  0.000000             3549\n",
      "24            MixCloud  0.000000             2661\n",
      "25        Midwest Tape  0.000000            85708\n",
      "26           Fan Label  0.000000               91\n",
      "27           AudioMack  0.000000         11991559\n",
      "28        iHeart Radio  0.000000          2141959\n"
     ]
    }
   ],
   "source": [
    "# Merge the three dataframes together on DSP\n",
    "DSP_df1 = pd.merge(songwriter_df, streams_df, on=['DSP'], how='inner')\n",
    "print(DSP_df1)"
   ]
  },
  {
   "cell_type": "code",
   "execution_count": 25,
   "id": "7af8ccac",
   "metadata": {},
   "outputs": [
    {
     "name": "stdout",
     "output_type": "stream",
     "text": [
      "                   DSP    SW_Avg  Streams_Per_DSP  Songs_Per_DSP\n",
      "0   Classical Archives  1.000000               20              2\n",
      "1                Qoboz  0.903846             6621            104\n",
      "2               Deezer  0.862745            87830             51\n",
      "3              Spotify  0.854376       2552563722          32268\n",
      "4                Apple  0.808514       1606453701          22200\n",
      "5              Recisio  0.545455               29             22\n",
      "6               Amazon  0.261740        151199800          14438\n",
      "7              Pandora  0.244828        874236566          13777\n",
      "8              Melodyv  0.114596          5384657            829\n",
      "9            LiveXLive  0.070000           101307            200\n",
      "10                 GTL  0.028440          1280764           1090\n",
      "11               Tidal  0.003692         48793126           3521\n",
      "12         Smithsonian  0.000000              208             21\n",
      "13     Ultimate Guitar  0.000000              309             19\n",
      "14              Trebel  0.000000           149347            817\n",
      "15           Wolfgangs  0.000000              965              4\n",
      "16          SoundCloud  0.000000        166813813           2122\n",
      "17               Sonos  0.000000            31402             23\n",
      "18             YouTube  0.000000        158031119           2752\n",
      "19           Pacemaker  0.000000             1707              3\n",
      "20          PowerMusic  0.000000             3154              8\n",
      "21             Anghami  0.000000            34682             46\n",
      "22             NugsNet  0.000000           110709            316\n",
      "23           MonkingMe  0.000000             3549              1\n",
      "24            MixCloud  0.000000             2661              4\n",
      "25        Midwest Tape  0.000000            85708            102\n",
      "26           Fan Label  0.000000               91              4\n",
      "27           AudioMack  0.000000         11991559            550\n",
      "28        iHeart Radio  0.000000          2141959            707\n"
     ]
    }
   ],
   "source": [
    "DSP_df2 = pd.merge(DSP_df1, rows_df, on=['DSP'], how='inner')\n",
    "print(DSP_df2)"
   ]
  },
  {
   "cell_type": "code",
   "execution_count": 26,
   "id": "334de57c",
   "metadata": {},
   "outputs": [
    {
     "name": "stdout",
     "output_type": "stream",
     "text": [
      "                   DSP    SW_Avg  Streams_Per_DSP  Songs_Per_DSP\n",
      "3              Spotify  0.854376       2552563722          32268\n",
      "4                Apple  0.808514       1606453701          22200\n",
      "7              Pandora  0.244828        874236566          13777\n",
      "16          SoundCloud  0.000000        166813813           2122\n",
      "18             YouTube  0.000000        158031119           2752\n",
      "6               Amazon  0.261740        151199800          14438\n",
      "11               Tidal  0.003692         48793126           3521\n",
      "27           AudioMack  0.000000         11991559            550\n",
      "8              Melodyv  0.114596          5384657            829\n",
      "28        iHeart Radio  0.000000          2141959            707\n",
      "10                 GTL  0.028440          1280764           1090\n",
      "14              Trebel  0.000000           149347            817\n",
      "22             NugsNet  0.000000           110709            316\n",
      "9            LiveXLive  0.070000           101307            200\n",
      "2               Deezer  0.862745            87830             51\n",
      "25        Midwest Tape  0.000000            85708            102\n",
      "21             Anghami  0.000000            34682             46\n",
      "17               Sonos  0.000000            31402             23\n",
      "1                Qoboz  0.903846             6621            104\n",
      "23           MonkingMe  0.000000             3549              1\n",
      "20          PowerMusic  0.000000             3154              8\n",
      "24            MixCloud  0.000000             2661              4\n",
      "19           Pacemaker  0.000000             1707              3\n",
      "15           Wolfgangs  0.000000              965              4\n",
      "13     Ultimate Guitar  0.000000              309             19\n",
      "12         Smithsonian  0.000000              208             21\n",
      "26           Fan Label  0.000000               91              4\n",
      "5              Recisio  0.545455               29             22\n",
      "0   Classical Archives  1.000000               20              2\n"
     ]
    }
   ],
   "source": [
    "DSP_df2 = DSP_df2.sort_values(by=['Streams_Per_DSP'], ascending=False)\n",
    "print(DSP_df2)"
   ]
  },
  {
   "cell_type": "code",
   "execution_count": 27,
   "id": "e2ec7407",
   "metadata": {},
   "outputs": [
    {
     "data": {
      "image/png": "[encoded data removed]",
      "text/plain": [
       "<Figure size 432x288 with 1 Axes>"
      ]
     },
     "metadata": {
      "needs_background": "light"
     },
     "output_type": "display_data"
    }
   ],
   "source": [
    "# Top 7 DSPs by Streams_Per_DSP\n",
    "plt.bar(DSP_df2.DSP.isin(['Spotify', 'Apple', 'Pandora', 'SoundCloud', 'YouTube', 'Amazon', 'Tidal']), DSP_df2.SW_Avg);"
   ]
  },
  {
   "cell_type": "code",
   "execution_count": 28,
   "id": "d43be395",
   "metadata": {},
   "outputs": [
    {
     "name": "stdout",
     "output_type": "stream",
     "text": [
      "                   DSP    SW_Avg  Streams_Per_DSP  Songs_Per_DSP\n",
      "0   Classical Archives  1.000000               20              2\n",
      "1                Qoboz  0.903846             6621            104\n",
      "2               Deezer  0.862745            87830             51\n",
      "3              Spotify  0.854376       2552563722          32268\n",
      "4                Apple  0.808514       1606453701          22200\n",
      "5              Recisio  0.545455               29             22\n",
      "6               Amazon  0.261740        151199800          14438\n",
      "7              Pandora  0.244828        874236566          13777\n",
      "8              Melodyv  0.114596          5384657            829\n",
      "9            LiveXLive  0.070000           101307            200\n",
      "10                 GTL  0.028440          1280764           1090\n",
      "11               Tidal  0.003692         48793126           3521\n",
      "20          PowerMusic  0.000000             3154              8\n",
      "26           Fan Label  0.000000               91              4\n",
      "12         Smithsonian  0.000000              208             21\n",
      "13     Ultimate Guitar  0.000000              309             19\n",
      "15           Wolfgangs  0.000000              965              4\n",
      "19           Pacemaker  0.000000             1707              3\n",
      "24            MixCloud  0.000000             2661              4\n",
      "16          SoundCloud  0.000000        166813813           2122\n",
      "23           MonkingMe  0.000000             3549              1\n",
      "17               Sonos  0.000000            31402             23\n",
      "18             YouTube  0.000000        158031119           2752\n",
      "25        Midwest Tape  0.000000            85708            102\n",
      "22             NugsNet  0.000000           110709            316\n",
      "14              Trebel  0.000000           149347            817\n",
      "28        iHeart Radio  0.000000          2141959            707\n",
      "27           AudioMack  0.000000         11991559            550\n",
      "21             Anghami  0.000000            34682             46\n"
     ]
    }
   ],
   "source": [
    "top_7 = DSP_df2.sort_values(by=['SW_Avg'], ascending=False)\n",
    "print(top_7)"
   ]
  },
  {
   "cell_type": "code",
   "execution_count": 30,
   "id": "ec52100f",
   "metadata": {},
   "outputs": [
    {
     "name": "stdout",
     "output_type": "stream",
     "text": [
      "                   DSP    SW_Avg  Streams_Per_DSP  Songs_Per_DSP\n",
      "0   Classical Archives  1.000000               20              2\n",
      "1                Qoboz  0.903846             6621            104\n",
      "2               Deezer  0.862745            87830             51\n",
      "3              Spotify  0.854376       2552563722          32268\n",
      "4                Apple  0.808514       1606453701          22200\n",
      "5              Recisio  0.545455               29             22\n",
      "6               Amazon  0.261740        151199800          14438\n",
      "7              Pandora  0.244828        874236566          13777\n",
      "8              Melodyv  0.114596          5384657            829\n",
      "9            LiveXLive  0.070000           101307            200\n",
      "10                 GTL  0.028440          1280764           1090\n",
      "11               Tidal  0.003692         48793126           3521\n",
      "20          PowerMusic  0.000000             3154              8\n",
      "26           Fan Label  0.000000               91              4\n",
      "12         Smithsonian  0.000000              208             21\n",
      "13     Ultimate Guitar  0.000000              309             19\n",
      "15           Wolfgangs  0.000000              965              4\n",
      "19           Pacemaker  0.000000             1707              3\n",
      "24            MixCloud  0.000000             2661              4\n",
      "16          SoundCloud  0.000000        166813813           2122\n",
      "23           MonkingMe  0.000000             3549              1\n",
      "17               Sonos  0.000000            31402             23\n",
      "18             YouTube  0.000000        158031119           2752\n",
      "25        Midwest Tape  0.000000            85708            102\n",
      "22             NugsNet  0.000000           110709            316\n",
      "14              Trebel  0.000000           149347            817\n",
      "28        iHeart Radio  0.000000          2141959            707\n",
      "27           AudioMack  0.000000         11991559            550\n",
      "21             Anghami  0.000000            34682             46\n"
     ]
    }
   ],
   "source": [
    "SW_avg_df = DSP_df2.sort_values(by=['SW_Avg'], ascending=False)\n",
    "print(SW_avg_df)"
   ]
  },
  {
   "cell_type": "code",
   "execution_count": 31,
   "id": "db7feaba",
   "metadata": {},
   "outputs": [
    {
     "name": "stdout",
     "output_type": "stream",
     "text": [
      "           DSP    SW_Avg  Streams_Per_DSP  Songs_Per_DSP\n",
      "3      Spotify  0.854376       2552563722          32268\n",
      "4        Apple  0.808514       1606453701          22200\n",
      "6       Amazon  0.261740        151199800          14438\n",
      "7      Pandora  0.244828        874236566          13777\n",
      "11       Tidal  0.003692         48793126           3521\n",
      "16  SoundCloud  0.000000        166813813           2122\n",
      "18     YouTube  0.000000        158031119           2752\n"
     ]
    }
   ],
   "source": [
    "top_7_sw = SW_avg_df.loc[SW_avg_df['DSP'].isin(['Spotify', 'Apple', 'Pandora', 'SoundCloud', 'YouTube', 'Amazon', 'Tidal'])]\n",
    "print(top_7_sw)"
   ]
  },
  {
   "cell_type": "code",
   "execution_count": 32,
   "id": "c7d5758d",
   "metadata": {},
   "outputs": [
    {
     "data": {
      "text/plain": [
       "<BarContainer object of 7 artists>"
      ]
     },
     "execution_count": 32,
     "metadata": {},
     "output_type": "execute_result"
    },
    {
     "data": {
      "image/png": "[encoded data removed]",
      "text/plain": [
       "<Figure size 432x288 with 1 Axes>"
      ]
     },
     "metadata": {
      "needs_background": "light"
     },
     "output_type": "display_data"
    }
   ],
   "source": [
    "plt.bar(top_7_sw.DSP, top_7_sw.SW_Avg)\n",
    "#plt.ylabel('Percentage')\n",
    "#plt.xticks"
   ]
  },
  {
   "cell_type": "code",
   "execution_count": 33,
   "id": "f544f892",
   "metadata": {},
   "outputs": [
    {
     "ename": "NameError",
     "evalue": "name 'yaxis' is not defined",
     "output_type": "error",
     "traceback": [
      "\u001b[1;31m---------------------------------------------------------------------------\u001b[0m",
      "\u001b[1;31mNameError\u001b[0m                                 Traceback (most recent call last)",
      "\u001b[1;32m~\\AppData\\Local\\Temp/ipykernel_11004/388026702.py\u001b[0m in \u001b[0;36m<module>\u001b[1;34m\u001b[0m\n\u001b[0;32m      3\u001b[0m \u001b[0mplt\u001b[0m\u001b[1;33m.\u001b[0m\u001b[0mxticks\u001b[0m\u001b[1;33m(\u001b[0m\u001b[0mrotation\u001b[0m \u001b[1;33m=\u001b[0m \u001b[1;36m50\u001b[0m\u001b[1;33m)\u001b[0m\u001b[1;33m\u001b[0m\u001b[1;33m\u001b[0m\u001b[0m\n\u001b[0;32m      4\u001b[0m \u001b[0mplt\u001b[0m\u001b[1;33m.\u001b[0m\u001b[0myticks\u001b[0m\u001b[1;33m(\u001b[0m\u001b[1;33m[\u001b[0m\u001b[1;36m0.2\u001b[0m\u001b[1;33m,\u001b[0m \u001b[1;36m0.4\u001b[0m\u001b[1;33m,\u001b[0m \u001b[1;36m0.6\u001b[0m\u001b[1;33m,\u001b[0m \u001b[1;36m0.8\u001b[0m\u001b[1;33m,\u001b[0m \u001b[1;36m1.0\u001b[0m\u001b[1;33m]\u001b[0m\u001b[1;33m)\u001b[0m\u001b[1;33m\u001b[0m\u001b[1;33m\u001b[0m\u001b[0m\n\u001b[1;32m----> 5\u001b[1;33m \u001b[0myaxis\u001b[0m\u001b[1;33m.\u001b[0m\u001b[0mset_major_formatter\u001b[0m\u001b[1;33m(\u001b[0m\u001b[0mmtick\u001b[0m\u001b[1;33m.\u001b[0m\u001b[0mPercentFormatter\u001b[0m\u001b[1;33m(\u001b[0m\u001b[0mxmax\u001b[0m\u001b[1;33m=\u001b[0m\u001b[1;36m1\u001b[0m\u001b[1;33m,\u001b[0m \u001b[0mdecimals\u001b[0m\u001b[1;33m=\u001b[0m\u001b[1;32mNone\u001b[0m\u001b[1;33m,\u001b[0m \u001b[0msymbol\u001b[0m\u001b[1;33m=\u001b[0m\u001b[1;34m'%'\u001b[0m\u001b[1;33m,\u001b[0m \u001b[0mis_latex\u001b[0m\u001b[1;33m=\u001b[0m\u001b[1;32mFalse\u001b[0m\u001b[1;33m)\u001b[0m\u001b[1;33m)\u001b[0m\u001b[1;33m\u001b[0m\u001b[1;33m\u001b[0m\u001b[0m\n\u001b[0m\u001b[0;32m      6\u001b[0m \u001b[0mplt\u001b[0m\u001b[1;33m.\u001b[0m\u001b[0mtext\u001b[0m\u001b[1;33m(\u001b[0m\u001b[1;34m'YouTube'\u001b[0m\u001b[1;33m,\u001b[0m \u001b[1;36m0.1\u001b[0m\u001b[1;33m,\u001b[0m \u001b[1;34m'0'\u001b[0m\u001b[1;33m)\u001b[0m\u001b[1;33m\u001b[0m\u001b[1;33m\u001b[0m\u001b[0m\n\u001b[0;32m      7\u001b[0m \u001b[0mplt\u001b[0m\u001b[1;33m.\u001b[0m\u001b[0mtext\u001b[0m\u001b[1;33m(\u001b[0m\u001b[1;34m'SoundCloud'\u001b[0m\u001b[1;33m,\u001b[0m \u001b[1;36m0.1\u001b[0m\u001b[1;33m,\u001b[0m \u001b[1;34m'0'\u001b[0m\u001b[1;33m)\u001b[0m\u001b[1;33m\u001b[0m\u001b[1;33m\u001b[0m\u001b[0m\n",
      "\u001b[1;31mNameError\u001b[0m: name 'yaxis' is not defined"
     ]
    },
    {
     "data": {
      "image/png": "[encoded data removed]",
      "text/plain": [
       "<Figure size 432x288 with 1 Axes>"
      ]
     },
     "metadata": {
      "needs_background": "light"
     },
     "output_type": "display_data"
    }
   ],
   "source": [
    "plt.bar(top_7_sw.DSP, top_7_sw.SW_Avg)\n",
    "plt.ylabel('Percentage of Songwriter Info Provided')\n",
    "plt.xticks(rotation = 50)\n",
    "plt.yticks([0.2, 0.4, 0.6, 0.8, 1.0])\n",
    "yaxis.set_major_formatter(mtick.PercentFormatter(xmax=1, decimals=None, symbol='%', is_latex=False))\n",
    "plt.text('YouTube', 0.1, '0')\n",
    "plt.text('SoundCloud', 0.1, '0')\n",
    "plt.text('Tidal', 0.1, '0')\n",
    "plt.title('Top 7 DSPs by Percentage of Songwriter Info Provided');"
   ]
  },
  {
   "cell_type": "code",
   "execution_count": null,
   "id": "fb2cd64d",
   "metadata": {},
   "outputs": [],
   "source": []
  }
 ],
 "metadata": {
  "kernelspec": {
   "display_name": "Python 3 (ipykernel)",
   "language": "python",
   "name": "python3"
  },
  "language_info": {
   "codemirror_mode": {
    "name": "ipython",
    "version": 3
   },
   "file_extension": ".py",
   "mimetype": "text/x-python",
   "name": "python",
   "nbconvert_exporter": "python",
   "pygments_lexer": "ipython3",
   "version": "3.9.7"
  }
 },
 "nbformat": 4,
 "nbformat_minor": 5
}
