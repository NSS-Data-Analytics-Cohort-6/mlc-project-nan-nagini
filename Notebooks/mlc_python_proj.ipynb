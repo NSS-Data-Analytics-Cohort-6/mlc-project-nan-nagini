{
 "cells": [
  {
   "cell_type": "code",
   "execution_count": 48,
   "id": "055eee21",
   "metadata": {},
   "outputs": [],
   "source": [
    "import pandas as pd\n",
    "import matplotlib.pyplot as plt\n",
    "import matplotlib.ticker as mtick\n",
    "import seaborn as sns\n",
    "import numpy as np"
   ]
  },
  {
   "cell_type": "code",
   "execution_count": 49,
   "id": "f82cda33",
   "metadata": {},
   "outputs": [],
   "source": [
    "mlc = pd.read_csv('../data/MLC_Matching_Sample_NSS.csv')"
   ]
  },
  {
   "cell_type": "code",
   "execution_count": 50,
   "id": "a06accfc",
   "metadata": {
    "scrolled": true
   },
   "outputs": [
    {
     "data": {
      "text/html": [
       "<div>\n",
       "<style scoped>\n",
       "    .dataframe tbody tr th:only-of-type {\n",
       "        vertical-align: middle;\n",
       "    }\n",
       "\n",
       "    .dataframe tbody tr th {\n",
       "        vertical-align: top;\n",
       "    }\n",
       "\n",
       "    .dataframe thead th {\n",
       "        text-align: right;\n",
       "    }\n",
       "</style>\n",
       "<table border=\"1\" class=\"dataframe\">\n",
       "  <thead>\n",
       "    <tr style=\"text-align: right;\">\n",
       "      <th></th>\n",
       "      <th>ISRC</th>\n",
       "      <th>Country Code</th>\n",
       "      <th>Registrant Code</th>\n",
       "      <th>Year of Reference</th>\n",
       "      <th>Usage Period</th>\n",
       "      <th>Streaming Platform (DSP)</th>\n",
       "      <th>Streams</th>\n",
       "      <th>Recording Artist</th>\n",
       "      <th>Recording Label</th>\n",
       "      <th>Recording Title</th>\n",
       "      <th>Release Title</th>\n",
       "      <th>Recording Duration (Seconds)</th>\n",
       "      <th>Songwriter's Listed (1 = \"Yes\", 0 = \"No\")</th>\n",
       "    </tr>\n",
       "  </thead>\n",
       "  <tbody>\n",
       "    <tr>\n",
       "      <th>0</th>\n",
       "      <td>USUG12101043</td>\n",
       "      <td>US</td>\n",
       "      <td>UG1</td>\n",
       "      <td>21.0</td>\n",
       "      <td>NaN</td>\n",
       "      <td>AudioMack</td>\n",
       "      <td>10,175</td>\n",
       "      <td>Future</td>\n",
       "      <td>NaN</td>\n",
       "      <td>FUTURE FT DEJ LOAF HEY THERE PROD BY DDS</td>\n",
       "      <td>#unknown#</td>\n",
       "      <td>181</td>\n",
       "      <td>0</td>\n",
       "    </tr>\n",
       "    <tr>\n",
       "      <th>1</th>\n",
       "      <td>USRC12100543</td>\n",
       "      <td>US</td>\n",
       "      <td>RC1</td>\n",
       "      <td>21.0</td>\n",
       "      <td>NaN</td>\n",
       "      <td>SoundCloud</td>\n",
       "      <td>8,597</td>\n",
       "      <td>LUCKY3RD</td>\n",
       "      <td>LUCKY3RD</td>\n",
       "      <td>Keep It Cool  LUCKY3RD</td>\n",
       "      <td>Keep It Cool  LUCKY3RD</td>\n",
       "      <td>133</td>\n",
       "      <td>0</td>\n",
       "    </tr>\n",
       "    <tr>\n",
       "      <th>2</th>\n",
       "      <td>USSM12102263</td>\n",
       "      <td>US</td>\n",
       "      <td>SM1</td>\n",
       "      <td>21.0</td>\n",
       "      <td>NaN</td>\n",
       "      <td>SoundCloud</td>\n",
       "      <td>261,280</td>\n",
       "      <td>LUCKY3RD</td>\n",
       "      <td>LUCKY3RD</td>\n",
       "      <td>Life Goes On  LUCKY3RD</td>\n",
       "      <td>Life Goes On  LUCKY3RD</td>\n",
       "      <td>171</td>\n",
       "      <td>0</td>\n",
       "    </tr>\n",
       "    <tr>\n",
       "      <th>3</th>\n",
       "      <td>USLD91731547</td>\n",
       "      <td>US</td>\n",
       "      <td>LD9</td>\n",
       "      <td>17.0</td>\n",
       "      <td>2/1/2021</td>\n",
       "      <td>Trebel</td>\n",
       "      <td>5</td>\n",
       "      <td>Bachata &amp; Merengue Mix</td>\n",
       "      <td>Orchard</td>\n",
       "      <td>No dudes de mi- Merengue &amp; Bachata Mix</td>\n",
       "      <td>Mega Mix 2010</td>\n",
       "      <td>1250</td>\n",
       "      <td>0</td>\n",
       "    </tr>\n",
       "    <tr>\n",
       "      <th>4</th>\n",
       "      <td>USAT22007048</td>\n",
       "      <td>US</td>\n",
       "      <td>AT2</td>\n",
       "      <td>20.0</td>\n",
       "      <td>NaN</td>\n",
       "      <td>AudioMack</td>\n",
       "      <td>62,105</td>\n",
       "      <td>Foolio</td>\n",
       "      <td>NaN</td>\n",
       "      <td>WHEN I SEE YOU REMIX</td>\n",
       "      <td>#unknown#</td>\n",
       "      <td>187</td>\n",
       "      <td>0</td>\n",
       "    </tr>\n",
       "  </tbody>\n",
       "</table>\n",
       "</div>"
      ],
      "text/plain": [
       "           ISRC Country Code Registrant Code  Year of Reference Usage Period  \\\n",
       "0  USUG12101043           US             UG1               21.0          NaN   \n",
       "1  USRC12100543           US             RC1               21.0          NaN   \n",
       "2  USSM12102263           US             SM1               21.0          NaN   \n",
       "3  USLD91731547           US             LD9               17.0     2/1/2021   \n",
       "4  USAT22007048           US             AT2               20.0          NaN   \n",
       "\n",
       "  Streaming Platform (DSP)  Streams        Recording Artist Recording Label  \\\n",
       "0                AudioMack   10,175                  Future             NaN   \n",
       "1               SoundCloud    8,597                LUCKY3RD        LUCKY3RD   \n",
       "2               SoundCloud  261,280                LUCKY3RD        LUCKY3RD   \n",
       "3                   Trebel        5  Bachata & Merengue Mix         Orchard   \n",
       "4                AudioMack   62,105                  Foolio             NaN   \n",
       "\n",
       "                             Recording Title            Release Title  \\\n",
       "0   FUTURE FT DEJ LOAF HEY THERE PROD BY DDS                #unknown#   \n",
       "1                     Keep It Cool  LUCKY3RD   Keep It Cool  LUCKY3RD   \n",
       "2                     Life Goes On  LUCKY3RD   Life Goes On  LUCKY3RD   \n",
       "3     No dudes de mi- Merengue & Bachata Mix            Mega Mix 2010   \n",
       "4                       WHEN I SEE YOU REMIX                #unknown#   \n",
       "\n",
       "   Recording Duration (Seconds)  Songwriter's Listed (1 = \"Yes\", 0 = \"No\")  \n",
       "0                           181                                          0  \n",
       "1                           133                                          0  \n",
       "2                           171                                          0  \n",
       "3                          1250                                          0  \n",
       "4                           187                                          0  "
      ]
     },
     "execution_count": 50,
     "metadata": {},
     "output_type": "execute_result"
    }
   ],
   "source": [
    "mlc.head()"
   ]
  },
  {
   "cell_type": "markdown",
   "id": "c3cabb91",
   "metadata": {},
   "source": [
    "### Clean up dataset"
   ]
  },
  {
   "cell_type": "code",
   "execution_count": 51,
   "id": "6b4e1b03",
   "metadata": {},
   "outputs": [],
   "source": [
    "# Rename columns\n",
    "mlc.columns = ['ISRC', 'Country', 'Registrant', 'Release_Year', 'Period', 'DSP', 'Streams', 'Artist', 'Label', 'Song', 'Album', 'Duration', 'Songwriter']"
   ]
  },
  {
   "cell_type": "code",
   "execution_count": 52,
   "id": "df3d233e",
   "metadata": {},
   "outputs": [],
   "source": [
    "mlc[\"Streams\"] = mlc[\"Streams\"].str.replace(\",\", \"\")\n",
    "mlc[\"Streams\"] = mlc[\"Streams\"].str.replace(\" \", \"\")\n",
    "mlc[[\"Streams\"]] = mlc[[\"Streams\"]].apply(pd.to_numeric)"
   ]
  },
  {
   "cell_type": "code",
   "execution_count": 53,
   "id": "0cfda67b",
   "metadata": {},
   "outputs": [
    {
     "name": "stdout",
     "output_type": "stream",
     "text": [
      "(100000, 13)\n",
      "ISRC             object\n",
      "Country          object\n",
      "Registrant       object\n",
      "Release_Year    float64\n",
      "Period           object\n",
      "DSP              object\n",
      "Streams           int64\n",
      "Artist           object\n",
      "Label            object\n",
      "Song             object\n",
      "Album            object\n",
      "Duration          int64\n",
      "Songwriter        int64\n",
      "dtype: object\n"
     ]
    }
   ],
   "source": [
    "# Inspecting mlc_df after data cleaning\n",
    "print(mlc.shape) # 100,000 rows and 13 columns\n",
    "print(mlc.dtypes)"
   ]
  },
  {
   "cell_type": "code",
   "execution_count": 54,
   "id": "3e6e7426",
   "metadata": {},
   "outputs": [],
   "source": [
    "#Exploring US only data\n",
    "# domestic = mlc.loc[mlc['Country']== 'US']"
   ]
  },
  {
   "cell_type": "code",
   "execution_count": 55,
   "id": "8a18c577",
   "metadata": {
    "scrolled": true
   },
   "outputs": [],
   "source": [
    "# domestic.head()"
   ]
  },
  {
   "cell_type": "code",
   "execution_count": 56,
   "id": "9fbe466b",
   "metadata": {},
   "outputs": [],
   "source": [
    "# domestic['DSP'].value_counts()"
   ]
  },
  {
   "cell_type": "code",
   "execution_count": 57,
   "id": "9ca742ea",
   "metadata": {},
   "outputs": [],
   "source": [
    "# More initial exploration\n",
    "# mlc.info"
   ]
  },
  {
   "cell_type": "code",
   "execution_count": 58,
   "id": "5463d8bd",
   "metadata": {},
   "outputs": [],
   "source": [
    "# mlc.sort_values('Streams')"
   ]
  },
  {
   "cell_type": "code",
   "execution_count": 59,
   "id": "ad6ca0f1",
   "metadata": {},
   "outputs": [],
   "source": [
    "# mlc.describe()"
   ]
  },
  {
   "cell_type": "code",
   "execution_count": 60,
   "id": "12e63f83",
   "metadata": {},
   "outputs": [],
   "source": [
    "# mlc.isnull().sum()"
   ]
  },
  {
   "cell_type": "code",
   "execution_count": 61,
   "id": "89fcd984",
   "metadata": {},
   "outputs": [],
   "source": [
    "# mlc.Artist.value_counts()"
   ]
  },
  {
   "cell_type": "code",
   "execution_count": 62,
   "id": "b2356dc2",
   "metadata": {},
   "outputs": [],
   "source": [
    "# mlc.loc[mlc['Streams'] ==mlc.Streams.max()]"
   ]
  },
  {
   "cell_type": "markdown",
   "id": "afb2a6ce",
   "metadata": {},
   "source": [
    "## Exploring the dataset"
   ]
  },
  {
   "cell_type": "code",
   "execution_count": 64,
   "id": "4a893fe8",
   "metadata": {},
   "outputs": [
    {
     "name": "stdout",
     "output_type": "stream",
     "text": [
      "Spotify               32268\n",
      "Apple                 22200\n",
      "Amazon                14438\n",
      "Pandora               13777\n",
      "Tidal                  3521\n",
      "YouTube                2752\n",
      "SoundCloud             2122\n",
      "GTL                    1090\n",
      "Melodyv                 829\n",
      "Trebel                  817\n",
      "iHeart Radio            707\n",
      "AudioMack               550\n",
      "NugsNet                 316\n",
      "LiveXLive               200\n",
      "Qoboz                   104\n",
      "Midwest Tape            102\n",
      "Deezer                   51\n",
      "Anghami                  46\n",
      "Sonos                    23\n",
      "Recisio                  22\n",
      "Smithsonian              21\n",
      "Ultimate Guitar          19\n",
      "PowerMusic                8\n",
      "Wolfgangs                 4\n",
      "Fan Label                 4\n",
      "MixCloud                  4\n",
      "Pacemaker                 3\n",
      "Classical Archives        2\n",
      "MonkingMe                 1\n",
      "Name: DSP, dtype: int64\n"
     ]
    }
   ],
   "source": [
    "DSP_counts = mlc['DSP'].value_counts()\n",
    "print(DSP_counts)"
   ]
  },
  {
   "cell_type": "markdown",
   "id": "8cbc9c4d",
   "metadata": {},
   "source": [
    "## 3 dataframes: rows_per_DSP, streams_per_DSP, songwriter_df "
   ]
  },
  {
   "cell_type": "markdown",
   "id": "5e14b32b",
   "metadata": {},
   "source": [
    "### songwriter dataframe"
   ]
  },
  {
   "cell_type": "code",
   "execution_count": 65,
   "id": "27efcc2f",
   "metadata": {
    "scrolled": true
   },
   "outputs": [
    {
     "name": "stdout",
     "output_type": "stream",
     "text": [
      "DSP\n",
      "Classical Archives    1.000000\n",
      "Qoboz                 0.903846\n",
      "Deezer                0.862745\n",
      "Spotify               0.854376\n",
      "Apple                 0.808514\n",
      "Recisio               0.545455\n",
      "Amazon                0.261740\n",
      "Pandora               0.244828\n",
      "Melodyv               0.114596\n",
      "LiveXLive             0.070000\n",
      "GTL                   0.028440\n",
      "Tidal                 0.003692\n",
      "Smithsonian           0.000000\n",
      "Ultimate Guitar       0.000000\n",
      "Trebel                0.000000\n",
      "Wolfgangs             0.000000\n",
      "SoundCloud            0.000000\n",
      "Sonos                 0.000000\n",
      "YouTube               0.000000\n",
      "Pacemaker             0.000000\n",
      "PowerMusic            0.000000\n",
      "Anghami               0.000000\n",
      "NugsNet               0.000000\n",
      "MonkingMe             0.000000\n",
      "MixCloud              0.000000\n",
      "Midwest Tape          0.000000\n",
      "Fan Label             0.000000\n",
      "AudioMack             0.000000\n",
      "iHeart Radio          0.000000\n",
      "Name: Songwriter, dtype: float64\n"
     ]
    }
   ],
   "source": [
    "# Songwriter ratio: Liklihood of each DSP to provide songwriter info\n",
    "sw_ratio = mlc.groupby('DSP')['Songwriter'].mean()\n",
    "sw_ratio = sw_ratio.sort_values(ascending=False)\n",
    "print(sw_ratio)"
   ]
  },
  {
   "cell_type": "code",
   "execution_count": 68,
   "id": "3386275c",
   "metadata": {},
   "outputs": [
    {
     "name": "stdout",
     "output_type": "stream",
     "text": [
      "DSP\n",
      "Classical Archives    100.000000\n",
      "Qoboz                  90.384615\n",
      "Deezer                 86.274510\n",
      "Spotify                85.437585\n",
      "Apple                  80.851351\n",
      "Recisio                54.545455\n",
      "Amazon                 26.173985\n",
      "Pandora                24.482834\n",
      "Melodyv                11.459590\n",
      "LiveXLive               7.000000\n",
      "GTL                     2.844037\n",
      "Tidal                   0.369213\n",
      "Smithsonian             0.000000\n",
      "Ultimate Guitar         0.000000\n",
      "Trebel                  0.000000\n",
      "Wolfgangs               0.000000\n",
      "SoundCloud              0.000000\n",
      "Sonos                   0.000000\n",
      "YouTube                 0.000000\n",
      "Pacemaker               0.000000\n",
      "PowerMusic              0.000000\n",
      "Anghami                 0.000000\n",
      "NugsNet                 0.000000\n",
      "MonkingMe               0.000000\n",
      "MixCloud                0.000000\n",
      "Midwest Tape            0.000000\n",
      "Fan Label               0.000000\n",
      "AudioMack               0.000000\n",
      "iHeart Radio            0.000000\n",
      "Name: Songwriter, dtype: float64\n"
     ]
    }
   ],
   "source": [
    "# Make sw_ratio into dataframe and rename the first column (DSP is index)\n",
    "mlc[\"Songwriter\"] = pd.to_numeric(mlc[\"Songwriter\"]*100)\n",
    "sw_ratio = mlc.groupby('DSP')['Songwriter'].mean()\n",
    "sw_ratio = sw_ratio.sort_values(ascending=False)\n",
    "print(sw_ratio)"
   ]
  },
  {
   "cell_type": "code",
   "execution_count": 69,
   "id": "0c968298",
   "metadata": {},
   "outputs": [],
   "source": [
    "# mlc['ISRC'].isnull().sum()"
   ]
  },
  {
   "cell_type": "code",
   "execution_count": 70,
   "id": "c9c247cf",
   "metadata": {},
   "outputs": [],
   "source": [
    "# mlc.loc[mlc['DSP'] == 'Amazon']"
   ]
  },
  {
   "cell_type": "code",
   "execution_count": 71,
   "id": "2e7bc694",
   "metadata": {},
   "outputs": [],
   "source": [
    "# mlc.loc[(mlc['DSP'] == 'Amazon') & (mlc['Registrant'] == isnull()]"
   ]
  },
  {
   "cell_type": "markdown",
   "id": "1d312d52",
   "metadata": {},
   "source": [
    "## streams_per_DSP dataframe"
   ]
  },
  {
   "cell_type": "code",
   "execution_count": 72,
   "id": "ecb62c01",
   "metadata": {},
   "outputs": [
    {
     "name": "stdout",
     "output_type": "stream",
     "text": [
      "DSP\n",
      "Spotify               2552563722\n",
      "Apple                 1606453701\n",
      "Pandora                874236566\n",
      "SoundCloud             166813813\n",
      "YouTube                158031119\n",
      "Amazon                 151199800\n",
      "Tidal                   48793126\n",
      "AudioMack               11991559\n",
      "Melodyv                  5384657\n",
      "iHeart Radio             2141959\n",
      "GTL                      1280764\n",
      "Trebel                    149347\n",
      "NugsNet                   110709\n",
      "LiveXLive                 101307\n",
      "Deezer                     87830\n",
      "Midwest Tape               85708\n",
      "Anghami                    34682\n",
      "Sonos                      31402\n",
      "Qoboz                       6621\n",
      "MonkingMe                   3549\n",
      "PowerMusic                  3154\n",
      "MixCloud                    2661\n",
      "Pacemaker                   1707\n",
      "Wolfgangs                    965\n",
      "Ultimate Guitar              309\n",
      "Smithsonian                  208\n",
      "Fan Label                     91\n",
      "Recisio                       29\n",
      "Classical Archives            20\n",
      "Name: Streams, dtype: int64\n"
     ]
    }
   ],
   "source": [
    "# Number/sum of streams per DSP\n",
    "streams_per_DSP = mlc.groupby('DSP')['Streams'].sum()\n",
    "streams_per_DSP = streams_per_DSP.sort_values(ascending=False)\n",
    "print(streams_per_DSP)"
   ]
  },
  {
   "cell_type": "code",
   "execution_count": 73,
   "id": "e994223d",
   "metadata": {},
   "outputs": [
    {
     "name": "stdout",
     "output_type": "stream",
     "text": [
      "                   DSP  Streams_Per_DSP\n",
      "0              Spotify       2552563722\n",
      "1                Apple       1606453701\n",
      "2              Pandora        874236566\n",
      "3           SoundCloud        166813813\n",
      "4              YouTube        158031119\n",
      "5               Amazon        151199800\n",
      "6                Tidal         48793126\n",
      "7            AudioMack         11991559\n",
      "8              Melodyv          5384657\n",
      "9         iHeart Radio          2141959\n",
      "10                 GTL          1280764\n",
      "11              Trebel           149347\n",
      "12             NugsNet           110709\n",
      "13           LiveXLive           101307\n",
      "14              Deezer            87830\n",
      "15        Midwest Tape            85708\n",
      "16             Anghami            34682\n",
      "17               Sonos            31402\n",
      "18               Qoboz             6621\n",
      "19           MonkingMe             3549\n",
      "20          PowerMusic             3154\n",
      "21            MixCloud             2661\n",
      "22           Pacemaker             1707\n",
      "23           Wolfgangs              965\n",
      "24     Ultimate Guitar              309\n",
      "25         Smithsonian              208\n",
      "26           Fan Label               91\n",
      "27             Recisio               29\n",
      "28  Classical Archives               20\n"
     ]
    }
   ],
   "source": [
    "streams_df = pd.DataFrame(streams_per_DSP)\n",
    "streams_df.reset_index(inplace=True)\n",
    "streams_df.columns = ['DSP', 'Streams_Per_DSP']\n",
    "print(streams_df)"
   ]
  },
  {
   "cell_type": "markdown",
   "id": "ac362ed4",
   "metadata": {},
   "source": [
    "## rows_per_DSP dataframe"
   ]
  },
  {
   "cell_type": "code",
   "execution_count": 74,
   "id": "5937461e",
   "metadata": {},
   "outputs": [
    {
     "name": "stdout",
     "output_type": "stream",
     "text": [
      "Spotify               32268\n",
      "Apple                 22200\n",
      "Amazon                14438\n",
      "Pandora               13777\n",
      "Tidal                  3521\n",
      "YouTube                2752\n",
      "SoundCloud             2122\n",
      "GTL                    1090\n",
      "Melodyv                 829\n",
      "Trebel                  817\n",
      "iHeart Radio            707\n",
      "AudioMack               550\n",
      "NugsNet                 316\n",
      "LiveXLive               200\n",
      "Qoboz                   104\n",
      "Midwest Tape            102\n",
      "Deezer                   51\n",
      "Anghami                  46\n",
      "Sonos                    23\n",
      "Recisio                  22\n",
      "Smithsonian              21\n",
      "Ultimate Guitar          19\n",
      "PowerMusic                8\n",
      "Wolfgangs                 4\n",
      "Fan Label                 4\n",
      "MixCloud                  4\n",
      "Pacemaker                 3\n",
      "Classical Archives        2\n",
      "MonkingMe                 1\n",
      "Name: DSP, dtype: int64\n"
     ]
    }
   ],
   "source": [
    "# Number of recordings (rows) per DSP\n",
    "rows_per_DSP = mlc['DSP'].value_counts()\n",
    "print(rows_per_DSP)"
   ]
  },
  {
   "cell_type": "code",
   "execution_count": 75,
   "id": "7a9bda98",
   "metadata": {},
   "outputs": [
    {
     "name": "stdout",
     "output_type": "stream",
     "text": [
      "                   DSP  Songs_Per_DSP\n",
      "0              Spotify          32268\n",
      "1                Apple          22200\n",
      "2               Amazon          14438\n",
      "3              Pandora          13777\n",
      "4                Tidal           3521\n",
      "5              YouTube           2752\n",
      "6           SoundCloud           2122\n",
      "7                  GTL           1090\n",
      "8              Melodyv            829\n",
      "9               Trebel            817\n",
      "10        iHeart Radio            707\n",
      "11           AudioMack            550\n",
      "12             NugsNet            316\n",
      "13           LiveXLive            200\n",
      "14               Qoboz            104\n",
      "15        Midwest Tape            102\n",
      "16              Deezer             51\n",
      "17             Anghami             46\n",
      "18               Sonos             23\n",
      "19             Recisio             22\n",
      "20         Smithsonian             21\n",
      "21     Ultimate Guitar             19\n",
      "22          PowerMusic              8\n",
      "23           Wolfgangs              4\n",
      "24           Fan Label              4\n",
      "25            MixCloud              4\n",
      "26           Pacemaker              3\n",
      "27  Classical Archives              2\n",
      "28           MonkingMe              1\n"
     ]
    }
   ],
   "source": [
    "rows_df = pd.DataFrame(rows_per_DSP)\n",
    "rows_df.reset_index(inplace=True)\n",
    "rows_df.columns = ['DSP', 'Songs_Per_DSP']\n",
    "print(rows_df)"
   ]
  },
  {
   "cell_type": "markdown",
   "id": "a56a661f",
   "metadata": {},
   "source": [
    "## Merge the three dataframes together on DSP"
   ]
  },
  {
   "cell_type": "code",
   "execution_count": 76,
   "id": "06791d94",
   "metadata": {},
   "outputs": [
    {
     "name": "stdout",
     "output_type": "stream",
     "text": [
      "                   DSP  Songwriter  Streams_Per_DSP\n",
      "0   Classical Archives  100.000000               20\n",
      "1                Qoboz   90.384615             6621\n",
      "2               Deezer   86.274510            87830\n",
      "3              Spotify   85.437585       2552563722\n",
      "4                Apple   80.851351       1606453701\n",
      "5              Recisio   54.545455               29\n",
      "6               Amazon   26.173985        151199800\n",
      "7              Pandora   24.482834        874236566\n",
      "8              Melodyv   11.459590          5384657\n",
      "9            LiveXLive    7.000000           101307\n",
      "10                 GTL    2.844037          1280764\n",
      "11               Tidal    0.369213         48793126\n",
      "12         Smithsonian    0.000000              208\n",
      "13     Ultimate Guitar    0.000000              309\n",
      "14              Trebel    0.000000           149347\n",
      "15           Wolfgangs    0.000000              965\n",
      "16          SoundCloud    0.000000        166813813\n",
      "17               Sonos    0.000000            31402\n",
      "18             YouTube    0.000000        158031119\n",
      "19           Pacemaker    0.000000             1707\n",
      "20          PowerMusic    0.000000             3154\n",
      "21             Anghami    0.000000            34682\n",
      "22             NugsNet    0.000000           110709\n",
      "23           MonkingMe    0.000000             3549\n",
      "24            MixCloud    0.000000             2661\n",
      "25        Midwest Tape    0.000000            85708\n",
      "26           Fan Label    0.000000               91\n",
      "27           AudioMack    0.000000         11991559\n",
      "28        iHeart Radio    0.000000          2141959\n"
     ]
    }
   ],
   "source": [
    "# Merge the three dataframes together on DSP\n",
    "DSP_df1 = pd.merge(sw_ratio, streams_df, on=['DSP'], how='inner')\n",
    "print(DSP_df1)"
   ]
  },
  {
   "cell_type": "code",
   "execution_count": 77,
   "id": "7af8ccac",
   "metadata": {},
   "outputs": [
    {
     "name": "stdout",
     "output_type": "stream",
     "text": [
      "                   DSP  Songwriter  Streams_Per_DSP  Songs_Per_DSP\n",
      "0   Classical Archives  100.000000               20              2\n",
      "1                Qoboz   90.384615             6621            104\n",
      "2               Deezer   86.274510            87830             51\n",
      "3              Spotify   85.437585       2552563722          32268\n",
      "4                Apple   80.851351       1606453701          22200\n",
      "5              Recisio   54.545455               29             22\n",
      "6               Amazon   26.173985        151199800          14438\n",
      "7              Pandora   24.482834        874236566          13777\n",
      "8              Melodyv   11.459590          5384657            829\n",
      "9            LiveXLive    7.000000           101307            200\n",
      "10                 GTL    2.844037          1280764           1090\n",
      "11               Tidal    0.369213         48793126           3521\n",
      "12         Smithsonian    0.000000              208             21\n",
      "13     Ultimate Guitar    0.000000              309             19\n",
      "14              Trebel    0.000000           149347            817\n",
      "15           Wolfgangs    0.000000              965              4\n",
      "16          SoundCloud    0.000000        166813813           2122\n",
      "17               Sonos    0.000000            31402             23\n",
      "18             YouTube    0.000000        158031119           2752\n",
      "19           Pacemaker    0.000000             1707              3\n",
      "20          PowerMusic    0.000000             3154              8\n",
      "21             Anghami    0.000000            34682             46\n",
      "22             NugsNet    0.000000           110709            316\n",
      "23           MonkingMe    0.000000             3549              1\n",
      "24            MixCloud    0.000000             2661              4\n",
      "25        Midwest Tape    0.000000            85708            102\n",
      "26           Fan Label    0.000000               91              4\n",
      "27           AudioMack    0.000000         11991559            550\n",
      "28        iHeart Radio    0.000000          2141959            707\n"
     ]
    }
   ],
   "source": [
    "DSP_df2 = pd.merge(DSP_df1, rows_df, on=['DSP'], how='inner')\n",
    "print(DSP_df2)"
   ]
  },
  {
   "cell_type": "code",
   "execution_count": 78,
   "id": "7bb76678",
   "metadata": {},
   "outputs": [],
   "source": [
    "# pd.reset_option('display.float_format')\n",
    "# print(DSP_df2)"
   ]
  },
  {
   "cell_type": "markdown",
   "id": "8b43c9d4",
   "metadata": {},
   "source": [
    "## master dataframe below"
   ]
  },
  {
   "cell_type": "code",
   "execution_count": 79,
   "id": "334de57c",
   "metadata": {},
   "outputs": [
    {
     "name": "stdout",
     "output_type": "stream",
     "text": [
      "                   DSP  Songwriter  Streams_Per_DSP  Songs_Per_DSP\n",
      "3              Spotify   85.437585       2552563722          32268\n",
      "4                Apple   80.851351       1606453701          22200\n",
      "7              Pandora   24.482834        874236566          13777\n",
      "16          SoundCloud    0.000000        166813813           2122\n",
      "18             YouTube    0.000000        158031119           2752\n",
      "6               Amazon   26.173985        151199800          14438\n",
      "11               Tidal    0.369213         48793126           3521\n",
      "27           AudioMack    0.000000         11991559            550\n",
      "8              Melodyv   11.459590          5384657            829\n",
      "28        iHeart Radio    0.000000          2141959            707\n",
      "10                 GTL    2.844037          1280764           1090\n",
      "14              Trebel    0.000000           149347            817\n",
      "22             NugsNet    0.000000           110709            316\n",
      "9            LiveXLive    7.000000           101307            200\n",
      "2               Deezer   86.274510            87830             51\n",
      "25        Midwest Tape    0.000000            85708            102\n",
      "21             Anghami    0.000000            34682             46\n",
      "17               Sonos    0.000000            31402             23\n",
      "1                Qoboz   90.384615             6621            104\n",
      "23           MonkingMe    0.000000             3549              1\n",
      "20          PowerMusic    0.000000             3154              8\n",
      "24            MixCloud    0.000000             2661              4\n",
      "19           Pacemaker    0.000000             1707              3\n",
      "15           Wolfgangs    0.000000              965              4\n",
      "13     Ultimate Guitar    0.000000              309             19\n",
      "12         Smithsonian    0.000000              208             21\n",
      "26           Fan Label    0.000000               91              4\n",
      "5              Recisio   54.545455               29             22\n",
      "0   Classical Archives  100.000000               20              2\n"
     ]
    }
   ],
   "source": [
    "# Reorder by Streams_Per_DSP in descending order = FINAL MERGED DATAFRAM\n",
    "DSP_df2 = DSP_df2.sort_values(by=['Streams_Per_DSP'], ascending=False)\n",
    "print(DSP_df2)"
   ]
  },
  {
   "cell_type": "markdown",
   "id": "11bec46d",
   "metadata": {},
   "source": [
    "## Plots and graphs"
   ]
  },
  {
   "cell_type": "code",
   "execution_count": 80,
   "id": "e2ec7407",
   "metadata": {},
   "outputs": [],
   "source": [
    "# Top 7 DSPs by Streams_Per_DSP\n",
    "# plt.bar(DSP_df2.DSP.isin(['Spotify', 'Apple', 'Pandora', 'SoundCloud', 'YouTube', 'Amazon', 'Tidal']), DSP_df2.SW_Avg);"
   ]
  },
  {
   "cell_type": "code",
   "execution_count": 81,
   "id": "d43be395",
   "metadata": {},
   "outputs": [
    {
     "name": "stdout",
     "output_type": "stream",
     "text": [
      "           DSP  Songwriter  Streams_Per_DSP  Songs_Per_DSP\n",
      "3      Spotify   85.437585       2552563722          32268\n",
      "4        Apple   80.851351       1606453701          22200\n",
      "7      Pandora   24.482834        874236566          13777\n",
      "16  SoundCloud    0.000000        166813813           2122\n",
      "18     YouTube    0.000000        158031119           2752\n",
      "6       Amazon   26.173985        151199800          14438\n",
      "11       Tidal    0.369213         48793126           3521\n"
     ]
    }
   ],
   "source": [
    "# Plot top 7 by Streams\n",
    "top_7 = DSP_df2.head(7)\n",
    "print(top_7)"
   ]
  },
  {
   "cell_type": "code",
   "execution_count": 82,
   "id": "3343170a",
   "metadata": {},
   "outputs": [
    {
     "data": {
      "image/png": "[encoded data removed]",
      "text/plain": [
       "<Figure size 864x432 with 1 Axes>"
      ]
     },
     "metadata": {
      "needs_background": "light"
     },
     "output_type": "display_data"
    }
   ],
   "source": [
    "plt.figure(figsize=(12, 6))\n",
    "plt.bar(top_7.DSP, top_7.Streams_Per_DSP)\n",
    "plt.ylabel('Number of Streams') # Number of Streams times 10^9\n",
    "plt.xticks(rotation = 50)\n",
    "plt.title('Top 7 DSPs by Number of Streams');"
   ]
  },
  {
   "cell_type": "code",
   "execution_count": 83,
   "id": "ec52100f",
   "metadata": {},
   "outputs": [
    {
     "name": "stdout",
     "output_type": "stream",
     "text": [
      "                   DSP  Songwriter  Streams_Per_DSP  Songs_Per_DSP\n",
      "0   Classical Archives  100.000000               20              2\n",
      "1                Qoboz   90.384615             6621            104\n",
      "2               Deezer   86.274510            87830             51\n",
      "3              Spotify   85.437585       2552563722          32268\n",
      "4                Apple   80.851351       1606453701          22200\n",
      "5              Recisio   54.545455               29             22\n",
      "6               Amazon   26.173985        151199800          14438\n",
      "7              Pandora   24.482834        874236566          13777\n",
      "8              Melodyv   11.459590          5384657            829\n",
      "9            LiveXLive    7.000000           101307            200\n",
      "10                 GTL    2.844037          1280764           1090\n",
      "11               Tidal    0.369213         48793126           3521\n",
      "20          PowerMusic    0.000000             3154              8\n",
      "26           Fan Label    0.000000               91              4\n",
      "12         Smithsonian    0.000000              208             21\n",
      "13     Ultimate Guitar    0.000000              309             19\n",
      "15           Wolfgangs    0.000000              965              4\n",
      "19           Pacemaker    0.000000             1707              3\n",
      "24            MixCloud    0.000000             2661              4\n",
      "16          SoundCloud    0.000000        166813813           2122\n",
      "23           MonkingMe    0.000000             3549              1\n",
      "17               Sonos    0.000000            31402             23\n",
      "18             YouTube    0.000000        158031119           2752\n",
      "25        Midwest Tape    0.000000            85708            102\n",
      "22             NugsNet    0.000000           110709            316\n",
      "14              Trebel    0.000000           149347            817\n",
      "28        iHeart Radio    0.000000          2141959            707\n",
      "27           AudioMack    0.000000         11991559            550\n",
      "21             Anghami    0.000000            34682             46\n"
     ]
    }
   ],
   "source": [
    "SW_avg_df = DSP_df2.sort_values(by=['Songwriter'], ascending=False)\n",
    "print(SW_avg_df)"
   ]
  },
  {
   "cell_type": "code",
   "execution_count": 84,
   "id": "db7feaba",
   "metadata": {},
   "outputs": [
    {
     "name": "stdout",
     "output_type": "stream",
     "text": [
      "           DSP  Songwriter  Streams_Per_DSP  Songs_Per_DSP\n",
      "3      Spotify   85.437585       2552563722          32268\n",
      "4        Apple   80.851351       1606453701          22200\n",
      "6       Amazon   26.173985        151199800          14438\n",
      "7      Pandora   24.482834        874236566          13777\n",
      "11       Tidal    0.369213         48793126           3521\n",
      "16  SoundCloud    0.000000        166813813           2122\n",
      "18     YouTube    0.000000        158031119           2752\n"
     ]
    }
   ],
   "source": [
    "# Subset the top 7 DSPs by streams to include only those top 7 we want by SW_Avg desc\n",
    "top_7_sw = SW_avg_df.loc[SW_avg_df['DSP'].isin(['Spotify','Apple', 'Pandora', 'SoundCloud', 'YouTube', 'Amazon', 'Tidal'])]\n",
    "print(top_7_sw)"
   ]
  },
  {
   "cell_type": "code",
   "execution_count": 86,
   "id": "c7d5758d",
   "metadata": {},
   "outputs": [
    {
     "data": {
      "image/png": "[encoded data removed]",
      "text/plain": [
       "<Figure size 864x432 with 1 Axes>"
      ]
     },
     "metadata": {
      "needs_background": "light"
     },
     "output_type": "display_data"
    }
   ],
   "source": [
    "# Plot top 7 by SW_Avg\n",
    "plt.figure(figsize=(12, 6))\n",
    "plt.bar(top_7_sw.DSP, top_7_sw.Songwriter, color=['g', 'm', 'y', 'b', '1', 'orange', 'r'], edgecolor='black')\n",
    "plt.ylabel('% of Songwriter Info Provided', fontsize=16)\n",
    "plt.xticks(rotation = 50, fontsize=16)\n",
    "plt.yticks([20, 40, 60, 80, 100], fontsize=16)\n",
    "plt.text('YouTube', 10, '0', fontsize=16)\n",
    "plt.text('SoundCloud', 10, '0', fontsize=16)\n",
    "plt.text('Tidal', 10, '0.4', fontsize=16)\n",
    "plt.title('Top 7 DSPs by % of Songwriter Info Provided', fontsize=20);"
   ]
  },
  {
   "cell_type": "code",
   "execution_count": 87,
   "id": "d088c1a2",
   "metadata": {},
   "outputs": [
    {
     "name": "stdout",
     "output_type": "stream",
     "text": [
      "                   DSP  Songwriter  Streams_Per_DSP  Songs_Per_DSP\n",
      "3              Spotify   85.437585       2552563722          32268\n",
      "4                Apple   80.851351       1606453701          22200\n",
      "6               Amazon   26.173985        151199800          14438\n",
      "7              Pandora   24.482834        874236566          13777\n",
      "11               Tidal    0.369213         48793126           3521\n",
      "18             YouTube    0.000000        158031119           2752\n",
      "16          SoundCloud    0.000000        166813813           2122\n",
      "10                 GTL    2.844037          1280764           1090\n",
      "8              Melodyv   11.459590          5384657            829\n",
      "14              Trebel    0.000000           149347            817\n",
      "28        iHeart Radio    0.000000          2141959            707\n",
      "27           AudioMack    0.000000         11991559            550\n",
      "22             NugsNet    0.000000           110709            316\n",
      "9            LiveXLive    7.000000           101307            200\n",
      "1                Qoboz   90.384615             6621            104\n",
      "25        Midwest Tape    0.000000            85708            102\n",
      "2               Deezer   86.274510            87830             51\n",
      "21             Anghami    0.000000            34682             46\n",
      "17               Sonos    0.000000            31402             23\n",
      "5              Recisio   54.545455               29             22\n",
      "12         Smithsonian    0.000000              208             21\n",
      "13     Ultimate Guitar    0.000000              309             19\n",
      "20          PowerMusic    0.000000             3154              8\n",
      "24            MixCloud    0.000000             2661              4\n",
      "15           Wolfgangs    0.000000              965              4\n",
      "26           Fan Label    0.000000               91              4\n",
      "19           Pacemaker    0.000000             1707              3\n",
      "0   Classical Archives  100.000000               20              2\n",
      "23           MonkingMe    0.000000             3549              1\n"
     ]
    }
   ],
   "source": [
    "# Subset the DSPs by Songs_Per_DSP\n",
    "Songs_Per_DSP_df = DSP_df2.sort_values(by=['Songs_Per_DSP'], ascending=False)\n",
    "print(Songs_Per_DSP_df)"
   ]
  },
  {
   "cell_type": "code",
   "execution_count": 88,
   "id": "3a2b8ebe",
   "metadata": {},
   "outputs": [
    {
     "name": "stdout",
     "output_type": "stream",
     "text": [
      "           DSP  Songwriter  Streams_Per_DSP  Songs_Per_DSP\n",
      "3      Spotify   85.437585       2552563722          32268\n",
      "4        Apple   80.851351       1606453701          22200\n",
      "6       Amazon   26.173985        151199800          14438\n",
      "7      Pandora   24.482834        874236566          13777\n",
      "11       Tidal    0.369213         48793126           3521\n",
      "18     YouTube    0.000000        158031119           2752\n",
      "16  SoundCloud    0.000000        166813813           2122\n"
     ]
    }
   ],
   "source": [
    "top_7_sdp = Songs_Per_DSP_df.loc[Songs_Per_DSP_df['DSP'].isin(['Spotify','Apple', 'Pandora', 'SoundCloud', 'YouTube', 'Amazon', 'Tidal'])]\n",
    "print(top_7_sdp)"
   ]
  },
  {
   "cell_type": "code",
   "execution_count": 89,
   "id": "f544f892",
   "metadata": {},
   "outputs": [
    {
     "data": {
      "image/png": "[encoded data removed]",
      "text/plain": [
       "<Figure size 864x432 with 1 Axes>"
      ]
     },
     "metadata": {
      "needs_background": "light"
     },
     "output_type": "display_data"
    }
   ],
   "source": [
    "# Plot top 7 by Songs_Per_DSP\n",
    "plt.figure(figsize=(12, 6))\n",
    "plt.bar(top_7_sdp.DSP, top_7_sdp.Songs_Per_DSP)\n",
    "plt.rcParams.update({'font.size':20}) # Made everything bigger except ylabel\n",
    "plt.ylabel('Number of Songs Streamed', fontsize=16)\n",
    "plt.xticks(rotation = 50)\n",
    "plt.yticks([5000, 10000, 15000, 20000, 25000, 30000, 35000])\n",
    "plt.title('Top 7 DSPs by Number of Songs Streamed');"
   ]
  },
  {
   "cell_type": "code",
   "execution_count": null,
   "id": "528aed80",
   "metadata": {},
   "outputs": [],
   "source": []
  }
 ],
 "metadata": {
  "kernelspec": {
   "display_name": "Python 3 (ipykernel)",
   "language": "python",
   "name": "python3"
  },
  "language_info": {
   "codemirror_mode": {
    "name": "ipython",
    "version": 3
   },
   "file_extension": ".py",
   "mimetype": "text/x-python",
   "name": "python",
   "nbconvert_exporter": "python",
   "pygments_lexer": "ipython3",
   "version": "3.9.7"
  }
 },
 "nbformat": 4,
 "nbformat_minor": 5
}
