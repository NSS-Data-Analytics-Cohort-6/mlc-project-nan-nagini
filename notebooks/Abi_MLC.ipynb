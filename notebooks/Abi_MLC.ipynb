{
 "cells": [
  {
   "cell_type": "code",
   "execution_count": 1,
   "id": "eefb9a6c",
   "metadata": {},
   "outputs": [],
   "source": [
    "import pandas as pd\n",
    "import numpy as np\n",
    "import matplotlib.pyplot as plt\n",
    "import seaborn as sns"
   ]
  },
  {
   "cell_type": "code",
   "execution_count": 2,
   "id": "b872f389",
   "metadata": {},
   "outputs": [],
   "source": [
    "raw_df = pd.read_csv(\"../data/MLC_data_sample.csv\")"
   ]
  },
  {
   "cell_type": "code",
   "execution_count": 3,
   "id": "6a0e89f6",
   "metadata": {},
   "outputs": [
    {
     "name": "stdout",
     "output_type": "stream",
     "text": [
      "            If  Country Code Registrant Code  Year of Reference Usage Period  \\\n",
      "0  USUG12101043           US             UG1               21.0          NaN   \n",
      "1  USRC12100543           US             RC1               21.0          NaN   \n",
      "2  USSM12102263           US             SM1               21.0          NaN   \n",
      "3  USLD91731547           US             LD9               17.0     2/1/2021   \n",
      "4  USAT22007048           US             AT2               20.0          NaN   \n",
      "\n",
      "  Streaming Platform (DSP)     Streams        Recording Artist  \\\n",
      "0                AudioMack     10,175                   Future   \n",
      "1               SoundCloud      8,597                 LUCKY3RD   \n",
      "2               SoundCloud    261,280                 LUCKY3RD   \n",
      "3                   Trebel          5   Bachata & Merengue Mix   \n",
      "4                AudioMack     62,105                   Foolio   \n",
      "\n",
      "  Recording Label                            Recording Title  \\\n",
      "0             NaN   FUTURE FT DEJ LOAF HEY THERE PROD BY DDS   \n",
      "1        LUCKY3RD                     Keep It Cool  LUCKY3RD   \n",
      "2        LUCKY3RD                     Life Goes On  LUCKY3RD   \n",
      "3         Orchard     No dudes de mi- Merengue & Bachata Mix   \n",
      "4             NaN                       WHEN I SEE YOU REMIX   \n",
      "\n",
      "             Release Title  Recording Duration (Seconds)  \\\n",
      "0                #unknown#                           181   \n",
      "1   Keep It Cool  LUCKY3RD                           133   \n",
      "2   Life Goes On  LUCKY3RD                           171   \n",
      "3            Mega Mix 2010                          1250   \n",
      "4                #unknown#                           187   \n",
      "\n",
      "   Songwriter's Listed (1 = \"Yes\", 0 = \"No\")  \n",
      "0                                          0  \n",
      "1                                          0  \n",
      "2                                          0  \n",
      "3                                          0  \n",
      "4                                          0  \n"
     ]
    }
   ],
   "source": [
    "print(raw_df.head(5))"
   ]
  },
  {
   "cell_type": "code",
   "execution_count": 4,
   "id": "b7cccb8f",
   "metadata": {},
   "outputs": [
    {
     "name": "stdout",
     "output_type": "stream",
     "text": [
      "                If  Country Code Registrant Code  Year of Reference  \\\n",
      "99997  SE6HN1926755           SE             6HN               19.0   \n",
      "99998  SEYOK1669274           SE             YOK               16.0   \n",
      "99999  QZK6F2019397           QZ             K6F               20.0   \n",
      "\n",
      "      Usage Period Streaming Platform (DSP)    Streams Recording Artist  \\\n",
      "99997     3/1/2021                  Spotify    28,941              yama   \n",
      "99998     3/1/2021                    Apple     8,970              yama   \n",
      "99999     2/1/2021                  Spotify    11,245         Lexie Liu   \n",
      "\n",
      "              Recording Label Recording Title  Release Title  \\\n",
      "99997  Sony Music Labels Inc.              麻痺             麻痺   \n",
      "99998  Sony Music Labels Inc.              麻痺    麻痺 - Single   \n",
      "99999          泥鞋（北京）文化传媒有限公司   黑洞 Metropolis  无限意识 Meta Ego   \n",
      "\n",
      "       Recording Duration (Seconds)  Songwriter's Listed (1 = \"Yes\", 0 = \"No\")  \n",
      "99997                           199                                          1  \n",
      "99998                           198                                          1  \n",
      "99999                           259                                          1  \n"
     ]
    }
   ],
   "source": [
    "print(raw_df.tail(3))"
   ]
  },
  {
   "cell_type": "code",
   "execution_count": 5,
   "id": "88d6a291",
   "metadata": {},
   "outputs": [
    {
     "name": "stdout",
     "output_type": "stream",
     "text": [
      "<class 'pandas.core.frame.DataFrame'>\n",
      "RangeIndex: 100000 entries, 0 to 99999\n",
      "Data columns (total 13 columns):\n",
      " #   Column                                     Non-Null Count   Dtype  \n",
      "---  ------                                     --------------   -----  \n",
      " 0   If                                         98240 non-null   object \n",
      " 1   Country Code                               98303 non-null   object \n",
      " 2   Registrant Code                            98303 non-null   object \n",
      " 3   Year of Reference                          98239 non-null   float64\n",
      " 4   Usage Period                               91898 non-null   object \n",
      " 5   Streaming Platform (DSP)                   96001 non-null   object \n",
      " 6   Streams                                    100000 non-null  object \n",
      " 7   Recording Artist                           100000 non-null  object \n",
      " 8   Recording Label                            98992 non-null   object \n",
      " 9   Recording Title                            100000 non-null  object \n",
      " 10  Release Title                              99931 non-null   object \n",
      " 11  Recording Duration (Seconds)               100000 non-null  int64  \n",
      " 12  Songwriter's Listed (1 = \"Yes\", 0 = \"No\")  100000 non-null  int64  \n",
      "dtypes: float64(1), int64(2), object(10)\n",
      "memory usage: 9.9+ MB\n"
     ]
    }
   ],
   "source": [
    "raw_df.info()"
   ]
  },
  {
   "cell_type": "code",
   "execution_count": 6,
   "id": "c0148d17",
   "metadata": {
    "scrolled": true
   },
   "outputs": [],
   "source": [
    "raw_df.rename(columns = {'If' : 'ISRC'}, inplace = True)"
   ]
  },
  {
   "cell_type": "code",
   "execution_count": 7,
   "id": "9ffa859e",
   "metadata": {},
   "outputs": [
    {
     "name": "stdout",
     "output_type": "stream",
     "text": [
      "            If  Country Code Registrant Code  Year of Reference Usage Period  \\\n",
      "0  USUG12101043           US             UG1               21.0          NaN   \n",
      "1  USRC12100543           US             RC1               21.0          NaN   \n",
      "2  USSM12102263           US             SM1               21.0          NaN   \n",
      "\n",
      "  Streaming Platform (DSP)     Streams Recording Artist Recording Label  \\\n",
      "0                AudioMack     10,175            Future             NaN   \n",
      "1               SoundCloud      8,597          LUCKY3RD        LUCKY3RD   \n",
      "2               SoundCloud    261,280          LUCKY3RD        LUCKY3RD   \n",
      "\n",
      "                             Recording Title            Release Title  \\\n",
      "0   FUTURE FT DEJ LOAF HEY THERE PROD BY DDS                #unknown#   \n",
      "1                     Keep It Cool  LUCKY3RD   Keep It Cool  LUCKY3RD   \n",
      "2                     Life Goes On  LUCKY3RD   Life Goes On  LUCKY3RD   \n",
      "\n",
      "   Recording Duration (Seconds)  Songwriter's Listed (1 = \"Yes\", 0 = \"No\")  \n",
      "0                           181                                          0  \n",
      "1                           133                                          0  \n",
      "2                           171                                          0  \n"
     ]
    }
   ],
   "source": [
    "print(raw_df.head(3))"
   ]
  },
  {
   "cell_type": "code",
   "execution_count": 8,
   "id": "e02be0c3",
   "metadata": {},
   "outputs": [
    {
     "name": "stdout",
     "output_type": "stream",
     "text": [
      "<class 'pandas.core.frame.DataFrame'>\n",
      "RangeIndex: 100000 entries, 0 to 99999\n",
      "Data columns (total 13 columns):\n",
      " #   Column                                     Non-Null Count   Dtype  \n",
      "---  ------                                     --------------   -----  \n",
      " 0   If                                         98240 non-null   object \n",
      " 1   Country Code                               98303 non-null   object \n",
      " 2   Registrant Code                            98303 non-null   object \n",
      " 3   Year of Reference                          98239 non-null   float64\n",
      " 4   Usage Period                               91898 non-null   object \n",
      " 5   Streaming Platform (DSP)                   96001 non-null   object \n",
      " 6   Streams                                    100000 non-null  object \n",
      " 7   Recording Artist                           100000 non-null  object \n",
      " 8   Recording Label                            98992 non-null   object \n",
      " 9   Recording Title                            100000 non-null  object \n",
      " 10  Release Title                              99931 non-null   object \n",
      " 11  Recording Duration (Seconds)               100000 non-null  int64  \n",
      " 12  Songwriter's Listed (1 = \"Yes\", 0 = \"No\")  100000 non-null  int64  \n",
      "dtypes: float64(1), int64(2), object(10)\n",
      "memory usage: 9.9+ MB\n",
      "None\n"
     ]
    }
   ],
   "source": [
    "print(raw_df.info())"
   ]
  },
  {
   "cell_type": "markdown",
   "id": "02b0f80e",
   "metadata": {},
   "source": [
    "##### I have tried three different ways to rename columns... I have two more options that I've found, but I've decided to start leaving failed code... trust me, there were two other attempts prior that I deleted."
   ]
  },
  {
   "cell_type": "code",
   "execution_count": 9,
   "id": "132fbc33",
   "metadata": {},
   "outputs": [],
   "source": [
    "raw_df.columns = ['ISRC', 'Country', 'Registrant', 'Release_Year', 'Period', 'DSP', 'Streams', 'Artist', 'Label', 'Song', 'Album', 'Duration', 'Songwriter?']"
   ]
  },
  {
   "cell_type": "code",
   "execution_count": 10,
   "id": "ca20adb7",
   "metadata": {},
   "outputs": [
    {
     "name": "stdout",
     "output_type": "stream",
     "text": [
      "<class 'pandas.core.frame.DataFrame'>\n",
      "RangeIndex: 100000 entries, 0 to 99999\n",
      "Data columns (total 13 columns):\n",
      " #   Column        Non-Null Count   Dtype  \n",
      "---  ------        --------------   -----  \n",
      " 0   ISRC          98240 non-null   object \n",
      " 1   Country       98303 non-null   object \n",
      " 2   Registrant    98303 non-null   object \n",
      " 3   Release_Year  98239 non-null   float64\n",
      " 4   Period        91898 non-null   object \n",
      " 5   DSP           96001 non-null   object \n",
      " 6   Streams       100000 non-null  object \n",
      " 7   Artist        100000 non-null  object \n",
      " 8   Label         98992 non-null   object \n",
      " 9   Song          100000 non-null  object \n",
      " 10  Album         99931 non-null   object \n",
      " 11  Duration      100000 non-null  int64  \n",
      " 12  Songwriter?   100000 non-null  int64  \n",
      "dtypes: float64(1), int64(2), object(10)\n",
      "memory usage: 9.9+ MB\n",
      "None\n"
     ]
    }
   ],
   "source": [
    "print(raw_df.info())"
   ]
  },
  {
   "cell_type": "markdown",
   "id": "54ab4d54",
   "metadata": {},
   "source": [
    "##### it has come to my attention that the 'If' column has a space after it, so the title is actually 'If ' -- going to do a take-two just to check that my code would have worked if I had realized that beforehand. Please hold."
   ]
  },
  {
   "cell_type": "code",
   "execution_count": 12,
   "id": "ba592ea1",
   "metadata": {},
   "outputs": [],
   "source": [
    "take2 = pd.read_csv(\"../data/MLC_data_sample.csv\")"
   ]
  },
  {
   "cell_type": "code",
   "execution_count": 15,
   "id": "8778c3f0",
   "metadata": {},
   "outputs": [
    {
     "name": "stdout",
     "output_type": "stream",
     "text": [
      "<class 'pandas.core.frame.DataFrame'>\n",
      "RangeIndex: 100000 entries, 0 to 99999\n",
      "Data columns (total 13 columns):\n",
      " #   Column                                     Non-Null Count   Dtype  \n",
      "---  ------                                     --------------   -----  \n",
      " 0   If                                         98240 non-null   object \n",
      " 1   Country Code                               98303 non-null   object \n",
      " 2   Registrant Code                            98303 non-null   object \n",
      " 3   Year of Reference                          98239 non-null   float64\n",
      " 4   Usage Period                               91898 non-null   object \n",
      " 5   Streaming Platform (DSP)                   96001 non-null   object \n",
      " 6   Streams                                    100000 non-null  object \n",
      " 7   Recording Artist                           100000 non-null  object \n",
      " 8   Recording Label                            98992 non-null   object \n",
      " 9   Recording Title                            100000 non-null  object \n",
      " 10  Release Title                              99931 non-null   object \n",
      " 11  Recording Duration (Seconds)               100000 non-null  int64  \n",
      " 12  Songwriter's Listed (1 = \"Yes\", 0 = \"No\")  100000 non-null  int64  \n",
      "dtypes: float64(1), int64(2), object(10)\n",
      "memory usage: 9.9+ MB\n",
      "None\n"
     ]
    }
   ],
   "source": [
    "print(take2.info())"
   ]
  },
  {
   "cell_type": "code",
   "execution_count": 16,
   "id": "0cc0a750",
   "metadata": {},
   "outputs": [],
   "source": [
    "take2.rename(columns = {'If ' : 'ISRC'}, inplace = True)"
   ]
  },
  {
   "cell_type": "code",
   "execution_count": 17,
   "id": "5a250f2a",
   "metadata": {},
   "outputs": [
    {
     "name": "stdout",
     "output_type": "stream",
     "text": [
      "<class 'pandas.core.frame.DataFrame'>\n",
      "RangeIndex: 100000 entries, 0 to 99999\n",
      "Data columns (total 13 columns):\n",
      " #   Column                                     Non-Null Count   Dtype  \n",
      "---  ------                                     --------------   -----  \n",
      " 0   ISRC                                       98240 non-null   object \n",
      " 1   Country Code                               98303 non-null   object \n",
      " 2   Registrant Code                            98303 non-null   object \n",
      " 3   Year of Reference                          98239 non-null   float64\n",
      " 4   Usage Period                               91898 non-null   object \n",
      " 5   Streaming Platform (DSP)                   96001 non-null   object \n",
      " 6   Streams                                    100000 non-null  object \n",
      " 7   Recording Artist                           100000 non-null  object \n",
      " 8   Recording Label                            98992 non-null   object \n",
      " 9   Recording Title                            100000 non-null  object \n",
      " 10  Release Title                              99931 non-null   object \n",
      " 11  Recording Duration (Seconds)               100000 non-null  int64  \n",
      " 12  Songwriter's Listed (1 = \"Yes\", 0 = \"No\")  100000 non-null  int64  \n",
      "dtypes: float64(1), int64(2), object(10)\n",
      "memory usage: 9.9+ MB\n",
      "None\n"
     ]
    }
   ],
   "source": [
    "print(take2.info())"
   ]
  },
  {
   "cell_type": "markdown",
   "id": "c51ff4d7",
   "metadata": {},
   "source": [
    "##### well shoot. note to self, always run a trim function or something, haha. Onward!!! I like all my briefer columns anyway."
   ]
  },
  {
   "cell_type": "markdown",
   "id": "a56af0e2",
   "metadata": {},
   "source": [
    "##### now to change the Streams column to be a float or int"
   ]
  },
  {
   "cell_type": "code",
   "execution_count": 20,
   "id": "677d84e0",
   "metadata": {},
   "outputs": [
    {
     "ename": "AttributeError",
     "evalue": "'DataFrame' object has no attribute 'to_numeric'",
     "output_type": "error",
     "traceback": [
      "\u001b[1;31m---------------------------------------------------------------------------\u001b[0m",
      "\u001b[1;31mAttributeError\u001b[0m                            Traceback (most recent call last)",
      "\u001b[1;32m~\\AppData\\Local\\Temp/ipykernel_14476/3405227003.py\u001b[0m in \u001b[0;36m<module>\u001b[1;34m\u001b[0m\n\u001b[1;32m----> 1\u001b[1;33m \u001b[0mraw_df\u001b[0m\u001b[1;33m.\u001b[0m\u001b[0mto_numeric\u001b[0m\u001b[1;33m(\u001b[0m\u001b[1;34m'Streams'\u001b[0m\u001b[1;33m)\u001b[0m\u001b[1;33m\u001b[0m\u001b[1;33m\u001b[0m\u001b[0m\n\u001b[0m",
      "\u001b[1;32m~\\anaconda3\\lib\\site-packages\\pandas\\core\\generic.py\u001b[0m in \u001b[0;36m__getattr__\u001b[1;34m(self, name)\u001b[0m\n\u001b[0;32m   5485\u001b[0m         ):\n\u001b[0;32m   5486\u001b[0m             \u001b[1;32mreturn\u001b[0m \u001b[0mself\u001b[0m\u001b[1;33m[\u001b[0m\u001b[0mname\u001b[0m\u001b[1;33m]\u001b[0m\u001b[1;33m\u001b[0m\u001b[1;33m\u001b[0m\u001b[0m\n\u001b[1;32m-> 5487\u001b[1;33m         \u001b[1;32mreturn\u001b[0m \u001b[0mobject\u001b[0m\u001b[1;33m.\u001b[0m\u001b[0m__getattribute__\u001b[0m\u001b[1;33m(\u001b[0m\u001b[0mself\u001b[0m\u001b[1;33m,\u001b[0m \u001b[0mname\u001b[0m\u001b[1;33m)\u001b[0m\u001b[1;33m\u001b[0m\u001b[1;33m\u001b[0m\u001b[0m\n\u001b[0m\u001b[0;32m   5488\u001b[0m \u001b[1;33m\u001b[0m\u001b[0m\n\u001b[0;32m   5489\u001b[0m     \u001b[1;32mdef\u001b[0m \u001b[0m__setattr__\u001b[0m\u001b[1;33m(\u001b[0m\u001b[0mself\u001b[0m\u001b[1;33m,\u001b[0m \u001b[0mname\u001b[0m\u001b[1;33m:\u001b[0m \u001b[0mstr\u001b[0m\u001b[1;33m,\u001b[0m \u001b[0mvalue\u001b[0m\u001b[1;33m)\u001b[0m \u001b[1;33m->\u001b[0m \u001b[1;32mNone\u001b[0m\u001b[1;33m:\u001b[0m\u001b[1;33m\u001b[0m\u001b[1;33m\u001b[0m\u001b[0m\n",
      "\u001b[1;31mAttributeError\u001b[0m: 'DataFrame' object has no attribute 'to_numeric'"
     ]
    }
   ],
   "source": [
    "raw_df.to_numeric('Streams')"
   ]
  },
  {
   "cell_type": "markdown",
   "id": "b2acd163",
   "metadata": {},
   "source": [
    "##### throwing an error, I'm sure I'm misunderstanding the syntax. let's try .apply(pd.to_numeric)"
   ]
  },
  {
   "cell_type": "code",
   "execution_count": 22,
   "id": "d7715720",
   "metadata": {},
   "outputs": [
    {
     "ename": "ValueError",
     "evalue": "Unable to parse string \"  10,175 \" at position 0",
     "output_type": "error",
     "traceback": [
      "\u001b[1;31m---------------------------------------------------------------------------\u001b[0m",
      "\u001b[1;31mValueError\u001b[0m                                Traceback (most recent call last)",
      "\u001b[1;32m~\\anaconda3\\lib\\site-packages\\pandas\\_libs\\lib.pyx\u001b[0m in \u001b[0;36mpandas._libs.lib.maybe_convert_numeric\u001b[1;34m()\u001b[0m\n",
      "\u001b[1;31mValueError\u001b[0m: Unable to parse string \"  10,175 \"",
      "\nDuring handling of the above exception, another exception occurred:\n",
      "\u001b[1;31mValueError\u001b[0m                                Traceback (most recent call last)",
      "\u001b[1;32m~\\AppData\\Local\\Temp/ipykernel_14476/3344805437.py\u001b[0m in \u001b[0;36m<module>\u001b[1;34m\u001b[0m\n\u001b[1;32m----> 1\u001b[1;33m \u001b[0mraw_df\u001b[0m\u001b[1;33m[\u001b[0m\u001b[1;33m[\u001b[0m\u001b[1;34m\"Streams\"\u001b[0m\u001b[1;33m]\u001b[0m\u001b[1;33m]\u001b[0m \u001b[1;33m=\u001b[0m \u001b[0mraw_df\u001b[0m\u001b[1;33m[\u001b[0m\u001b[1;33m[\u001b[0m\u001b[1;34m\"Streams\"\u001b[0m\u001b[1;33m]\u001b[0m\u001b[1;33m]\u001b[0m\u001b[1;33m.\u001b[0m\u001b[0mapply\u001b[0m\u001b[1;33m(\u001b[0m\u001b[0mpd\u001b[0m\u001b[1;33m.\u001b[0m\u001b[0mto_numeric\u001b[0m\u001b[1;33m)\u001b[0m\u001b[1;33m\u001b[0m\u001b[1;33m\u001b[0m\u001b[0m\n\u001b[0m",
      "\u001b[1;32m~\\anaconda3\\lib\\site-packages\\pandas\\core\\frame.py\u001b[0m in \u001b[0;36mapply\u001b[1;34m(self, func, axis, raw, result_type, args, **kwargs)\u001b[0m\n\u001b[0;32m   8738\u001b[0m             \u001b[0mkwargs\u001b[0m\u001b[1;33m=\u001b[0m\u001b[0mkwargs\u001b[0m\u001b[1;33m,\u001b[0m\u001b[1;33m\u001b[0m\u001b[1;33m\u001b[0m\u001b[0m\n\u001b[0;32m   8739\u001b[0m         )\n\u001b[1;32m-> 8740\u001b[1;33m         \u001b[1;32mreturn\u001b[0m \u001b[0mop\u001b[0m\u001b[1;33m.\u001b[0m\u001b[0mapply\u001b[0m\u001b[1;33m(\u001b[0m\u001b[1;33m)\u001b[0m\u001b[1;33m\u001b[0m\u001b[1;33m\u001b[0m\u001b[0m\n\u001b[0m\u001b[0;32m   8741\u001b[0m \u001b[1;33m\u001b[0m\u001b[0m\n\u001b[0;32m   8742\u001b[0m     def applymap(\n",
      "\u001b[1;32m~\\anaconda3\\lib\\site-packages\\pandas\\core\\apply.py\u001b[0m in \u001b[0;36mapply\u001b[1;34m(self)\u001b[0m\n\u001b[0;32m    686\u001b[0m             \u001b[1;32mreturn\u001b[0m \u001b[0mself\u001b[0m\u001b[1;33m.\u001b[0m\u001b[0mapply_raw\u001b[0m\u001b[1;33m(\u001b[0m\u001b[1;33m)\u001b[0m\u001b[1;33m\u001b[0m\u001b[1;33m\u001b[0m\u001b[0m\n\u001b[0;32m    687\u001b[0m \u001b[1;33m\u001b[0m\u001b[0m\n\u001b[1;32m--> 688\u001b[1;33m         \u001b[1;32mreturn\u001b[0m \u001b[0mself\u001b[0m\u001b[1;33m.\u001b[0m\u001b[0mapply_standard\u001b[0m\u001b[1;33m(\u001b[0m\u001b[1;33m)\u001b[0m\u001b[1;33m\u001b[0m\u001b[1;33m\u001b[0m\u001b[0m\n\u001b[0m\u001b[0;32m    689\u001b[0m \u001b[1;33m\u001b[0m\u001b[0m\n\u001b[0;32m    690\u001b[0m     \u001b[1;32mdef\u001b[0m \u001b[0magg\u001b[0m\u001b[1;33m(\u001b[0m\u001b[0mself\u001b[0m\u001b[1;33m)\u001b[0m\u001b[1;33m:\u001b[0m\u001b[1;33m\u001b[0m\u001b[1;33m\u001b[0m\u001b[0m\n",
      "\u001b[1;32m~\\anaconda3\\lib\\site-packages\\pandas\\core\\apply.py\u001b[0m in \u001b[0;36mapply_standard\u001b[1;34m(self)\u001b[0m\n\u001b[0;32m    810\u001b[0m \u001b[1;33m\u001b[0m\u001b[0m\n\u001b[0;32m    811\u001b[0m     \u001b[1;32mdef\u001b[0m \u001b[0mapply_standard\u001b[0m\u001b[1;33m(\u001b[0m\u001b[0mself\u001b[0m\u001b[1;33m)\u001b[0m\u001b[1;33m:\u001b[0m\u001b[1;33m\u001b[0m\u001b[1;33m\u001b[0m\u001b[0m\n\u001b[1;32m--> 812\u001b[1;33m         \u001b[0mresults\u001b[0m\u001b[1;33m,\u001b[0m \u001b[0mres_index\u001b[0m \u001b[1;33m=\u001b[0m \u001b[0mself\u001b[0m\u001b[1;33m.\u001b[0m\u001b[0mapply_series_generator\u001b[0m\u001b[1;33m(\u001b[0m\u001b[1;33m)\u001b[0m\u001b[1;33m\u001b[0m\u001b[1;33m\u001b[0m\u001b[0m\n\u001b[0m\u001b[0;32m    813\u001b[0m \u001b[1;33m\u001b[0m\u001b[0m\n\u001b[0;32m    814\u001b[0m         \u001b[1;31m# wrap results\u001b[0m\u001b[1;33m\u001b[0m\u001b[1;33m\u001b[0m\u001b[0m\n",
      "\u001b[1;32m~\\anaconda3\\lib\\site-packages\\pandas\\core\\apply.py\u001b[0m in \u001b[0;36mapply_series_generator\u001b[1;34m(self)\u001b[0m\n\u001b[0;32m    826\u001b[0m             \u001b[1;32mfor\u001b[0m \u001b[0mi\u001b[0m\u001b[1;33m,\u001b[0m \u001b[0mv\u001b[0m \u001b[1;32min\u001b[0m \u001b[0menumerate\u001b[0m\u001b[1;33m(\u001b[0m\u001b[0mseries_gen\u001b[0m\u001b[1;33m)\u001b[0m\u001b[1;33m:\u001b[0m\u001b[1;33m\u001b[0m\u001b[1;33m\u001b[0m\u001b[0m\n\u001b[0;32m    827\u001b[0m                 \u001b[1;31m# ignore SettingWithCopy here in case the user mutates\u001b[0m\u001b[1;33m\u001b[0m\u001b[1;33m\u001b[0m\u001b[0m\n\u001b[1;32m--> 828\u001b[1;33m                 \u001b[0mresults\u001b[0m\u001b[1;33m[\u001b[0m\u001b[0mi\u001b[0m\u001b[1;33m]\u001b[0m \u001b[1;33m=\u001b[0m \u001b[0mself\u001b[0m\u001b[1;33m.\u001b[0m\u001b[0mf\u001b[0m\u001b[1;33m(\u001b[0m\u001b[0mv\u001b[0m\u001b[1;33m)\u001b[0m\u001b[1;33m\u001b[0m\u001b[1;33m\u001b[0m\u001b[0m\n\u001b[0m\u001b[0;32m    829\u001b[0m                 \u001b[1;32mif\u001b[0m \u001b[0misinstance\u001b[0m\u001b[1;33m(\u001b[0m\u001b[0mresults\u001b[0m\u001b[1;33m[\u001b[0m\u001b[0mi\u001b[0m\u001b[1;33m]\u001b[0m\u001b[1;33m,\u001b[0m \u001b[0mABCSeries\u001b[0m\u001b[1;33m)\u001b[0m\u001b[1;33m:\u001b[0m\u001b[1;33m\u001b[0m\u001b[1;33m\u001b[0m\u001b[0m\n\u001b[0;32m    830\u001b[0m                     \u001b[1;31m# If we have a view on v, we need to make a copy because\u001b[0m\u001b[1;33m\u001b[0m\u001b[1;33m\u001b[0m\u001b[0m\n",
      "\u001b[1;32m~\\anaconda3\\lib\\site-packages\\pandas\\core\\tools\\numeric.py\u001b[0m in \u001b[0;36mto_numeric\u001b[1;34m(arg, errors, downcast)\u001b[0m\n\u001b[0;32m    181\u001b[0m         \u001b[0mcoerce_numeric\u001b[0m \u001b[1;33m=\u001b[0m \u001b[0merrors\u001b[0m \u001b[1;32mnot\u001b[0m \u001b[1;32min\u001b[0m \u001b[1;33m(\u001b[0m\u001b[1;34m\"ignore\"\u001b[0m\u001b[1;33m,\u001b[0m \u001b[1;34m\"raise\"\u001b[0m\u001b[1;33m)\u001b[0m\u001b[1;33m\u001b[0m\u001b[1;33m\u001b[0m\u001b[0m\n\u001b[0;32m    182\u001b[0m         \u001b[1;32mtry\u001b[0m\u001b[1;33m:\u001b[0m\u001b[1;33m\u001b[0m\u001b[1;33m\u001b[0m\u001b[0m\n\u001b[1;32m--> 183\u001b[1;33m             values, _ = lib.maybe_convert_numeric(\n\u001b[0m\u001b[0;32m    184\u001b[0m                 \u001b[0mvalues\u001b[0m\u001b[1;33m,\u001b[0m \u001b[0mset\u001b[0m\u001b[1;33m(\u001b[0m\u001b[1;33m)\u001b[0m\u001b[1;33m,\u001b[0m \u001b[0mcoerce_numeric\u001b[0m\u001b[1;33m=\u001b[0m\u001b[0mcoerce_numeric\u001b[0m\u001b[1;33m\u001b[0m\u001b[1;33m\u001b[0m\u001b[0m\n\u001b[0;32m    185\u001b[0m             )\n",
      "\u001b[1;32m~\\anaconda3\\lib\\site-packages\\pandas\\_libs\\lib.pyx\u001b[0m in \u001b[0;36mpandas._libs.lib.maybe_convert_numeric\u001b[1;34m()\u001b[0m\n",
      "\u001b[1;31mValueError\u001b[0m: Unable to parse string \"  10,175 \" at position 0"
     ]
    }
   ],
   "source": [
    "raw_df[[\"Streams\"]] = raw_df[[\"Streams\"]].apply(pd.to_numeric)"
   ]
  }
 ],
 "metadata": {
  "kernelspec": {
   "display_name": "Python 3 (ipykernel)",
   "language": "python",
   "name": "python3"
  },
  "language_info": {
   "codemirror_mode": {
    "name": "ipython",
    "version": 3
   },
   "file_extension": ".py",
   "mimetype": "text/x-python",
   "name": "python",
   "nbconvert_exporter": "python",
   "pygments_lexer": "ipython3",
   "version": "3.9.7"
  }
 },
 "nbformat": 4,
 "nbformat_minor": 5
}
