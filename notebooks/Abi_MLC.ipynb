{
 "cells": [
  {
   "cell_type": "code",
   "execution_count": 42,
   "id": "eefb9a6c",
   "metadata": {},
   "outputs": [],
   "source": [
    "import pandas as pd\n",
    "import numpy as np\n",
    "import matplotlib.pyplot as plt\n",
    "import seaborn as sns\n",
    "\n",
    "%matplotlib inline  "
   ]
  },
  {
   "cell_type": "code",
   "execution_count": 2,
   "id": "b872f389",
   "metadata": {},
   "outputs": [],
   "source": [
    "raw_df = pd.read_csv(\"../data/MLC_data_sample.csv\")"
   ]
  },
  {
   "cell_type": "code",
   "execution_count": 3,
   "id": "6a0e89f6",
   "metadata": {},
   "outputs": [
    {
     "name": "stdout",
     "output_type": "stream",
     "text": [
      "            If  Country Code Registrant Code  Year of Reference Usage Period  \\\n",
      "0  USUG12101043           US             UG1               21.0          NaN   \n",
      "1  USRC12100543           US             RC1               21.0          NaN   \n",
      "2  USSM12102263           US             SM1               21.0          NaN   \n",
      "3  USLD91731547           US             LD9               17.0     2/1/2021   \n",
      "4  USAT22007048           US             AT2               20.0          NaN   \n",
      "\n",
      "  Streaming Platform (DSP)     Streams        Recording Artist  \\\n",
      "0                AudioMack     10,175                   Future   \n",
      "1               SoundCloud      8,597                 LUCKY3RD   \n",
      "2               SoundCloud    261,280                 LUCKY3RD   \n",
      "3                   Trebel          5   Bachata & Merengue Mix   \n",
      "4                AudioMack     62,105                   Foolio   \n",
      "\n",
      "  Recording Label                            Recording Title  \\\n",
      "0             NaN   FUTURE FT DEJ LOAF HEY THERE PROD BY DDS   \n",
      "1        LUCKY3RD                     Keep It Cool  LUCKY3RD   \n",
      "2        LUCKY3RD                     Life Goes On  LUCKY3RD   \n",
      "3         Orchard     No dudes de mi- Merengue & Bachata Mix   \n",
      "4             NaN                       WHEN I SEE YOU REMIX   \n",
      "\n",
      "             Release Title  Recording Duration (Seconds)  \\\n",
      "0                #unknown#                           181   \n",
      "1   Keep It Cool  LUCKY3RD                           133   \n",
      "2   Life Goes On  LUCKY3RD                           171   \n",
      "3            Mega Mix 2010                          1250   \n",
      "4                #unknown#                           187   \n",
      "\n",
      "   Songwriter's Listed (1 = \"Yes\", 0 = \"No\")  \n",
      "0                                          0  \n",
      "1                                          0  \n",
      "2                                          0  \n",
      "3                                          0  \n",
      "4                                          0  \n"
     ]
    }
   ],
   "source": [
    "print(raw_df.head(5))"
   ]
  },
  {
   "cell_type": "code",
   "execution_count": 4,
   "id": "b7cccb8f",
   "metadata": {},
   "outputs": [
    {
     "name": "stdout",
     "output_type": "stream",
     "text": [
      "                If  Country Code Registrant Code  Year of Reference  \\\n",
      "99997  SE6HN1926755           SE             6HN               19.0   \n",
      "99998  SEYOK1669274           SE             YOK               16.0   \n",
      "99999  QZK6F2019397           QZ             K6F               20.0   \n",
      "\n",
      "      Usage Period Streaming Platform (DSP)    Streams Recording Artist  \\\n",
      "99997     3/1/2021                  Spotify    28,941              yama   \n",
      "99998     3/1/2021                    Apple     8,970              yama   \n",
      "99999     2/1/2021                  Spotify    11,245         Lexie Liu   \n",
      "\n",
      "              Recording Label Recording Title  Release Title  \\\n",
      "99997  Sony Music Labels Inc.              麻痺             麻痺   \n",
      "99998  Sony Music Labels Inc.              麻痺    麻痺 - Single   \n",
      "99999          泥鞋（北京）文化传媒有限公司   黑洞 Metropolis  无限意识 Meta Ego   \n",
      "\n",
      "       Recording Duration (Seconds)  Songwriter's Listed (1 = \"Yes\", 0 = \"No\")  \n",
      "99997                           199                                          1  \n",
      "99998                           198                                          1  \n",
      "99999                           259                                          1  \n"
     ]
    }
   ],
   "source": [
    "print(raw_df.tail(3))"
   ]
  },
  {
   "cell_type": "code",
   "execution_count": 5,
   "id": "88d6a291",
   "metadata": {},
   "outputs": [
    {
     "name": "stdout",
     "output_type": "stream",
     "text": [
      "<class 'pandas.core.frame.DataFrame'>\n",
      "RangeIndex: 100000 entries, 0 to 99999\n",
      "Data columns (total 13 columns):\n",
      " #   Column                                     Non-Null Count   Dtype  \n",
      "---  ------                                     --------------   -----  \n",
      " 0   If                                         98240 non-null   object \n",
      " 1   Country Code                               98303 non-null   object \n",
      " 2   Registrant Code                            98303 non-null   object \n",
      " 3   Year of Reference                          98239 non-null   float64\n",
      " 4   Usage Period                               91898 non-null   object \n",
      " 5   Streaming Platform (DSP)                   96001 non-null   object \n",
      " 6   Streams                                    100000 non-null  object \n",
      " 7   Recording Artist                           100000 non-null  object \n",
      " 8   Recording Label                            98992 non-null   object \n",
      " 9   Recording Title                            100000 non-null  object \n",
      " 10  Release Title                              99931 non-null   object \n",
      " 11  Recording Duration (Seconds)               100000 non-null  int64  \n",
      " 12  Songwriter's Listed (1 = \"Yes\", 0 = \"No\")  100000 non-null  int64  \n",
      "dtypes: float64(1), int64(2), object(10)\n",
      "memory usage: 9.9+ MB\n"
     ]
    }
   ],
   "source": [
    "raw_df.info()"
   ]
  },
  {
   "cell_type": "code",
   "execution_count": 6,
   "id": "c0148d17",
   "metadata": {
    "scrolled": true
   },
   "outputs": [],
   "source": [
    "raw_df.rename(columns = {'If' : 'ISRC'}, inplace = True)"
   ]
  },
  {
   "cell_type": "code",
   "execution_count": 7,
   "id": "9ffa859e",
   "metadata": {
    "scrolled": true
   },
   "outputs": [
    {
     "name": "stdout",
     "output_type": "stream",
     "text": [
      "            If  Country Code Registrant Code  Year of Reference Usage Period  \\\n",
      "0  USUG12101043           US             UG1               21.0          NaN   \n",
      "1  USRC12100543           US             RC1               21.0          NaN   \n",
      "2  USSM12102263           US             SM1               21.0          NaN   \n",
      "\n",
      "  Streaming Platform (DSP)     Streams Recording Artist Recording Label  \\\n",
      "0                AudioMack     10,175            Future             NaN   \n",
      "1               SoundCloud      8,597          LUCKY3RD        LUCKY3RD   \n",
      "2               SoundCloud    261,280          LUCKY3RD        LUCKY3RD   \n",
      "\n",
      "                             Recording Title            Release Title  \\\n",
      "0   FUTURE FT DEJ LOAF HEY THERE PROD BY DDS                #unknown#   \n",
      "1                     Keep It Cool  LUCKY3RD   Keep It Cool  LUCKY3RD   \n",
      "2                     Life Goes On  LUCKY3RD   Life Goes On  LUCKY3RD   \n",
      "\n",
      "   Recording Duration (Seconds)  Songwriter's Listed (1 = \"Yes\", 0 = \"No\")  \n",
      "0                           181                                          0  \n",
      "1                           133                                          0  \n",
      "2                           171                                          0  \n"
     ]
    }
   ],
   "source": [
    "print(raw_df.head(3))"
   ]
  },
  {
   "cell_type": "code",
   "execution_count": 8,
   "id": "e02be0c3",
   "metadata": {
    "scrolled": true
   },
   "outputs": [
    {
     "name": "stdout",
     "output_type": "stream",
     "text": [
      "<class 'pandas.core.frame.DataFrame'>\n",
      "RangeIndex: 100000 entries, 0 to 99999\n",
      "Data columns (total 13 columns):\n",
      " #   Column                                     Non-Null Count   Dtype  \n",
      "---  ------                                     --------------   -----  \n",
      " 0   If                                         98240 non-null   object \n",
      " 1   Country Code                               98303 non-null   object \n",
      " 2   Registrant Code                            98303 non-null   object \n",
      " 3   Year of Reference                          98239 non-null   float64\n",
      " 4   Usage Period                               91898 non-null   object \n",
      " 5   Streaming Platform (DSP)                   96001 non-null   object \n",
      " 6   Streams                                    100000 non-null  object \n",
      " 7   Recording Artist                           100000 non-null  object \n",
      " 8   Recording Label                            98992 non-null   object \n",
      " 9   Recording Title                            100000 non-null  object \n",
      " 10  Release Title                              99931 non-null   object \n",
      " 11  Recording Duration (Seconds)               100000 non-null  int64  \n",
      " 12  Songwriter's Listed (1 = \"Yes\", 0 = \"No\")  100000 non-null  int64  \n",
      "dtypes: float64(1), int64(2), object(10)\n",
      "memory usage: 9.9+ MB\n",
      "None\n"
     ]
    }
   ],
   "source": [
    "print(raw_df.info())"
   ]
  },
  {
   "cell_type": "markdown",
   "id": "02b0f80e",
   "metadata": {},
   "source": [
    "##### I have tried three different ways to rename columns... I have two more options that I've found, but I've decided to start leaving failed code... trust me, there were two other attempts prior that I deleted."
   ]
  },
  {
   "cell_type": "code",
   "execution_count": 9,
   "id": "132fbc33",
   "metadata": {},
   "outputs": [],
   "source": [
    "raw_df.columns = ['ISRC', 'Country', 'Registrant', 'Release_Year', 'Period', 'DSP', 'Streams', 'Artist', 'Label', 'Song', 'Album', 'Duration', 'Songwriter?']"
   ]
  },
  {
   "cell_type": "code",
   "execution_count": 10,
   "id": "ca20adb7",
   "metadata": {},
   "outputs": [
    {
     "name": "stdout",
     "output_type": "stream",
     "text": [
      "<class 'pandas.core.frame.DataFrame'>\n",
      "RangeIndex: 100000 entries, 0 to 99999\n",
      "Data columns (total 13 columns):\n",
      " #   Column        Non-Null Count   Dtype  \n",
      "---  ------        --------------   -----  \n",
      " 0   ISRC          98240 non-null   object \n",
      " 1   Country       98303 non-null   object \n",
      " 2   Registrant    98303 non-null   object \n",
      " 3   Release_Year  98239 non-null   float64\n",
      " 4   Period        91898 non-null   object \n",
      " 5   DSP           96001 non-null   object \n",
      " 6   Streams       100000 non-null  object \n",
      " 7   Artist        100000 non-null  object \n",
      " 8   Label         98992 non-null   object \n",
      " 9   Song          100000 non-null  object \n",
      " 10  Album         99931 non-null   object \n",
      " 11  Duration      100000 non-null  int64  \n",
      " 12  Songwriter?   100000 non-null  int64  \n",
      "dtypes: float64(1), int64(2), object(10)\n",
      "memory usage: 9.9+ MB\n",
      "None\n"
     ]
    }
   ],
   "source": [
    "print(raw_df.info())"
   ]
  },
  {
   "cell_type": "markdown",
   "id": "54ab4d54",
   "metadata": {},
   "source": [
    "##### it has come to my attention that the 'If' column has a space after it, so the title is actually 'If ' -- going to do a take-two just to check that my code would have worked if I had realized that beforehand. Please hold."
   ]
  },
  {
   "cell_type": "code",
   "execution_count": 11,
   "id": "ba592ea1",
   "metadata": {},
   "outputs": [],
   "source": [
    "take2 = pd.read_csv(\"../data/MLC_data_sample.csv\")"
   ]
  },
  {
   "cell_type": "code",
   "execution_count": 12,
   "id": "8778c3f0",
   "metadata": {},
   "outputs": [
    {
     "name": "stdout",
     "output_type": "stream",
     "text": [
      "<class 'pandas.core.frame.DataFrame'>\n",
      "RangeIndex: 100000 entries, 0 to 99999\n",
      "Data columns (total 13 columns):\n",
      " #   Column                                     Non-Null Count   Dtype  \n",
      "---  ------                                     --------------   -----  \n",
      " 0   If                                         98240 non-null   object \n",
      " 1   Country Code                               98303 non-null   object \n",
      " 2   Registrant Code                            98303 non-null   object \n",
      " 3   Year of Reference                          98239 non-null   float64\n",
      " 4   Usage Period                               91898 non-null   object \n",
      " 5   Streaming Platform (DSP)                   96001 non-null   object \n",
      " 6   Streams                                    100000 non-null  object \n",
      " 7   Recording Artist                           100000 non-null  object \n",
      " 8   Recording Label                            98992 non-null   object \n",
      " 9   Recording Title                            100000 non-null  object \n",
      " 10  Release Title                              99931 non-null   object \n",
      " 11  Recording Duration (Seconds)               100000 non-null  int64  \n",
      " 12  Songwriter's Listed (1 = \"Yes\", 0 = \"No\")  100000 non-null  int64  \n",
      "dtypes: float64(1), int64(2), object(10)\n",
      "memory usage: 9.9+ MB\n",
      "None\n"
     ]
    }
   ],
   "source": [
    "print(take2.info())"
   ]
  },
  {
   "cell_type": "code",
   "execution_count": 13,
   "id": "0cc0a750",
   "metadata": {},
   "outputs": [],
   "source": [
    "take2.rename(columns = {'If ' : 'ISRC'}, inplace = True)"
   ]
  },
  {
   "cell_type": "code",
   "execution_count": 14,
   "id": "5a250f2a",
   "metadata": {},
   "outputs": [
    {
     "name": "stdout",
     "output_type": "stream",
     "text": [
      "<class 'pandas.core.frame.DataFrame'>\n",
      "RangeIndex: 100000 entries, 0 to 99999\n",
      "Data columns (total 13 columns):\n",
      " #   Column                                     Non-Null Count   Dtype  \n",
      "---  ------                                     --------------   -----  \n",
      " 0   ISRC                                       98240 non-null   object \n",
      " 1   Country Code                               98303 non-null   object \n",
      " 2   Registrant Code                            98303 non-null   object \n",
      " 3   Year of Reference                          98239 non-null   float64\n",
      " 4   Usage Period                               91898 non-null   object \n",
      " 5   Streaming Platform (DSP)                   96001 non-null   object \n",
      " 6   Streams                                    100000 non-null  object \n",
      " 7   Recording Artist                           100000 non-null  object \n",
      " 8   Recording Label                            98992 non-null   object \n",
      " 9   Recording Title                            100000 non-null  object \n",
      " 10  Release Title                              99931 non-null   object \n",
      " 11  Recording Duration (Seconds)               100000 non-null  int64  \n",
      " 12  Songwriter's Listed (1 = \"Yes\", 0 = \"No\")  100000 non-null  int64  \n",
      "dtypes: float64(1), int64(2), object(10)\n",
      "memory usage: 9.9+ MB\n",
      "None\n"
     ]
    }
   ],
   "source": [
    "print(take2.info())"
   ]
  },
  {
   "cell_type": "markdown",
   "id": "c51ff4d7",
   "metadata": {},
   "source": [
    "##### well shoot. note to self, always run a trim function or something, haha. Onward!!! I like all my briefer columns anyway."
   ]
  },
  {
   "cell_type": "markdown",
   "id": "a56af0e2",
   "metadata": {},
   "source": [
    "##### now to change the Streams column to be a float or int"
   ]
  },
  {
   "cell_type": "code",
   "execution_count": 15,
   "id": "677d84e0",
   "metadata": {},
   "outputs": [
    {
     "ename": "AttributeError",
     "evalue": "'DataFrame' object has no attribute 'to_numeric'",
     "output_type": "error",
     "traceback": [
      "\u001b[1;31m---------------------------------------------------------------------------\u001b[0m",
      "\u001b[1;31mAttributeError\u001b[0m                            Traceback (most recent call last)",
      "\u001b[1;32m~\\AppData\\Local\\Temp/ipykernel_5924/3405227003.py\u001b[0m in \u001b[0;36m<module>\u001b[1;34m\u001b[0m\n\u001b[1;32m----> 1\u001b[1;33m \u001b[0mraw_df\u001b[0m\u001b[1;33m.\u001b[0m\u001b[0mto_numeric\u001b[0m\u001b[1;33m(\u001b[0m\u001b[1;34m'Streams'\u001b[0m\u001b[1;33m)\u001b[0m\u001b[1;33m\u001b[0m\u001b[1;33m\u001b[0m\u001b[0m\n\u001b[0m",
      "\u001b[1;32m~\\anaconda3\\lib\\site-packages\\pandas\\core\\generic.py\u001b[0m in \u001b[0;36m__getattr__\u001b[1;34m(self, name)\u001b[0m\n\u001b[0;32m   5485\u001b[0m         ):\n\u001b[0;32m   5486\u001b[0m             \u001b[1;32mreturn\u001b[0m \u001b[0mself\u001b[0m\u001b[1;33m[\u001b[0m\u001b[0mname\u001b[0m\u001b[1;33m]\u001b[0m\u001b[1;33m\u001b[0m\u001b[1;33m\u001b[0m\u001b[0m\n\u001b[1;32m-> 5487\u001b[1;33m         \u001b[1;32mreturn\u001b[0m \u001b[0mobject\u001b[0m\u001b[1;33m.\u001b[0m\u001b[0m__getattribute__\u001b[0m\u001b[1;33m(\u001b[0m\u001b[0mself\u001b[0m\u001b[1;33m,\u001b[0m \u001b[0mname\u001b[0m\u001b[1;33m)\u001b[0m\u001b[1;33m\u001b[0m\u001b[1;33m\u001b[0m\u001b[0m\n\u001b[0m\u001b[0;32m   5488\u001b[0m \u001b[1;33m\u001b[0m\u001b[0m\n\u001b[0;32m   5489\u001b[0m     \u001b[1;32mdef\u001b[0m \u001b[0m__setattr__\u001b[0m\u001b[1;33m(\u001b[0m\u001b[0mself\u001b[0m\u001b[1;33m,\u001b[0m \u001b[0mname\u001b[0m\u001b[1;33m:\u001b[0m \u001b[0mstr\u001b[0m\u001b[1;33m,\u001b[0m \u001b[0mvalue\u001b[0m\u001b[1;33m)\u001b[0m \u001b[1;33m->\u001b[0m \u001b[1;32mNone\u001b[0m\u001b[1;33m:\u001b[0m\u001b[1;33m\u001b[0m\u001b[1;33m\u001b[0m\u001b[0m\n",
      "\u001b[1;31mAttributeError\u001b[0m: 'DataFrame' object has no attribute 'to_numeric'"
     ]
    }
   ],
   "source": [
    "raw_df.to_numeric('Streams')"
   ]
  },
  {
   "cell_type": "markdown",
   "id": "b2acd163",
   "metadata": {},
   "source": [
    "##### throwing an error, I'm sure I'm misunderstanding the syntax. let's try .apply(pd.to_numeric)"
   ]
  },
  {
   "cell_type": "code",
   "execution_count": 16,
   "id": "d7715720",
   "metadata": {},
   "outputs": [
    {
     "ename": "ValueError",
     "evalue": "Unable to parse string \"  10,175 \" at position 0",
     "output_type": "error",
     "traceback": [
      "\u001b[1;31m---------------------------------------------------------------------------\u001b[0m",
      "\u001b[1;31mValueError\u001b[0m                                Traceback (most recent call last)",
      "\u001b[1;32m~\\anaconda3\\lib\\site-packages\\pandas\\_libs\\lib.pyx\u001b[0m in \u001b[0;36mpandas._libs.lib.maybe_convert_numeric\u001b[1;34m()\u001b[0m\n",
      "\u001b[1;31mValueError\u001b[0m: Unable to parse string \"  10,175 \"",
      "\nDuring handling of the above exception, another exception occurred:\n",
      "\u001b[1;31mValueError\u001b[0m                                Traceback (most recent call last)",
      "\u001b[1;32m~\\AppData\\Local\\Temp/ipykernel_5924/3344805437.py\u001b[0m in \u001b[0;36m<module>\u001b[1;34m\u001b[0m\n\u001b[1;32m----> 1\u001b[1;33m \u001b[0mraw_df\u001b[0m\u001b[1;33m[\u001b[0m\u001b[1;33m[\u001b[0m\u001b[1;34m\"Streams\"\u001b[0m\u001b[1;33m]\u001b[0m\u001b[1;33m]\u001b[0m \u001b[1;33m=\u001b[0m \u001b[0mraw_df\u001b[0m\u001b[1;33m[\u001b[0m\u001b[1;33m[\u001b[0m\u001b[1;34m\"Streams\"\u001b[0m\u001b[1;33m]\u001b[0m\u001b[1;33m]\u001b[0m\u001b[1;33m.\u001b[0m\u001b[0mapply\u001b[0m\u001b[1;33m(\u001b[0m\u001b[0mpd\u001b[0m\u001b[1;33m.\u001b[0m\u001b[0mto_numeric\u001b[0m\u001b[1;33m)\u001b[0m\u001b[1;33m\u001b[0m\u001b[1;33m\u001b[0m\u001b[0m\n\u001b[0m",
      "\u001b[1;32m~\\anaconda3\\lib\\site-packages\\pandas\\core\\frame.py\u001b[0m in \u001b[0;36mapply\u001b[1;34m(self, func, axis, raw, result_type, args, **kwargs)\u001b[0m\n\u001b[0;32m   8738\u001b[0m             \u001b[0mkwargs\u001b[0m\u001b[1;33m=\u001b[0m\u001b[0mkwargs\u001b[0m\u001b[1;33m,\u001b[0m\u001b[1;33m\u001b[0m\u001b[1;33m\u001b[0m\u001b[0m\n\u001b[0;32m   8739\u001b[0m         )\n\u001b[1;32m-> 8740\u001b[1;33m         \u001b[1;32mreturn\u001b[0m \u001b[0mop\u001b[0m\u001b[1;33m.\u001b[0m\u001b[0mapply\u001b[0m\u001b[1;33m(\u001b[0m\u001b[1;33m)\u001b[0m\u001b[1;33m\u001b[0m\u001b[1;33m\u001b[0m\u001b[0m\n\u001b[0m\u001b[0;32m   8741\u001b[0m \u001b[1;33m\u001b[0m\u001b[0m\n\u001b[0;32m   8742\u001b[0m     def applymap(\n",
      "\u001b[1;32m~\\anaconda3\\lib\\site-packages\\pandas\\core\\apply.py\u001b[0m in \u001b[0;36mapply\u001b[1;34m(self)\u001b[0m\n\u001b[0;32m    686\u001b[0m             \u001b[1;32mreturn\u001b[0m \u001b[0mself\u001b[0m\u001b[1;33m.\u001b[0m\u001b[0mapply_raw\u001b[0m\u001b[1;33m(\u001b[0m\u001b[1;33m)\u001b[0m\u001b[1;33m\u001b[0m\u001b[1;33m\u001b[0m\u001b[0m\n\u001b[0;32m    687\u001b[0m \u001b[1;33m\u001b[0m\u001b[0m\n\u001b[1;32m--> 688\u001b[1;33m         \u001b[1;32mreturn\u001b[0m \u001b[0mself\u001b[0m\u001b[1;33m.\u001b[0m\u001b[0mapply_standard\u001b[0m\u001b[1;33m(\u001b[0m\u001b[1;33m)\u001b[0m\u001b[1;33m\u001b[0m\u001b[1;33m\u001b[0m\u001b[0m\n\u001b[0m\u001b[0;32m    689\u001b[0m \u001b[1;33m\u001b[0m\u001b[0m\n\u001b[0;32m    690\u001b[0m     \u001b[1;32mdef\u001b[0m \u001b[0magg\u001b[0m\u001b[1;33m(\u001b[0m\u001b[0mself\u001b[0m\u001b[1;33m)\u001b[0m\u001b[1;33m:\u001b[0m\u001b[1;33m\u001b[0m\u001b[1;33m\u001b[0m\u001b[0m\n",
      "\u001b[1;32m~\\anaconda3\\lib\\site-packages\\pandas\\core\\apply.py\u001b[0m in \u001b[0;36mapply_standard\u001b[1;34m(self)\u001b[0m\n\u001b[0;32m    810\u001b[0m \u001b[1;33m\u001b[0m\u001b[0m\n\u001b[0;32m    811\u001b[0m     \u001b[1;32mdef\u001b[0m \u001b[0mapply_standard\u001b[0m\u001b[1;33m(\u001b[0m\u001b[0mself\u001b[0m\u001b[1;33m)\u001b[0m\u001b[1;33m:\u001b[0m\u001b[1;33m\u001b[0m\u001b[1;33m\u001b[0m\u001b[0m\n\u001b[1;32m--> 812\u001b[1;33m         \u001b[0mresults\u001b[0m\u001b[1;33m,\u001b[0m \u001b[0mres_index\u001b[0m \u001b[1;33m=\u001b[0m \u001b[0mself\u001b[0m\u001b[1;33m.\u001b[0m\u001b[0mapply_series_generator\u001b[0m\u001b[1;33m(\u001b[0m\u001b[1;33m)\u001b[0m\u001b[1;33m\u001b[0m\u001b[1;33m\u001b[0m\u001b[0m\n\u001b[0m\u001b[0;32m    813\u001b[0m \u001b[1;33m\u001b[0m\u001b[0m\n\u001b[0;32m    814\u001b[0m         \u001b[1;31m# wrap results\u001b[0m\u001b[1;33m\u001b[0m\u001b[1;33m\u001b[0m\u001b[0m\n",
      "\u001b[1;32m~\\anaconda3\\lib\\site-packages\\pandas\\core\\apply.py\u001b[0m in \u001b[0;36mapply_series_generator\u001b[1;34m(self)\u001b[0m\n\u001b[0;32m    826\u001b[0m             \u001b[1;32mfor\u001b[0m \u001b[0mi\u001b[0m\u001b[1;33m,\u001b[0m \u001b[0mv\u001b[0m \u001b[1;32min\u001b[0m \u001b[0menumerate\u001b[0m\u001b[1;33m(\u001b[0m\u001b[0mseries_gen\u001b[0m\u001b[1;33m)\u001b[0m\u001b[1;33m:\u001b[0m\u001b[1;33m\u001b[0m\u001b[1;33m\u001b[0m\u001b[0m\n\u001b[0;32m    827\u001b[0m                 \u001b[1;31m# ignore SettingWithCopy here in case the user mutates\u001b[0m\u001b[1;33m\u001b[0m\u001b[1;33m\u001b[0m\u001b[0m\n\u001b[1;32m--> 828\u001b[1;33m                 \u001b[0mresults\u001b[0m\u001b[1;33m[\u001b[0m\u001b[0mi\u001b[0m\u001b[1;33m]\u001b[0m \u001b[1;33m=\u001b[0m \u001b[0mself\u001b[0m\u001b[1;33m.\u001b[0m\u001b[0mf\u001b[0m\u001b[1;33m(\u001b[0m\u001b[0mv\u001b[0m\u001b[1;33m)\u001b[0m\u001b[1;33m\u001b[0m\u001b[1;33m\u001b[0m\u001b[0m\n\u001b[0m\u001b[0;32m    829\u001b[0m                 \u001b[1;32mif\u001b[0m \u001b[0misinstance\u001b[0m\u001b[1;33m(\u001b[0m\u001b[0mresults\u001b[0m\u001b[1;33m[\u001b[0m\u001b[0mi\u001b[0m\u001b[1;33m]\u001b[0m\u001b[1;33m,\u001b[0m \u001b[0mABCSeries\u001b[0m\u001b[1;33m)\u001b[0m\u001b[1;33m:\u001b[0m\u001b[1;33m\u001b[0m\u001b[1;33m\u001b[0m\u001b[0m\n\u001b[0;32m    830\u001b[0m                     \u001b[1;31m# If we have a view on v, we need to make a copy because\u001b[0m\u001b[1;33m\u001b[0m\u001b[1;33m\u001b[0m\u001b[0m\n",
      "\u001b[1;32m~\\anaconda3\\lib\\site-packages\\pandas\\core\\tools\\numeric.py\u001b[0m in \u001b[0;36mto_numeric\u001b[1;34m(arg, errors, downcast)\u001b[0m\n\u001b[0;32m    181\u001b[0m         \u001b[0mcoerce_numeric\u001b[0m \u001b[1;33m=\u001b[0m \u001b[0merrors\u001b[0m \u001b[1;32mnot\u001b[0m \u001b[1;32min\u001b[0m \u001b[1;33m(\u001b[0m\u001b[1;34m\"ignore\"\u001b[0m\u001b[1;33m,\u001b[0m \u001b[1;34m\"raise\"\u001b[0m\u001b[1;33m)\u001b[0m\u001b[1;33m\u001b[0m\u001b[1;33m\u001b[0m\u001b[0m\n\u001b[0;32m    182\u001b[0m         \u001b[1;32mtry\u001b[0m\u001b[1;33m:\u001b[0m\u001b[1;33m\u001b[0m\u001b[1;33m\u001b[0m\u001b[0m\n\u001b[1;32m--> 183\u001b[1;33m             values, _ = lib.maybe_convert_numeric(\n\u001b[0m\u001b[0;32m    184\u001b[0m                 \u001b[0mvalues\u001b[0m\u001b[1;33m,\u001b[0m \u001b[0mset\u001b[0m\u001b[1;33m(\u001b[0m\u001b[1;33m)\u001b[0m\u001b[1;33m,\u001b[0m \u001b[0mcoerce_numeric\u001b[0m\u001b[1;33m=\u001b[0m\u001b[0mcoerce_numeric\u001b[0m\u001b[1;33m\u001b[0m\u001b[1;33m\u001b[0m\u001b[0m\n\u001b[0;32m    185\u001b[0m             )\n",
      "\u001b[1;32m~\\anaconda3\\lib\\site-packages\\pandas\\_libs\\lib.pyx\u001b[0m in \u001b[0;36mpandas._libs.lib.maybe_convert_numeric\u001b[1;34m()\u001b[0m\n",
      "\u001b[1;31mValueError\u001b[0m: Unable to parse string \"  10,175 \" at position 0"
     ]
    }
   ],
   "source": [
    "raw_df[[\"Streams\"]] = raw_df[[\"Streams\"]].apply(pd.to_numeric)"
   ]
  },
  {
   "cell_type": "markdown",
   "id": "d2d0a7be",
   "metadata": {},
   "source": [
    "##### so there are leading and trailing spaces, and thousands-separator commas, in some of these values... I'm going to try something from https://www.datasciencemadesimple.com/strip-space-column-pandas-dataframe-leading-trailing-2/"
   ]
  },
  {
   "cell_type": "code",
   "execution_count": 17,
   "id": "580e81df",
   "metadata": {},
   "outputs": [],
   "source": [
    "raw_df[\"Streams\"] = raw_df[\"Streams\"].str.replace(\" \", \"\")"
   ]
  },
  {
   "cell_type": "code",
   "execution_count": 18,
   "id": "5166b307",
   "metadata": {},
   "outputs": [
    {
     "ename": "ValueError",
     "evalue": "Unable to parse string \"10,175\" at position 0",
     "output_type": "error",
     "traceback": [
      "\u001b[1;31m---------------------------------------------------------------------------\u001b[0m",
      "\u001b[1;31mValueError\u001b[0m                                Traceback (most recent call last)",
      "\u001b[1;32m~\\anaconda3\\lib\\site-packages\\pandas\\_libs\\lib.pyx\u001b[0m in \u001b[0;36mpandas._libs.lib.maybe_convert_numeric\u001b[1;34m()\u001b[0m\n",
      "\u001b[1;31mValueError\u001b[0m: Unable to parse string \"10,175\"",
      "\nDuring handling of the above exception, another exception occurred:\n",
      "\u001b[1;31mValueError\u001b[0m                                Traceback (most recent call last)",
      "\u001b[1;32m~\\AppData\\Local\\Temp/ipykernel_5924/3344805437.py\u001b[0m in \u001b[0;36m<module>\u001b[1;34m\u001b[0m\n\u001b[1;32m----> 1\u001b[1;33m \u001b[0mraw_df\u001b[0m\u001b[1;33m[\u001b[0m\u001b[1;33m[\u001b[0m\u001b[1;34m\"Streams\"\u001b[0m\u001b[1;33m]\u001b[0m\u001b[1;33m]\u001b[0m \u001b[1;33m=\u001b[0m \u001b[0mraw_df\u001b[0m\u001b[1;33m[\u001b[0m\u001b[1;33m[\u001b[0m\u001b[1;34m\"Streams\"\u001b[0m\u001b[1;33m]\u001b[0m\u001b[1;33m]\u001b[0m\u001b[1;33m.\u001b[0m\u001b[0mapply\u001b[0m\u001b[1;33m(\u001b[0m\u001b[0mpd\u001b[0m\u001b[1;33m.\u001b[0m\u001b[0mto_numeric\u001b[0m\u001b[1;33m)\u001b[0m\u001b[1;33m\u001b[0m\u001b[1;33m\u001b[0m\u001b[0m\n\u001b[0m",
      "\u001b[1;32m~\\anaconda3\\lib\\site-packages\\pandas\\core\\frame.py\u001b[0m in \u001b[0;36mapply\u001b[1;34m(self, func, axis, raw, result_type, args, **kwargs)\u001b[0m\n\u001b[0;32m   8738\u001b[0m             \u001b[0mkwargs\u001b[0m\u001b[1;33m=\u001b[0m\u001b[0mkwargs\u001b[0m\u001b[1;33m,\u001b[0m\u001b[1;33m\u001b[0m\u001b[1;33m\u001b[0m\u001b[0m\n\u001b[0;32m   8739\u001b[0m         )\n\u001b[1;32m-> 8740\u001b[1;33m         \u001b[1;32mreturn\u001b[0m \u001b[0mop\u001b[0m\u001b[1;33m.\u001b[0m\u001b[0mapply\u001b[0m\u001b[1;33m(\u001b[0m\u001b[1;33m)\u001b[0m\u001b[1;33m\u001b[0m\u001b[1;33m\u001b[0m\u001b[0m\n\u001b[0m\u001b[0;32m   8741\u001b[0m \u001b[1;33m\u001b[0m\u001b[0m\n\u001b[0;32m   8742\u001b[0m     def applymap(\n",
      "\u001b[1;32m~\\anaconda3\\lib\\site-packages\\pandas\\core\\apply.py\u001b[0m in \u001b[0;36mapply\u001b[1;34m(self)\u001b[0m\n\u001b[0;32m    686\u001b[0m             \u001b[1;32mreturn\u001b[0m \u001b[0mself\u001b[0m\u001b[1;33m.\u001b[0m\u001b[0mapply_raw\u001b[0m\u001b[1;33m(\u001b[0m\u001b[1;33m)\u001b[0m\u001b[1;33m\u001b[0m\u001b[1;33m\u001b[0m\u001b[0m\n\u001b[0;32m    687\u001b[0m \u001b[1;33m\u001b[0m\u001b[0m\n\u001b[1;32m--> 688\u001b[1;33m         \u001b[1;32mreturn\u001b[0m \u001b[0mself\u001b[0m\u001b[1;33m.\u001b[0m\u001b[0mapply_standard\u001b[0m\u001b[1;33m(\u001b[0m\u001b[1;33m)\u001b[0m\u001b[1;33m\u001b[0m\u001b[1;33m\u001b[0m\u001b[0m\n\u001b[0m\u001b[0;32m    689\u001b[0m \u001b[1;33m\u001b[0m\u001b[0m\n\u001b[0;32m    690\u001b[0m     \u001b[1;32mdef\u001b[0m \u001b[0magg\u001b[0m\u001b[1;33m(\u001b[0m\u001b[0mself\u001b[0m\u001b[1;33m)\u001b[0m\u001b[1;33m:\u001b[0m\u001b[1;33m\u001b[0m\u001b[1;33m\u001b[0m\u001b[0m\n",
      "\u001b[1;32m~\\anaconda3\\lib\\site-packages\\pandas\\core\\apply.py\u001b[0m in \u001b[0;36mapply_standard\u001b[1;34m(self)\u001b[0m\n\u001b[0;32m    810\u001b[0m \u001b[1;33m\u001b[0m\u001b[0m\n\u001b[0;32m    811\u001b[0m     \u001b[1;32mdef\u001b[0m \u001b[0mapply_standard\u001b[0m\u001b[1;33m(\u001b[0m\u001b[0mself\u001b[0m\u001b[1;33m)\u001b[0m\u001b[1;33m:\u001b[0m\u001b[1;33m\u001b[0m\u001b[1;33m\u001b[0m\u001b[0m\n\u001b[1;32m--> 812\u001b[1;33m         \u001b[0mresults\u001b[0m\u001b[1;33m,\u001b[0m \u001b[0mres_index\u001b[0m \u001b[1;33m=\u001b[0m \u001b[0mself\u001b[0m\u001b[1;33m.\u001b[0m\u001b[0mapply_series_generator\u001b[0m\u001b[1;33m(\u001b[0m\u001b[1;33m)\u001b[0m\u001b[1;33m\u001b[0m\u001b[1;33m\u001b[0m\u001b[0m\n\u001b[0m\u001b[0;32m    813\u001b[0m \u001b[1;33m\u001b[0m\u001b[0m\n\u001b[0;32m    814\u001b[0m         \u001b[1;31m# wrap results\u001b[0m\u001b[1;33m\u001b[0m\u001b[1;33m\u001b[0m\u001b[0m\n",
      "\u001b[1;32m~\\anaconda3\\lib\\site-packages\\pandas\\core\\apply.py\u001b[0m in \u001b[0;36mapply_series_generator\u001b[1;34m(self)\u001b[0m\n\u001b[0;32m    826\u001b[0m             \u001b[1;32mfor\u001b[0m \u001b[0mi\u001b[0m\u001b[1;33m,\u001b[0m \u001b[0mv\u001b[0m \u001b[1;32min\u001b[0m \u001b[0menumerate\u001b[0m\u001b[1;33m(\u001b[0m\u001b[0mseries_gen\u001b[0m\u001b[1;33m)\u001b[0m\u001b[1;33m:\u001b[0m\u001b[1;33m\u001b[0m\u001b[1;33m\u001b[0m\u001b[0m\n\u001b[0;32m    827\u001b[0m                 \u001b[1;31m# ignore SettingWithCopy here in case the user mutates\u001b[0m\u001b[1;33m\u001b[0m\u001b[1;33m\u001b[0m\u001b[0m\n\u001b[1;32m--> 828\u001b[1;33m                 \u001b[0mresults\u001b[0m\u001b[1;33m[\u001b[0m\u001b[0mi\u001b[0m\u001b[1;33m]\u001b[0m \u001b[1;33m=\u001b[0m \u001b[0mself\u001b[0m\u001b[1;33m.\u001b[0m\u001b[0mf\u001b[0m\u001b[1;33m(\u001b[0m\u001b[0mv\u001b[0m\u001b[1;33m)\u001b[0m\u001b[1;33m\u001b[0m\u001b[1;33m\u001b[0m\u001b[0m\n\u001b[0m\u001b[0;32m    829\u001b[0m                 \u001b[1;32mif\u001b[0m \u001b[0misinstance\u001b[0m\u001b[1;33m(\u001b[0m\u001b[0mresults\u001b[0m\u001b[1;33m[\u001b[0m\u001b[0mi\u001b[0m\u001b[1;33m]\u001b[0m\u001b[1;33m,\u001b[0m \u001b[0mABCSeries\u001b[0m\u001b[1;33m)\u001b[0m\u001b[1;33m:\u001b[0m\u001b[1;33m\u001b[0m\u001b[1;33m\u001b[0m\u001b[0m\n\u001b[0;32m    830\u001b[0m                     \u001b[1;31m# If we have a view on v, we need to make a copy because\u001b[0m\u001b[1;33m\u001b[0m\u001b[1;33m\u001b[0m\u001b[0m\n",
      "\u001b[1;32m~\\anaconda3\\lib\\site-packages\\pandas\\core\\tools\\numeric.py\u001b[0m in \u001b[0;36mto_numeric\u001b[1;34m(arg, errors, downcast)\u001b[0m\n\u001b[0;32m    181\u001b[0m         \u001b[0mcoerce_numeric\u001b[0m \u001b[1;33m=\u001b[0m \u001b[0merrors\u001b[0m \u001b[1;32mnot\u001b[0m \u001b[1;32min\u001b[0m \u001b[1;33m(\u001b[0m\u001b[1;34m\"ignore\"\u001b[0m\u001b[1;33m,\u001b[0m \u001b[1;34m\"raise\"\u001b[0m\u001b[1;33m)\u001b[0m\u001b[1;33m\u001b[0m\u001b[1;33m\u001b[0m\u001b[0m\n\u001b[0;32m    182\u001b[0m         \u001b[1;32mtry\u001b[0m\u001b[1;33m:\u001b[0m\u001b[1;33m\u001b[0m\u001b[1;33m\u001b[0m\u001b[0m\n\u001b[1;32m--> 183\u001b[1;33m             values, _ = lib.maybe_convert_numeric(\n\u001b[0m\u001b[0;32m    184\u001b[0m                 \u001b[0mvalues\u001b[0m\u001b[1;33m,\u001b[0m \u001b[0mset\u001b[0m\u001b[1;33m(\u001b[0m\u001b[1;33m)\u001b[0m\u001b[1;33m,\u001b[0m \u001b[0mcoerce_numeric\u001b[0m\u001b[1;33m=\u001b[0m\u001b[0mcoerce_numeric\u001b[0m\u001b[1;33m\u001b[0m\u001b[1;33m\u001b[0m\u001b[0m\n\u001b[0;32m    185\u001b[0m             )\n",
      "\u001b[1;32m~\\anaconda3\\lib\\site-packages\\pandas\\_libs\\lib.pyx\u001b[0m in \u001b[0;36mpandas._libs.lib.maybe_convert_numeric\u001b[1;34m()\u001b[0m\n",
      "\u001b[1;31mValueError\u001b[0m: Unable to parse string \"10,175\" at position 0"
     ]
    }
   ],
   "source": [
    "raw_df[[\"Streams\"]] = raw_df[[\"Streams\"]].apply(pd.to_numeric)"
   ]
  },
  {
   "cell_type": "code",
   "execution_count": 19,
   "id": "91fadb87",
   "metadata": {},
   "outputs": [],
   "source": [
    "raw_df[\"Streams\"] = raw_df[\"Streams\"].str.replace(\",\", \"\")"
   ]
  },
  {
   "cell_type": "code",
   "execution_count": 20,
   "id": "24e4da29",
   "metadata": {},
   "outputs": [],
   "source": [
    "raw_df[[\"Streams\"]] = raw_df[[\"Streams\"]].apply(pd.to_numeric)"
   ]
  },
  {
   "cell_type": "code",
   "execution_count": 21,
   "id": "3c2ae93c",
   "metadata": {},
   "outputs": [
    {
     "name": "stdout",
     "output_type": "stream",
     "text": [
      "<class 'pandas.core.frame.DataFrame'>\n",
      "RangeIndex: 100000 entries, 0 to 99999\n",
      "Data columns (total 13 columns):\n",
      " #   Column        Non-Null Count   Dtype  \n",
      "---  ------        --------------   -----  \n",
      " 0   ISRC          98240 non-null   object \n",
      " 1   Country       98303 non-null   object \n",
      " 2   Registrant    98303 non-null   object \n",
      " 3   Release_Year  98239 non-null   float64\n",
      " 4   Period        91898 non-null   object \n",
      " 5   DSP           96001 non-null   object \n",
      " 6   Streams       100000 non-null  int64  \n",
      " 7   Artist        100000 non-null  object \n",
      " 8   Label         98992 non-null   object \n",
      " 9   Song          100000 non-null  object \n",
      " 10  Album         99931 non-null   object \n",
      " 11  Duration      100000 non-null  int64  \n",
      " 12  Songwriter?   100000 non-null  int64  \n",
      "dtypes: float64(1), int64(3), object(9)\n",
      "memory usage: 9.9+ MB\n"
     ]
    }
   ],
   "source": [
    "raw_df.info()"
   ]
  },
  {
   "cell_type": "code",
   "execution_count": 22,
   "id": "205952b5",
   "metadata": {},
   "outputs": [
    {
     "name": "stdout",
     "output_type": "stream",
     "text": [
      "           ISRC Country Registrant  Release_Year Period         DSP  Streams  \\\n",
      "0  USUG12101043      US        UG1          21.0    NaN   AudioMack    10175   \n",
      "1  USRC12100543      US        RC1          21.0    NaN  SoundCloud     8597   \n",
      "2  USSM12102263      US        SM1          21.0    NaN  SoundCloud   261280   \n",
      "\n",
      "     Artist     Label                                       Song  \\\n",
      "0    Future       NaN   FUTURE FT DEJ LOAF HEY THERE PROD BY DDS   \n",
      "1  LUCKY3RD  LUCKY3RD                     Keep It Cool  LUCKY3RD   \n",
      "2  LUCKY3RD  LUCKY3RD                     Life Goes On  LUCKY3RD   \n",
      "\n",
      "                     Album  Duration  Songwriter?  \n",
      "0                #unknown#       181            0  \n",
      "1   Keep It Cool  LUCKY3RD       133            0  \n",
      "2   Life Goes On  LUCKY3RD       171            0  \n"
     ]
    }
   ],
   "source": [
    "print(raw_df.head(3))"
   ]
  },
  {
   "cell_type": "code",
   "execution_count": 23,
   "id": "af152af9",
   "metadata": {},
   "outputs": [],
   "source": [
    "clean = raw_df"
   ]
  },
  {
   "cell_type": "code",
   "execution_count": 24,
   "id": "903ae633",
   "metadata": {},
   "outputs": [
    {
     "name": "stdout",
     "output_type": "stream",
     "text": [
      "           ISRC Country Registrant  Release_Year Period         DSP  Streams  \\\n",
      "0  USUG12101043      US        UG1          21.0    NaN   AudioMack    10175   \n",
      "1  USRC12100543      US        RC1          21.0    NaN  SoundCloud     8597   \n",
      "2  USSM12102263      US        SM1          21.0    NaN  SoundCloud   261280   \n",
      "\n",
      "     Artist     Label                                       Song  \\\n",
      "0    Future       NaN   FUTURE FT DEJ LOAF HEY THERE PROD BY DDS   \n",
      "1  LUCKY3RD  LUCKY3RD                     Keep It Cool  LUCKY3RD   \n",
      "2  LUCKY3RD  LUCKY3RD                     Life Goes On  LUCKY3RD   \n",
      "\n",
      "                     Album  Duration  Songwriter?  \n",
      "0                #unknown#       181            0  \n",
      "1   Keep It Cool  LUCKY3RD       133            0  \n",
      "2   Life Goes On  LUCKY3RD       171            0  \n"
     ]
    }
   ],
   "source": [
    "print(clean.head(3))"
   ]
  },
  {
   "cell_type": "code",
   "execution_count": 25,
   "id": "30608477",
   "metadata": {},
   "outputs": [
    {
     "data": {
      "text/plain": [
       "ISRC            1760\n",
       "Country         1697\n",
       "Registrant      1697\n",
       "Release_Year    1761\n",
       "Period          8102\n",
       "DSP             3999\n",
       "Streams            0\n",
       "Artist             0\n",
       "Label           1008\n",
       "Song               0\n",
       "Album             69\n",
       "Duration           0\n",
       "Songwriter?        0\n",
       "dtype: int64"
      ]
     },
     "execution_count": 25,
     "metadata": {},
     "output_type": "execute_result"
    }
   ],
   "source": [
    "clean.isnull().sum()"
   ]
  },
  {
   "cell_type": "code",
   "execution_count": 26,
   "id": "084c693b",
   "metadata": {},
   "outputs": [
    {
     "data": {
      "text/plain": [
       "20.0    31143\n",
       "21.0    13510\n",
       "19.0    11577\n",
       "18.0     8556\n",
       "17.0     6025\n",
       "        ...  \n",
       "44.0        2\n",
       "50.0        1\n",
       "48.0        1\n",
       "49.0        1\n",
       "40.0        1\n",
       "Name: Release_Year, Length: 95, dtype: int64"
      ]
     },
     "execution_count": 26,
     "metadata": {},
     "output_type": "execute_result"
    }
   ],
   "source": [
    "clean.Release_Year.value_counts()"
   ]
  },
  {
   "cell_type": "code",
   "execution_count": 27,
   "id": "f9024cda",
   "metadata": {},
   "outputs": [
    {
     "data": {
      "text/plain": [
       "Spotify               32268\n",
       "Apple                 22200\n",
       "Amazon                14438\n",
       "Pandora               13777\n",
       "Tidal                  3521\n",
       "YouTube                2752\n",
       "SoundCloud             2122\n",
       "GTL                    1090\n",
       "Melodyv                 829\n",
       "Trebel                  817\n",
       "iHeart Radio            707\n",
       "AudioMack               550\n",
       "NugsNet                 316\n",
       "LiveXLive               200\n",
       "Qoboz                   104\n",
       "Midwest Tape            102\n",
       "Deezer                   51\n",
       "Anghami                  46\n",
       "Sonos                    23\n",
       "Recisio                  22\n",
       "Smithsonian              21\n",
       "Ultimate Guitar          19\n",
       "PowerMusic                8\n",
       "Wolfgangs                 4\n",
       "Fan Label                 4\n",
       "MixCloud                  4\n",
       "Pacemaker                 3\n",
       "Classical Archives        2\n",
       "MonkingMe                 1\n",
       "Name: DSP, dtype: int64"
      ]
     },
     "execution_count": 27,
     "metadata": {},
     "output_type": "execute_result"
    }
   ],
   "source": [
    "clean.DSP.value_counts()"
   ]
  },
  {
   "cell_type": "code",
   "execution_count": 28,
   "id": "78f57384",
   "metadata": {},
   "outputs": [
    {
     "data": {
      "text/plain": [
       "Various artists                                                                                   967\n",
       "Lil Durk                                                                                          446\n",
       "Zach Bryan                                                                                        394\n",
       "Youngboy Never Broke Again                                                                        335\n",
       "Taylor Swift                                                                                      313\n",
       "                                                                                                 ... \n",
       "Mr. Rock Ski,Madam T                                                                                1\n",
       "Rauw Alejandro, Myke Towers, Jay Wheeler                                                            1\n",
       "Jay Wheeler, Myke Towers & DJ Nelson (feat. Jhay Cortez, Lunay, Rauw Alejandro & Kendo Kaponi)      1\n",
       "Jay Wheeler, Myke Towers & Becky G                                                                  1\n",
       "Loud Bunch Kids                                                                                     1\n",
       "Name: Artist, Length: 21149, dtype: int64"
      ]
     },
     "execution_count": 28,
     "metadata": {},
     "output_type": "execute_result"
    }
   ],
   "source": [
    "clean.Artist.value_counts()"
   ]
  },
  {
   "cell_type": "code",
   "execution_count": 29,
   "id": "2ca87d3f",
   "metadata": {},
   "outputs": [
    {
     "data": {
      "text/plain": [
       "Atlantic Records                      1384\n",
       "Lofi Records                          1232\n",
       "Warner Records                         995\n",
       "Columbia                               843\n",
       "Universal                              818\n",
       "                                      ... \n",
       "Twenty7 Records / Human Re Sources       1\n",
       "Hip-O Select / Motown                    1\n",
       "NyxTheShield                             1\n",
       "Relaxing Sounds For Studying             1\n",
       "Universal Music Taiwan                   1\n",
       "Name: Label, Length: 11778, dtype: int64"
      ]
     },
     "execution_count": 29,
     "metadata": {},
     "output_type": "execute_result"
    }
   ],
   "source": [
    "clean.Label.value_counts()"
   ]
  },
  {
   "cell_type": "code",
   "execution_count": 30,
   "id": "3a446e69",
   "metadata": {},
   "outputs": [
    {
     "data": {
      "text/plain": [
       "1    54161\n",
       "0    45839\n",
       "Name: Songwriter?, dtype: int64"
      ]
     },
     "execution_count": 30,
     "metadata": {},
     "output_type": "execute_result"
    }
   ],
   "source": [
    "clean['Songwriter?'].value_counts()"
   ]
  },
  {
   "cell_type": "code",
   "execution_count": 31,
   "id": "4aec267c",
   "metadata": {},
   "outputs": [
    {
     "data": {
      "text/plain": [
       "95"
      ]
     },
     "execution_count": 31,
     "metadata": {},
     "output_type": "execute_result"
    }
   ],
   "source": [
    "clean.Release_Year.nunique()"
   ]
  },
  {
   "cell_type": "code",
   "execution_count": 32,
   "id": "4e0d9ade",
   "metadata": {},
   "outputs": [
    {
     "data": {
      "text/plain": [
       "29"
      ]
     },
     "execution_count": 32,
     "metadata": {},
     "output_type": "execute_result"
    }
   ],
   "source": [
    "clean.DSP.nunique()"
   ]
  },
  {
   "cell_type": "code",
   "execution_count": 33,
   "id": "1cc52ce5",
   "metadata": {},
   "outputs": [
    {
     "data": {
      "text/plain": [
       "21149"
      ]
     },
     "execution_count": 33,
     "metadata": {},
     "output_type": "execute_result"
    }
   ],
   "source": [
    "clean.Artist.nunique()"
   ]
  },
  {
   "cell_type": "code",
   "execution_count": 34,
   "id": "537b0058",
   "metadata": {},
   "outputs": [
    {
     "data": {
      "text/plain": [
       "11778"
      ]
     },
     "execution_count": 34,
     "metadata": {},
     "output_type": "execute_result"
    }
   ],
   "source": [
    "clean.Label.nunique()"
   ]
  },
  {
   "cell_type": "code",
   "execution_count": 35,
   "id": "fa40f6f3",
   "metadata": {},
   "outputs": [
    {
     "data": {
      "text/html": [
       "<div>\n",
       "<style scoped>\n",
       "    .dataframe tbody tr th:only-of-type {\n",
       "        vertical-align: middle;\n",
       "    }\n",
       "\n",
       "    .dataframe tbody tr th {\n",
       "        vertical-align: top;\n",
       "    }\n",
       "\n",
       "    .dataframe thead th {\n",
       "        text-align: right;\n",
       "    }\n",
       "</style>\n",
       "<table border=\"1\" class=\"dataframe\">\n",
       "  <thead>\n",
       "    <tr style=\"text-align: right;\">\n",
       "      <th></th>\n",
       "      <th>Release_Year</th>\n",
       "      <th>Streams</th>\n",
       "      <th>Duration</th>\n",
       "      <th>Songwriter?</th>\n",
       "    </tr>\n",
       "  </thead>\n",
       "  <tbody>\n",
       "    <tr>\n",
       "      <th>count</th>\n",
       "      <td>98239.000000</td>\n",
       "      <td>1.000000e+05</td>\n",
       "      <td>100000.000000</td>\n",
       "      <td>100000.000000</td>\n",
       "    </tr>\n",
       "    <tr>\n",
       "      <th>mean</th>\n",
       "      <td>19.671933</td>\n",
       "      <td>5.626550e+04</td>\n",
       "      <td>1016.893690</td>\n",
       "      <td>0.541610</td>\n",
       "    </tr>\n",
       "    <tr>\n",
       "      <th>std</th>\n",
       "      <td>12.638870</td>\n",
       "      <td>2.620276e+05</td>\n",
       "      <td>15565.692133</td>\n",
       "      <td>0.498268</td>\n",
       "    </tr>\n",
       "    <tr>\n",
       "      <th>min</th>\n",
       "      <td>0.000000</td>\n",
       "      <td>1.000000e+00</td>\n",
       "      <td>0.000000</td>\n",
       "      <td>0.000000</td>\n",
       "    </tr>\n",
       "    <tr>\n",
       "      <th>25%</th>\n",
       "      <td>17.000000</td>\n",
       "      <td>6.807000e+03</td>\n",
       "      <td>149.000000</td>\n",
       "      <td>0.000000</td>\n",
       "    </tr>\n",
       "    <tr>\n",
       "      <th>50%</th>\n",
       "      <td>19.000000</td>\n",
       "      <td>1.677250e+04</td>\n",
       "      <td>190.000000</td>\n",
       "      <td>1.000000</td>\n",
       "    </tr>\n",
       "    <tr>\n",
       "      <th>75%</th>\n",
       "      <td>20.000000</td>\n",
       "      <td>3.990300e+04</td>\n",
       "      <td>236.000000</td>\n",
       "      <td>1.000000</td>\n",
       "    </tr>\n",
       "    <tr>\n",
       "      <th>max</th>\n",
       "      <td>99.000000</td>\n",
       "      <td>2.145617e+07</td>\n",
       "      <td>818738.000000</td>\n",
       "      <td>1.000000</td>\n",
       "    </tr>\n",
       "  </tbody>\n",
       "</table>\n",
       "</div>"
      ],
      "text/plain": [
       "       Release_Year       Streams       Duration    Songwriter?\n",
       "count  98239.000000  1.000000e+05  100000.000000  100000.000000\n",
       "mean      19.671933  5.626550e+04    1016.893690       0.541610\n",
       "std       12.638870  2.620276e+05   15565.692133       0.498268\n",
       "min        0.000000  1.000000e+00       0.000000       0.000000\n",
       "25%       17.000000  6.807000e+03     149.000000       0.000000\n",
       "50%       19.000000  1.677250e+04     190.000000       1.000000\n",
       "75%       20.000000  3.990300e+04     236.000000       1.000000\n",
       "max       99.000000  2.145617e+07  818738.000000       1.000000"
      ]
     },
     "execution_count": 35,
     "metadata": {},
     "output_type": "execute_result"
    }
   ],
   "source": [
    "clean.describe()"
   ]
  },
  {
   "cell_type": "code",
   "execution_count": 38,
   "id": "c1da8ea8",
   "metadata": {},
   "outputs": [
    {
     "data": {
      "text/html": [
       "<div>\n",
       "<style scoped>\n",
       "    .dataframe tbody tr th:only-of-type {\n",
       "        vertical-align: middle;\n",
       "    }\n",
       "\n",
       "    .dataframe tbody tr th {\n",
       "        vertical-align: top;\n",
       "    }\n",
       "\n",
       "    .dataframe thead th {\n",
       "        text-align: right;\n",
       "    }\n",
       "</style>\n",
       "<table border=\"1\" class=\"dataframe\">\n",
       "  <thead>\n",
       "    <tr style=\"text-align: right;\">\n",
       "      <th></th>\n",
       "      <th>ISRC</th>\n",
       "      <th>Country</th>\n",
       "      <th>Registrant</th>\n",
       "      <th>Release_Year</th>\n",
       "      <th>Period</th>\n",
       "      <th>DSP</th>\n",
       "      <th>Streams</th>\n",
       "      <th>Artist</th>\n",
       "      <th>Label</th>\n",
       "      <th>Song</th>\n",
       "      <th>Album</th>\n",
       "      <th>Duration</th>\n",
       "      <th>Songwriter?</th>\n",
       "    </tr>\n",
       "  </thead>\n",
       "  <tbody>\n",
       "    <tr>\n",
       "      <th>199</th>\n",
       "      <td>USAT22100906</td>\n",
       "      <td>US</td>\n",
       "      <td>AT2</td>\n",
       "      <td>21.0</td>\n",
       "      <td>3/1/2021</td>\n",
       "      <td>GTL</td>\n",
       "      <td>1</td>\n",
       "      <td>Pedro Del Mar</td>\n",
       "      <td>#trancefamily</td>\n",
       "      <td>#trancefamily Presents The Beauty Of Vocal Tra...</td>\n",
       "      <td>#trancefamily Presents The Beauty Of Vocal Trance</td>\n",
       "      <td>5100</td>\n",
       "      <td>0</td>\n",
       "    </tr>\n",
       "    <tr>\n",
       "      <th>277</th>\n",
       "      <td>KRA302100105</td>\n",
       "      <td>KR</td>\n",
       "      <td>A30</td>\n",
       "      <td>21.0</td>\n",
       "      <td>3/1/2021</td>\n",
       "      <td>GTL</td>\n",
       "      <td>1</td>\n",
       "      <td>Earl Nightingale</td>\n",
       "      <td>Earl Nightingale</td>\n",
       "      <td>02 - Courage And Self - Esteem</td>\n",
       "      <td>Essence Of Success</td>\n",
       "      <td>5707</td>\n",
       "      <td>0</td>\n",
       "    </tr>\n",
       "    <tr>\n",
       "      <th>283</th>\n",
       "      <td>USQX92005133</td>\n",
       "      <td>US</td>\n",
       "      <td>QX9</td>\n",
       "      <td>20.0</td>\n",
       "      <td>3/1/2021</td>\n",
       "      <td>GTL</td>\n",
       "      <td>1</td>\n",
       "      <td>Earl Nightingale</td>\n",
       "      <td>Earl Nightingale</td>\n",
       "      <td>05 - Personal Growth</td>\n",
       "      <td>Essence Of Success</td>\n",
       "      <td>4604</td>\n",
       "      <td>0</td>\n",
       "    </tr>\n",
       "    <tr>\n",
       "      <th>284</th>\n",
       "      <td>QZDQH1808878</td>\n",
       "      <td>QZ</td>\n",
       "      <td>DQH</td>\n",
       "      <td>18.0</td>\n",
       "      <td>3/1/2021</td>\n",
       "      <td>GTL</td>\n",
       "      <td>1</td>\n",
       "      <td>Earl Nightingale</td>\n",
       "      <td>Earl Nightingale</td>\n",
       "      <td>05 - Personal Growth</td>\n",
       "      <td>Essence Of Success</td>\n",
       "      <td>4604</td>\n",
       "      <td>0</td>\n",
       "    </tr>\n",
       "    <tr>\n",
       "      <th>285</th>\n",
       "      <td>USUG12004797</td>\n",
       "      <td>US</td>\n",
       "      <td>UG1</td>\n",
       "      <td>20.0</td>\n",
       "      <td>3/1/2021</td>\n",
       "      <td>GTL</td>\n",
       "      <td>1</td>\n",
       "      <td>Earl Nightingale</td>\n",
       "      <td>Earl Nightingale</td>\n",
       "      <td>06 - Interpersonal Communication And Relations...</td>\n",
       "      <td>Essence Of Success</td>\n",
       "      <td>5150</td>\n",
       "      <td>0</td>\n",
       "    </tr>\n",
       "    <tr>\n",
       "      <th>...</th>\n",
       "      <td>...</td>\n",
       "      <td>...</td>\n",
       "      <td>...</td>\n",
       "      <td>...</td>\n",
       "      <td>...</td>\n",
       "      <td>...</td>\n",
       "      <td>...</td>\n",
       "      <td>...</td>\n",
       "      <td>...</td>\n",
       "      <td>...</td>\n",
       "      <td>...</td>\n",
       "      <td>...</td>\n",
       "      <td>...</td>\n",
       "    </tr>\n",
       "    <tr>\n",
       "      <th>98476</th>\n",
       "      <td>QZES52166183</td>\n",
       "      <td>QZ</td>\n",
       "      <td>ES5</td>\n",
       "      <td>21.0</td>\n",
       "      <td>3/1/2021</td>\n",
       "      <td>GTL</td>\n",
       "      <td>1</td>\n",
       "      <td>Eric Thomas</td>\n",
       "      <td>ETARecords</td>\n",
       "      <td>You Whine We Grind</td>\n",
       "      <td>The Success Series Season 2</td>\n",
       "      <td>3968</td>\n",
       "      <td>0</td>\n",
       "    </tr>\n",
       "    <tr>\n",
       "      <th>98477</th>\n",
       "      <td>TCAEL1973167</td>\n",
       "      <td>TC</td>\n",
       "      <td>AEL</td>\n",
       "      <td>19.0</td>\n",
       "      <td>3/1/2021</td>\n",
       "      <td>GTL</td>\n",
       "      <td>1</td>\n",
       "      <td>Eric Thomas</td>\n",
       "      <td>ETARecords</td>\n",
       "      <td>You Whine We Grind</td>\n",
       "      <td>The Success Series Season 2</td>\n",
       "      <td>3968</td>\n",
       "      <td>0</td>\n",
       "    </tr>\n",
       "    <tr>\n",
       "      <th>98478</th>\n",
       "      <td>QZES91874867</td>\n",
       "      <td>QZ</td>\n",
       "      <td>ES9</td>\n",
       "      <td>18.0</td>\n",
       "      <td>3/1/2021</td>\n",
       "      <td>GTL</td>\n",
       "      <td>1</td>\n",
       "      <td>Eric Thomas</td>\n",
       "      <td>ETARecords</td>\n",
       "      <td>You Whine We Grind</td>\n",
       "      <td>The Success Series Season 2</td>\n",
       "      <td>3968</td>\n",
       "      <td>0</td>\n",
       "    </tr>\n",
       "    <tr>\n",
       "      <th>98759</th>\n",
       "      <td>TCAEU2021879</td>\n",
       "      <td>TC</td>\n",
       "      <td>AEU</td>\n",
       "      <td>20.0</td>\n",
       "      <td>3/1/2021</td>\n",
       "      <td>GTL</td>\n",
       "      <td>1</td>\n",
       "      <td>Mufti Ismail Menk</td>\n",
       "      <td>Mufti Ismail Menk</td>\n",
       "      <td>Your Journey Begins Now</td>\n",
       "      <td>Seeds Of Guidance</td>\n",
       "      <td>3460</td>\n",
       "      <td>0</td>\n",
       "    </tr>\n",
       "    <tr>\n",
       "      <th>98760</th>\n",
       "      <td>QZFZ41971442</td>\n",
       "      <td>QZ</td>\n",
       "      <td>FZ4</td>\n",
       "      <td>19.0</td>\n",
       "      <td>3/1/2021</td>\n",
       "      <td>GTL</td>\n",
       "      <td>1</td>\n",
       "      <td>Mufti Ismail Menk</td>\n",
       "      <td>Mufti Ismail Menk</td>\n",
       "      <td>Your Journey Begins Now</td>\n",
       "      <td>Seeds Of Guidance</td>\n",
       "      <td>3460</td>\n",
       "      <td>0</td>\n",
       "    </tr>\n",
       "  </tbody>\n",
       "</table>\n",
       "<p>901 rows × 13 columns</p>\n",
       "</div>"
      ],
      "text/plain": [
       "               ISRC Country Registrant  Release_Year    Period  DSP  Streams  \\\n",
       "199    USAT22100906      US        AT2          21.0  3/1/2021  GTL        1   \n",
       "277    KRA302100105      KR        A30          21.0  3/1/2021  GTL        1   \n",
       "283    USQX92005133      US        QX9          20.0  3/1/2021  GTL        1   \n",
       "284    QZDQH1808878      QZ        DQH          18.0  3/1/2021  GTL        1   \n",
       "285    USUG12004797      US        UG1          20.0  3/1/2021  GTL        1   \n",
       "...             ...     ...        ...           ...       ...  ...      ...   \n",
       "98476  QZES52166183      QZ        ES5          21.0  3/1/2021  GTL        1   \n",
       "98477  TCAEL1973167      TC        AEL          19.0  3/1/2021  GTL        1   \n",
       "98478  QZES91874867      QZ        ES9          18.0  3/1/2021  GTL        1   \n",
       "98759  TCAEU2021879      TC        AEU          20.0  3/1/2021  GTL        1   \n",
       "98760  QZFZ41971442      QZ        FZ4          19.0  3/1/2021  GTL        1   \n",
       "\n",
       "                  Artist              Label  \\\n",
       "199        Pedro Del Mar      #trancefamily   \n",
       "277     Earl Nightingale   Earl Nightingale   \n",
       "283     Earl Nightingale   Earl Nightingale   \n",
       "284     Earl Nightingale   Earl Nightingale   \n",
       "285     Earl Nightingale   Earl Nightingale   \n",
       "...                  ...                ...   \n",
       "98476        Eric Thomas         ETARecords   \n",
       "98477        Eric Thomas         ETARecords   \n",
       "98478        Eric Thomas         ETARecords   \n",
       "98759  Mufti Ismail Menk  Mufti Ismail Menk   \n",
       "98760  Mufti Ismail Menk  Mufti Ismail Menk   \n",
       "\n",
       "                                                    Song  \\\n",
       "199    #trancefamily Presents The Beauty Of Vocal Tra...   \n",
       "277                       02 - Courage And Self - Esteem   \n",
       "283                                 05 - Personal Growth   \n",
       "284                                 05 - Personal Growth   \n",
       "285    06 - Interpersonal Communication And Relations...   \n",
       "...                                                  ...   \n",
       "98476                                 You Whine We Grind   \n",
       "98477                                 You Whine We Grind   \n",
       "98478                                 You Whine We Grind   \n",
       "98759                            Your Journey Begins Now   \n",
       "98760                            Your Journey Begins Now   \n",
       "\n",
       "                                                   Album  Duration  \\\n",
       "199    #trancefamily Presents The Beauty Of Vocal Trance      5100   \n",
       "277                                   Essence Of Success      5707   \n",
       "283                                   Essence Of Success      4604   \n",
       "284                                   Essence Of Success      4604   \n",
       "285                                   Essence Of Success      5150   \n",
       "...                                                  ...       ...   \n",
       "98476                        The Success Series Season 2      3968   \n",
       "98477                        The Success Series Season 2      3968   \n",
       "98478                        The Success Series Season 2      3968   \n",
       "98759                                  Seeds Of Guidance      3460   \n",
       "98760                                  Seeds Of Guidance      3460   \n",
       "\n",
       "       Songwriter?  \n",
       "199              0  \n",
       "277              0  \n",
       "283              0  \n",
       "284              0  \n",
       "285              0  \n",
       "...            ...  \n",
       "98476            0  \n",
       "98477            0  \n",
       "98478            0  \n",
       "98759            0  \n",
       "98760            0  \n",
       "\n",
       "[901 rows x 13 columns]"
      ]
     },
     "execution_count": 38,
     "metadata": {},
     "output_type": "execute_result"
    }
   ],
   "source": [
    "clean[clean['Streams']==clean['Streams'].min()]"
   ]
  },
  {
   "cell_type": "markdown",
   "id": "097e0d96",
   "metadata": {},
   "source": [
    "##### I really want to do a sns.pairplot because I think that chart type is so cool but there's so much data to crunch in this set, I think it will take forever.... maybe later."
   ]
  }
 ],
 "metadata": {
  "kernelspec": {
   "display_name": "Python 3 (ipykernel)",
   "language": "python",
   "name": "python3"
  },
  "language_info": {
   "codemirror_mode": {
    "name": "ipython",
    "version": 3
   },
   "file_extension": ".py",
   "mimetype": "text/x-python",
   "name": "python",
   "nbconvert_exporter": "python",
   "pygments_lexer": "ipython3",
   "version": "3.9.7"
  }
 },
 "nbformat": 4,
 "nbformat_minor": 5
}
