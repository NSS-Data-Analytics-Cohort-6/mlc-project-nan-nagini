{
 "cells": [
  {
   "cell_type": "code",
   "execution_count": 1,
   "id": "68f8eb31",
   "metadata": {},
   "outputs": [],
   "source": [
    "import pandas as pd\n",
    "import numpy as np\n",
    "import matplotlib.pyplot as plt\n",
    "import seaborn as sns\n",
    "import matplotlib.ticker as mtick\n",
    "\n",
    "%matplotlib inline  "
   ]
  },
  {
   "cell_type": "code",
   "execution_count": 2,
   "id": "a72e0cd9",
   "metadata": {},
   "outputs": [],
   "source": [
    "mlc_df = pd.read_csv(\"../data/MLC_data_sample.csv\")"
   ]
  },
  {
   "cell_type": "code",
   "execution_count": 3,
   "id": "97d0196c",
   "metadata": {},
   "outputs": [
    {
     "data": {
      "text/html": [
       "<div>\n",
       "<style scoped>\n",
       "    .dataframe tbody tr th:only-of-type {\n",
       "        vertical-align: middle;\n",
       "    }\n",
       "\n",
       "    .dataframe tbody tr th {\n",
       "        vertical-align: top;\n",
       "    }\n",
       "\n",
       "    .dataframe thead th {\n",
       "        text-align: right;\n",
       "    }\n",
       "</style>\n",
       "<table border=\"1\" class=\"dataframe\">\n",
       "  <thead>\n",
       "    <tr style=\"text-align: right;\">\n",
       "      <th></th>\n",
       "      <th>If</th>\n",
       "      <th>Country Code</th>\n",
       "      <th>Registrant Code</th>\n",
       "      <th>Year of Reference</th>\n",
       "      <th>Usage Period</th>\n",
       "      <th>Streaming Platform (DSP)</th>\n",
       "      <th>Streams</th>\n",
       "      <th>Recording Artist</th>\n",
       "      <th>Recording Label</th>\n",
       "      <th>Recording Title</th>\n",
       "      <th>Release Title</th>\n",
       "      <th>Recording Duration (Seconds)</th>\n",
       "      <th>Songwriter's Listed (1 = \"Yes\", 0 = \"No\")</th>\n",
       "    </tr>\n",
       "  </thead>\n",
       "  <tbody>\n",
       "    <tr>\n",
       "      <th>0</th>\n",
       "      <td>USUG12101043</td>\n",
       "      <td>US</td>\n",
       "      <td>UG1</td>\n",
       "      <td>21.0</td>\n",
       "      <td>NaN</td>\n",
       "      <td>AudioMack</td>\n",
       "      <td>10,175</td>\n",
       "      <td>Future</td>\n",
       "      <td>NaN</td>\n",
       "      <td>FUTURE FT DEJ LOAF HEY THERE PROD BY DDS</td>\n",
       "      <td>#unknown#</td>\n",
       "      <td>181</td>\n",
       "      <td>0</td>\n",
       "    </tr>\n",
       "    <tr>\n",
       "      <th>1</th>\n",
       "      <td>USRC12100543</td>\n",
       "      <td>US</td>\n",
       "      <td>RC1</td>\n",
       "      <td>21.0</td>\n",
       "      <td>NaN</td>\n",
       "      <td>SoundCloud</td>\n",
       "      <td>8,597</td>\n",
       "      <td>LUCKY3RD</td>\n",
       "      <td>LUCKY3RD</td>\n",
       "      <td>Keep It Cool  LUCKY3RD</td>\n",
       "      <td>Keep It Cool  LUCKY3RD</td>\n",
       "      <td>133</td>\n",
       "      <td>0</td>\n",
       "    </tr>\n",
       "    <tr>\n",
       "      <th>2</th>\n",
       "      <td>USSM12102263</td>\n",
       "      <td>US</td>\n",
       "      <td>SM1</td>\n",
       "      <td>21.0</td>\n",
       "      <td>NaN</td>\n",
       "      <td>SoundCloud</td>\n",
       "      <td>261,280</td>\n",
       "      <td>LUCKY3RD</td>\n",
       "      <td>LUCKY3RD</td>\n",
       "      <td>Life Goes On  LUCKY3RD</td>\n",
       "      <td>Life Goes On  LUCKY3RD</td>\n",
       "      <td>171</td>\n",
       "      <td>0</td>\n",
       "    </tr>\n",
       "    <tr>\n",
       "      <th>3</th>\n",
       "      <td>USLD91731547</td>\n",
       "      <td>US</td>\n",
       "      <td>LD9</td>\n",
       "      <td>17.0</td>\n",
       "      <td>2/1/2021</td>\n",
       "      <td>Trebel</td>\n",
       "      <td>5</td>\n",
       "      <td>Bachata &amp; Merengue Mix</td>\n",
       "      <td>Orchard</td>\n",
       "      <td>No dudes de mi- Merengue &amp; Bachata Mix</td>\n",
       "      <td>Mega Mix 2010</td>\n",
       "      <td>1250</td>\n",
       "      <td>0</td>\n",
       "    </tr>\n",
       "    <tr>\n",
       "      <th>4</th>\n",
       "      <td>USAT22007048</td>\n",
       "      <td>US</td>\n",
       "      <td>AT2</td>\n",
       "      <td>20.0</td>\n",
       "      <td>NaN</td>\n",
       "      <td>AudioMack</td>\n",
       "      <td>62,105</td>\n",
       "      <td>Foolio</td>\n",
       "      <td>NaN</td>\n",
       "      <td>WHEN I SEE YOU REMIX</td>\n",
       "      <td>#unknown#</td>\n",
       "      <td>187</td>\n",
       "      <td>0</td>\n",
       "    </tr>\n",
       "  </tbody>\n",
       "</table>\n",
       "</div>"
      ],
      "text/plain": [
       "            If  Country Code Registrant Code  Year of Reference Usage Period  \\\n",
       "0  USUG12101043           US             UG1               21.0          NaN   \n",
       "1  USRC12100543           US             RC1               21.0          NaN   \n",
       "2  USSM12102263           US             SM1               21.0          NaN   \n",
       "3  USLD91731547           US             LD9               17.0     2/1/2021   \n",
       "4  USAT22007048           US             AT2               20.0          NaN   \n",
       "\n",
       "  Streaming Platform (DSP)     Streams        Recording Artist  \\\n",
       "0                AudioMack     10,175                   Future   \n",
       "1               SoundCloud      8,597                 LUCKY3RD   \n",
       "2               SoundCloud    261,280                 LUCKY3RD   \n",
       "3                   Trebel          5   Bachata & Merengue Mix   \n",
       "4                AudioMack     62,105                   Foolio   \n",
       "\n",
       "  Recording Label                            Recording Title  \\\n",
       "0             NaN   FUTURE FT DEJ LOAF HEY THERE PROD BY DDS   \n",
       "1        LUCKY3RD                     Keep It Cool  LUCKY3RD   \n",
       "2        LUCKY3RD                     Life Goes On  LUCKY3RD   \n",
       "3         Orchard     No dudes de mi- Merengue & Bachata Mix   \n",
       "4             NaN                       WHEN I SEE YOU REMIX   \n",
       "\n",
       "             Release Title  Recording Duration (Seconds)  \\\n",
       "0                #unknown#                           181   \n",
       "1   Keep It Cool  LUCKY3RD                           133   \n",
       "2   Life Goes On  LUCKY3RD                           171   \n",
       "3            Mega Mix 2010                          1250   \n",
       "4                #unknown#                           187   \n",
       "\n",
       "   Songwriter's Listed (1 = \"Yes\", 0 = \"No\")  \n",
       "0                                          0  \n",
       "1                                          0  \n",
       "2                                          0  \n",
       "3                                          0  \n",
       "4                                          0  "
      ]
     },
     "execution_count": 3,
     "metadata": {},
     "output_type": "execute_result"
    }
   ],
   "source": [
    "mlc_df.head()"
   ]
  },
  {
   "cell_type": "markdown",
   "id": "50a876e8",
   "metadata": {},
   "source": [
    "### data cleanup"
   ]
  },
  {
   "cell_type": "markdown",
   "id": "ad48b405",
   "metadata": {},
   "source": [
    "##### rename columns"
   ]
  },
  {
   "cell_type": "code",
   "execution_count": 4,
   "id": "3dcc917d",
   "metadata": {},
   "outputs": [],
   "source": [
    "mlc_df.columns = ['ISRC', 'Country', 'Registrant', 'Release_Year', 'Period', 'DSP', 'Streams', 'Artist', 'Label', 'Song', 'Album', 'Duration', 'Songwriter?']"
   ]
  },
  {
   "cell_type": "code",
   "execution_count": 5,
   "id": "a946ab95",
   "metadata": {},
   "outputs": [
    {
     "data": {
      "text/html": [
       "<div>\n",
       "<style scoped>\n",
       "    .dataframe tbody tr th:only-of-type {\n",
       "        vertical-align: middle;\n",
       "    }\n",
       "\n",
       "    .dataframe tbody tr th {\n",
       "        vertical-align: top;\n",
       "    }\n",
       "\n",
       "    .dataframe thead th {\n",
       "        text-align: right;\n",
       "    }\n",
       "</style>\n",
       "<table border=\"1\" class=\"dataframe\">\n",
       "  <thead>\n",
       "    <tr style=\"text-align: right;\">\n",
       "      <th></th>\n",
       "      <th>ISRC</th>\n",
       "      <th>Country</th>\n",
       "      <th>Registrant</th>\n",
       "      <th>Release_Year</th>\n",
       "      <th>Period</th>\n",
       "      <th>DSP</th>\n",
       "      <th>Streams</th>\n",
       "      <th>Artist</th>\n",
       "      <th>Label</th>\n",
       "      <th>Song</th>\n",
       "      <th>Album</th>\n",
       "      <th>Duration</th>\n",
       "      <th>Songwriter?</th>\n",
       "    </tr>\n",
       "  </thead>\n",
       "  <tbody>\n",
       "    <tr>\n",
       "      <th>0</th>\n",
       "      <td>USUG12101043</td>\n",
       "      <td>US</td>\n",
       "      <td>UG1</td>\n",
       "      <td>21.0</td>\n",
       "      <td>NaN</td>\n",
       "      <td>AudioMack</td>\n",
       "      <td>10,175</td>\n",
       "      <td>Future</td>\n",
       "      <td>NaN</td>\n",
       "      <td>FUTURE FT DEJ LOAF HEY THERE PROD BY DDS</td>\n",
       "      <td>#unknown#</td>\n",
       "      <td>181</td>\n",
       "      <td>0</td>\n",
       "    </tr>\n",
       "    <tr>\n",
       "      <th>1</th>\n",
       "      <td>USRC12100543</td>\n",
       "      <td>US</td>\n",
       "      <td>RC1</td>\n",
       "      <td>21.0</td>\n",
       "      <td>NaN</td>\n",
       "      <td>SoundCloud</td>\n",
       "      <td>8,597</td>\n",
       "      <td>LUCKY3RD</td>\n",
       "      <td>LUCKY3RD</td>\n",
       "      <td>Keep It Cool  LUCKY3RD</td>\n",
       "      <td>Keep It Cool  LUCKY3RD</td>\n",
       "      <td>133</td>\n",
       "      <td>0</td>\n",
       "    </tr>\n",
       "    <tr>\n",
       "      <th>2</th>\n",
       "      <td>USSM12102263</td>\n",
       "      <td>US</td>\n",
       "      <td>SM1</td>\n",
       "      <td>21.0</td>\n",
       "      <td>NaN</td>\n",
       "      <td>SoundCloud</td>\n",
       "      <td>261,280</td>\n",
       "      <td>LUCKY3RD</td>\n",
       "      <td>LUCKY3RD</td>\n",
       "      <td>Life Goes On  LUCKY3RD</td>\n",
       "      <td>Life Goes On  LUCKY3RD</td>\n",
       "      <td>171</td>\n",
       "      <td>0</td>\n",
       "    </tr>\n",
       "    <tr>\n",
       "      <th>3</th>\n",
       "      <td>USLD91731547</td>\n",
       "      <td>US</td>\n",
       "      <td>LD9</td>\n",
       "      <td>17.0</td>\n",
       "      <td>2/1/2021</td>\n",
       "      <td>Trebel</td>\n",
       "      <td>5</td>\n",
       "      <td>Bachata &amp; Merengue Mix</td>\n",
       "      <td>Orchard</td>\n",
       "      <td>No dudes de mi- Merengue &amp; Bachata Mix</td>\n",
       "      <td>Mega Mix 2010</td>\n",
       "      <td>1250</td>\n",
       "      <td>0</td>\n",
       "    </tr>\n",
       "    <tr>\n",
       "      <th>4</th>\n",
       "      <td>USAT22007048</td>\n",
       "      <td>US</td>\n",
       "      <td>AT2</td>\n",
       "      <td>20.0</td>\n",
       "      <td>NaN</td>\n",
       "      <td>AudioMack</td>\n",
       "      <td>62,105</td>\n",
       "      <td>Foolio</td>\n",
       "      <td>NaN</td>\n",
       "      <td>WHEN I SEE YOU REMIX</td>\n",
       "      <td>#unknown#</td>\n",
       "      <td>187</td>\n",
       "      <td>0</td>\n",
       "    </tr>\n",
       "  </tbody>\n",
       "</table>\n",
       "</div>"
      ],
      "text/plain": [
       "           ISRC Country Registrant  Release_Year    Period         DSP  \\\n",
       "0  USUG12101043      US        UG1          21.0       NaN   AudioMack   \n",
       "1  USRC12100543      US        RC1          21.0       NaN  SoundCloud   \n",
       "2  USSM12102263      US        SM1          21.0       NaN  SoundCloud   \n",
       "3  USLD91731547      US        LD9          17.0  2/1/2021      Trebel   \n",
       "4  USAT22007048      US        AT2          20.0       NaN   AudioMack   \n",
       "\n",
       "      Streams                  Artist     Label  \\\n",
       "0     10,175                   Future       NaN   \n",
       "1      8,597                 LUCKY3RD  LUCKY3RD   \n",
       "2    261,280                 LUCKY3RD  LUCKY3RD   \n",
       "3          5   Bachata & Merengue Mix   Orchard   \n",
       "4     62,105                   Foolio       NaN   \n",
       "\n",
       "                                        Song                    Album  \\\n",
       "0   FUTURE FT DEJ LOAF HEY THERE PROD BY DDS                #unknown#   \n",
       "1                     Keep It Cool  LUCKY3RD   Keep It Cool  LUCKY3RD   \n",
       "2                     Life Goes On  LUCKY3RD   Life Goes On  LUCKY3RD   \n",
       "3     No dudes de mi- Merengue & Bachata Mix            Mega Mix 2010   \n",
       "4                       WHEN I SEE YOU REMIX                #unknown#   \n",
       "\n",
       "   Duration  Songwriter?  \n",
       "0       181            0  \n",
       "1       133            0  \n",
       "2       171            0  \n",
       "3      1250            0  \n",
       "4       187            0  "
      ]
     },
     "execution_count": 5,
     "metadata": {},
     "output_type": "execute_result"
    }
   ],
   "source": [
    "mlc_df.head()"
   ]
  },
  {
   "cell_type": "code",
   "execution_count": 6,
   "id": "dcebf2a8",
   "metadata": {},
   "outputs": [
    {
     "data": {
      "text/html": [
       "<div>\n",
       "<style scoped>\n",
       "    .dataframe tbody tr th:only-of-type {\n",
       "        vertical-align: middle;\n",
       "    }\n",
       "\n",
       "    .dataframe tbody tr th {\n",
       "        vertical-align: top;\n",
       "    }\n",
       "\n",
       "    .dataframe thead th {\n",
       "        text-align: right;\n",
       "    }\n",
       "</style>\n",
       "<table border=\"1\" class=\"dataframe\">\n",
       "  <thead>\n",
       "    <tr style=\"text-align: right;\">\n",
       "      <th></th>\n",
       "      <th>ISRC</th>\n",
       "      <th>Country</th>\n",
       "      <th>Registrant</th>\n",
       "      <th>Release_Year</th>\n",
       "      <th>Period</th>\n",
       "      <th>DSP</th>\n",
       "      <th>Streams</th>\n",
       "      <th>Artist</th>\n",
       "      <th>Label</th>\n",
       "      <th>Song</th>\n",
       "      <th>Album</th>\n",
       "      <th>Duration</th>\n",
       "      <th>Songwriter?</th>\n",
       "    </tr>\n",
       "  </thead>\n",
       "  <tbody>\n",
       "    <tr>\n",
       "      <th>99995</th>\n",
       "      <td>QZK6F2019397</td>\n",
       "      <td>QZ</td>\n",
       "      <td>K6F</td>\n",
       "      <td>20.0</td>\n",
       "      <td>3/1/2021</td>\n",
       "      <td>Spotify</td>\n",
       "      <td>28,549</td>\n",
       "      <td>Myuk</td>\n",
       "      <td>Sony Music Labels Inc.</td>\n",
       "      <td>魔法 - Anime Size</td>\n",
       "      <td>魔法 (Anime Size)</td>\n",
       "      <td>89</td>\n",
       "      <td>1</td>\n",
       "    </tr>\n",
       "    <tr>\n",
       "      <th>99996</th>\n",
       "      <td>QZK6F2019397</td>\n",
       "      <td>QZ</td>\n",
       "      <td>K6F</td>\n",
       "      <td>20.0</td>\n",
       "      <td>3/1/2021</td>\n",
       "      <td>Spotify</td>\n",
       "      <td>28,941</td>\n",
       "      <td>yama</td>\n",
       "      <td>Sony Music Labels Inc.</td>\n",
       "      <td>麻痺</td>\n",
       "      <td>麻痺</td>\n",
       "      <td>199</td>\n",
       "      <td>1</td>\n",
       "    </tr>\n",
       "    <tr>\n",
       "      <th>99997</th>\n",
       "      <td>SE6HN1926755</td>\n",
       "      <td>SE</td>\n",
       "      <td>6HN</td>\n",
       "      <td>19.0</td>\n",
       "      <td>3/1/2021</td>\n",
       "      <td>Spotify</td>\n",
       "      <td>28,941</td>\n",
       "      <td>yama</td>\n",
       "      <td>Sony Music Labels Inc.</td>\n",
       "      <td>麻痺</td>\n",
       "      <td>麻痺</td>\n",
       "      <td>199</td>\n",
       "      <td>1</td>\n",
       "    </tr>\n",
       "    <tr>\n",
       "      <th>99998</th>\n",
       "      <td>SEYOK1669274</td>\n",
       "      <td>SE</td>\n",
       "      <td>YOK</td>\n",
       "      <td>16.0</td>\n",
       "      <td>3/1/2021</td>\n",
       "      <td>Apple</td>\n",
       "      <td>8,970</td>\n",
       "      <td>yama</td>\n",
       "      <td>Sony Music Labels Inc.</td>\n",
       "      <td>麻痺</td>\n",
       "      <td>麻痺 - Single</td>\n",
       "      <td>198</td>\n",
       "      <td>1</td>\n",
       "    </tr>\n",
       "    <tr>\n",
       "      <th>99999</th>\n",
       "      <td>QZK6F2019397</td>\n",
       "      <td>QZ</td>\n",
       "      <td>K6F</td>\n",
       "      <td>20.0</td>\n",
       "      <td>2/1/2021</td>\n",
       "      <td>Spotify</td>\n",
       "      <td>11,245</td>\n",
       "      <td>Lexie Liu</td>\n",
       "      <td>泥鞋（北京）文化传媒有限公司</td>\n",
       "      <td>黑洞 Metropolis</td>\n",
       "      <td>无限意识 Meta Ego</td>\n",
       "      <td>259</td>\n",
       "      <td>1</td>\n",
       "    </tr>\n",
       "  </tbody>\n",
       "</table>\n",
       "</div>"
      ],
      "text/plain": [
       "               ISRC Country Registrant  Release_Year    Period      DSP  \\\n",
       "99995  QZK6F2019397      QZ        K6F          20.0  3/1/2021  Spotify   \n",
       "99996  QZK6F2019397      QZ        K6F          20.0  3/1/2021  Spotify   \n",
       "99997  SE6HN1926755      SE        6HN          19.0  3/1/2021  Spotify   \n",
       "99998  SEYOK1669274      SE        YOK          16.0  3/1/2021    Apple   \n",
       "99999  QZK6F2019397      QZ        K6F          20.0  2/1/2021  Spotify   \n",
       "\n",
       "         Streams     Artist                   Label             Song  \\\n",
       "99995    28,549        Myuk  Sony Music Labels Inc.  魔法 - Anime Size   \n",
       "99996    28,941        yama  Sony Music Labels Inc.               麻痺   \n",
       "99997    28,941        yama  Sony Music Labels Inc.               麻痺   \n",
       "99998     8,970        yama  Sony Music Labels Inc.               麻痺   \n",
       "99999    11,245   Lexie Liu          泥鞋（北京）文化传媒有限公司    黑洞 Metropolis   \n",
       "\n",
       "                 Album  Duration  Songwriter?  \n",
       "99995  魔法 (Anime Size)        89            1  \n",
       "99996               麻痺       199            1  \n",
       "99997               麻痺       199            1  \n",
       "99998      麻痺 - Single       198            1  \n",
       "99999    无限意识 Meta Ego       259            1  "
      ]
     },
     "execution_count": 6,
     "metadata": {},
     "output_type": "execute_result"
    }
   ],
   "source": [
    "mlc_df.tail()"
   ]
  },
  {
   "cell_type": "code",
   "execution_count": 7,
   "id": "03a9aade",
   "metadata": {},
   "outputs": [
    {
     "name": "stdout",
     "output_type": "stream",
     "text": [
      "<class 'pandas.core.frame.DataFrame'>\n",
      "RangeIndex: 100000 entries, 0 to 99999\n",
      "Data columns (total 13 columns):\n",
      " #   Column        Non-Null Count   Dtype  \n",
      "---  ------        --------------   -----  \n",
      " 0   ISRC          98240 non-null   object \n",
      " 1   Country       98303 non-null   object \n",
      " 2   Registrant    98303 non-null   object \n",
      " 3   Release_Year  98239 non-null   float64\n",
      " 4   Period        91898 non-null   object \n",
      " 5   DSP           96001 non-null   object \n",
      " 6   Streams       100000 non-null  object \n",
      " 7   Artist        100000 non-null  object \n",
      " 8   Label         98992 non-null   object \n",
      " 9   Song          100000 non-null  object \n",
      " 10  Album         99931 non-null   object \n",
      " 11  Duration      100000 non-null  int64  \n",
      " 12  Songwriter?   100000 non-null  int64  \n",
      "dtypes: float64(1), int64(2), object(10)\n",
      "memory usage: 9.9+ MB\n"
     ]
    }
   ],
   "source": [
    "mlc_df.info()"
   ]
  },
  {
   "cell_type": "markdown",
   "id": "75166408",
   "metadata": {},
   "source": [
    "##### column index number 6, Streams, is stored as a string and needs to be numeric -- remove any spaces (leading, trailing, or otherwise) and comma separators"
   ]
  },
  {
   "cell_type": "code",
   "execution_count": 8,
   "id": "244a7f6d",
   "metadata": {
    "scrolled": true
   },
   "outputs": [
    {
     "data": {
      "text/html": [
       "<div>\n",
       "<style scoped>\n",
       "    .dataframe tbody tr th:only-of-type {\n",
       "        vertical-align: middle;\n",
       "    }\n",
       "\n",
       "    .dataframe tbody tr th {\n",
       "        vertical-align: top;\n",
       "    }\n",
       "\n",
       "    .dataframe thead th {\n",
       "        text-align: right;\n",
       "    }\n",
       "</style>\n",
       "<table border=\"1\" class=\"dataframe\">\n",
       "  <thead>\n",
       "    <tr style=\"text-align: right;\">\n",
       "      <th></th>\n",
       "      <th>ISRC</th>\n",
       "      <th>Country</th>\n",
       "      <th>Registrant</th>\n",
       "      <th>Release_Year</th>\n",
       "      <th>Period</th>\n",
       "      <th>DSP</th>\n",
       "      <th>Streams</th>\n",
       "      <th>Artist</th>\n",
       "      <th>Label</th>\n",
       "      <th>Song</th>\n",
       "      <th>Album</th>\n",
       "      <th>Duration</th>\n",
       "      <th>Songwriter?</th>\n",
       "    </tr>\n",
       "  </thead>\n",
       "  <tbody>\n",
       "    <tr>\n",
       "      <th>0</th>\n",
       "      <td>USUG12101043</td>\n",
       "      <td>US</td>\n",
       "      <td>UG1</td>\n",
       "      <td>21.0</td>\n",
       "      <td>NaN</td>\n",
       "      <td>AudioMack</td>\n",
       "      <td>10175</td>\n",
       "      <td>Future</td>\n",
       "      <td>NaN</td>\n",
       "      <td>FUTURE FT DEJ LOAF HEY THERE PROD BY DDS</td>\n",
       "      <td>#unknown#</td>\n",
       "      <td>181</td>\n",
       "      <td>0</td>\n",
       "    </tr>\n",
       "    <tr>\n",
       "      <th>1</th>\n",
       "      <td>USRC12100543</td>\n",
       "      <td>US</td>\n",
       "      <td>RC1</td>\n",
       "      <td>21.0</td>\n",
       "      <td>NaN</td>\n",
       "      <td>SoundCloud</td>\n",
       "      <td>8597</td>\n",
       "      <td>LUCKY3RD</td>\n",
       "      <td>LUCKY3RD</td>\n",
       "      <td>Keep It Cool  LUCKY3RD</td>\n",
       "      <td>Keep It Cool  LUCKY3RD</td>\n",
       "      <td>133</td>\n",
       "      <td>0</td>\n",
       "    </tr>\n",
       "    <tr>\n",
       "      <th>2</th>\n",
       "      <td>USSM12102263</td>\n",
       "      <td>US</td>\n",
       "      <td>SM1</td>\n",
       "      <td>21.0</td>\n",
       "      <td>NaN</td>\n",
       "      <td>SoundCloud</td>\n",
       "      <td>261280</td>\n",
       "      <td>LUCKY3RD</td>\n",
       "      <td>LUCKY3RD</td>\n",
       "      <td>Life Goes On  LUCKY3RD</td>\n",
       "      <td>Life Goes On  LUCKY3RD</td>\n",
       "      <td>171</td>\n",
       "      <td>0</td>\n",
       "    </tr>\n",
       "    <tr>\n",
       "      <th>3</th>\n",
       "      <td>USLD91731547</td>\n",
       "      <td>US</td>\n",
       "      <td>LD9</td>\n",
       "      <td>17.0</td>\n",
       "      <td>2/1/2021</td>\n",
       "      <td>Trebel</td>\n",
       "      <td>5</td>\n",
       "      <td>Bachata &amp; Merengue Mix</td>\n",
       "      <td>Orchard</td>\n",
       "      <td>No dudes de mi- Merengue &amp; Bachata Mix</td>\n",
       "      <td>Mega Mix 2010</td>\n",
       "      <td>1250</td>\n",
       "      <td>0</td>\n",
       "    </tr>\n",
       "    <tr>\n",
       "      <th>4</th>\n",
       "      <td>USAT22007048</td>\n",
       "      <td>US</td>\n",
       "      <td>AT2</td>\n",
       "      <td>20.0</td>\n",
       "      <td>NaN</td>\n",
       "      <td>AudioMack</td>\n",
       "      <td>62105</td>\n",
       "      <td>Foolio</td>\n",
       "      <td>NaN</td>\n",
       "      <td>WHEN I SEE YOU REMIX</td>\n",
       "      <td>#unknown#</td>\n",
       "      <td>187</td>\n",
       "      <td>0</td>\n",
       "    </tr>\n",
       "  </tbody>\n",
       "</table>\n",
       "</div>"
      ],
      "text/plain": [
       "           ISRC Country Registrant  Release_Year    Period         DSP  \\\n",
       "0  USUG12101043      US        UG1          21.0       NaN   AudioMack   \n",
       "1  USRC12100543      US        RC1          21.0       NaN  SoundCloud   \n",
       "2  USSM12102263      US        SM1          21.0       NaN  SoundCloud   \n",
       "3  USLD91731547      US        LD9          17.0  2/1/2021      Trebel   \n",
       "4  USAT22007048      US        AT2          20.0       NaN   AudioMack   \n",
       "\n",
       "   Streams                  Artist     Label  \\\n",
       "0    10175                  Future       NaN   \n",
       "1     8597                LUCKY3RD  LUCKY3RD   \n",
       "2   261280                LUCKY3RD  LUCKY3RD   \n",
       "3        5  Bachata & Merengue Mix   Orchard   \n",
       "4    62105                  Foolio       NaN   \n",
       "\n",
       "                                        Song                    Album  \\\n",
       "0   FUTURE FT DEJ LOAF HEY THERE PROD BY DDS                #unknown#   \n",
       "1                     Keep It Cool  LUCKY3RD   Keep It Cool  LUCKY3RD   \n",
       "2                     Life Goes On  LUCKY3RD   Life Goes On  LUCKY3RD   \n",
       "3     No dudes de mi- Merengue & Bachata Mix            Mega Mix 2010   \n",
       "4                       WHEN I SEE YOU REMIX                #unknown#   \n",
       "\n",
       "   Duration  Songwriter?  \n",
       "0       181            0  \n",
       "1       133            0  \n",
       "2       171            0  \n",
       "3      1250            0  \n",
       "4       187            0  "
      ]
     },
     "execution_count": 8,
     "metadata": {},
     "output_type": "execute_result"
    }
   ],
   "source": [
    "mlc_df[\"Streams\"] = mlc_df[\"Streams\"].str.replace(\",\", \"\")\n",
    "mlc_df[\"Streams\"] = mlc_df[\"Streams\"].str.replace(\" \", \"\")\n",
    "mlc_df[[\"Streams\"]] = mlc_df[[\"Streams\"]].apply(pd.to_numeric)\n",
    "mlc_df.head()"
   ]
  },
  {
   "cell_type": "code",
   "execution_count": 9,
   "id": "df434380",
   "metadata": {},
   "outputs": [
    {
     "name": "stdout",
     "output_type": "stream",
     "text": [
      "<class 'pandas.core.frame.DataFrame'>\n",
      "RangeIndex: 100000 entries, 0 to 99999\n",
      "Data columns (total 13 columns):\n",
      " #   Column        Non-Null Count   Dtype  \n",
      "---  ------        --------------   -----  \n",
      " 0   ISRC          98240 non-null   object \n",
      " 1   Country       98303 non-null   object \n",
      " 2   Registrant    98303 non-null   object \n",
      " 3   Release_Year  98239 non-null   float64\n",
      " 4   Period        91898 non-null   object \n",
      " 5   DSP           96001 non-null   object \n",
      " 6   Streams       100000 non-null  int64  \n",
      " 7   Artist        100000 non-null  object \n",
      " 8   Label         98992 non-null   object \n",
      " 9   Song          100000 non-null  object \n",
      " 10  Album         99931 non-null   object \n",
      " 11  Duration      100000 non-null  int64  \n",
      " 12  Songwriter?   100000 non-null  int64  \n",
      "dtypes: float64(1), int64(3), object(9)\n",
      "memory usage: 9.9+ MB\n"
     ]
    }
   ],
   "source": [
    "mlc_df.info()"
   ]
  },
  {
   "cell_type": "markdown",
   "id": "e987517a",
   "metadata": {},
   "source": [
    "looks better -- all columns have a data type I'm satisfied with now"
   ]
  },
  {
   "cell_type": "markdown",
   "id": "97d4c10e",
   "metadata": {},
   "source": [
    "### EDA in separate workbook, as well as in workbooks on team members' branches and discussed in class. On to analysis"
   ]
  },
  {
   "cell_type": "markdown",
   "id": "e5b80d72",
   "metadata": {},
   "source": [
    "we want to create three dataframes and then merge them into one:\n",
    "- the percentage of time that each DSP has provided songwriter information in this data sample\n",
    "- the total number of streams each DSP has across the dataset\n",
    "- the count of data records for each DSP\n",
    "this will allow us to look at DSPs who are providing incomplete data submissions, but with the lens of who the heaviest hitters are (in terms of work required by MLC to pay the most songwriters)"
   ]
  },
  {
   "cell_type": "markdown",
   "id": "e8db26c0",
   "metadata": {},
   "source": [
    "### songwriter dataframe"
   ]
  },
  {
   "cell_type": "code",
   "execution_count": 10,
   "id": "d9febf12",
   "metadata": {},
   "outputs": [
    {
     "name": "stdout",
     "output_type": "stream",
     "text": [
      "DSP\n",
      "Classical Archives    1.000000\n",
      "Qoboz                 0.903846\n",
      "Deezer                0.862745\n",
      "Spotify               0.854376\n",
      "Apple                 0.808514\n",
      "Recisio               0.545455\n",
      "Amazon                0.261740\n",
      "Pandora               0.244828\n",
      "Melodyv               0.114596\n",
      "LiveXLive             0.070000\n",
      "GTL                   0.028440\n",
      "Tidal                 0.003692\n",
      "Smithsonian           0.000000\n",
      "Ultimate Guitar       0.000000\n",
      "Trebel                0.000000\n",
      "Wolfgangs             0.000000\n",
      "SoundCloud            0.000000\n",
      "Sonos                 0.000000\n",
      "YouTube               0.000000\n",
      "Pacemaker             0.000000\n",
      "PowerMusic            0.000000\n",
      "Anghami               0.000000\n",
      "NugsNet               0.000000\n",
      "MonkingMe             0.000000\n",
      "MixCloud              0.000000\n",
      "Midwest Tape          0.000000\n",
      "Fan Label             0.000000\n",
      "AudioMack             0.000000\n",
      "iHeart Radio          0.000000\n",
      "Name: Songwriter?, dtype: float64\n"
     ]
    }
   ],
   "source": [
    "sw_ratio = mlc_df.groupby('DSP')['Songwriter?'].mean()\n",
    "sw_ratio = sw_ratio.sort_values(ascending=False)\n",
    "print(sw_ratio)"
   ]
  },
  {
   "cell_type": "code",
   "execution_count": 11,
   "id": "87c07def",
   "metadata": {},
   "outputs": [
    {
     "name": "stdout",
     "output_type": "stream",
     "text": [
      "                   DSP    SW_Avg\n",
      "0   Classical Archives  1.000000\n",
      "1                Qoboz  0.903846\n",
      "2               Deezer  0.862745\n",
      "3              Spotify  0.854376\n",
      "4                Apple  0.808514\n",
      "5              Recisio  0.545455\n",
      "6               Amazon  0.261740\n",
      "7              Pandora  0.244828\n",
      "8              Melodyv  0.114596\n",
      "9            LiveXLive  0.070000\n",
      "10                 GTL  0.028440\n",
      "11               Tidal  0.003692\n",
      "12         Smithsonian  0.000000\n",
      "13     Ultimate Guitar  0.000000\n",
      "14              Trebel  0.000000\n",
      "15           Wolfgangs  0.000000\n",
      "16          SoundCloud  0.000000\n",
      "17               Sonos  0.000000\n",
      "18             YouTube  0.000000\n",
      "19           Pacemaker  0.000000\n",
      "20          PowerMusic  0.000000\n",
      "21             Anghami  0.000000\n",
      "22             NugsNet  0.000000\n",
      "23           MonkingMe  0.000000\n",
      "24            MixCloud  0.000000\n",
      "25        Midwest Tape  0.000000\n",
      "26           Fan Label  0.000000\n",
      "27           AudioMack  0.000000\n",
      "28        iHeart Radio  0.000000\n"
     ]
    }
   ],
   "source": [
    "songwriter_df = pd.DataFrame(sw_ratio)\n",
    "songwriter_df.reset_index(inplace=True)\n",
    "songwriter_df.columns = ['DSP', 'SW_Avg']\n",
    "print(songwriter_df)"
   ]
  },
  {
   "cell_type": "code",
   "execution_count": 12,
   "id": "1e39baee",
   "metadata": {},
   "outputs": [
    {
     "name": "stdout",
     "output_type": "stream",
     "text": [
      "DSP\n",
      "Spotify               2552563722\n",
      "Apple                 1606453701\n",
      "Pandora                874236566\n",
      "SoundCloud             166813813\n",
      "YouTube                158031119\n",
      "Amazon                 151199800\n",
      "Tidal                   48793126\n",
      "AudioMack               11991559\n",
      "Melodyv                  5384657\n",
      "iHeart Radio             2141959\n",
      "GTL                      1280764\n",
      "Trebel                    149347\n",
      "NugsNet                   110709\n",
      "LiveXLive                 101307\n",
      "Deezer                     87830\n",
      "Midwest Tape               85708\n",
      "Anghami                    34682\n",
      "Sonos                      31402\n",
      "Qoboz                       6621\n",
      "MonkingMe                   3549\n",
      "PowerMusic                  3154\n",
      "MixCloud                    2661\n",
      "Pacemaker                   1707\n",
      "Wolfgangs                    965\n",
      "Ultimate Guitar              309\n",
      "Smithsonian                  208\n",
      "Fan Label                     91\n",
      "Recisio                       29\n",
      "Classical Archives            20\n",
      "Name: Streams, dtype: int64\n"
     ]
    }
   ],
   "source": [
    "streams_per_DSP = mlc_df.groupby('DSP')['Streams'].sum()\n",
    "streams_per_DSP = streams_per_DSP.sort_values(ascending=False)\n",
    "print(streams_per_DSP)"
   ]
  },
  {
   "cell_type": "code",
   "execution_count": 13,
   "id": "a009e22b",
   "metadata": {},
   "outputs": [
    {
     "name": "stdout",
     "output_type": "stream",
     "text": [
      "                   DSP  Streams_Per_DSP\n",
      "0              Spotify       2552563722\n",
      "1                Apple       1606453701\n",
      "2              Pandora        874236566\n",
      "3           SoundCloud        166813813\n",
      "4              YouTube        158031119\n",
      "5               Amazon        151199800\n",
      "6                Tidal         48793126\n",
      "7            AudioMack         11991559\n",
      "8              Melodyv          5384657\n",
      "9         iHeart Radio          2141959\n",
      "10                 GTL          1280764\n",
      "11              Trebel           149347\n",
      "12             NugsNet           110709\n",
      "13           LiveXLive           101307\n",
      "14              Deezer            87830\n",
      "15        Midwest Tape            85708\n",
      "16             Anghami            34682\n",
      "17               Sonos            31402\n",
      "18               Qoboz             6621\n",
      "19           MonkingMe             3549\n",
      "20          PowerMusic             3154\n",
      "21            MixCloud             2661\n",
      "22           Pacemaker             1707\n",
      "23           Wolfgangs              965\n",
      "24     Ultimate Guitar              309\n",
      "25         Smithsonian              208\n",
      "26           Fan Label               91\n",
      "27             Recisio               29\n",
      "28  Classical Archives               20\n"
     ]
    }
   ],
   "source": [
    "streams_df = pd.DataFrame(streams_per_DSP)\n",
    "streams_df.reset_index(inplace=True)\n",
    "streams_df.columns = ['DSP', 'Streams_Per_DSP']\n",
    "print(streams_df)"
   ]
  },
  {
   "cell_type": "code",
   "execution_count": 14,
   "id": "aed4122c",
   "metadata": {},
   "outputs": [
    {
     "name": "stdout",
     "output_type": "stream",
     "text": [
      "Spotify               32268\n",
      "Apple                 22200\n",
      "Amazon                14438\n",
      "Pandora               13777\n",
      "Tidal                  3521\n",
      "YouTube                2752\n",
      "SoundCloud             2122\n",
      "GTL                    1090\n",
      "Melodyv                 829\n",
      "Trebel                  817\n",
      "iHeart Radio            707\n",
      "AudioMack               550\n",
      "NugsNet                 316\n",
      "LiveXLive               200\n",
      "Qoboz                   104\n",
      "Midwest Tape            102\n",
      "Deezer                   51\n",
      "Anghami                  46\n",
      "Sonos                    23\n",
      "Recisio                  22\n",
      "Smithsonian              21\n",
      "Ultimate Guitar          19\n",
      "PowerMusic                8\n",
      "Wolfgangs                 4\n",
      "Fan Label                 4\n",
      "MixCloud                  4\n",
      "Pacemaker                 3\n",
      "Classical Archives        2\n",
      "MonkingMe                 1\n",
      "Name: DSP, dtype: int64\n"
     ]
    }
   ],
   "source": [
    "rows_per_DSP = mlc_df['DSP'].value_counts()\n",
    "print(rows_per_DSP)"
   ]
  },
  {
   "cell_type": "code",
   "execution_count": 15,
   "id": "3c7276a4",
   "metadata": {},
   "outputs": [
    {
     "name": "stdout",
     "output_type": "stream",
     "text": [
      "                   DSP  Songs_Per_DSP\n",
      "0              Spotify          32268\n",
      "1                Apple          22200\n",
      "2               Amazon          14438\n",
      "3              Pandora          13777\n",
      "4                Tidal           3521\n",
      "5              YouTube           2752\n",
      "6           SoundCloud           2122\n",
      "7                  GTL           1090\n",
      "8              Melodyv            829\n",
      "9               Trebel            817\n",
      "10        iHeart Radio            707\n",
      "11           AudioMack            550\n",
      "12             NugsNet            316\n",
      "13           LiveXLive            200\n",
      "14               Qoboz            104\n",
      "15        Midwest Tape            102\n",
      "16              Deezer             51\n",
      "17             Anghami             46\n",
      "18               Sonos             23\n",
      "19             Recisio             22\n",
      "20         Smithsonian             21\n",
      "21     Ultimate Guitar             19\n",
      "22          PowerMusic              8\n",
      "23           Wolfgangs              4\n",
      "24           Fan Label              4\n",
      "25            MixCloud              4\n",
      "26           Pacemaker              3\n",
      "27  Classical Archives              2\n",
      "28           MonkingMe              1\n"
     ]
    }
   ],
   "source": [
    "rows_df = pd.DataFrame(rows_per_DSP)\n",
    "rows_df.reset_index(inplace=True)\n",
    "rows_df.columns = ['DSP', 'Songs_Per_DSP']\n",
    "print(rows_df)"
   ]
  },
  {
   "cell_type": "code",
   "execution_count": 16,
   "id": "835e259e",
   "metadata": {},
   "outputs": [
    {
     "name": "stdout",
     "output_type": "stream",
     "text": [
      "                   DSP    SW_Avg  Streams_Per_DSP\n",
      "0   Classical Archives  1.000000               20\n",
      "1                Qoboz  0.903846             6621\n",
      "2               Deezer  0.862745            87830\n",
      "3              Spotify  0.854376       2552563722\n",
      "4                Apple  0.808514       1606453701\n",
      "5              Recisio  0.545455               29\n",
      "6               Amazon  0.261740        151199800\n",
      "7              Pandora  0.244828        874236566\n",
      "8              Melodyv  0.114596          5384657\n",
      "9            LiveXLive  0.070000           101307\n",
      "10                 GTL  0.028440          1280764\n",
      "11               Tidal  0.003692         48793126\n",
      "12         Smithsonian  0.000000              208\n",
      "13     Ultimate Guitar  0.000000              309\n",
      "14              Trebel  0.000000           149347\n",
      "15           Wolfgangs  0.000000              965\n",
      "16          SoundCloud  0.000000        166813813\n",
      "17               Sonos  0.000000            31402\n",
      "18             YouTube  0.000000        158031119\n",
      "19           Pacemaker  0.000000             1707\n",
      "20          PowerMusic  0.000000             3154\n",
      "21             Anghami  0.000000            34682\n",
      "22             NugsNet  0.000000           110709\n",
      "23           MonkingMe  0.000000             3549\n",
      "24            MixCloud  0.000000             2661\n",
      "25        Midwest Tape  0.000000            85708\n",
      "26           Fan Label  0.000000               91\n",
      "27           AudioMack  0.000000         11991559\n",
      "28        iHeart Radio  0.000000          2141959\n"
     ]
    }
   ],
   "source": [
    "DSP_df1 = pd.merge(songwriter_df, streams_df, on=['DSP'], how='inner')\n",
    "print(DSP_df1)"
   ]
  },
  {
   "cell_type": "code",
   "execution_count": 17,
   "id": "6c90d65f",
   "metadata": {},
   "outputs": [
    {
     "name": "stdout",
     "output_type": "stream",
     "text": [
      "                   DSP    SW_Avg  Streams_Per_DSP  Songs_Per_DSP\n",
      "0   Classical Archives  1.000000               20              2\n",
      "1                Qoboz  0.903846             6621            104\n",
      "2               Deezer  0.862745            87830             51\n",
      "3              Spotify  0.854376       2552563722          32268\n",
      "4                Apple  0.808514       1606453701          22200\n",
      "5              Recisio  0.545455               29             22\n",
      "6               Amazon  0.261740        151199800          14438\n",
      "7              Pandora  0.244828        874236566          13777\n",
      "8              Melodyv  0.114596          5384657            829\n",
      "9            LiveXLive  0.070000           101307            200\n",
      "10                 GTL  0.028440          1280764           1090\n",
      "11               Tidal  0.003692         48793126           3521\n",
      "12         Smithsonian  0.000000              208             21\n",
      "13     Ultimate Guitar  0.000000              309             19\n",
      "14              Trebel  0.000000           149347            817\n",
      "15           Wolfgangs  0.000000              965              4\n",
      "16          SoundCloud  0.000000        166813813           2122\n",
      "17               Sonos  0.000000            31402             23\n",
      "18             YouTube  0.000000        158031119           2752\n",
      "19           Pacemaker  0.000000             1707              3\n",
      "20          PowerMusic  0.000000             3154              8\n",
      "21             Anghami  0.000000            34682             46\n",
      "22             NugsNet  0.000000           110709            316\n",
      "23           MonkingMe  0.000000             3549              1\n",
      "24            MixCloud  0.000000             2661              4\n",
      "25        Midwest Tape  0.000000            85708            102\n",
      "26           Fan Label  0.000000               91              4\n",
      "27           AudioMack  0.000000         11991559            550\n",
      "28        iHeart Radio  0.000000          2141959            707\n"
     ]
    }
   ],
   "source": [
    "DSP_df2 = pd.merge(DSP_df1, rows_df, on=['DSP'], how='inner')\n",
    "print(DSP_df2)"
   ]
  },
  {
   "cell_type": "code",
   "execution_count": 18,
   "id": "551d780d",
   "metadata": {},
   "outputs": [
    {
     "name": "stdout",
     "output_type": "stream",
     "text": [
      "                   DSP    SW_Avg  Streams_Per_DSP  Songs_Per_DSP\n",
      "3              Spotify  0.854376       2552563722          32268\n",
      "4                Apple  0.808514       1606453701          22200\n",
      "7              Pandora  0.244828        874236566          13777\n",
      "16          SoundCloud  0.000000        166813813           2122\n",
      "18             YouTube  0.000000        158031119           2752\n",
      "6               Amazon  0.261740        151199800          14438\n",
      "11               Tidal  0.003692         48793126           3521\n",
      "27           AudioMack  0.000000         11991559            550\n",
      "8              Melodyv  0.114596          5384657            829\n",
      "28        iHeart Radio  0.000000          2141959            707\n",
      "10                 GTL  0.028440          1280764           1090\n",
      "14              Trebel  0.000000           149347            817\n",
      "22             NugsNet  0.000000           110709            316\n",
      "9            LiveXLive  0.070000           101307            200\n",
      "2               Deezer  0.862745            87830             51\n",
      "25        Midwest Tape  0.000000            85708            102\n",
      "21             Anghami  0.000000            34682             46\n",
      "17               Sonos  0.000000            31402             23\n",
      "1                Qoboz  0.903846             6621            104\n",
      "23           MonkingMe  0.000000             3549              1\n",
      "20          PowerMusic  0.000000             3154              8\n",
      "24            MixCloud  0.000000             2661              4\n",
      "19           Pacemaker  0.000000             1707              3\n",
      "15           Wolfgangs  0.000000              965              4\n",
      "13     Ultimate Guitar  0.000000              309             19\n",
      "12         Smithsonian  0.000000              208             21\n",
      "26           Fan Label  0.000000               91              4\n",
      "5              Recisio  0.545455               29             22\n",
      "0   Classical Archives  1.000000               20              2\n"
     ]
    }
   ],
   "source": [
    "DSP_df2 = DSP_df2.sort_values(by=['Streams_Per_DSP'], ascending=False)\n",
    "print(DSP_df2)"
   ]
  },
  {
   "cell_type": "code",
   "execution_count": 19,
   "id": "55a5130c",
   "metadata": {},
   "outputs": [
    {
     "name": "stdout",
     "output_type": "stream",
     "text": [
      "           DSP    SW_Avg  Streams_Per_DSP  Songs_Per_DSP\n",
      "3      Spotify  0.854376       2552563722          32268\n",
      "4        Apple  0.808514       1606453701          22200\n",
      "7      Pandora  0.244828        874236566          13777\n",
      "16  SoundCloud  0.000000        166813813           2122\n",
      "18     YouTube  0.000000        158031119           2752\n"
     ]
    }
   ],
   "source": [
    "top_5 = DSP_df2.iloc[:5]\n",
    "print(top_5)"
   ]
  },
  {
   "cell_type": "code",
   "execution_count": 20,
   "id": "91247c64",
   "metadata": {},
   "outputs": [
    {
     "data": {
      "image/png": "[encoded data removed]",
      "text/plain": [
       "<Figure size 432x288 with 1 Axes>"
      ]
     },
     "metadata": {
      "needs_background": "light"
     },
     "output_type": "display_data"
    }
   ],
   "source": [
    "plt.bar(top_5.DSP, top_5.SW_Avg)\n",
    "plt.ylabel('Percentage of Songwriter Info Provided')\n",
    "plt.title('Top 5 DSPs by Percentage of Songwriter Info Provided');"
   ]
  },
  {
   "cell_type": "code",
   "execution_count": 21,
   "id": "a25568af",
   "metadata": {},
   "outputs": [
    {
     "data": {
      "image/png": "[encoded data removed]",
      "text/plain": [
       "<Figure size 432x288 with 1 Axes>"
      ]
     },
     "metadata": {
      "needs_background": "light"
     },
     "output_type": "display_data"
    }
   ],
   "source": [
    "plt.bar(top_5.DSP, top_5.Streams_Per_DSP)\n",
    "plt.ylabel('Number of Streams')\n",
    "plt.title('Top 5 DSPs by Number of Streams');"
   ]
  },
  {
   "cell_type": "code",
   "execution_count": 22,
   "id": "5da76ba6",
   "metadata": {},
   "outputs": [
    {
     "data": {
      "image/png": "[encoded data removed]",
      "text/plain": [
       "<Figure size 432x288 with 1 Axes>"
      ]
     },
     "metadata": {
      "needs_background": "light"
     },
     "output_type": "display_data"
    }
   ],
   "source": [
    "plt.bar(top_5.DSP, top_5.Songs_Per_DSP)\n",
    "plt.ylabel('Number of Songs Streamed')\n",
    "plt.title('Top 5 DSPs by Number of Songs Streamed');"
   ]
  },
  {
   "cell_type": "markdown",
   "id": "4cf4f89d",
   "metadata": {},
   "source": [
    "### Looking at top 7 DSPs by Stream Count to evaluate MLC's major players more closely -- previously did top 5, but the major cutoff is after the 7th, so we're including the next two. Redo!"
   ]
  },
  {
   "cell_type": "code",
   "execution_count": 23,
   "id": "fdde5c99",
   "metadata": {},
   "outputs": [
    {
     "name": "stdout",
     "output_type": "stream",
     "text": [
      "           DSP    SW_Avg  Streams_Per_DSP  Songs_Per_DSP\n",
      "3      Spotify  0.854376       2552563722          32268\n",
      "4        Apple  0.808514       1606453701          22200\n",
      "7      Pandora  0.244828        874236566          13777\n",
      "16  SoundCloud  0.000000        166813813           2122\n",
      "18     YouTube  0.000000        158031119           2752\n",
      "6       Amazon  0.261740        151199800          14438\n",
      "11       Tidal  0.003692         48793126           3521\n"
     ]
    }
   ],
   "source": [
    "top_7 = DSP_df2.head(7)\n",
    "print(top_7)"
   ]
  },
  {
   "cell_type": "code",
   "execution_count": 24,
   "id": "3e6459a5",
   "metadata": {},
   "outputs": [
    {
     "data": {
      "image/png": "[encoded data removed]",
      "text/plain": [
       "<Figure size 864x432 with 1 Axes>"
      ]
     },
     "metadata": {
      "needs_background": "light"
     },
     "output_type": "display_data"
    }
   ],
   "source": [
    "plt.figure(figsize=(12, 6))\n",
    "plt.bar(top_7.DSP, top_7.Streams_Per_DSP)\n",
    "plt.ylabel('Number of Streams') # Number of Streams times 10^9\n",
    "plt.xticks(rotation = 50)\n",
    "plt.title('Top 7 DSPs by Number of Streams');"
   ]
  },
  {
   "cell_type": "markdown",
   "id": "b7f26018",
   "metadata": {},
   "source": [
    "##### formatting notes: want to increase font size, ideally would like the 1e9 bit to go away and either have the axis tick labels be their full billion-scale numbers OR have the axis label include \"(in billions)\" or something. More clear title. I'll come back to this."
   ]
  },
  {
   "cell_type": "code",
   "execution_count": 31,
   "id": "5083f59f",
   "metadata": {},
   "outputs": [
    {
     "data": {
      "image/png": "[encoded data removed]",
      "text/plain": [
       "<Figure size 864x432 with 1 Axes>"
      ]
     },
     "metadata": {
      "needs_background": "light"
     },
     "output_type": "display_data"
    }
   ],
   "source": [
    "plt.figure(figsize=(12, 6))\n",
    "plt.bar(top_7.DSP, top_7.SW_Avg)\n",
    "plt.ylabel('Percentage of Songwriter Data Provided')\n",
    "plt.yticks([0.2, 0.4, 0.6, 0.8, 1.0])\n",
    "plt.xticks(rotation = 50)\n",
    "plt.title('Top 7 DSPs by Songwriter Data Provided');"
   ]
  },
  {
   "cell_type": "markdown",
   "id": "115c8ac5",
   "metadata": {},
   "source": [
    "##### formatting notes: it should be in descending order? can color-code DSPs so that if each bar graph is sorted by size, the reordered DSPs are still identifiable between graphs? Need to figure out title of chart and axis to make it more clear, plus font, etc... And can the y axis ticks be 20%, etc, not 0.2?\n",
    "##### also, should these charts have data labels identifying the actual quantity each bar represents?"
   ]
  },
  {
   "cell_type": "code",
   "execution_count": 34,
   "id": "979ab83a",
   "metadata": {
    "scrolled": true
   },
   "outputs": [
    {
     "data": {
      "image/png": "[encoded data removed]",
      "text/plain": [
       "<Figure size 864x432 with 1 Axes>"
      ]
     },
     "metadata": {
      "needs_background": "light"
     },
     "output_type": "display_data"
    }
   ],
   "source": [
    "plt.figure(figsize=(12, 6))\n",
    "plt.bar(top_7.DSP, top_7.Songs_Per_DSP)\n",
    "plt.ylabel('Number of Songs Streamed')\n",
    "plt.yticks([5000, 10000, 15000, 20000, 25000, 30000, 35000])\n",
    "plt.xticks(rotation = 50)\n",
    "plt.title('Top 7 DSPs by Number of Songs Streamed');"
   ]
  }
 ],
 "metadata": {
  "kernelspec": {
   "display_name": "Python 3 (ipykernel)",
   "language": "python",
   "name": "python3"
  },
  "language_info": {
   "codemirror_mode": {
    "name": "ipython",
    "version": 3
   },
   "file_extension": ".py",
   "mimetype": "text/x-python",
   "name": "python",
   "nbconvert_exporter": "python",
   "pygments_lexer": "ipython3",
   "version": "3.9.7"
  }
 },
 "nbformat": 4,
 "nbformat_minor": 5
}
