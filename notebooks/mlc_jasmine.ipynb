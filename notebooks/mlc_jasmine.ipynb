{
 "cells": [
  {
   "cell_type": "markdown",
   "id": "9b9d04b3",
   "metadata": {},
   "source": [
    "# MLC Project by NaN Nagini"
   ]
  },
  {
   "cell_type": "markdown",
   "id": "d243ebd2",
   "metadata": {},
   "source": [
    "#### First we import the 100,000 row dataset (source: Andrew Mitchell at Mechanical Licensing Collective)\n",
    "- Task: Investigate the Songwriter's Listed column and find patterns from that"
   ]
  },
  {
   "cell_type": "code",
   "execution_count": 1,
   "id": "0148c69c",
   "metadata": {
    "scrolled": true
   },
   "outputs": [],
   "source": [
    "import pandas as pd\n",
    "import numpy as np\n",
    "import matplotlib.ticker as mtick\n",
    "import matplotlib.pyplot as plt\n",
    "import seaborn as sns\n",
    "%matplotlib inline"
   ]
  },
  {
   "cell_type": "code",
   "execution_count": 2,
   "id": "96b603f5",
   "metadata": {
    "scrolled": false
   },
   "outputs": [
    {
     "data": {
      "text/html": [
       "<div>\n",
       "<style scoped>\n",
       "    .dataframe tbody tr th:only-of-type {\n",
       "        vertical-align: middle;\n",
       "    }\n",
       "\n",
       "    .dataframe tbody tr th {\n",
       "        vertical-align: top;\n",
       "    }\n",
       "\n",
       "    .dataframe thead th {\n",
       "        text-align: right;\n",
       "    }\n",
       "</style>\n",
       "<table border=\"1\" class=\"dataframe\">\n",
       "  <thead>\n",
       "    <tr style=\"text-align: right;\">\n",
       "      <th></th>\n",
       "      <th>If</th>\n",
       "      <th>Country Code</th>\n",
       "      <th>Registrant Code</th>\n",
       "      <th>Year of Reference</th>\n",
       "      <th>Usage Period</th>\n",
       "      <th>Streaming Platform (DSP)</th>\n",
       "      <th>Streams</th>\n",
       "      <th>Recording Artist</th>\n",
       "      <th>Recording Label</th>\n",
       "      <th>Recording Title</th>\n",
       "      <th>Release Title</th>\n",
       "      <th>Recording Duration (Seconds)</th>\n",
       "      <th>Songwriter's Listed (1 = \"Yes\", 0 = \"No\")</th>\n",
       "    </tr>\n",
       "  </thead>\n",
       "  <tbody>\n",
       "    <tr>\n",
       "      <th>0</th>\n",
       "      <td>USUG12101043</td>\n",
       "      <td>US</td>\n",
       "      <td>UG1</td>\n",
       "      <td>21.0</td>\n",
       "      <td>NaN</td>\n",
       "      <td>AudioMack</td>\n",
       "      <td>10,175</td>\n",
       "      <td>Future</td>\n",
       "      <td>NaN</td>\n",
       "      <td>FUTURE FT DEJ LOAF HEY THERE PROD BY DDS</td>\n",
       "      <td>#unknown#</td>\n",
       "      <td>181</td>\n",
       "      <td>0</td>\n",
       "    </tr>\n",
       "    <tr>\n",
       "      <th>1</th>\n",
       "      <td>USRC12100543</td>\n",
       "      <td>US</td>\n",
       "      <td>RC1</td>\n",
       "      <td>21.0</td>\n",
       "      <td>NaN</td>\n",
       "      <td>SoundCloud</td>\n",
       "      <td>8,597</td>\n",
       "      <td>LUCKY3RD</td>\n",
       "      <td>LUCKY3RD</td>\n",
       "      <td>Keep It Cool  LUCKY3RD</td>\n",
       "      <td>Keep It Cool  LUCKY3RD</td>\n",
       "      <td>133</td>\n",
       "      <td>0</td>\n",
       "    </tr>\n",
       "    <tr>\n",
       "      <th>2</th>\n",
       "      <td>USSM12102263</td>\n",
       "      <td>US</td>\n",
       "      <td>SM1</td>\n",
       "      <td>21.0</td>\n",
       "      <td>NaN</td>\n",
       "      <td>SoundCloud</td>\n",
       "      <td>261,280</td>\n",
       "      <td>LUCKY3RD</td>\n",
       "      <td>LUCKY3RD</td>\n",
       "      <td>Life Goes On  LUCKY3RD</td>\n",
       "      <td>Life Goes On  LUCKY3RD</td>\n",
       "      <td>171</td>\n",
       "      <td>0</td>\n",
       "    </tr>\n",
       "    <tr>\n",
       "      <th>3</th>\n",
       "      <td>USLD91731547</td>\n",
       "      <td>US</td>\n",
       "      <td>LD9</td>\n",
       "      <td>17.0</td>\n",
       "      <td>2/1/2021</td>\n",
       "      <td>Trebel</td>\n",
       "      <td>5</td>\n",
       "      <td>Bachata &amp; Merengue Mix</td>\n",
       "      <td>Orchard</td>\n",
       "      <td>No dudes de mi- Merengue &amp; Bachata Mix</td>\n",
       "      <td>Mega Mix 2010</td>\n",
       "      <td>1250</td>\n",
       "      <td>0</td>\n",
       "    </tr>\n",
       "    <tr>\n",
       "      <th>4</th>\n",
       "      <td>USAT22007048</td>\n",
       "      <td>US</td>\n",
       "      <td>AT2</td>\n",
       "      <td>20.0</td>\n",
       "      <td>NaN</td>\n",
       "      <td>AudioMack</td>\n",
       "      <td>62,105</td>\n",
       "      <td>Foolio</td>\n",
       "      <td>NaN</td>\n",
       "      <td>WHEN I SEE YOU REMIX</td>\n",
       "      <td>#unknown#</td>\n",
       "      <td>187</td>\n",
       "      <td>0</td>\n",
       "    </tr>\n",
       "  </tbody>\n",
       "</table>\n",
       "</div>"
      ],
      "text/plain": [
       "            If  Country Code Registrant Code  Year of Reference Usage Period  \\\n",
       "0  USUG12101043           US             UG1               21.0          NaN   \n",
       "1  USRC12100543           US             RC1               21.0          NaN   \n",
       "2  USSM12102263           US             SM1               21.0          NaN   \n",
       "3  USLD91731547           US             LD9               17.0     2/1/2021   \n",
       "4  USAT22007048           US             AT2               20.0          NaN   \n",
       "\n",
       "  Streaming Platform (DSP)  Streams        Recording Artist Recording Label  \\\n",
       "0                AudioMack   10,175                  Future             NaN   \n",
       "1               SoundCloud    8,597                LUCKY3RD        LUCKY3RD   \n",
       "2               SoundCloud  261,280                LUCKY3RD        LUCKY3RD   \n",
       "3                   Trebel        5  Bachata & Merengue Mix         Orchard   \n",
       "4                AudioMack   62,105                  Foolio             NaN   \n",
       "\n",
       "                             Recording Title            Release Title  \\\n",
       "0   FUTURE FT DEJ LOAF HEY THERE PROD BY DDS                #unknown#   \n",
       "1                     Keep It Cool  LUCKY3RD   Keep It Cool  LUCKY3RD   \n",
       "2                     Life Goes On  LUCKY3RD   Life Goes On  LUCKY3RD   \n",
       "3     No dudes de mi- Merengue & Bachata Mix            Mega Mix 2010   \n",
       "4                       WHEN I SEE YOU REMIX                #unknown#   \n",
       "\n",
       "   Recording Duration (Seconds)  Songwriter's Listed (1 = \"Yes\", 0 = \"No\")  \n",
       "0                           181                                          0  \n",
       "1                           133                                          0  \n",
       "2                           171                                          0  \n",
       "3                          1250                                          0  \n",
       "4                           187                                          0  "
      ]
     },
     "execution_count": 2,
     "metadata": {},
     "output_type": "execute_result"
    }
   ],
   "source": [
    "# Import mlc_data.csv\n",
    "mlc_df = pd.read_csv(\"../data/mlc_data.csv\")\n",
    "mlc_df.head()"
   ]
  },
  {
   "cell_type": "markdown",
   "id": "a822d714",
   "metadata": {},
   "source": [
    "## Clean up dataset"
   ]
  },
  {
   "cell_type": "code",
   "execution_count": 3,
   "id": "19a5626d",
   "metadata": {
    "scrolled": false
   },
   "outputs": [
    {
     "data": {
      "text/html": [
       "<div>\n",
       "<style scoped>\n",
       "    .dataframe tbody tr th:only-of-type {\n",
       "        vertical-align: middle;\n",
       "    }\n",
       "\n",
       "    .dataframe tbody tr th {\n",
       "        vertical-align: top;\n",
       "    }\n",
       "\n",
       "    .dataframe thead th {\n",
       "        text-align: right;\n",
       "    }\n",
       "</style>\n",
       "<table border=\"1\" class=\"dataframe\">\n",
       "  <thead>\n",
       "    <tr style=\"text-align: right;\">\n",
       "      <th></th>\n",
       "      <th>ISRC</th>\n",
       "      <th>Country</th>\n",
       "      <th>Registrant</th>\n",
       "      <th>Release_Year</th>\n",
       "      <th>Period</th>\n",
       "      <th>DSP</th>\n",
       "      <th>Streams</th>\n",
       "      <th>Artist</th>\n",
       "      <th>Label</th>\n",
       "      <th>Song</th>\n",
       "      <th>Album</th>\n",
       "      <th>Duration</th>\n",
       "      <th>Songwriter?</th>\n",
       "    </tr>\n",
       "  </thead>\n",
       "  <tbody>\n",
       "    <tr>\n",
       "      <th>0</th>\n",
       "      <td>USUG12101043</td>\n",
       "      <td>US</td>\n",
       "      <td>UG1</td>\n",
       "      <td>21.0</td>\n",
       "      <td>NaN</td>\n",
       "      <td>AudioMack</td>\n",
       "      <td>10,175</td>\n",
       "      <td>Future</td>\n",
       "      <td>NaN</td>\n",
       "      <td>FUTURE FT DEJ LOAF HEY THERE PROD BY DDS</td>\n",
       "      <td>#unknown#</td>\n",
       "      <td>181</td>\n",
       "      <td>0</td>\n",
       "    </tr>\n",
       "    <tr>\n",
       "      <th>1</th>\n",
       "      <td>USRC12100543</td>\n",
       "      <td>US</td>\n",
       "      <td>RC1</td>\n",
       "      <td>21.0</td>\n",
       "      <td>NaN</td>\n",
       "      <td>SoundCloud</td>\n",
       "      <td>8,597</td>\n",
       "      <td>LUCKY3RD</td>\n",
       "      <td>LUCKY3RD</td>\n",
       "      <td>Keep It Cool  LUCKY3RD</td>\n",
       "      <td>Keep It Cool  LUCKY3RD</td>\n",
       "      <td>133</td>\n",
       "      <td>0</td>\n",
       "    </tr>\n",
       "    <tr>\n",
       "      <th>2</th>\n",
       "      <td>USSM12102263</td>\n",
       "      <td>US</td>\n",
       "      <td>SM1</td>\n",
       "      <td>21.0</td>\n",
       "      <td>NaN</td>\n",
       "      <td>SoundCloud</td>\n",
       "      <td>261,280</td>\n",
       "      <td>LUCKY3RD</td>\n",
       "      <td>LUCKY3RD</td>\n",
       "      <td>Life Goes On  LUCKY3RD</td>\n",
       "      <td>Life Goes On  LUCKY3RD</td>\n",
       "      <td>171</td>\n",
       "      <td>0</td>\n",
       "    </tr>\n",
       "    <tr>\n",
       "      <th>3</th>\n",
       "      <td>USLD91731547</td>\n",
       "      <td>US</td>\n",
       "      <td>LD9</td>\n",
       "      <td>17.0</td>\n",
       "      <td>2/1/2021</td>\n",
       "      <td>Trebel</td>\n",
       "      <td>5</td>\n",
       "      <td>Bachata &amp; Merengue Mix</td>\n",
       "      <td>Orchard</td>\n",
       "      <td>No dudes de mi- Merengue &amp; Bachata Mix</td>\n",
       "      <td>Mega Mix 2010</td>\n",
       "      <td>1250</td>\n",
       "      <td>0</td>\n",
       "    </tr>\n",
       "    <tr>\n",
       "      <th>4</th>\n",
       "      <td>USAT22007048</td>\n",
       "      <td>US</td>\n",
       "      <td>AT2</td>\n",
       "      <td>20.0</td>\n",
       "      <td>NaN</td>\n",
       "      <td>AudioMack</td>\n",
       "      <td>62,105</td>\n",
       "      <td>Foolio</td>\n",
       "      <td>NaN</td>\n",
       "      <td>WHEN I SEE YOU REMIX</td>\n",
       "      <td>#unknown#</td>\n",
       "      <td>187</td>\n",
       "      <td>0</td>\n",
       "    </tr>\n",
       "  </tbody>\n",
       "</table>\n",
       "</div>"
      ],
      "text/plain": [
       "           ISRC Country Registrant  Release_Year    Period         DSP  \\\n",
       "0  USUG12101043      US        UG1          21.0       NaN   AudioMack   \n",
       "1  USRC12100543      US        RC1          21.0       NaN  SoundCloud   \n",
       "2  USSM12102263      US        SM1          21.0       NaN  SoundCloud   \n",
       "3  USLD91731547      US        LD9          17.0  2/1/2021      Trebel   \n",
       "4  USAT22007048      US        AT2          20.0       NaN   AudioMack   \n",
       "\n",
       "   Streams                  Artist     Label  \\\n",
       "0   10,175                  Future       NaN   \n",
       "1    8,597                LUCKY3RD  LUCKY3RD   \n",
       "2  261,280                LUCKY3RD  LUCKY3RD   \n",
       "3        5  Bachata & Merengue Mix   Orchard   \n",
       "4   62,105                  Foolio       NaN   \n",
       "\n",
       "                                        Song                    Album  \\\n",
       "0   FUTURE FT DEJ LOAF HEY THERE PROD BY DDS                #unknown#   \n",
       "1                     Keep It Cool  LUCKY3RD   Keep It Cool  LUCKY3RD   \n",
       "2                     Life Goes On  LUCKY3RD   Life Goes On  LUCKY3RD   \n",
       "3     No dudes de mi- Merengue & Bachata Mix            Mega Mix 2010   \n",
       "4                       WHEN I SEE YOU REMIX                #unknown#   \n",
       "\n",
       "   Duration  Songwriter?  \n",
       "0       181            0  \n",
       "1       133            0  \n",
       "2       171            0  \n",
       "3      1250            0  \n",
       "4       187            0  "
      ]
     },
     "execution_count": 3,
     "metadata": {},
     "output_type": "execute_result"
    }
   ],
   "source": [
    "# Abi: Rename column If to ISRC -- ORIGINAL 'If ' column HAS A SPACE after it!!\n",
    "mlc_df.columns = ['ISRC', 'Country', 'Registrant', 'Release_Year', 'Period', 'DSP', 'Streams', 'Artist', 'Label', 'Song', 'Album', 'Duration', 'Songwriter?']\n",
    "mlc_df.head()"
   ]
  },
  {
   "cell_type": "code",
   "execution_count": 4,
   "id": "1fdc80e0",
   "metadata": {},
   "outputs": [
    {
     "data": {
      "text/html": [
       "<div>\n",
       "<style scoped>\n",
       "    .dataframe tbody tr th:only-of-type {\n",
       "        vertical-align: middle;\n",
       "    }\n",
       "\n",
       "    .dataframe tbody tr th {\n",
       "        vertical-align: top;\n",
       "    }\n",
       "\n",
       "    .dataframe thead th {\n",
       "        text-align: right;\n",
       "    }\n",
       "</style>\n",
       "<table border=\"1\" class=\"dataframe\">\n",
       "  <thead>\n",
       "    <tr style=\"text-align: right;\">\n",
       "      <th></th>\n",
       "      <th>ISRC</th>\n",
       "      <th>Country</th>\n",
       "      <th>Registrant</th>\n",
       "      <th>Release_Year</th>\n",
       "      <th>Period</th>\n",
       "      <th>DSP</th>\n",
       "      <th>Streams</th>\n",
       "      <th>Artist</th>\n",
       "      <th>Label</th>\n",
       "      <th>Song</th>\n",
       "      <th>Album</th>\n",
       "      <th>Duration</th>\n",
       "      <th>Songwriter?</th>\n",
       "    </tr>\n",
       "  </thead>\n",
       "  <tbody>\n",
       "    <tr>\n",
       "      <th>0</th>\n",
       "      <td>USUG12101043</td>\n",
       "      <td>US</td>\n",
       "      <td>UG1</td>\n",
       "      <td>21.0</td>\n",
       "      <td>NaN</td>\n",
       "      <td>AudioMack</td>\n",
       "      <td>10175</td>\n",
       "      <td>Future</td>\n",
       "      <td>NaN</td>\n",
       "      <td>FUTURE FT DEJ LOAF HEY THERE PROD BY DDS</td>\n",
       "      <td>#unknown#</td>\n",
       "      <td>181</td>\n",
       "      <td>0</td>\n",
       "    </tr>\n",
       "    <tr>\n",
       "      <th>1</th>\n",
       "      <td>USRC12100543</td>\n",
       "      <td>US</td>\n",
       "      <td>RC1</td>\n",
       "      <td>21.0</td>\n",
       "      <td>NaN</td>\n",
       "      <td>SoundCloud</td>\n",
       "      <td>8597</td>\n",
       "      <td>LUCKY3RD</td>\n",
       "      <td>LUCKY3RD</td>\n",
       "      <td>Keep It Cool  LUCKY3RD</td>\n",
       "      <td>Keep It Cool  LUCKY3RD</td>\n",
       "      <td>133</td>\n",
       "      <td>0</td>\n",
       "    </tr>\n",
       "    <tr>\n",
       "      <th>2</th>\n",
       "      <td>USSM12102263</td>\n",
       "      <td>US</td>\n",
       "      <td>SM1</td>\n",
       "      <td>21.0</td>\n",
       "      <td>NaN</td>\n",
       "      <td>SoundCloud</td>\n",
       "      <td>261280</td>\n",
       "      <td>LUCKY3RD</td>\n",
       "      <td>LUCKY3RD</td>\n",
       "      <td>Life Goes On  LUCKY3RD</td>\n",
       "      <td>Life Goes On  LUCKY3RD</td>\n",
       "      <td>171</td>\n",
       "      <td>0</td>\n",
       "    </tr>\n",
       "    <tr>\n",
       "      <th>3</th>\n",
       "      <td>USLD91731547</td>\n",
       "      <td>US</td>\n",
       "      <td>LD9</td>\n",
       "      <td>17.0</td>\n",
       "      <td>2/1/2021</td>\n",
       "      <td>Trebel</td>\n",
       "      <td>5</td>\n",
       "      <td>Bachata &amp; Merengue Mix</td>\n",
       "      <td>Orchard</td>\n",
       "      <td>No dudes de mi- Merengue &amp; Bachata Mix</td>\n",
       "      <td>Mega Mix 2010</td>\n",
       "      <td>1250</td>\n",
       "      <td>0</td>\n",
       "    </tr>\n",
       "    <tr>\n",
       "      <th>4</th>\n",
       "      <td>USAT22007048</td>\n",
       "      <td>US</td>\n",
       "      <td>AT2</td>\n",
       "      <td>20.0</td>\n",
       "      <td>NaN</td>\n",
       "      <td>AudioMack</td>\n",
       "      <td>62105</td>\n",
       "      <td>Foolio</td>\n",
       "      <td>NaN</td>\n",
       "      <td>WHEN I SEE YOU REMIX</td>\n",
       "      <td>#unknown#</td>\n",
       "      <td>187</td>\n",
       "      <td>0</td>\n",
       "    </tr>\n",
       "  </tbody>\n",
       "</table>\n",
       "</div>"
      ],
      "text/plain": [
       "           ISRC Country Registrant  Release_Year    Period         DSP  \\\n",
       "0  USUG12101043      US        UG1          21.0       NaN   AudioMack   \n",
       "1  USRC12100543      US        RC1          21.0       NaN  SoundCloud   \n",
       "2  USSM12102263      US        SM1          21.0       NaN  SoundCloud   \n",
       "3  USLD91731547      US        LD9          17.0  2/1/2021      Trebel   \n",
       "4  USAT22007048      US        AT2          20.0       NaN   AudioMack   \n",
       "\n",
       "   Streams                  Artist     Label  \\\n",
       "0    10175                  Future       NaN   \n",
       "1     8597                LUCKY3RD  LUCKY3RD   \n",
       "2   261280                LUCKY3RD  LUCKY3RD   \n",
       "3        5  Bachata & Merengue Mix   Orchard   \n",
       "4    62105                  Foolio       NaN   \n",
       "\n",
       "                                        Song                    Album  \\\n",
       "0   FUTURE FT DEJ LOAF HEY THERE PROD BY DDS                #unknown#   \n",
       "1                     Keep It Cool  LUCKY3RD   Keep It Cool  LUCKY3RD   \n",
       "2                     Life Goes On  LUCKY3RD   Life Goes On  LUCKY3RD   \n",
       "3     No dudes de mi- Merengue & Bachata Mix            Mega Mix 2010   \n",
       "4                       WHEN I SEE YOU REMIX                #unknown#   \n",
       "\n",
       "   Duration  Songwriter?  \n",
       "0       181            0  \n",
       "1       133            0  \n",
       "2       171            0  \n",
       "3      1250            0  \n",
       "4       187            0  "
      ]
     },
     "execution_count": 4,
     "metadata": {},
     "output_type": "execute_result"
    }
   ],
   "source": [
    "# Abi: Change all Stream values to numeric without the comma\n",
    "mlc_df[\"Streams\"] = mlc_df[\"Streams\"].str.replace(\",\", \"\") # Remove comma\n",
    "mlc_df[\"Streams\"] = mlc_df[\"Streams\"].str.replace(\" \", \"\") # Remove any spaces\n",
    "mlc_df[[\"Streams\"]] = mlc_df[[\"Streams\"]].apply(pd.to_numeric) # Cast to numerical datatype to do calculations\n",
    "mlc_df.head()"
   ]
  },
  {
   "cell_type": "code",
   "execution_count": 5,
   "id": "afb2ef89",
   "metadata": {
    "scrolled": false
   },
   "outputs": [
    {
     "name": "stdout",
     "output_type": "stream",
     "text": [
      "(100000, 13)\n",
      "ISRC             object\n",
      "Country          object\n",
      "Registrant       object\n",
      "Release_Year    float64\n",
      "Period           object\n",
      "DSP              object\n",
      "Streams           int64\n",
      "Artist           object\n",
      "Label            object\n",
      "Song             object\n",
      "Album            object\n",
      "Duration          int64\n",
      "Songwriter?       int64\n",
      "dtype: object\n"
     ]
    }
   ],
   "source": [
    "# Inspecting mlc_df after data cleaning\n",
    "print(mlc_df.shape) # 100,000 rows and 13 columns\n",
    "print(mlc_df.dtypes)"
   ]
  },
  {
   "cell_type": "code",
   "execution_count": 6,
   "id": "ed04113e",
   "metadata": {},
   "outputs": [
    {
     "data": {
      "text/html": [
       "<div>\n",
       "<style scoped>\n",
       "    .dataframe tbody tr th:only-of-type {\n",
       "        vertical-align: middle;\n",
       "    }\n",
       "\n",
       "    .dataframe tbody tr th {\n",
       "        vertical-align: top;\n",
       "    }\n",
       "\n",
       "    .dataframe thead th {\n",
       "        text-align: right;\n",
       "    }\n",
       "</style>\n",
       "<table border=\"1\" class=\"dataframe\">\n",
       "  <thead>\n",
       "    <tr style=\"text-align: right;\">\n",
       "      <th></th>\n",
       "      <th>Release_Year</th>\n",
       "      <th>Streams</th>\n",
       "      <th>Duration</th>\n",
       "      <th>Songwriter?</th>\n",
       "    </tr>\n",
       "  </thead>\n",
       "  <tbody>\n",
       "    <tr>\n",
       "      <th>count</th>\n",
       "      <td>98239.000000</td>\n",
       "      <td>1.000000e+05</td>\n",
       "      <td>100000.000000</td>\n",
       "      <td>100000.000000</td>\n",
       "    </tr>\n",
       "    <tr>\n",
       "      <th>mean</th>\n",
       "      <td>19.671933</td>\n",
       "      <td>5.626550e+04</td>\n",
       "      <td>1016.893690</td>\n",
       "      <td>0.541610</td>\n",
       "    </tr>\n",
       "    <tr>\n",
       "      <th>std</th>\n",
       "      <td>12.638870</td>\n",
       "      <td>2.620276e+05</td>\n",
       "      <td>15565.692133</td>\n",
       "      <td>0.498268</td>\n",
       "    </tr>\n",
       "    <tr>\n",
       "      <th>min</th>\n",
       "      <td>0.000000</td>\n",
       "      <td>1.000000e+00</td>\n",
       "      <td>0.000000</td>\n",
       "      <td>0.000000</td>\n",
       "    </tr>\n",
       "    <tr>\n",
       "      <th>25%</th>\n",
       "      <td>17.000000</td>\n",
       "      <td>6.807000e+03</td>\n",
       "      <td>149.000000</td>\n",
       "      <td>0.000000</td>\n",
       "    </tr>\n",
       "    <tr>\n",
       "      <th>50%</th>\n",
       "      <td>19.000000</td>\n",
       "      <td>1.677250e+04</td>\n",
       "      <td>190.000000</td>\n",
       "      <td>1.000000</td>\n",
       "    </tr>\n",
       "    <tr>\n",
       "      <th>75%</th>\n",
       "      <td>20.000000</td>\n",
       "      <td>3.990300e+04</td>\n",
       "      <td>236.000000</td>\n",
       "      <td>1.000000</td>\n",
       "    </tr>\n",
       "    <tr>\n",
       "      <th>max</th>\n",
       "      <td>99.000000</td>\n",
       "      <td>2.145617e+07</td>\n",
       "      <td>818738.000000</td>\n",
       "      <td>1.000000</td>\n",
       "    </tr>\n",
       "  </tbody>\n",
       "</table>\n",
       "</div>"
      ],
      "text/plain": [
       "       Release_Year       Streams       Duration    Songwriter?\n",
       "count  98239.000000  1.000000e+05  100000.000000  100000.000000\n",
       "mean      19.671933  5.626550e+04    1016.893690       0.541610\n",
       "std       12.638870  2.620276e+05   15565.692133       0.498268\n",
       "min        0.000000  1.000000e+00       0.000000       0.000000\n",
       "25%       17.000000  6.807000e+03     149.000000       0.000000\n",
       "50%       19.000000  1.677250e+04     190.000000       1.000000\n",
       "75%       20.000000  3.990300e+04     236.000000       1.000000\n",
       "max       99.000000  2.145617e+07  818738.000000       1.000000"
      ]
     },
     "execution_count": 6,
     "metadata": {},
     "output_type": "execute_result"
    }
   ],
   "source": [
    "# Rudy: More info\n",
    "mlc_df.describe()"
   ]
  },
  {
   "cell_type": "markdown",
   "id": "1661913a",
   "metadata": {},
   "source": [
    "## Exploring the dataset"
   ]
  },
  {
   "cell_type": "code",
   "execution_count": 7,
   "id": "e1967c03",
   "metadata": {
    "scrolled": false
   },
   "outputs": [
    {
     "name": "stdout",
     "output_type": "stream",
     "text": [
      "Spotify               32268\n",
      "Apple                 22200\n",
      "Amazon                14438\n",
      "Pandora               13777\n",
      "Tidal                  3521\n",
      "YouTube                2752\n",
      "SoundCloud             2122\n",
      "GTL                    1090\n",
      "Melodyv                 829\n",
      "Trebel                  817\n",
      "iHeart Radio            707\n",
      "AudioMack               550\n",
      "NugsNet                 316\n",
      "LiveXLive               200\n",
      "Qoboz                   104\n",
      "Midwest Tape            102\n",
      "Deezer                   51\n",
      "Anghami                  46\n",
      "Sonos                    23\n",
      "Recisio                  22\n",
      "Smithsonian              21\n",
      "Ultimate Guitar          19\n",
      "PowerMusic                8\n",
      "Wolfgangs                 4\n",
      "Fan Label                 4\n",
      "MixCloud                  4\n",
      "Pacemaker                 3\n",
      "Classical Archives        2\n",
      "MonkingMe                 1\n",
      "Name: DSP, dtype: int64\n"
     ]
    }
   ],
   "source": [
    "# Most popular streaming platform by number of records in the dataframe\n",
    "DSP_counts = mlc_df['DSP'].value_counts()\n",
    "print(DSP_counts)"
   ]
  },
  {
   "cell_type": "code",
   "execution_count": 8,
   "id": "322f7d5f",
   "metadata": {},
   "outputs": [],
   "source": [
    "# Patrick: Most popular streaming platform by number of records in the dataframe with non-US (foreign) country code\n",
    "# foreign = mlc_df.loc[mlc_df['Country']!= 'US']\n",
    "# foreign['DSP'].value_counts()"
   ]
  },
  {
   "cell_type": "markdown",
   "id": "02079fd7",
   "metadata": {},
   "source": [
    "## 3 DATAFRAMES: rows_per_DSP, streams_per_DSP, songwriter_df\n"
   ]
  },
  {
   "cell_type": "markdown",
   "id": "6302fd6a",
   "metadata": {},
   "source": [
    "## songwriter_df dataframe"
   ]
  },
  {
   "cell_type": "code",
   "execution_count": 9,
   "id": "e1a2452d",
   "metadata": {
    "scrolled": false
   },
   "outputs": [
    {
     "name": "stdout",
     "output_type": "stream",
     "text": [
      "DSP\n",
      "Classical Archives    100.000000\n",
      "Qoboz                  90.384615\n",
      "Deezer                 86.274510\n",
      "Spotify                85.437585\n",
      "Apple                  80.851351\n",
      "Recisio                54.545455\n",
      "Amazon                 26.173985\n",
      "Pandora                24.482834\n",
      "Melodyv                11.459590\n",
      "LiveXLive               7.000000\n",
      "GTL                     2.844037\n",
      "Tidal                   0.369213\n",
      "Smithsonian             0.000000\n",
      "Ultimate Guitar         0.000000\n",
      "Trebel                  0.000000\n",
      "Wolfgangs               0.000000\n",
      "SoundCloud              0.000000\n",
      "Sonos                   0.000000\n",
      "YouTube                 0.000000\n",
      "Pacemaker               0.000000\n",
      "PowerMusic              0.000000\n",
      "Anghami                 0.000000\n",
      "NugsNet                 0.000000\n",
      "MonkingMe               0.000000\n",
      "MixCloud                0.000000\n",
      "Midwest Tape            0.000000\n",
      "Fan Label               0.000000\n",
      "AudioMack               0.000000\n",
      "iHeart Radio            0.000000\n",
      "Name: Songwriter?, dtype: float64\n"
     ]
    }
   ],
   "source": [
    "# Likelihood of each DSP to provide songwriter info\n",
    "\n",
    "mlc_df[\"Songwriter?\"] = pd.to_numeric(mlc_df[\"Songwriter?\"]*100)\n",
    "sw_ratio = mlc_df.groupby('DSP')['Songwriter?'].mean()\n",
    "sw_ratio = sw_ratio.sort_values(ascending=False)\n",
    "print(sw_ratio)"
   ]
  },
  {
   "cell_type": "code",
   "execution_count": 10,
   "id": "5335c04d",
   "metadata": {
    "scrolled": false
   },
   "outputs": [
    {
     "name": "stdout",
     "output_type": "stream",
     "text": [
      "                   DSP      SW_Avg\n",
      "0   Classical Archives  100.000000\n",
      "1                Qoboz   90.384615\n",
      "2               Deezer   86.274510\n",
      "3              Spotify   85.437585\n",
      "4                Apple   80.851351\n",
      "5              Recisio   54.545455\n",
      "6               Amazon   26.173985\n",
      "7              Pandora   24.482834\n",
      "8              Melodyv   11.459590\n",
      "9            LiveXLive    7.000000\n",
      "10                 GTL    2.844037\n",
      "11               Tidal    0.369213\n",
      "12         Smithsonian    0.000000\n",
      "13     Ultimate Guitar    0.000000\n",
      "14              Trebel    0.000000\n",
      "15           Wolfgangs    0.000000\n",
      "16          SoundCloud    0.000000\n",
      "17               Sonos    0.000000\n",
      "18             YouTube    0.000000\n",
      "19           Pacemaker    0.000000\n",
      "20          PowerMusic    0.000000\n",
      "21             Anghami    0.000000\n",
      "22             NugsNet    0.000000\n",
      "23           MonkingMe    0.000000\n",
      "24            MixCloud    0.000000\n",
      "25        Midwest Tape    0.000000\n",
      "26           Fan Label    0.000000\n",
      "27           AudioMack    0.000000\n",
      "28        iHeart Radio    0.000000\n"
     ]
    }
   ],
   "source": [
    "# Make sw_ratio into songwriter_df with new index and DSP column and SW_Avg column\n",
    "songwriter_df = pd.DataFrame(sw_ratio)\n",
    "songwriter_df.reset_index(inplace=True)\n",
    "songwriter_df.columns = ['DSP', 'SW_Avg']\n",
    "print(songwriter_df)"
   ]
  },
  {
   "cell_type": "markdown",
   "id": "5fa59615",
   "metadata": {},
   "source": [
    "## streams_per_DSP dataframe"
   ]
  },
  {
   "cell_type": "code",
   "execution_count": 11,
   "id": "2798c8a7",
   "metadata": {
    "scrolled": false
   },
   "outputs": [
    {
     "name": "stdout",
     "output_type": "stream",
     "text": [
      "DSP\n",
      "Spotify               2552563722\n",
      "Apple                 1606453701\n",
      "Pandora                874236566\n",
      "SoundCloud             166813813\n",
      "YouTube                158031119\n",
      "Amazon                 151199800\n",
      "Tidal                   48793126\n",
      "AudioMack               11991559\n",
      "Melodyv                  5384657\n",
      "iHeart Radio             2141959\n",
      "GTL                      1280764\n",
      "Trebel                    149347\n",
      "NugsNet                   110709\n",
      "LiveXLive                 101307\n",
      "Deezer                     87830\n",
      "Midwest Tape               85708\n",
      "Anghami                    34682\n",
      "Sonos                      31402\n",
      "Qoboz                       6621\n",
      "MonkingMe                   3549\n",
      "PowerMusic                  3154\n",
      "MixCloud                    2661\n",
      "Pacemaker                   1707\n",
      "Wolfgangs                    965\n",
      "Ultimate Guitar              309\n",
      "Smithsonian                  208\n",
      "Fan Label                     91\n",
      "Recisio                       29\n",
      "Classical Archives            20\n",
      "Name: Streams, dtype: int64\n"
     ]
    }
   ],
   "source": [
    "# Number/sum of streams per DSP\n",
    "streams_per_DSP = mlc_df.groupby('DSP')['Streams'].sum()\n",
    "streams_per_DSP = streams_per_DSP.sort_values(ascending=False)\n",
    "print(streams_per_DSP)"
   ]
  },
  {
   "cell_type": "code",
   "execution_count": 12,
   "id": "323e8d27",
   "metadata": {},
   "outputs": [
    {
     "name": "stdout",
     "output_type": "stream",
     "text": [
      "                   DSP  Streams_Per_DSP\n",
      "0              Spotify       2552563722\n",
      "1                Apple       1606453701\n",
      "2              Pandora        874236566\n",
      "3           SoundCloud        166813813\n",
      "4              YouTube        158031119\n",
      "5               Amazon        151199800\n",
      "6                Tidal         48793126\n",
      "7            AudioMack         11991559\n",
      "8              Melodyv          5384657\n",
      "9         iHeart Radio          2141959\n",
      "10                 GTL          1280764\n",
      "11              Trebel           149347\n",
      "12             NugsNet           110709\n",
      "13           LiveXLive           101307\n",
      "14              Deezer            87830\n",
      "15        Midwest Tape            85708\n",
      "16             Anghami            34682\n",
      "17               Sonos            31402\n",
      "18               Qoboz             6621\n",
      "19           MonkingMe             3549\n",
      "20          PowerMusic             3154\n",
      "21            MixCloud             2661\n",
      "22           Pacemaker             1707\n",
      "23           Wolfgangs              965\n",
      "24     Ultimate Guitar              309\n",
      "25         Smithsonian              208\n",
      "26           Fan Label               91\n",
      "27             Recisio               29\n",
      "28  Classical Archives               20\n"
     ]
    }
   ],
   "source": [
    "streams_df = pd.DataFrame(streams_per_DSP)\n",
    "streams_df.reset_index(inplace=True)\n",
    "streams_df.columns = ['DSP', 'Streams_Per_DSP']\n",
    "print(streams_df)"
   ]
  },
  {
   "cell_type": "markdown",
   "id": "ed800177",
   "metadata": {},
   "source": [
    "## rows_per_DSP dataframe"
   ]
  },
  {
   "cell_type": "code",
   "execution_count": 13,
   "id": "2dea2f75",
   "metadata": {},
   "outputs": [
    {
     "name": "stdout",
     "output_type": "stream",
     "text": [
      "Spotify               32268\n",
      "Apple                 22200\n",
      "Amazon                14438\n",
      "Pandora               13777\n",
      "Tidal                  3521\n",
      "YouTube                2752\n",
      "SoundCloud             2122\n",
      "GTL                    1090\n",
      "Melodyv                 829\n",
      "Trebel                  817\n",
      "iHeart Radio            707\n",
      "AudioMack               550\n",
      "NugsNet                 316\n",
      "LiveXLive               200\n",
      "Qoboz                   104\n",
      "Midwest Tape            102\n",
      "Deezer                   51\n",
      "Anghami                  46\n",
      "Sonos                    23\n",
      "Recisio                  22\n",
      "Smithsonian              21\n",
      "Ultimate Guitar          19\n",
      "PowerMusic                8\n",
      "Wolfgangs                 4\n",
      "Fan Label                 4\n",
      "MixCloud                  4\n",
      "Pacemaker                 3\n",
      "Classical Archives        2\n",
      "MonkingMe                 1\n",
      "Name: DSP, dtype: int64\n"
     ]
    }
   ],
   "source": [
    "# Number of recordings (rows) per DSP\n",
    "rows_per_DSP = mlc_df['DSP'].value_counts()\n",
    "print(rows_per_DSP)"
   ]
  },
  {
   "cell_type": "code",
   "execution_count": 14,
   "id": "2985a5b8",
   "metadata": {},
   "outputs": [
    {
     "name": "stdout",
     "output_type": "stream",
     "text": [
      "                   DSP  Songs_Per_DSP\n",
      "0              Spotify          32268\n",
      "1                Apple          22200\n",
      "2               Amazon          14438\n",
      "3              Pandora          13777\n",
      "4                Tidal           3521\n",
      "5              YouTube           2752\n",
      "6           SoundCloud           2122\n",
      "7                  GTL           1090\n",
      "8              Melodyv            829\n",
      "9               Trebel            817\n",
      "10        iHeart Radio            707\n",
      "11           AudioMack            550\n",
      "12             NugsNet            316\n",
      "13           LiveXLive            200\n",
      "14               Qoboz            104\n",
      "15        Midwest Tape            102\n",
      "16              Deezer             51\n",
      "17             Anghami             46\n",
      "18               Sonos             23\n",
      "19             Recisio             22\n",
      "20         Smithsonian             21\n",
      "21     Ultimate Guitar             19\n",
      "22          PowerMusic              8\n",
      "23           Wolfgangs              4\n",
      "24           Fan Label              4\n",
      "25            MixCloud              4\n",
      "26           Pacemaker              3\n",
      "27  Classical Archives              2\n",
      "28           MonkingMe              1\n"
     ]
    }
   ],
   "source": [
    "rows_df = pd.DataFrame(rows_per_DSP)\n",
    "rows_df.reset_index(inplace=True)\n",
    "rows_df.columns = ['DSP', 'Songs_Per_DSP'] # Changed from Rows_Per_DSP to Songs_Per_DSP\n",
    "print(rows_df)"
   ]
  },
  {
   "cell_type": "markdown",
   "id": "97f4b618",
   "metadata": {},
   "source": [
    "## Merge the three dataframes together on DSP"
   ]
  },
  {
   "cell_type": "code",
   "execution_count": 15,
   "id": "7fc204d2",
   "metadata": {},
   "outputs": [
    {
     "name": "stdout",
     "output_type": "stream",
     "text": [
      "                   DSP      SW_Avg  Streams_Per_DSP\n",
      "0   Classical Archives  100.000000               20\n",
      "1                Qoboz   90.384615             6621\n",
      "2               Deezer   86.274510            87830\n",
      "3              Spotify   85.437585       2552563722\n",
      "4                Apple   80.851351       1606453701\n",
      "5              Recisio   54.545455               29\n",
      "6               Amazon   26.173985        151199800\n",
      "7              Pandora   24.482834        874236566\n",
      "8              Melodyv   11.459590          5384657\n",
      "9            LiveXLive    7.000000           101307\n",
      "10                 GTL    2.844037          1280764\n",
      "11               Tidal    0.369213         48793126\n",
      "12         Smithsonian    0.000000              208\n",
      "13     Ultimate Guitar    0.000000              309\n",
      "14              Trebel    0.000000           149347\n",
      "15           Wolfgangs    0.000000              965\n",
      "16          SoundCloud    0.000000        166813813\n",
      "17               Sonos    0.000000            31402\n",
      "18             YouTube    0.000000        158031119\n",
      "19           Pacemaker    0.000000             1707\n",
      "20          PowerMusic    0.000000             3154\n",
      "21             Anghami    0.000000            34682\n",
      "22             NugsNet    0.000000           110709\n",
      "23           MonkingMe    0.000000             3549\n",
      "24            MixCloud    0.000000             2661\n",
      "25        Midwest Tape    0.000000            85708\n",
      "26           Fan Label    0.000000               91\n",
      "27           AudioMack    0.000000         11991559\n",
      "28        iHeart Radio    0.000000          2141959\n"
     ]
    }
   ],
   "source": [
    "DSP_df1 = pd.merge(songwriter_df, streams_df, on=['DSP'], how='inner')\n",
    "print(DSP_df1)"
   ]
  },
  {
   "cell_type": "code",
   "execution_count": 16,
   "id": "e15b2389",
   "metadata": {},
   "outputs": [
    {
     "name": "stdout",
     "output_type": "stream",
     "text": [
      "                   DSP      SW_Avg  Streams_Per_DSP  Songs_Per_DSP\n",
      "0   Classical Archives  100.000000               20              2\n",
      "1                Qoboz   90.384615             6621            104\n",
      "2               Deezer   86.274510            87830             51\n",
      "3              Spotify   85.437585       2552563722          32268\n",
      "4                Apple   80.851351       1606453701          22200\n",
      "5              Recisio   54.545455               29             22\n",
      "6               Amazon   26.173985        151199800          14438\n",
      "7              Pandora   24.482834        874236566          13777\n",
      "8              Melodyv   11.459590          5384657            829\n",
      "9            LiveXLive    7.000000           101307            200\n",
      "10                 GTL    2.844037          1280764           1090\n",
      "11               Tidal    0.369213         48793126           3521\n",
      "12         Smithsonian    0.000000              208             21\n",
      "13     Ultimate Guitar    0.000000              309             19\n",
      "14              Trebel    0.000000           149347            817\n",
      "15           Wolfgangs    0.000000              965              4\n",
      "16          SoundCloud    0.000000        166813813           2122\n",
      "17               Sonos    0.000000            31402             23\n",
      "18             YouTube    0.000000        158031119           2752\n",
      "19           Pacemaker    0.000000             1707              3\n",
      "20          PowerMusic    0.000000             3154              8\n",
      "21             Anghami    0.000000            34682             46\n",
      "22             NugsNet    0.000000           110709            316\n",
      "23           MonkingMe    0.000000             3549              1\n",
      "24            MixCloud    0.000000             2661              4\n",
      "25        Midwest Tape    0.000000            85708            102\n",
      "26           Fan Label    0.000000               91              4\n",
      "27           AudioMack    0.000000         11991559            550\n",
      "28        iHeart Radio    0.000000          2141959            707\n"
     ]
    }
   ],
   "source": [
    "DSP_df2 = pd.merge(DSP_df1, rows_df, on=['DSP'], how='inner')\n",
    "print(DSP_df2)"
   ]
  },
  {
   "cell_type": "markdown",
   "id": "155c395f",
   "metadata": {},
   "source": [
    "## THIS IS THE MASTER DATAFRAME:"
   ]
  },
  {
   "cell_type": "code",
   "execution_count": 17,
   "id": "c70bf5c6",
   "metadata": {
    "scrolled": false
   },
   "outputs": [
    {
     "name": "stdout",
     "output_type": "stream",
     "text": [
      "                   DSP      SW_Avg  Streams_Per_DSP  Songs_Per_DSP\n",
      "3              Spotify   85.437585       2552563722          32268\n",
      "4                Apple   80.851351       1606453701          22200\n",
      "7              Pandora   24.482834        874236566          13777\n",
      "16          SoundCloud    0.000000        166813813           2122\n",
      "18             YouTube    0.000000        158031119           2752\n",
      "6               Amazon   26.173985        151199800          14438\n",
      "11               Tidal    0.369213         48793126           3521\n",
      "27           AudioMack    0.000000         11991559            550\n",
      "8              Melodyv   11.459590          5384657            829\n",
      "28        iHeart Radio    0.000000          2141959            707\n",
      "10                 GTL    2.844037          1280764           1090\n",
      "14              Trebel    0.000000           149347            817\n",
      "22             NugsNet    0.000000           110709            316\n",
      "9            LiveXLive    7.000000           101307            200\n",
      "2               Deezer   86.274510            87830             51\n",
      "25        Midwest Tape    0.000000            85708            102\n",
      "21             Anghami    0.000000            34682             46\n",
      "17               Sonos    0.000000            31402             23\n",
      "1                Qoboz   90.384615             6621            104\n",
      "23           MonkingMe    0.000000             3549              1\n",
      "20          PowerMusic    0.000000             3154              8\n",
      "24            MixCloud    0.000000             2661              4\n",
      "19           Pacemaker    0.000000             1707              3\n",
      "15           Wolfgangs    0.000000              965              4\n",
      "13     Ultimate Guitar    0.000000              309             19\n",
      "12         Smithsonian    0.000000              208             21\n",
      "26           Fan Label    0.000000               91              4\n",
      "5              Recisio   54.545455               29             22\n",
      "0   Classical Archives  100.000000               20              2\n"
     ]
    }
   ],
   "source": [
    "# Reorder by Streams_Per_DSP in descending order = FINAL MERGED DATAFRAME\n",
    "DSP_df2 = DSP_df2.sort_values(by=['Streams_Per_DSP'], ascending=False)\n",
    "print(DSP_df2)"
   ]
  },
  {
   "cell_type": "code",
   "execution_count": 18,
   "id": "d428ae07",
   "metadata": {},
   "outputs": [
    {
     "data": {
      "text/html": [
       "<div>\n",
       "<style scoped>\n",
       "    .dataframe tbody tr th:only-of-type {\n",
       "        vertical-align: middle;\n",
       "    }\n",
       "\n",
       "    .dataframe tbody tr th {\n",
       "        vertical-align: top;\n",
       "    }\n",
       "\n",
       "    .dataframe thead th {\n",
       "        text-align: right;\n",
       "    }\n",
       "</style>\n",
       "<table border=\"1\" class=\"dataframe\">\n",
       "  <thead>\n",
       "    <tr style=\"text-align: right;\">\n",
       "      <th></th>\n",
       "      <th>DSP</th>\n",
       "      <th>Streams_Per_DSP</th>\n",
       "    </tr>\n",
       "  </thead>\n",
       "  <tbody>\n",
       "    <tr>\n",
       "      <th>3</th>\n",
       "      <td>Spotify</td>\n",
       "      <td>2552563722</td>\n",
       "    </tr>\n",
       "    <tr>\n",
       "      <th>4</th>\n",
       "      <td>Apple</td>\n",
       "      <td>1606453701</td>\n",
       "    </tr>\n",
       "    <tr>\n",
       "      <th>7</th>\n",
       "      <td>Pandora</td>\n",
       "      <td>874236566</td>\n",
       "    </tr>\n",
       "    <tr>\n",
       "      <th>16</th>\n",
       "      <td>SoundCloud</td>\n",
       "      <td>166813813</td>\n",
       "    </tr>\n",
       "    <tr>\n",
       "      <th>18</th>\n",
       "      <td>YouTube</td>\n",
       "      <td>158031119</td>\n",
       "    </tr>\n",
       "    <tr>\n",
       "      <th>6</th>\n",
       "      <td>Amazon</td>\n",
       "      <td>151199800</td>\n",
       "    </tr>\n",
       "    <tr>\n",
       "      <th>11</th>\n",
       "      <td>Tidal</td>\n",
       "      <td>48793126</td>\n",
       "    </tr>\n",
       "  </tbody>\n",
       "</table>\n",
       "</div>"
      ],
      "text/plain": [
       "           DSP  Streams_Per_DSP\n",
       "3      Spotify       2552563722\n",
       "4        Apple       1606453701\n",
       "7      Pandora        874236566\n",
       "16  SoundCloud        166813813\n",
       "18     YouTube        158031119\n",
       "6       Amazon        151199800\n",
       "11       Tidal         48793126"
      ]
     },
     "execution_count": 18,
     "metadata": {},
     "output_type": "execute_result"
    }
   ],
   "source": [
    "chart_top_7 = DSP_df2[['DSP','Streams_Per_DSP']]\n",
    "chart_top_7.head(7)"
   ]
  },
  {
   "cell_type": "markdown",
   "id": "87ddf32d",
   "metadata": {},
   "source": [
    "## Redid the messed up plot below AND it looks even better so ha"
   ]
  },
  {
   "cell_type": "code",
   "execution_count": 19,
   "id": "00f23317",
   "metadata": {
    "scrolled": false
   },
   "outputs": [
    {
     "name": "stdout",
     "output_type": "stream",
     "text": [
      "           DSP     SW_Avg  Streams_Per_DSP  Songs_Per_DSP\n",
      "3      Spotify  85.437585       2552563722          32268\n",
      "4        Apple  80.851351       1606453701          22200\n",
      "7      Pandora  24.482834        874236566          13777\n",
      "16  SoundCloud   0.000000        166813813           2122\n",
      "18     YouTube   0.000000        158031119           2752\n",
      "6       Amazon  26.173985        151199800          14438\n",
      "11       Tidal   0.369213         48793126           3521\n"
     ]
    }
   ],
   "source": [
    "# Plot top 7 by Streams\n",
    "top_7 = DSP_df2.head(7)\n",
    "print(top_7)"
   ]
  },
  {
   "cell_type": "code",
   "execution_count": 20,
   "id": "f041d6fc",
   "metadata": {},
   "outputs": [
    {
     "data": {
      "image/png": "[encoded data removed]",
      "text/plain": [
       "<Figure size 864x432 with 1 Axes>"
      ]
     },
     "metadata": {
      "needs_background": "light"
     },
     "output_type": "display_data"
    }
   ],
   "source": [
    "plt.figure(figsize=(12, 6))\n",
    "plt.bar(top_7.DSP, top_7.Streams_Per_DSP, color=['g', 'm', 'b', 'orange', 'r', 'y', '1'], edgecolor='black')\n",
    "plt.ylabel('Number of Streams', fontsize=16) # Number of Streams times 10^9\n",
    "plt.xticks(rotation = 50, fontsize=16)\n",
    "plt.yticks(fontsize=16)\n",
    "plt.title('Top 7 DSPs by Number of Streams', fontsize=20);"
   ]
  },
  {
   "cell_type": "code",
   "execution_count": 21,
   "id": "f557de98",
   "metadata": {},
   "outputs": [
    {
     "name": "stdout",
     "output_type": "stream",
     "text": [
      "                   DSP      SW_Avg  Streams_Per_DSP  Songs_Per_DSP\n",
      "0   Classical Archives  100.000000               20              2\n",
      "1                Qoboz   90.384615             6621            104\n",
      "2               Deezer   86.274510            87830             51\n",
      "3              Spotify   85.437585       2552563722          32268\n",
      "4                Apple   80.851351       1606453701          22200\n",
      "5              Recisio   54.545455               29             22\n",
      "6               Amazon   26.173985        151199800          14438\n",
      "7              Pandora   24.482834        874236566          13777\n",
      "8              Melodyv   11.459590          5384657            829\n",
      "9            LiveXLive    7.000000           101307            200\n",
      "10                 GTL    2.844037          1280764           1090\n",
      "11               Tidal    0.369213         48793126           3521\n",
      "20          PowerMusic    0.000000             3154              8\n",
      "26           Fan Label    0.000000               91              4\n",
      "12         Smithsonian    0.000000              208             21\n",
      "13     Ultimate Guitar    0.000000              309             19\n",
      "15           Wolfgangs    0.000000              965              4\n",
      "19           Pacemaker    0.000000             1707              3\n",
      "24            MixCloud    0.000000             2661              4\n",
      "16          SoundCloud    0.000000        166813813           2122\n",
      "23           MonkingMe    0.000000             3549              1\n",
      "17               Sonos    0.000000            31402             23\n",
      "18             YouTube    0.000000        158031119           2752\n",
      "25        Midwest Tape    0.000000            85708            102\n",
      "22             NugsNet    0.000000           110709            316\n",
      "14              Trebel    0.000000           149347            817\n",
      "28        iHeart Radio    0.000000          2141959            707\n",
      "27           AudioMack    0.000000         11991559            550\n",
      "21             Anghami    0.000000            34682             46\n"
     ]
    }
   ],
   "source": [
    "SW_avg_df = DSP_df2.sort_values(by=['SW_Avg'], ascending=False)\n",
    "print(SW_avg_df)"
   ]
  },
  {
   "cell_type": "code",
   "execution_count": 22,
   "id": "623883ef",
   "metadata": {},
   "outputs": [
    {
     "name": "stdout",
     "output_type": "stream",
     "text": [
      "           DSP     SW_Avg  Streams_Per_DSP  Songs_Per_DSP\n",
      "3      Spotify  85.437585       2552563722          32268\n",
      "4        Apple  80.851351       1606453701          22200\n",
      "6       Amazon  26.173985        151199800          14438\n",
      "7      Pandora  24.482834        874236566          13777\n",
      "11       Tidal   0.369213         48793126           3521\n",
      "16  SoundCloud   0.000000        166813813           2122\n",
      "18     YouTube   0.000000        158031119           2752\n"
     ]
    }
   ],
   "source": [
    "# Subset the top 7 DSPs by streams to include only those top 7 we want by SW_Avg desc\n",
    "top_7_sw = SW_avg_df.loc[SW_avg_df['DSP'].isin(['Spotify','Apple', 'Pandora', 'SoundCloud', 'YouTube', 'Amazon', 'Tidal'])]\n",
    "print(top_7_sw)"
   ]
  },
  {
   "cell_type": "code",
   "execution_count": 23,
   "id": "390899e0",
   "metadata": {},
   "outputs": [
    {
     "data": {
      "image/png": "[encoded data removed]",
      "text/plain": [
       "<Figure size 864x432 with 1 Axes>"
      ]
     },
     "metadata": {
      "needs_background": "light"
     },
     "output_type": "display_data"
    }
   ],
   "source": [
    "# Plot top 7 by SW_Avg\n",
    "plt.figure(figsize=(12, 6))\n",
    "plt.bar(top_7_sw.DSP, top_7_sw.SW_Avg, color=['g', 'm', 'y', 'b', '1', 'orange', 'r'], edgecolor='black')\n",
    "plt.ylabel('% of Songwriter Info Provided', fontsize=16)\n",
    "plt.xticks(rotation = 50, fontsize=16)\n",
    "plt.yticks([20, 40, 60, 80, 100], fontsize=16)\n",
    "plt.text('YouTube', 10, '0', fontsize=16)\n",
    "plt.text('SoundCloud', 10, '0', fontsize=16)\n",
    "plt.text('Tidal', 10, '0.4', fontsize=16)\n",
    "plt.title('Top 7 DSPs by % of Songwriter Info Provided', fontsize=20);"
   ]
  },
  {
   "cell_type": "code",
   "execution_count": 24,
   "id": "7de11666",
   "metadata": {},
   "outputs": [
    {
     "name": "stdout",
     "output_type": "stream",
     "text": [
      "                   DSP      SW_Avg  Streams_Per_DSP  Songs_Per_DSP\n",
      "3              Spotify   85.437585       2552563722          32268\n",
      "4                Apple   80.851351       1606453701          22200\n",
      "6               Amazon   26.173985        151199800          14438\n",
      "7              Pandora   24.482834        874236566          13777\n",
      "11               Tidal    0.369213         48793126           3521\n",
      "18             YouTube    0.000000        158031119           2752\n",
      "16          SoundCloud    0.000000        166813813           2122\n",
      "10                 GTL    2.844037          1280764           1090\n",
      "8              Melodyv   11.459590          5384657            829\n",
      "14              Trebel    0.000000           149347            817\n",
      "28        iHeart Radio    0.000000          2141959            707\n",
      "27           AudioMack    0.000000         11991559            550\n",
      "22             NugsNet    0.000000           110709            316\n",
      "9            LiveXLive    7.000000           101307            200\n",
      "1                Qoboz   90.384615             6621            104\n",
      "25        Midwest Tape    0.000000            85708            102\n",
      "2               Deezer   86.274510            87830             51\n",
      "21             Anghami    0.000000            34682             46\n",
      "17               Sonos    0.000000            31402             23\n",
      "5              Recisio   54.545455               29             22\n",
      "12         Smithsonian    0.000000              208             21\n",
      "13     Ultimate Guitar    0.000000              309             19\n",
      "20          PowerMusic    0.000000             3154              8\n",
      "24            MixCloud    0.000000             2661              4\n",
      "15           Wolfgangs    0.000000              965              4\n",
      "26           Fan Label    0.000000               91              4\n",
      "19           Pacemaker    0.000000             1707              3\n",
      "0   Classical Archives  100.000000               20              2\n",
      "23           MonkingMe    0.000000             3549              1\n"
     ]
    }
   ],
   "source": [
    "# Subset the DSPs by Songs_Per_DSP\n",
    "Songs_Per_DSP_df = DSP_df2.sort_values(by=['Songs_Per_DSP'], ascending=False)\n",
    "print(Songs_Per_DSP_df)"
   ]
  },
  {
   "cell_type": "code",
   "execution_count": 25,
   "id": "617a5627",
   "metadata": {},
   "outputs": [
    {
     "name": "stdout",
     "output_type": "stream",
     "text": [
      "           DSP     SW_Avg  Streams_Per_DSP  Songs_Per_DSP\n",
      "3      Spotify  85.437585       2552563722          32268\n",
      "4        Apple  80.851351       1606453701          22200\n",
      "6       Amazon  26.173985        151199800          14438\n",
      "7      Pandora  24.482834        874236566          13777\n",
      "11       Tidal   0.369213         48793126           3521\n",
      "18     YouTube   0.000000        158031119           2752\n",
      "16  SoundCloud   0.000000        166813813           2122\n"
     ]
    }
   ],
   "source": [
    "top_7_sdp = Songs_Per_DSP_df.loc[Songs_Per_DSP_df['DSP'].isin(['Spotify','Apple', 'Pandora', 'SoundCloud', 'YouTube', 'Amazon', 'Tidal'])]\n",
    "print(top_7_sdp)"
   ]
  },
  {
   "cell_type": "code",
   "execution_count": 26,
   "id": "0dd0bb8f",
   "metadata": {},
   "outputs": [
    {
     "data": {
      "image/png": "[encoded data removed]",
      "text/plain": [
       "<Figure size 864x432 with 1 Axes>"
      ]
     },
     "metadata": {
      "needs_background": "light"
     },
     "output_type": "display_data"
    }
   ],
   "source": [
    "# Plot top 7 by Songs_Per_DSP\n",
    "plt.figure(figsize=(12, 6))\n",
    "plt.bar(top_7_sdp.DSP, top_7_sdp.Songs_Per_DSP, color=['g', 'm', 'y', 'b', '1', 'r', 'orange'], edgecolor='black')\n",
    "plt.ylabel('Number of Songs', fontsize=16)\n",
    "plt.xticks(rotation = 50, fontsize=16)\n",
    "plt.yticks([5000, 10000, 15000, 20000, 25000, 30000, 35000], fontsize=16)\n",
    "plt.title('Top 7 DSPs by Number of Songs Streamed', fontsize=20);"
   ]
  },
  {
   "cell_type": "markdown",
   "id": "d76a74d6",
   "metadata": {},
   "source": [
    "### The 3 plots above reset their style?? Idk what happened but at least they don't look too bad."
   ]
  },
  {
   "cell_type": "markdown",
   "id": "600d70a4",
   "metadata": {},
   "source": [
    "## Patrick's label by number of streams plot"
   ]
  },
  {
   "cell_type": "code",
   "execution_count": 27,
   "id": "6aa799ca",
   "metadata": {},
   "outputs": [
    {
     "data": {
      "text/plain": [
       "Atlantic Records                      1384\n",
       "Lofi Records                          1232\n",
       "Warner Records                         995\n",
       "Columbia                               843\n",
       "Universal                              818\n",
       "                                      ... \n",
       "Twenty7 Records / Human Re Sources       1\n",
       "Hip-O Select / Motown                    1\n",
       "NyxTheShield                             1\n",
       "Relaxing Sounds For Studying             1\n",
       "Universal Music Taiwan                   1\n",
       "Name: Label, Length: 11777, dtype: int64"
      ]
     },
     "execution_count": 27,
     "metadata": {},
     "output_type": "execute_result"
    }
   ],
   "source": [
    "mlc_df.Label.value_counts()"
   ]
  },
  {
   "cell_type": "code",
   "execution_count": 28,
   "id": "9900cabd",
   "metadata": {},
   "outputs": [
    {
     "name": "stdout",
     "output_type": "stream",
     "text": [
      "Label\n",
      "Atlantic Records                                 172396961\n",
      "Columbia                                         131147208\n",
      "300 Entertainment                                 96692925\n",
      "Alamo (Geffen Records)                            88320747\n",
      "Taylor Swift                                      77937703\n",
      "                                                   ...    \n",
      "712847 Records DK                                        1\n",
      "Deen Chaser / Rapbay / Urbanlife Distribution            1\n",
      "Speeches Inc.                                            1\n",
      "APM Music                                                1\n",
      "Dj Shaggy                                                1\n",
      "Name: Streams, Length: 11777, dtype: int64\n"
     ]
    }
   ],
   "source": [
    "streams_per_Label=mlc_df.groupby('Label')['Streams'].sum()\n",
    "streams_per_Label=streams_per_Label.sort_values(ascending=False)\n",
    "print(streams_per_Label)"
   ]
  },
  {
   "cell_type": "code",
   "execution_count": 29,
   "id": "37282a88",
   "metadata": {},
   "outputs": [],
   "source": [
    "Label_ratio = mlc_df.groupby('Label')['Songwriter?'].mean()\n",
    "Label_ratio = Label_ratio.sort_values(ascending=False)"
   ]
  },
  {
   "cell_type": "code",
   "execution_count": 30,
   "id": "d98a9892",
   "metadata": {
    "scrolled": true
   },
   "outputs": [
    {
     "name": "stdout",
     "output_type": "stream",
     "text": [
      "                                                 Streams  Songwriter?\n",
      "Label                                                                \n",
      "Atlantic Records                               172396961    48.410405\n",
      "Columbia                                       131147208    87.544484\n",
      "300 Entertainment                               96692925    27.860697\n",
      "Alamo (Geffen Records)                          88320747    63.905325\n",
      "Taylor Swift                                    77937703    42.965779\n",
      "...                                                  ...          ...\n",
      "712847 Records DK                                      1     0.000000\n",
      "Deen Chaser / Rapbay / Urbanlife Distribution          1     0.000000\n",
      "Speeches Inc.                                          1     0.000000\n",
      "APM Music                                              1     0.000000\n",
      "Dj Shaggy                                              1     0.000000\n",
      "\n",
      "[11777 rows x 2 columns]\n"
     ]
    }
   ],
   "source": [
    "Label_df = pd.merge(streams_per_Label, Label_ratio, on=['Label'], how='inner')\n",
    "print(Label_df)"
   ]
  },
  {
   "cell_type": "code",
   "execution_count": 31,
   "id": "7a2cda25",
   "metadata": {},
   "outputs": [
    {
     "name": "stdout",
     "output_type": "stream",
     "text": [
      "                                               Label    Streams  Songwriter?\n",
      "0                                   Atlantic Records  172396961    48.410405\n",
      "1                                           Columbia  131147208    87.544484\n",
      "2                                  300 Entertainment   96692925    27.860697\n",
      "3                             Alamo (Geffen Records)   88320747    63.905325\n",
      "4                                       Taylor Swift   77937703    42.965779\n",
      "...                                              ...        ...          ...\n",
      "11772                              712847 Records DK          1     0.000000\n",
      "11773  Deen Chaser / Rapbay / Urbanlife Distribution          1     0.000000\n",
      "11774                                  Speeches Inc.          1     0.000000\n",
      "11775                                      APM Music          1     0.000000\n",
      "11776                                      Dj Shaggy          1     0.000000\n",
      "\n",
      "[11777 rows x 3 columns]\n"
     ]
    }
   ],
   "source": [
    "Label_df.reset_index(inplace=True)\n",
    "Label_df = Label_df.rename(columns = {'index': \"Label\"})\n",
    "print(Label_df)"
   ]
  },
  {
   "cell_type": "code",
   "execution_count": 32,
   "id": "5a061ed3",
   "metadata": {},
   "outputs": [
    {
     "name": "stdout",
     "output_type": "stream",
     "text": [
      "                    Label    Streams  Songwriter?\n",
      "0        Atlantic Records  172396961    48.410405\n",
      "1                Columbia  131147208    87.544484\n",
      "2       300 Entertainment   96692925    27.860697\n",
      "3  Alamo (Geffen Records)   88320747    63.905325\n",
      "4            Taylor Swift   77937703    42.965779\n",
      "5           Alamo Records   72800179    61.510791\n",
      "6            Lofi Records   69694317    98.701299\n"
     ]
    }
   ],
   "source": [
    "radiohead = Label_df.head(7)\n",
    "print(radiohead)"
   ]
  },
  {
   "cell_type": "code",
   "execution_count": 33,
   "id": "8cf6e73f",
   "metadata": {},
   "outputs": [
    {
     "data": {
      "image/png": "[encoded data removed]",
      "text/plain": [
       "<Figure size 1080x504 with 1 Axes>"
      ]
     },
     "metadata": {},
     "output_type": "display_data"
    }
   ],
   "source": [
    "sns.set_theme(style=\"darkgrid\")\n",
    "\n",
    "\n",
    "# Plot the responses for different events and regions\n",
    "plt.gcf().set_size_inches(15,7) # Rudy: Make it bigger\n",
    "sns.barplot(x=\"Label\", y=\"Streams\", data=radiohead, palette=['c','orange','g','r','m','b','pink'], edgecolor='black')\n",
    "plt.title('Recording Label by Number of Streams', fontsize=20)\n",
    "plt.xticks(rotation=50, fontsize=16)\n",
    "plt.xlabel('', fontsize=0) # Rudy: Zero it out of existence lol\n",
    "plt.ylabel('Number of Streams', fontsize=16)\n",
    "plt.yticks(fontsize=16);"
   ]
  },
  {
   "cell_type": "markdown",
   "id": "7b207c62",
   "metadata": {},
   "source": [
    "## Rudy's label by Songwriter? plot"
   ]
  },
  {
   "cell_type": "code",
   "execution_count": 34,
   "id": "17641b8c",
   "metadata": {},
   "outputs": [
    {
     "name": "stdout",
     "output_type": "stream",
     "text": [
      "Label\n",
      "Lofi Records                             121600\n",
      "Columbia                                  73800\n",
      "Filtr                                     71300\n",
      "Atlantic Records                          67000\n",
      "Warner Records                            54000\n",
      "                                          ...  \n",
      "Mali Abad                                     0\n",
      "Malek Ghazi Monzer                            0\n",
      "Makeus Entertainment, The Black Label         0\n",
      "MakeCent$ Records / MAJAMA ENT.               0\n",
      "🧿RCCJAY🧿                                      0\n",
      "Name: Songwriter?, Length: 11777, dtype: int64\n"
     ]
    }
   ],
   "source": [
    "sw_per_Label=mlc_df.groupby('Label')['Songwriter?'].sum()\n",
    "sw_per_Label=sw_per_Label.sort_values(ascending=False)\n",
    "print(sw_per_Label)"
   ]
  },
  {
   "cell_type": "code",
   "execution_count": 35,
   "id": "38a239a8",
   "metadata": {},
   "outputs": [
    {
     "data": {
      "text/html": [
       "<div>\n",
       "<style scoped>\n",
       "    .dataframe tbody tr th:only-of-type {\n",
       "        vertical-align: middle;\n",
       "    }\n",
       "\n",
       "    .dataframe tbody tr th {\n",
       "        vertical-align: top;\n",
       "    }\n",
       "\n",
       "    .dataframe thead th {\n",
       "        text-align: right;\n",
       "    }\n",
       "</style>\n",
       "<table border=\"1\" class=\"dataframe\">\n",
       "  <thead>\n",
       "    <tr style=\"text-align: right;\">\n",
       "      <th></th>\n",
       "      <th>Label</th>\n",
       "      <th>Streams</th>\n",
       "      <th>Songwriter?</th>\n",
       "    </tr>\n",
       "  </thead>\n",
       "  <tbody>\n",
       "    <tr>\n",
       "      <th>6</th>\n",
       "      <td>Lofi Records</td>\n",
       "      <td>69694317</td>\n",
       "      <td>98.701299</td>\n",
       "    </tr>\n",
       "    <tr>\n",
       "      <th>1</th>\n",
       "      <td>Columbia</td>\n",
       "      <td>131147208</td>\n",
       "      <td>87.544484</td>\n",
       "    </tr>\n",
       "    <tr>\n",
       "      <th>3</th>\n",
       "      <td>Alamo (Geffen Records)</td>\n",
       "      <td>88320747</td>\n",
       "      <td>63.905325</td>\n",
       "    </tr>\n",
       "    <tr>\n",
       "      <th>5</th>\n",
       "      <td>Alamo Records</td>\n",
       "      <td>72800179</td>\n",
       "      <td>61.510791</td>\n",
       "    </tr>\n",
       "    <tr>\n",
       "      <th>0</th>\n",
       "      <td>Atlantic Records</td>\n",
       "      <td>172396961</td>\n",
       "      <td>48.410405</td>\n",
       "    </tr>\n",
       "    <tr>\n",
       "      <th>4</th>\n",
       "      <td>Taylor Swift</td>\n",
       "      <td>77937703</td>\n",
       "      <td>42.965779</td>\n",
       "    </tr>\n",
       "    <tr>\n",
       "      <th>2</th>\n",
       "      <td>300 Entertainment</td>\n",
       "      <td>96692925</td>\n",
       "      <td>27.860697</td>\n",
       "    </tr>\n",
       "  </tbody>\n",
       "</table>\n",
       "</div>"
      ],
      "text/plain": [
       "                    Label    Streams  Songwriter?\n",
       "6            Lofi Records   69694317    98.701299\n",
       "1                Columbia  131147208    87.544484\n",
       "3  Alamo (Geffen Records)   88320747    63.905325\n",
       "5           Alamo Records   72800179    61.510791\n",
       "0        Atlantic Records  172396961    48.410405\n",
       "4            Taylor Swift   77937703    42.965779\n",
       "2       300 Entertainment   96692925    27.860697"
      ]
     },
     "execution_count": 35,
     "metadata": {},
     "output_type": "execute_result"
    }
   ],
   "source": [
    "Top_7_Labels = Label_df.sort_values(by='Songwriter?', ascending=False)\n",
    "Top_7_Labels = Top_7_Labels[Top_7_Labels['Label'].isin(['Atlantic Records', 'Columbia', '300 Entertainment','Lofi Records', 'Alamo (Geffen Records)','Alamo Records', 'Taylor Swift'])]\n",
    "Top_7_Labels"
   ]
  },
  {
   "cell_type": "code",
   "execution_count": 36,
   "id": "27f63a98",
   "metadata": {},
   "outputs": [
    {
     "data": {
      "image/png": "[encoded data removed]",
      "text/plain": [
       "<Figure size 1080x504 with 1 Axes>"
      ]
     },
     "metadata": {},
     "output_type": "display_data"
    }
   ],
   "source": [
    "sns.set_theme(style=\"darkgrid\")\n",
    "sns.set(font_scale=1)\n",
    "sns.barplot(x=\"Label\", y=\"Songwriter?\", data=Top_7_Labels, palette=['pink','orange','r','b','c','m','g'], edgecolor='black')\n",
    "plt.title('Recording Label by % of Songwriter Info Provided', fontsize=20)\n",
    "plt.xticks(rotation=50, fontsize=16)\n",
    "plt.xlabel('', fontsize=0)\n",
    "plt.ylabel('% of Songwriter Info Provided', fontsize=16)\n",
    "plt.yticks(fontsize=16)\n",
    "plt.gcf().set_size_inches(15,7)"
   ]
  },
  {
   "cell_type": "markdown",
   "id": "0ce79587",
   "metadata": {},
   "source": [
    "# Ignore this bottom stuff (it was initial analysis)"
   ]
  },
  {
   "cell_type": "markdown",
   "id": "56dd7aa2",
   "metadata": {},
   "source": [
    "## Exploring US only data"
   ]
  },
  {
   "cell_type": "code",
   "execution_count": 37,
   "id": "d318ad08",
   "metadata": {},
   "outputs": [],
   "source": [
    "# Subset mlc_df to make a US only df\n",
    "# US_df = mlc_df.loc[mlc_df['Country']== 'US']\n",
    "# US_df.head()"
   ]
  },
  {
   "cell_type": "code",
   "execution_count": 38,
   "id": "ec3b8213",
   "metadata": {},
   "outputs": [],
   "source": [
    "# Top 5 streamed songs in US\n",
    "# US_df.sort_values('Streams', ascending=False).head()"
   ]
  },
  {
   "cell_type": "code",
   "execution_count": 39,
   "id": "a69e123a",
   "metadata": {},
   "outputs": [],
   "source": [
    "# Patrick: Most popular US streaming platform by number of records\n",
    "# US_DSP = mlc_df.loc[mlc_df['Country']== 'US']\n",
    "# US_DSP['DSP'].value_counts()"
   ]
  },
  {
   "cell_type": "markdown",
   "id": "d771e789",
   "metadata": {},
   "source": [
    "## Exploring foreign (non-US) data"
   ]
  },
  {
   "cell_type": "code",
   "execution_count": 40,
   "id": "bb006047",
   "metadata": {},
   "outputs": [],
   "source": [
    "# Subset mlc_df to make a non-US df\n",
    "# foreign_df = mlc_df.loc[mlc_df['Country']== 'US']\n",
    "# foreign_df.head()"
   ]
  },
  {
   "cell_type": "code",
   "execution_count": 41,
   "id": "32b2c21d",
   "metadata": {
    "scrolled": true
   },
   "outputs": [],
   "source": [
    "# Top 5 foreign (non-US) streamed songs\n",
    "# foreign_df.sort_values('Streams', ascending=False).head()"
   ]
  },
  {
   "cell_type": "code",
   "execution_count": 42,
   "id": "2235e46a",
   "metadata": {
    "scrolled": false
   },
   "outputs": [],
   "source": [
    "# Most popular foreign (non-US) streaming platform by number of records\n",
    "# foreign_DSP = mlc_df.loc[mlc_df['Country']!= 'US']\n",
    "# foreign_DSP['DSP'].value_counts()"
   ]
  }
 ],
 "metadata": {
  "kernelspec": {
   "display_name": "Python 3 (ipykernel)",
   "language": "python",
   "name": "python3"
  },
  "language_info": {
   "codemirror_mode": {
    "name": "ipython",
    "version": 3
   },
   "file_extension": ".py",
   "mimetype": "text/x-python",
   "name": "python",
   "nbconvert_exporter": "python",
   "pygments_lexer": "ipython3",
   "version": "3.9.7"
  }
 },
 "nbformat": 4,
 "nbformat_minor": 5
}
