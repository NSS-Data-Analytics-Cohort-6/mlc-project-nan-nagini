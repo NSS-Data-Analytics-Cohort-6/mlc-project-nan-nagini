{
 "cells": [
  {
   "cell_type": "code",
   "execution_count": 1,
   "id": "f01e08ba",
   "metadata": {},
   "outputs": [],
   "source": [
    "import pandas as pd\n",
    "import matplotlib.ticker as mtick\n",
    "import matplotlib.pyplot as plt\n",
    "import seaborn as sns\n",
    "import numpy as np\n",
    "import re"
   ]
  },
  {
   "cell_type": "markdown",
   "id": "5ef2a056",
   "metadata": {},
   "source": [
    "#### Download and first look at the data"
   ]
  },
  {
   "cell_type": "code",
   "execution_count": 2,
   "id": "29db1266",
   "metadata": {},
   "outputs": [],
   "source": [
    "mlc=pd.read_csv('../data/Matching_Sample.csv')"
   ]
  },
  {
   "cell_type": "code",
   "execution_count": 3,
   "id": "5d67d04d",
   "metadata": {},
   "outputs": [
    {
     "data": {
      "text/html": [
       "<div>\n",
       "<style scoped>\n",
       "    .dataframe tbody tr th:only-of-type {\n",
       "        vertical-align: middle;\n",
       "    }\n",
       "\n",
       "    .dataframe tbody tr th {\n",
       "        vertical-align: top;\n",
       "    }\n",
       "\n",
       "    .dataframe thead th {\n",
       "        text-align: right;\n",
       "    }\n",
       "</style>\n",
       "<table border=\"1\" class=\"dataframe\">\n",
       "  <thead>\n",
       "    <tr style=\"text-align: right;\">\n",
       "      <th></th>\n",
       "      <th>If</th>\n",
       "      <th>Country Code</th>\n",
       "      <th>Registrant Code</th>\n",
       "      <th>Year of Reference</th>\n",
       "      <th>Usage Period</th>\n",
       "      <th>Streaming Platform (DSP)</th>\n",
       "      <th>Streams</th>\n",
       "      <th>Recording Artist</th>\n",
       "      <th>Recording Label</th>\n",
       "      <th>Recording Title</th>\n",
       "      <th>Release Title</th>\n",
       "      <th>Recording Duration (Seconds)</th>\n",
       "      <th>Songwriter's Listed (1 = \"Yes\", 0 = \"No\")</th>\n",
       "    </tr>\n",
       "  </thead>\n",
       "  <tbody>\n",
       "    <tr>\n",
       "      <th>0</th>\n",
       "      <td>USUG12101043</td>\n",
       "      <td>US</td>\n",
       "      <td>UG1</td>\n",
       "      <td>21.0</td>\n",
       "      <td>3/1/2021</td>\n",
       "      <td>Apple</td>\n",
       "      <td>16,216,932</td>\n",
       "      <td>Drake</td>\n",
       "      <td>OVO</td>\n",
       "      <td>Lemon Pepper Freestyle (feat. Rick Ross)</td>\n",
       "      <td>Scary Hours 2</td>\n",
       "      <td>383</td>\n",
       "      <td>1</td>\n",
       "    </tr>\n",
       "    <tr>\n",
       "      <th>1</th>\n",
       "      <td>USRC12100543</td>\n",
       "      <td>US</td>\n",
       "      <td>RC1</td>\n",
       "      <td>21.0</td>\n",
       "      <td>4/1/2021</td>\n",
       "      <td>Spotify</td>\n",
       "      <td>21,456,166</td>\n",
       "      <td>Doja Cat,SZA</td>\n",
       "      <td>Kemosabe Records/RCA Records</td>\n",
       "      <td>Kiss Me More (feat. SZA)</td>\n",
       "      <td>Kiss Me More (feat. SZA)</td>\n",
       "      <td>209</td>\n",
       "      <td>1</td>\n",
       "    </tr>\n",
       "  </tbody>\n",
       "</table>\n",
       "</div>"
      ],
      "text/plain": [
       "            If  Country Code Registrant Code  Year of Reference Usage Period  \\\n",
       "0  USUG12101043           US             UG1               21.0     3/1/2021   \n",
       "1  USRC12100543           US             RC1               21.0     4/1/2021   \n",
       "\n",
       "  Streaming Platform (DSP)       Streams Recording Artist  \\\n",
       "0                    Apple   16,216,932             Drake   \n",
       "1                  Spotify   21,456,166      Doja Cat,SZA   \n",
       "\n",
       "                Recording Label                           Recording Title  \\\n",
       "0                           OVO  Lemon Pepper Freestyle (feat. Rick Ross)   \n",
       "1  Kemosabe Records/RCA Records                  Kiss Me More (feat. SZA)   \n",
       "\n",
       "              Release Title  Recording Duration (Seconds)  \\\n",
       "0             Scary Hours 2                           383   \n",
       "1  Kiss Me More (feat. SZA)                           209   \n",
       "\n",
       "   Songwriter's Listed (1 = \"Yes\", 0 = \"No\")  \n",
       "0                                          1  \n",
       "1                                          1  "
      ]
     },
     "execution_count": 3,
     "metadata": {},
     "output_type": "execute_result"
    }
   ],
   "source": [
    "mlc.head(2)"
   ]
  },
  {
   "cell_type": "markdown",
   "id": "86757e04",
   "metadata": {},
   "source": [
    "#### Checking the tail end for bad data"
   ]
  },
  {
   "cell_type": "code",
   "execution_count": 4,
   "id": "d71d8076",
   "metadata": {},
   "outputs": [
    {
     "data": {
      "text/html": [
       "<div>\n",
       "<style scoped>\n",
       "    .dataframe tbody tr th:only-of-type {\n",
       "        vertical-align: middle;\n",
       "    }\n",
       "\n",
       "    .dataframe tbody tr th {\n",
       "        vertical-align: top;\n",
       "    }\n",
       "\n",
       "    .dataframe thead th {\n",
       "        text-align: right;\n",
       "    }\n",
       "</style>\n",
       "<table border=\"1\" class=\"dataframe\">\n",
       "  <thead>\n",
       "    <tr style=\"text-align: right;\">\n",
       "      <th></th>\n",
       "      <th>If</th>\n",
       "      <th>Country Code</th>\n",
       "      <th>Registrant Code</th>\n",
       "      <th>Year of Reference</th>\n",
       "      <th>Usage Period</th>\n",
       "      <th>Streaming Platform (DSP)</th>\n",
       "      <th>Streams</th>\n",
       "      <th>Recording Artist</th>\n",
       "      <th>Recording Label</th>\n",
       "      <th>Recording Title</th>\n",
       "      <th>Release Title</th>\n",
       "      <th>Recording Duration (Seconds)</th>\n",
       "      <th>Songwriter's Listed (1 = \"Yes\", 0 = \"No\")</th>\n",
       "    </tr>\n",
       "  </thead>\n",
       "  <tbody>\n",
       "    <tr>\n",
       "      <th>99995</th>\n",
       "      <td>QZK6F2019397</td>\n",
       "      <td>QZ</td>\n",
       "      <td>K6F</td>\n",
       "      <td>20.0</td>\n",
       "      <td>3/1/2021</td>\n",
       "      <td>Spotify</td>\n",
       "      <td>1,987,400</td>\n",
       "      <td>Penelope Scott</td>\n",
       "      <td>Tesla's Pigeon</td>\n",
       "      <td>Rät</td>\n",
       "      <td>Public Void</td>\n",
       "      <td>195</td>\n",
       "      <td>1</td>\n",
       "    </tr>\n",
       "    <tr>\n",
       "      <th>99996</th>\n",
       "      <td>QZK6F2019397</td>\n",
       "      <td>QZ</td>\n",
       "      <td>K6F</td>\n",
       "      <td>20.0</td>\n",
       "      <td>3/1/2021</td>\n",
       "      <td>Spotify</td>\n",
       "      <td>1,987,400</td>\n",
       "      <td>Penelope Scott</td>\n",
       "      <td>Tesla's Pigeon</td>\n",
       "      <td>Rät</td>\n",
       "      <td>Public Void</td>\n",
       "      <td>195</td>\n",
       "      <td>1</td>\n",
       "    </tr>\n",
       "    <tr>\n",
       "      <th>99997</th>\n",
       "      <td>SE6HN1926755</td>\n",
       "      <td>SE</td>\n",
       "      <td>6HN</td>\n",
       "      <td>19.0</td>\n",
       "      <td>5/1/2021</td>\n",
       "      <td>Spotify</td>\n",
       "      <td>1,380,829</td>\n",
       "      <td>awfultune</td>\n",
       "      <td>awfultune</td>\n",
       "      <td>I Met Sarah in the Bathroom</td>\n",
       "      <td>I Met Sarah in the Bathroom</td>\n",
       "      <td>122</td>\n",
       "      <td>1</td>\n",
       "    </tr>\n",
       "    <tr>\n",
       "      <th>99998</th>\n",
       "      <td>SEYOK1669274</td>\n",
       "      <td>SE</td>\n",
       "      <td>YOK</td>\n",
       "      <td>16.0</td>\n",
       "      <td>5/1/2021</td>\n",
       "      <td>Spotify</td>\n",
       "      <td>1,531,690</td>\n",
       "      <td>Vacations</td>\n",
       "      <td>Nettwerk Records</td>\n",
       "      <td>Young</td>\n",
       "      <td>Vibes</td>\n",
       "      <td>190</td>\n",
       "      <td>1</td>\n",
       "    </tr>\n",
       "    <tr>\n",
       "      <th>99999</th>\n",
       "      <td>QZK6F2019397</td>\n",
       "      <td>QZ</td>\n",
       "      <td>K6F</td>\n",
       "      <td>20.0</td>\n",
       "      <td>5/1/2021</td>\n",
       "      <td>Spotify</td>\n",
       "      <td>1,768,669</td>\n",
       "      <td>Penelope Scott</td>\n",
       "      <td>Tesla's Pigeon</td>\n",
       "      <td>Rät</td>\n",
       "      <td>Public Void</td>\n",
       "      <td>195</td>\n",
       "      <td>1</td>\n",
       "    </tr>\n",
       "  </tbody>\n",
       "</table>\n",
       "</div>"
      ],
      "text/plain": [
       "                If  Country Code Registrant Code  Year of Reference  \\\n",
       "99995  QZK6F2019397           QZ             K6F               20.0   \n",
       "99996  QZK6F2019397           QZ             K6F               20.0   \n",
       "99997  SE6HN1926755           SE             6HN               19.0   \n",
       "99998  SEYOK1669274           SE             YOK               16.0   \n",
       "99999  QZK6F2019397           QZ             K6F               20.0   \n",
       "\n",
       "      Usage Period Streaming Platform (DSP)      Streams Recording Artist  \\\n",
       "99995     3/1/2021                  Spotify   1,987,400    Penelope Scott   \n",
       "99996     3/1/2021                  Spotify   1,987,400    Penelope Scott   \n",
       "99997     5/1/2021                  Spotify   1,380,829         awfultune   \n",
       "99998     5/1/2021                  Spotify   1,531,690         Vacations   \n",
       "99999     5/1/2021                  Spotify   1,768,669    Penelope Scott   \n",
       "\n",
       "        Recording Label              Recording Title  \\\n",
       "99995    Tesla's Pigeon                          Rät   \n",
       "99996    Tesla's Pigeon                          Rät   \n",
       "99997         awfultune  I Met Sarah in the Bathroom   \n",
       "99998  Nettwerk Records                        Young   \n",
       "99999    Tesla's Pigeon                          Rät   \n",
       "\n",
       "                     Release Title  Recording Duration (Seconds)  \\\n",
       "99995                  Public Void                           195   \n",
       "99996                  Public Void                           195   \n",
       "99997  I Met Sarah in the Bathroom                           122   \n",
       "99998                        Vibes                           190   \n",
       "99999                  Public Void                           195   \n",
       "\n",
       "       Songwriter's Listed (1 = \"Yes\", 0 = \"No\")  \n",
       "99995                                          1  \n",
       "99996                                          1  \n",
       "99997                                          1  \n",
       "99998                                          1  \n",
       "99999                                          1  "
      ]
     },
     "execution_count": 4,
     "metadata": {},
     "output_type": "execute_result"
    }
   ],
   "source": [
    "mlc.tail()"
   ]
  },
  {
   "cell_type": "code",
   "execution_count": 5,
   "id": "a7e86efd",
   "metadata": {},
   "outputs": [
    {
     "data": {
      "text/html": [
       "<div>\n",
       "<style scoped>\n",
       "    .dataframe tbody tr th:only-of-type {\n",
       "        vertical-align: middle;\n",
       "    }\n",
       "\n",
       "    .dataframe tbody tr th {\n",
       "        vertical-align: top;\n",
       "    }\n",
       "\n",
       "    .dataframe thead th {\n",
       "        text-align: right;\n",
       "    }\n",
       "</style>\n",
       "<table border=\"1\" class=\"dataframe\">\n",
       "  <thead>\n",
       "    <tr style=\"text-align: right;\">\n",
       "      <th></th>\n",
       "      <th>ISRC</th>\n",
       "      <th>Country</th>\n",
       "      <th>Registrant</th>\n",
       "      <th>Release_Year</th>\n",
       "      <th>Period</th>\n",
       "      <th>DSP</th>\n",
       "      <th>Streams</th>\n",
       "      <th>Artist</th>\n",
       "      <th>Label</th>\n",
       "      <th>Song</th>\n",
       "      <th>Album</th>\n",
       "      <th>Duration</th>\n",
       "      <th>Songwriter?</th>\n",
       "    </tr>\n",
       "  </thead>\n",
       "  <tbody>\n",
       "    <tr>\n",
       "      <th>0</th>\n",
       "      <td>USUG12101043</td>\n",
       "      <td>US</td>\n",
       "      <td>UG1</td>\n",
       "      <td>21.0</td>\n",
       "      <td>3/1/2021</td>\n",
       "      <td>Apple</td>\n",
       "      <td>16,216,932</td>\n",
       "      <td>Drake</td>\n",
       "      <td>OVO</td>\n",
       "      <td>Lemon Pepper Freestyle (feat. Rick Ross)</td>\n",
       "      <td>Scary Hours 2</td>\n",
       "      <td>383</td>\n",
       "      <td>1</td>\n",
       "    </tr>\n",
       "    <tr>\n",
       "      <th>1</th>\n",
       "      <td>USRC12100543</td>\n",
       "      <td>US</td>\n",
       "      <td>RC1</td>\n",
       "      <td>21.0</td>\n",
       "      <td>4/1/2021</td>\n",
       "      <td>Spotify</td>\n",
       "      <td>21,456,166</td>\n",
       "      <td>Doja Cat,SZA</td>\n",
       "      <td>Kemosabe Records/RCA Records</td>\n",
       "      <td>Kiss Me More (feat. SZA)</td>\n",
       "      <td>Kiss Me More (feat. SZA)</td>\n",
       "      <td>209</td>\n",
       "      <td>1</td>\n",
       "    </tr>\n",
       "    <tr>\n",
       "      <th>2</th>\n",
       "      <td>USSM12102263</td>\n",
       "      <td>US</td>\n",
       "      <td>SM1</td>\n",
       "      <td>21.0</td>\n",
       "      <td>NaN</td>\n",
       "      <td>Apple</td>\n",
       "      <td>15,747,471</td>\n",
       "      <td>DJ Khaled</td>\n",
       "      <td>Epic/We The Best</td>\n",
       "      <td>EVERY CHANCE I GET (feat. Lil Baby &amp; Lil Durk)</td>\n",
       "      <td>KHALED KHALED</td>\n",
       "      <td>237</td>\n",
       "      <td>1</td>\n",
       "    </tr>\n",
       "    <tr>\n",
       "      <th>3</th>\n",
       "      <td>USLD91731547</td>\n",
       "      <td>US</td>\n",
       "      <td>LD9</td>\n",
       "      <td>17.0</td>\n",
       "      <td>4/1/2021</td>\n",
       "      <td>Apple</td>\n",
       "      <td>17,259,260</td>\n",
       "      <td>Rod Wave</td>\n",
       "      <td>Alamo Records</td>\n",
       "      <td>Tombstone</td>\n",
       "      <td>SoulFly</td>\n",
       "      <td>160</td>\n",
       "      <td>1</td>\n",
       "    </tr>\n",
       "    <tr>\n",
       "      <th>4</th>\n",
       "      <td>USAT22007048</td>\n",
       "      <td>US</td>\n",
       "      <td>AT2</td>\n",
       "      <td>20.0</td>\n",
       "      <td>3/1/2021</td>\n",
       "      <td>Apple</td>\n",
       "      <td>8,789,577</td>\n",
       "      <td>Pooh Shiesty</td>\n",
       "      <td>Atlantic Records</td>\n",
       "      <td>Back In Blood (Feat. Lil Durk)</td>\n",
       "      <td>Back in Blood (feat. Lil Durk) - Single</td>\n",
       "      <td>184</td>\n",
       "      <td>1</td>\n",
       "    </tr>\n",
       "    <tr>\n",
       "      <th>...</th>\n",
       "      <td>...</td>\n",
       "      <td>...</td>\n",
       "      <td>...</td>\n",
       "      <td>...</td>\n",
       "      <td>...</td>\n",
       "      <td>...</td>\n",
       "      <td>...</td>\n",
       "      <td>...</td>\n",
       "      <td>...</td>\n",
       "      <td>...</td>\n",
       "      <td>...</td>\n",
       "      <td>...</td>\n",
       "      <td>...</td>\n",
       "    </tr>\n",
       "    <tr>\n",
       "      <th>99995</th>\n",
       "      <td>QZK6F2019397</td>\n",
       "      <td>QZ</td>\n",
       "      <td>K6F</td>\n",
       "      <td>20.0</td>\n",
       "      <td>3/1/2021</td>\n",
       "      <td>Spotify</td>\n",
       "      <td>1,987,400</td>\n",
       "      <td>Penelope Scott</td>\n",
       "      <td>Tesla's Pigeon</td>\n",
       "      <td>Rät</td>\n",
       "      <td>Public Void</td>\n",
       "      <td>195</td>\n",
       "      <td>1</td>\n",
       "    </tr>\n",
       "    <tr>\n",
       "      <th>99996</th>\n",
       "      <td>QZK6F2019397</td>\n",
       "      <td>QZ</td>\n",
       "      <td>K6F</td>\n",
       "      <td>20.0</td>\n",
       "      <td>3/1/2021</td>\n",
       "      <td>Spotify</td>\n",
       "      <td>1,987,400</td>\n",
       "      <td>Penelope Scott</td>\n",
       "      <td>Tesla's Pigeon</td>\n",
       "      <td>Rät</td>\n",
       "      <td>Public Void</td>\n",
       "      <td>195</td>\n",
       "      <td>1</td>\n",
       "    </tr>\n",
       "    <tr>\n",
       "      <th>99997</th>\n",
       "      <td>SE6HN1926755</td>\n",
       "      <td>SE</td>\n",
       "      <td>6HN</td>\n",
       "      <td>19.0</td>\n",
       "      <td>5/1/2021</td>\n",
       "      <td>Spotify</td>\n",
       "      <td>1,380,829</td>\n",
       "      <td>awfultune</td>\n",
       "      <td>awfultune</td>\n",
       "      <td>I Met Sarah in the Bathroom</td>\n",
       "      <td>I Met Sarah in the Bathroom</td>\n",
       "      <td>122</td>\n",
       "      <td>1</td>\n",
       "    </tr>\n",
       "    <tr>\n",
       "      <th>99998</th>\n",
       "      <td>SEYOK1669274</td>\n",
       "      <td>SE</td>\n",
       "      <td>YOK</td>\n",
       "      <td>16.0</td>\n",
       "      <td>5/1/2021</td>\n",
       "      <td>Spotify</td>\n",
       "      <td>1,531,690</td>\n",
       "      <td>Vacations</td>\n",
       "      <td>Nettwerk Records</td>\n",
       "      <td>Young</td>\n",
       "      <td>Vibes</td>\n",
       "      <td>190</td>\n",
       "      <td>1</td>\n",
       "    </tr>\n",
       "    <tr>\n",
       "      <th>99999</th>\n",
       "      <td>QZK6F2019397</td>\n",
       "      <td>QZ</td>\n",
       "      <td>K6F</td>\n",
       "      <td>20.0</td>\n",
       "      <td>5/1/2021</td>\n",
       "      <td>Spotify</td>\n",
       "      <td>1,768,669</td>\n",
       "      <td>Penelope Scott</td>\n",
       "      <td>Tesla's Pigeon</td>\n",
       "      <td>Rät</td>\n",
       "      <td>Public Void</td>\n",
       "      <td>195</td>\n",
       "      <td>1</td>\n",
       "    </tr>\n",
       "  </tbody>\n",
       "</table>\n",
       "<p>100000 rows × 13 columns</p>\n",
       "</div>"
      ],
      "text/plain": [
       "               ISRC Country Registrant  Release_Year    Period      DSP  \\\n",
       "0      USUG12101043      US        UG1          21.0  3/1/2021    Apple   \n",
       "1      USRC12100543      US        RC1          21.0  4/1/2021  Spotify   \n",
       "2      USSM12102263      US        SM1          21.0       NaN    Apple   \n",
       "3      USLD91731547      US        LD9          17.0  4/1/2021    Apple   \n",
       "4      USAT22007048      US        AT2          20.0  3/1/2021    Apple   \n",
       "...             ...     ...        ...           ...       ...      ...   \n",
       "99995  QZK6F2019397      QZ        K6F          20.0  3/1/2021  Spotify   \n",
       "99996  QZK6F2019397      QZ        K6F          20.0  3/1/2021  Spotify   \n",
       "99997  SE6HN1926755      SE        6HN          19.0  5/1/2021  Spotify   \n",
       "99998  SEYOK1669274      SE        YOK          16.0  5/1/2021  Spotify   \n",
       "99999  QZK6F2019397      QZ        K6F          20.0  5/1/2021  Spotify   \n",
       "\n",
       "            Streams          Artist                         Label  \\\n",
       "0       16,216,932            Drake                           OVO   \n",
       "1       21,456,166     Doja Cat,SZA  Kemosabe Records/RCA Records   \n",
       "2       15,747,471        DJ Khaled              Epic/We The Best   \n",
       "3       17,259,260         Rod Wave                 Alamo Records   \n",
       "4        8,789,577     Pooh Shiesty              Atlantic Records   \n",
       "...             ...             ...                           ...   \n",
       "99995    1,987,400   Penelope Scott                Tesla's Pigeon   \n",
       "99996    1,987,400   Penelope Scott                Tesla's Pigeon   \n",
       "99997    1,380,829        awfultune                     awfultune   \n",
       "99998    1,531,690        Vacations              Nettwerk Records   \n",
       "99999    1,768,669   Penelope Scott                Tesla's Pigeon   \n",
       "\n",
       "                                                 Song  \\\n",
       "0            Lemon Pepper Freestyle (feat. Rick Ross)   \n",
       "1                            Kiss Me More (feat. SZA)   \n",
       "2      EVERY CHANCE I GET (feat. Lil Baby & Lil Durk)   \n",
       "3                                           Tombstone   \n",
       "4                      Back In Blood (Feat. Lil Durk)   \n",
       "...                                               ...   \n",
       "99995                                             Rät   \n",
       "99996                                             Rät   \n",
       "99997                     I Met Sarah in the Bathroom   \n",
       "99998                                           Young   \n",
       "99999                                             Rät   \n",
       "\n",
       "                                         Album  Duration  Songwriter?  \n",
       "0                                Scary Hours 2       383            1  \n",
       "1                     Kiss Me More (feat. SZA)       209            1  \n",
       "2                                KHALED KHALED       237            1  \n",
       "3                                      SoulFly       160            1  \n",
       "4      Back in Blood (feat. Lil Durk) - Single       184            1  \n",
       "...                                        ...       ...          ...  \n",
       "99995                              Public Void       195            1  \n",
       "99996                              Public Void       195            1  \n",
       "99997              I Met Sarah in the Bathroom       122            1  \n",
       "99998                                    Vibes       190            1  \n",
       "99999                              Public Void       195            1  \n",
       "\n",
       "[100000 rows x 13 columns]"
      ]
     },
     "execution_count": 5,
     "metadata": {},
     "output_type": "execute_result"
    }
   ],
   "source": [
    "mlc.columns = ['ISRC', 'Country', 'Registrant', 'Release_Year', 'Period', 'DSP', 'Streams', 'Artist', 'Label', 'Song', 'Album', 'Duration', 'Songwriter?']\n",
    "mlc"
   ]
  },
  {
   "cell_type": "markdown",
   "id": "bc452818",
   "metadata": {},
   "source": [
    "###### Exploratory phase"
   ]
  },
  {
   "cell_type": "markdown",
   "id": "aada16ac",
   "metadata": {},
   "source": [
    "#### Foreign producers seem to get the most exposure on Spotify, Apple, and Amazon...What about domestic?"
   ]
  },
  {
   "cell_type": "code",
   "execution_count": 6,
   "id": "2f0d1306",
   "metadata": {},
   "outputs": [
    {
     "data": {
      "text/plain": [
       "Apple           10093\n",
       "Spotify          8434\n",
       "Pandora          7585\n",
       "Amazon           7505\n",
       "Tidal            1895\n",
       "YouTube          1328\n",
       "SoundCloud       1026\n",
       "Trebel            574\n",
       "GTL               433\n",
       "iHeart Radio      383\n",
       "Melodyv           307\n",
       "AudioMack         232\n",
       "LiveXLive         105\n",
       "Midwest Tape       74\n",
       "Deezer             39\n",
       "Qoboz              25\n",
       "Smithsonian        21\n",
       "Sonos              19\n",
       "Wolfgangs           4\n",
       "Fan Label           2\n",
       "MixCloud            1\n",
       "Name: DSP, dtype: int64"
      ]
     },
     "execution_count": 6,
     "metadata": {},
     "output_type": "execute_result"
    }
   ],
   "source": [
    "domestic = mlc.loc[mlc['Country']== 'US']\n",
    "\n",
    "domestic['DSP'].value_counts()"
   ]
  },
  {
   "cell_type": "markdown",
   "id": "8ef1d78d",
   "metadata": {},
   "source": [
    "#### Apple, Spotify, and Pandora made the top 3 for domestic, but it was close.\n",
    "who was listening to classical music?"
   ]
  },
  {
   "cell_type": "code",
   "execution_count": 7,
   "id": "139940e5",
   "metadata": {},
   "outputs": [
    {
     "data": {
      "text/html": [
       "<div>\n",
       "<style scoped>\n",
       "    .dataframe tbody tr th:only-of-type {\n",
       "        vertical-align: middle;\n",
       "    }\n",
       "\n",
       "    .dataframe tbody tr th {\n",
       "        vertical-align: top;\n",
       "    }\n",
       "\n",
       "    .dataframe thead th {\n",
       "        text-align: right;\n",
       "    }\n",
       "</style>\n",
       "<table border=\"1\" class=\"dataframe\">\n",
       "  <thead>\n",
       "    <tr style=\"text-align: right;\">\n",
       "      <th></th>\n",
       "      <th>ISRC</th>\n",
       "      <th>Country</th>\n",
       "      <th>Registrant</th>\n",
       "      <th>Release_Year</th>\n",
       "      <th>Period</th>\n",
       "      <th>DSP</th>\n",
       "      <th>Streams</th>\n",
       "      <th>Artist</th>\n",
       "      <th>Label</th>\n",
       "      <th>Song</th>\n",
       "      <th>Album</th>\n",
       "      <th>Duration</th>\n",
       "      <th>Songwriter?</th>\n",
       "    </tr>\n",
       "  </thead>\n",
       "  <tbody>\n",
       "    <tr>\n",
       "      <th>71086</th>\n",
       "      <td>DEB339350501</td>\n",
       "      <td>DE</td>\n",
       "      <td>B33</td>\n",
       "      <td>93.0</td>\n",
       "      <td>4/1/2021</td>\n",
       "      <td>Classical Archives</td>\n",
       "      <td>12</td>\n",
       "      <td>Tõnu Kaljuste, Estonian Philharmonic Chamber C...</td>\n",
       "      <td>ECM New Series</td>\n",
       "      <td>Te Deum, for double chorus, strings, prepared ...</td>\n",
       "      <td>Pärt: Te Deum</td>\n",
       "      <td>1723</td>\n",
       "      <td>1</td>\n",
       "    </tr>\n",
       "    <tr>\n",
       "      <th>87615</th>\n",
       "      <td>NLA508532103</td>\n",
       "      <td>NL</td>\n",
       "      <td>A50</td>\n",
       "      <td>85.0</td>\n",
       "      <td>2/1/2021</td>\n",
       "      <td>Classical Archives</td>\n",
       "      <td>8</td>\n",
       "      <td>Beaux Arts Trio</td>\n",
       "      <td>Decca Music Group Ltd.</td>\n",
       "      <td>Trio élégiaque, for piano and strings in D-, O...</td>\n",
       "      <td>Rachmaninov: Piano Trios Nos.1 &amp; 2</td>\n",
       "      <td>1195</td>\n",
       "      <td>1</td>\n",
       "    </tr>\n",
       "  </tbody>\n",
       "</table>\n",
       "</div>"
      ],
      "text/plain": [
       "               ISRC Country Registrant  Release_Year    Period  \\\n",
       "71086  DEB339350501      DE        B33          93.0  4/1/2021   \n",
       "87615  NLA508532103      NL        A50          85.0  2/1/2021   \n",
       "\n",
       "                      DSP Streams  \\\n",
       "71086  Classical Archives     12    \n",
       "87615  Classical Archives      8    \n",
       "\n",
       "                                                  Artist  \\\n",
       "71086  Tõnu Kaljuste, Estonian Philharmonic Chamber C...   \n",
       "87615                                    Beaux Arts Trio   \n",
       "\n",
       "                        Label  \\\n",
       "71086          ECM New Series   \n",
       "87615  Decca Music Group Ltd.   \n",
       "\n",
       "                                                    Song  \\\n",
       "71086  Te Deum, for double chorus, strings, prepared ...   \n",
       "87615  Trio élégiaque, for piano and strings in D-, O...   \n",
       "\n",
       "                                    Album  Duration  Songwriter?  \n",
       "71086                       Pärt: Te Deum      1723            1  \n",
       "87615  Rachmaninov: Piano Trios Nos.1 & 2      1195            1  "
      ]
     },
     "execution_count": 7,
     "metadata": {},
     "output_type": "execute_result"
    }
   ],
   "source": [
    "mlc.loc[mlc['DSP']=='Classical Archives']\n",
    "#Long French names, but these are really long songs"
   ]
  },
  {
   "cell_type": "code",
   "execution_count": 8,
   "id": "32b83fa0",
   "metadata": {},
   "outputs": [
    {
     "data": {
      "text/plain": [
       "818738"
      ]
     },
     "execution_count": 8,
     "metadata": {},
     "output_type": "execute_result"
    }
   ],
   "source": [
    "#What is the longest song?\n",
    "longest_song = max(mlc.Duration)\n",
    "longest_song"
   ]
  },
  {
   "cell_type": "code",
   "execution_count": 9,
   "id": "830f14e9",
   "metadata": {
    "scrolled": true
   },
   "outputs": [
    {
     "data": {
      "text/plain": [
       "Atlantic Records                  1384\n",
       "Lofi Records                      1232\n",
       "Warner Records                     995\n",
       "Columbia                           843\n",
       "Universal                          818\n",
       "                                  ... \n",
       "Silence and Sounds                   1\n",
       "Classic Music Company                1\n",
       "FreestyleRs// PlanSecret Music       1\n",
       "Eddie Vedder/Republic World          1\n",
       "God Over Money Records               1\n",
       "Name: Label, Length: 11778, dtype: int64"
      ]
     },
     "execution_count": 9,
     "metadata": {},
     "output_type": "execute_result"
    }
   ],
   "source": [
    "mlc.Label.value_counts()"
   ]
  },
  {
   "cell_type": "code",
   "execution_count": 10,
   "id": "6a25bc9c",
   "metadata": {},
   "outputs": [
    {
     "data": {
      "text/html": [
       "<div>\n",
       "<style scoped>\n",
       "    .dataframe tbody tr th:only-of-type {\n",
       "        vertical-align: middle;\n",
       "    }\n",
       "\n",
       "    .dataframe tbody tr th {\n",
       "        vertical-align: top;\n",
       "    }\n",
       "\n",
       "    .dataframe thead th {\n",
       "        text-align: right;\n",
       "    }\n",
       "</style>\n",
       "<table border=\"1\" class=\"dataframe\">\n",
       "  <thead>\n",
       "    <tr style=\"text-align: right;\">\n",
       "      <th></th>\n",
       "      <th>ISRC</th>\n",
       "      <th>Country</th>\n",
       "      <th>Registrant</th>\n",
       "      <th>Release_Year</th>\n",
       "      <th>Period</th>\n",
       "      <th>DSP</th>\n",
       "      <th>Streams</th>\n",
       "      <th>Artist</th>\n",
       "      <th>Label</th>\n",
       "      <th>Song</th>\n",
       "      <th>Album</th>\n",
       "      <th>Duration</th>\n",
       "      <th>Songwriter?</th>\n",
       "    </tr>\n",
       "  </thead>\n",
       "  <tbody>\n",
       "    <tr>\n",
       "      <th>79752</th>\n",
       "      <td>QMCE32000650</td>\n",
       "      <td>QM</td>\n",
       "      <td>CE3</td>\n",
       "      <td>20.0</td>\n",
       "      <td>2/1/2021</td>\n",
       "      <td>Trebel</td>\n",
       "      <td>6,464</td>\n",
       "      <td>Megan Thee Stallion</td>\n",
       "      <td>Warner</td>\n",
       "      <td>Cry Baby (feat. DaBaby)</td>\n",
       "      <td>Good News</td>\n",
       "      <td>818738</td>\n",
       "      <td>0</td>\n",
       "    </tr>\n",
       "  </tbody>\n",
       "</table>\n",
       "</div>"
      ],
      "text/plain": [
       "               ISRC Country Registrant  Release_Year    Period     DSP  \\\n",
       "79752  QMCE32000650      QM        CE3          20.0  2/1/2021  Trebel   \n",
       "\n",
       "       Streams               Artist   Label                     Song  \\\n",
       "79752   6,464   Megan Thee Stallion  Warner  Cry Baby (feat. DaBaby)   \n",
       "\n",
       "           Album  Duration  Songwriter?  \n",
       "79752  Good News    818738            0  "
      ]
     },
     "execution_count": 10,
     "metadata": {},
     "output_type": "execute_result"
    }
   ],
   "source": [
    "mlc.loc[mlc['Duration']==mlc.Duration.max()]\n"
   ]
  },
  {
   "cell_type": "markdown",
   "id": "d7541509",
   "metadata": {},
   "source": [
    "#### Megan Thee Stallion has a 9 day long song. That is impressive."
   ]
  },
  {
   "cell_type": "code",
   "execution_count": 11,
   "id": "e55281d6",
   "metadata": {
    "scrolled": true
   },
   "outputs": [
    {
     "name": "stdout",
     "output_type": "stream",
     "text": [
      "<class 'pandas.core.frame.DataFrame'>\n",
      "RangeIndex: 100000 entries, 0 to 99999\n",
      "Data columns (total 13 columns):\n",
      " #   Column        Non-Null Count   Dtype  \n",
      "---  ------        --------------   -----  \n",
      " 0   ISRC          98240 non-null   object \n",
      " 1   Country       98303 non-null   object \n",
      " 2   Registrant    98303 non-null   object \n",
      " 3   Release_Year  98239 non-null   float64\n",
      " 4   Period        91898 non-null   object \n",
      " 5   DSP           96001 non-null   object \n",
      " 6   Streams       100000 non-null  object \n",
      " 7   Artist        100000 non-null  object \n",
      " 8   Label         98992 non-null   object \n",
      " 9   Song          100000 non-null  object \n",
      " 10  Album         99931 non-null   object \n",
      " 11  Duration      100000 non-null  int64  \n",
      " 12  Songwriter?   100000 non-null  int64  \n",
      "dtypes: float64(1), int64(2), object(10)\n",
      "memory usage: 9.9+ MB\n"
     ]
    }
   ],
   "source": [
    "mlc.info()"
   ]
  },
  {
   "cell_type": "code",
   "execution_count": 12,
   "id": "33e8bd75",
   "metadata": {},
   "outputs": [],
   "source": [
    "mlc['Streams']=mlc['Streams'].str.replace(\" \", \",\")\n",
    "mlc['Streams']=mlc['Streams'].str.replace(\",\", \"\")\n"
   ]
  },
  {
   "cell_type": "code",
   "execution_count": 13,
   "id": "f718b85e",
   "metadata": {},
   "outputs": [
    {
     "name": "stdout",
     "output_type": "stream",
     "text": [
      "<class 'pandas.core.frame.DataFrame'>\n",
      "RangeIndex: 100000 entries, 0 to 99999\n",
      "Data columns (total 13 columns):\n",
      " #   Column        Non-Null Count   Dtype  \n",
      "---  ------        --------------   -----  \n",
      " 0   ISRC          98240 non-null   object \n",
      " 1   Country       98303 non-null   object \n",
      " 2   Registrant    98303 non-null   object \n",
      " 3   Release_Year  98239 non-null   float64\n",
      " 4   Period        91898 non-null   object \n",
      " 5   DSP           96001 non-null   object \n",
      " 6   Streams       100000 non-null  object \n",
      " 7   Artist        100000 non-null  object \n",
      " 8   Label         98992 non-null   object \n",
      " 9   Song          100000 non-null  object \n",
      " 10  Album         99931 non-null   object \n",
      " 11  Duration      100000 non-null  int64  \n",
      " 12  Songwriter?   100000 non-null  int64  \n",
      "dtypes: float64(1), int64(2), object(10)\n",
      "memory usage: 9.9+ MB\n"
     ]
    }
   ],
   "source": [
    "mlc.info()"
   ]
  },
  {
   "cell_type": "code",
   "execution_count": 14,
   "id": "24b2e978",
   "metadata": {},
   "outputs": [],
   "source": [
    "mlc['Streams']=mlc['Streams'].astype(int)"
   ]
  },
  {
   "cell_type": "code",
   "execution_count": 15,
   "id": "8c7d2baa",
   "metadata": {},
   "outputs": [
    {
     "name": "stdout",
     "output_type": "stream",
     "text": [
      "<class 'pandas.core.frame.DataFrame'>\n",
      "RangeIndex: 100000 entries, 0 to 99999\n",
      "Data columns (total 13 columns):\n",
      " #   Column        Non-Null Count   Dtype  \n",
      "---  ------        --------------   -----  \n",
      " 0   ISRC          98240 non-null   object \n",
      " 1   Country       98303 non-null   object \n",
      " 2   Registrant    98303 non-null   object \n",
      " 3   Release_Year  98239 non-null   float64\n",
      " 4   Period        91898 non-null   object \n",
      " 5   DSP           96001 non-null   object \n",
      " 6   Streams       100000 non-null  int32  \n",
      " 7   Artist        100000 non-null  object \n",
      " 8   Label         98992 non-null   object \n",
      " 9   Song          100000 non-null  object \n",
      " 10  Album         99931 non-null   object \n",
      " 11  Duration      100000 non-null  int64  \n",
      " 12  Songwriter?   100000 non-null  int64  \n",
      "dtypes: float64(1), int32(1), int64(2), object(9)\n",
      "memory usage: 9.5+ MB\n"
     ]
    }
   ],
   "source": [
    "mlc.info()"
   ]
  },
  {
   "cell_type": "code",
   "execution_count": 16,
   "id": "e7a49654",
   "metadata": {},
   "outputs": [],
   "source": [
    "# sh{}\n",
    "# good{}\n",
    "# long{}\n",
    "\n",
    "# for index in mlc:\n",
    "#     if Duration <= 30:\n",
    "#         sh{}+1\n",
    "#     elif Duration <30 or mlc.Duration > 1800:\n",
    "#         good{}+1\n",
    "#     else:\n",
    "#         long{}+1"
   ]
  },
  {
   "cell_type": "code",
   "execution_count": 17,
   "id": "98d02ca7",
   "metadata": {},
   "outputs": [
    {
     "data": {
      "text/plain": [
       "DSP\n",
       "Classical Archives    1.000000\n",
       "Qoboz                 0.903846\n",
       "Deezer                0.862745\n",
       "Spotify               0.854376\n",
       "Apple                 0.808514\n",
       "Recisio               0.545455\n",
       "Amazon                0.261740\n",
       "Pandora               0.244828\n",
       "Melodyv               0.114596\n",
       "LiveXLive             0.070000\n",
       "GTL                   0.028440\n",
       "Tidal                 0.003692\n",
       "Smithsonian           0.000000\n",
       "Ultimate Guitar       0.000000\n",
       "Trebel                0.000000\n",
       "Wolfgangs             0.000000\n",
       "SoundCloud            0.000000\n",
       "Sonos                 0.000000\n",
       "YouTube               0.000000\n",
       "Pacemaker             0.000000\n",
       "PowerMusic            0.000000\n",
       "Anghami               0.000000\n",
       "NugsNet               0.000000\n",
       "MonkingMe             0.000000\n",
       "MixCloud              0.000000\n",
       "Midwest Tape          0.000000\n",
       "Fan Label             0.000000\n",
       "AudioMack             0.000000\n",
       "iHeart Radio          0.000000\n",
       "Name: Songwriter?, dtype: float64"
      ]
     },
     "execution_count": 17,
     "metadata": {},
     "output_type": "execute_result"
    }
   ],
   "source": [
    "sw_ratio = mlc.groupby('DSP')['Songwriter?'].mean()\n",
    "sw_ratio.sort_values(ascending=False)\n",
    "#Jasmine Drumright came up with this code to look into who has songwriter info"
   ]
  },
  {
   "cell_type": "code",
   "execution_count": 18,
   "id": "d7cd0b5a",
   "metadata": {},
   "outputs": [
    {
     "data": {
      "text/html": [
       "<div>\n",
       "<style scoped>\n",
       "    .dataframe tbody tr th:only-of-type {\n",
       "        vertical-align: middle;\n",
       "    }\n",
       "\n",
       "    .dataframe tbody tr th {\n",
       "        vertical-align: top;\n",
       "    }\n",
       "\n",
       "    .dataframe thead th {\n",
       "        text-align: right;\n",
       "    }\n",
       "</style>\n",
       "<table border=\"1\" class=\"dataframe\">\n",
       "  <thead>\n",
       "    <tr style=\"text-align: right;\">\n",
       "      <th></th>\n",
       "      <th>ISRC</th>\n",
       "      <th>Country</th>\n",
       "      <th>Registrant</th>\n",
       "      <th>Release_Year</th>\n",
       "      <th>Period</th>\n",
       "      <th>DSP</th>\n",
       "      <th>Streams</th>\n",
       "      <th>Artist</th>\n",
       "      <th>Label</th>\n",
       "      <th>Song</th>\n",
       "      <th>Album</th>\n",
       "      <th>Duration</th>\n",
       "      <th>Songwriter?</th>\n",
       "    </tr>\n",
       "  </thead>\n",
       "  <tbody>\n",
       "    <tr>\n",
       "      <th>0</th>\n",
       "      <td>USUG12101043</td>\n",
       "      <td>US</td>\n",
       "      <td>UG1</td>\n",
       "      <td>21.0</td>\n",
       "      <td>3/1/2021</td>\n",
       "      <td>Apple</td>\n",
       "      <td>16216932</td>\n",
       "      <td>Drake</td>\n",
       "      <td>OVO</td>\n",
       "      <td>Lemon Pepper Freestyle (feat. Rick Ross)</td>\n",
       "      <td>Scary Hours 2</td>\n",
       "      <td>383</td>\n",
       "      <td>1</td>\n",
       "    </tr>\n",
       "    <tr>\n",
       "      <th>1</th>\n",
       "      <td>USRC12100543</td>\n",
       "      <td>US</td>\n",
       "      <td>RC1</td>\n",
       "      <td>21.0</td>\n",
       "      <td>4/1/2021</td>\n",
       "      <td>Spotify</td>\n",
       "      <td>21456166</td>\n",
       "      <td>Doja Cat,SZA</td>\n",
       "      <td>Kemosabe Records/RCA Records</td>\n",
       "      <td>Kiss Me More (feat. SZA)</td>\n",
       "      <td>Kiss Me More (feat. SZA)</td>\n",
       "      <td>209</td>\n",
       "      <td>1</td>\n",
       "    </tr>\n",
       "    <tr>\n",
       "      <th>2</th>\n",
       "      <td>USSM12102263</td>\n",
       "      <td>US</td>\n",
       "      <td>SM1</td>\n",
       "      <td>21.0</td>\n",
       "      <td>NaN</td>\n",
       "      <td>Apple</td>\n",
       "      <td>15747471</td>\n",
       "      <td>DJ Khaled</td>\n",
       "      <td>Epic/We The Best</td>\n",
       "      <td>EVERY CHANCE I GET (feat. Lil Baby &amp; Lil Durk)</td>\n",
       "      <td>KHALED KHALED</td>\n",
       "      <td>237</td>\n",
       "      <td>1</td>\n",
       "    </tr>\n",
       "    <tr>\n",
       "      <th>3</th>\n",
       "      <td>USLD91731547</td>\n",
       "      <td>US</td>\n",
       "      <td>LD9</td>\n",
       "      <td>17.0</td>\n",
       "      <td>4/1/2021</td>\n",
       "      <td>Apple</td>\n",
       "      <td>17259260</td>\n",
       "      <td>Rod Wave</td>\n",
       "      <td>Alamo Records</td>\n",
       "      <td>Tombstone</td>\n",
       "      <td>SoulFly</td>\n",
       "      <td>160</td>\n",
       "      <td>1</td>\n",
       "    </tr>\n",
       "    <tr>\n",
       "      <th>4</th>\n",
       "      <td>USAT22007048</td>\n",
       "      <td>US</td>\n",
       "      <td>AT2</td>\n",
       "      <td>20.0</td>\n",
       "      <td>3/1/2021</td>\n",
       "      <td>Apple</td>\n",
       "      <td>8789577</td>\n",
       "      <td>Pooh Shiesty</td>\n",
       "      <td>Atlantic Records</td>\n",
       "      <td>Back In Blood (Feat. Lil Durk)</td>\n",
       "      <td>Back in Blood (feat. Lil Durk) - Single</td>\n",
       "      <td>184</td>\n",
       "      <td>1</td>\n",
       "    </tr>\n",
       "  </tbody>\n",
       "</table>\n",
       "</div>"
      ],
      "text/plain": [
       "           ISRC Country Registrant  Release_Year    Period      DSP   Streams  \\\n",
       "0  USUG12101043      US        UG1          21.0  3/1/2021    Apple  16216932   \n",
       "1  USRC12100543      US        RC1          21.0  4/1/2021  Spotify  21456166   \n",
       "2  USSM12102263      US        SM1          21.0       NaN    Apple  15747471   \n",
       "3  USLD91731547      US        LD9          17.0  4/1/2021    Apple  17259260   \n",
       "4  USAT22007048      US        AT2          20.0  3/1/2021    Apple   8789577   \n",
       "\n",
       "         Artist                         Label  \\\n",
       "0         Drake                           OVO   \n",
       "1  Doja Cat,SZA  Kemosabe Records/RCA Records   \n",
       "2     DJ Khaled              Epic/We The Best   \n",
       "3      Rod Wave                 Alamo Records   \n",
       "4  Pooh Shiesty              Atlantic Records   \n",
       "\n",
       "                                             Song  \\\n",
       "0        Lemon Pepper Freestyle (feat. Rick Ross)   \n",
       "1                        Kiss Me More (feat. SZA)   \n",
       "2  EVERY CHANCE I GET (feat. Lil Baby & Lil Durk)   \n",
       "3                                       Tombstone   \n",
       "4                  Back In Blood (Feat. Lil Durk)   \n",
       "\n",
       "                                     Album  Duration  Songwriter?  \n",
       "0                            Scary Hours 2       383            1  \n",
       "1                 Kiss Me More (feat. SZA)       209            1  \n",
       "2                            KHALED KHALED       237            1  \n",
       "3                                  SoulFly       160            1  \n",
       "4  Back in Blood (feat. Lil Durk) - Single       184            1  "
      ]
     },
     "execution_count": 18,
     "metadata": {},
     "output_type": "execute_result"
    }
   ],
   "source": [
    "mlc.head()"
   ]
  },
  {
   "cell_type": "code",
   "execution_count": 19,
   "id": "55f6d1d4",
   "metadata": {},
   "outputs": [],
   "source": [
    "DJs=mlc.loc[mlc.Artist.str.contains('DJ')]"
   ]
  },
  {
   "cell_type": "code",
   "execution_count": 20,
   "id": "825dbdee",
   "metadata": {
    "scrolled": true
   },
   "outputs": [
    {
     "data": {
      "text/plain": [
       "ISRC          Country  Registrant  Release_Year  Period    DSP      Streams  Artist                       Label                                                Song                                      Album                                                                                             Duration  Songwriter?\n",
       "FR10S1847070  FR       10S         18.0          3/1/2021  GTL      1        DJ Brytos                    Brytos Entertainment Under License to CD RUN Africa  Classic Hip Hop Trap                      Classic Hip Hop Trap                                                                              4769      0              20\n",
       "FR6V81680808  FR       6V8         16.0          3/1/2021  GTL      1        DJ Just Dizle;DJ Spinna      Big Lynden Radio                                     Dearly Departed, Pt. 2 (The Rip Mixtape)  Dearly Departed (The Rip Mixtape) (Dj Just Dizle & Dj Spinna Présent)                             5225      0              11\n",
       "FR10S1847071  FR       10S         18.0          3/1/2021  GTL      1        DJ Brytos                    Brytos Entertainment Under License to CD RUN Africa  2018 100% Street Anthem                   2018 100% Street Anthem                                                                           7826      0              10\n",
       "GBKTX1006411  GB       KTX         10.0          3/1/2021  GTL      1        DJ 'Double J' En Effect      Highroller Music                                     Top 40 Rnb Continuous Mix (R And B)       Top 40 R&B Club Anthems 2013 - The Best Rnb Dance Chart Hits For Clubbing & Partying ( R And B )  3621      0               9\n",
       "FR6V81680807  FR       6V8         16.0          3/1/2021  GTL      1        DJ Just Dizle;DJ Spinna      Big Lynden Radio                                     Dearly Departed, Pt. 1 (The Rip Mixtape)  Dearly Departed (The Rip Mixtape) (Dj Just Dizle & Dj Spinna Présent)                             4088      0               8\n",
       "                                                                                                                                                                                                                                                                                                                                    ..\n",
       "QZGLM2150323  QZ       GLM         21.0          4/1/2021  Apple    18773    DJ 4KERTY                    Dj 4kerty                                            Majo (feat. Bella Shmurda)                Majo (feat. Bella Shmurda) - Single                                                               166       1               1\n",
       "QZGLM2139601  QZ       GLM         21.0          5/1/2021  Spotify  248176   Papu DJ,L-Gante              PAPU DJ                                              L-Gante Rkt                               L-Gante Rkt                                                                                       182       1               1\n",
       "QZGLM2079744  QZ       GLM         20.0          3/1/2021  Spotify  76703    El Taiger,DJ Conds,The Yabo  El Taiger                                            La Guariconfianza                         Blychy                                                                                            208       1               1\n",
       "QZFZ42170731  QZ       FZ4         21.0          3/1/2021  Spotify  26568    DJ FUKKUS                    VIP Records                                          Let me introduce myself                   Let me introduce myself                                                                           106       1               1\n",
       "USZ4V2100009  US       Z4V         21.0          3/1/2021  Spotify  20825    Danny L Harle,DJ Danny       Mad Decent                                           Take My Heart Away                        Harlecore                                                                                         186       1               1\n",
       "Length: 372, dtype: int64"
      ]
     },
     "execution_count": 20,
     "metadata": {},
     "output_type": "execute_result"
    }
   ],
   "source": [
    "DJs.value_counts()\n",
    "#That's too much info"
   ]
  },
  {
   "cell_type": "code",
   "execution_count": 21,
   "id": "6fa2c880",
   "metadata": {},
   "outputs": [
    {
     "data": {
      "text/plain": [
       "array(['DJ Khaled',\n",
       "       'DJ Scheme,Ski Mask The Slump God,Danny Towers,Lil Yachty',\n",
       "       'DJ Chose,Megan Thee Stallion',\n",
       "       'DJ Khaled,Bryson Tiller,Meek Mill,H.E.R.',\n",
       "       'DJ Khaled,Big Sean,Rick Ross,A Boogie Wit da Hoodie,Diddy',\n",
       "       'DJ Khaled,Lil Baby,Lil Durk',\n",
       "       'DJ Scheme,Cordae,Ski Mask The Slump God,Take A Daytrip',\n",
       "       'Juice WRLD, DJ Scheme', 'DJ Snake,Selena Gomez',\n",
       "       'Brent Faiyaz,DJ Dahi,Tyler, The Creator',\n",
       "       'Brent Faiyaz & DJ Dahi Feat. Tyler The Creator',\n",
       "       'Kaito Shoma,DJ Paul,Kingpin Skinny Pimp',\n",
       "       'DJ Khaled,Bryson Tiller,Roddy Ricch,Lil Baby',\n",
       "       'DJ Pharris,Chance the Rapper,Wiz Khalifa,Rockie Fresh',\n",
       "       'DJ Chose|Megan Thee Stallion',\n",
       "       'DJ Khaled,Nas,JAY-Z,James Fauntleroy',\n",
       "       'Fat Joe, DJ Khaled & Amorphous', 'DJ Scheme,Juice WRLD',\n",
       "       'DJ Khaled feat. Justin Bieber & 21 Savage',\n",
       "       'DJ Khaled feat. Nas, JAY-Z & James Fauntleroy',\n",
       "       'Bad Bunny|Mambo Kingz|Prince Royce|DJ Luian|J Balvin',\n",
       "       'DJ Scheme,Ski Mask The Slump God,ZillaKami', 'DJ Khaled,Cardi B',\n",
       "       'DJ Khaled feat. Lil Wayne & Jeremih', 'DJ Scheme,iann dior',\n",
       "       'DJ Khaled feat. Bryson Tiller, H.E.R. & Meek Mill',\n",
       "       'DJ Khaled [feat. Drake, Rick Ross & Lil Wayne]',\n",
       "       'Lil Gnar,Ski Mask The Slump God,Chief Keef,DJ Scheme', 'DJ BJ',\n",
       "       'DJ Snake', 'DJ Khaled,Buju Banton,Capleton,Bounty Killer',\n",
       "       'DJ Khaled feat. Drake', 'Papu DJ,L-Gante', 'DJ Tunez', 'DJ LB',\n",
       "       'Bone Thugs-N-Harmony,DJ Kay Slay,Busta Rhymes,Twista,Jaz-O',\n",
       "       'Kingpin Skinny Pimp, Kaito Shoma, DJ Paul', 'DJ Drama',\n",
       "       'DJ 4KERTY', 'DJ Khaled|Ludacris|Snoop Dogg|Rick Ross|T-Pain',\n",
       "       'DJ Sauna,DJ Luke Nasty', 'DJ Khaled|Drake',\n",
       "       'Jay Wheeler, Myke Towers & DJ Nelson (feat. Jhay Cortez, Lunay, Rauw Alejandro & Kendo Kaponi)',\n",
       "       'Jay Wheeler & DJ Nelson (feat. Myke Towers)',\n",
       "       'Fat Joe, DJ Khaled, Amorphous', 'DJ Chose|Beatking', 'DJ Hip Hop',\n",
       "       'El Taiger,DJ Conds,The Yabo', 'DJ Paul',\n",
       "       'Enrique Iglesias [feat. Ludacris & DJ Frank E]',\n",
       "       'DJ Kay Slay (feat. Sheek Louch, Styles P, Benny The Butcher, Bun B, Ghostface Killah, Raekwon, AZ, Papoose, Ransom, Memphis Bleek, Billy Danze, Lil Fame, Dave East, 3D Natee, Joell Ortiz, Saigon, Mistah F.A.B., Chris Rivers, Jon Connor, Twista, E-40, Nino Man, Shoota, Mysonne, Sauce Money, Ice-T, Trick Trick, RJ Payne, E-A-Ski, Fred The Godson, Loaded Lux, Termanology, Young Noble, EDI, Locksmith, Cassidy, Maino, Vado, Rockness, DJ Paul, MC Gruff, Stan Spit, Uncle Murda, Cory Gunz, Melle Mel, Grandmaster Caz, Trae Tha Truth, Bynoe, Hocus 45th & Royce da 59)',\n",
       "       'DJ Muggs,Roc Marciano',\n",
       "       'DJ Luian, Mambo Kingz & Anuel Aa [feat. Nicky Jam, Darell & Brytiago]',\n",
       "       'Jay Wheeler,DJ Nelson', 'DJ Pioneer,TJ,Zoey Dollaz,Chris Brown',\n",
       "       'DJ Xavierj713', 'DJ Tunez,Olamide', 'Kash Doll, DJ Infamous',\n",
       "       'Jay Wheeler|DJ Nelson', 'DJ Snake, Selena Gomez & Tiësto',\n",
       "       'KYEN?ES?, DJ Nelson', 'DJ Alias', 'Brent Faiyaz|DJ Dahi',\n",
       "       'DJ Khaled,H.E.R.,Migos', 'Insane Clown Posse,DJ Paul,Stitches',\n",
       "       'Snoop Dogg|T-Pain|Rick Ross|DJ Khaled|Ludacris',\n",
       "       'J. Anthoni, DJ Tunez', 'DJsNeverEndingStory',\n",
       "       'DJ Tunez,WizKid,Adekunle Gold,Omah Lay',\n",
       "       'Robert Glasper,H.E.R.,Meshell Ndegeocello,DJ Tunez', 'DJ Kahled',\n",
       "       'DJ Pedro Fuentes', 'DJ Jeff Duran,YoungBoy',\n",
       "       'DJ Luian,Mambo Kingz,Farruko,Wisin,Myke Towers,Darell,Arcangel',\n",
       "       'Doja Cat,DJ Sliink', 'DJ Khaled,21 Savage,Justin Bieber',\n",
       "       'DJ Scheme', 'Lost Kids, DJ Candlestick, Brent Faiyaz',\n",
       "       'DJ Khaled Feat. Nicki Minaj Feat. Future Feat. Rick Ross',\n",
       "       'DJ Envy, Fabolous, A Boogie Wit da Hoodie',\n",
       "       'Bob Moses,DJ Seinfeld', 'Yelawolf,DJ Paul',\n",
       "       'DJ Khaled feat. J. Cole', 'Papu DJ, L-Gante',\n",
       "       'DJ Scheme,$NOT,Fenix Flexin', 'Danny L Harle,DJ Danny',\n",
       "       'DJ Clue Feat. Mary J. Blige Feat. Jadakiss',\n",
       "       'DJ Khaled feat. Pusha T & Jadakiss',\n",
       "       'DJ Khaled feat. Justin Bieber, Chance the Rapper & Quavo',\n",
       "       'DJ Drama|Future', 'Jay Wheeler & DJ Nelson', 'DJ Makarov',\n",
       "       'Ghost Town DJs', 'DJ.Fresh, Curren$y', 'DJYung$avage',\n",
       "       'Torche,DJ Coolzz', \"DJ Space'C\", 'Jay Wheeler, DJ Nelson',\n",
       "       'DJ Clue|DMX', 'Rome Streetz, DJ Muggs', 'Yelawolf, DJ Paul',\n",
       "       'DJ E-Feezy,Trey Songz,Tory Lanez,Ty Dolla $ign',\n",
       "       'DJ Dirty Vibrations', 'DJ Drama|Outkast|Marsha Ambrosius',\n",
       "       'Fabolous|Wiz Khalifa|Roscoe Dash|DJ Drama',\n",
       "       'DJ Clue Feat. L.O.X. Feat. CamRon Feat. Fabolous',\n",
       "       'DJ Tunez,J. Anthoni', 'DJ Sight', 'DJ ESCO|Future',\n",
       "       'DJ Tao,L-Gante,Papu DJ',\n",
       "       'DJ Clue Feat. DMX Feat. Jadakiss Feat. Styles Feat. Eve Feat. Drag-On',\n",
       "       'DJ Clue Feat. Beanie Sigel Feat. Freeway',\n",
       "       'T.I. featuring Young Buck, Young Dro and DJ Drama',\n",
       "       'DJ Muggs,MF DOOM,Kool G Rap', 'Juice WRLD|DJ Scheme',\n",
       "       'DJ Khaled Feat. J. Cole Feat. Bas',\n",
       "       'Mambo Kingz, DJ Luian, Luigi 21 Plus & Ozuna',\n",
       "       'Yelawolf featuring DJ Paul K.O.M.', 'DJ Gotta',\n",
       "       'DJ Kay Slay (feat. Sheek Louch, Styles P, Sauce Money, Nino Man, Vado, RJ Payne & Jon Connor)',\n",
       "       'DJ Drillinois', 'DJ Neptune|Joeboy|Mr Eazi', 'DJ ESCO',\n",
       "       'DJ Pharris', 'Svpa,DJ Chose', 'DJ Pho',\n",
       "       'DJ Khalil Feat. Denzel Curry Feat. YBN Cordae Feat. SwaVay Feat. Trevor Rich',\n",
       "       'DJ Victoriouz, CEO Trayle',\n",
       "       'DJ Drama featuring Rick Ross, Westside Gunn and Lule',\n",
       "       'DJ Hotday', 'DJ Muggs,Rome Streetz', 'Mac Miller,DJ Bonics',\n",
       "       'DJ Khaled|A Boogie Wit Da Hoodie|Big Sean|Rick Ross|Puff Daddy',\n",
       "       'DJ Jubilee & Partners-N-Crime', 'DJ Electrohead',\n",
       "       'Kash Doll|DJ Infamous', 'DJ Screw,Lil Keke', 'DJ RossChild',\n",
       "       'DJ Yella', 'DJ Espinos', 'DJ Elvis', 'DJ Drobitussin',\n",
       "       'DJ Purpberry',\n",
       "       'DJ Kay Slay|Sheek Louch|Styles P|Sauce Money|Nino Man|Vado|RJ Payne|Jon Connor',\n",
       "       'El Taiger,DJ Conds', 'Zombie Nation|DJ Gius',\n",
       "       'DJ BADDO BEST OF FELA MIX [ ADD @DJBADDO & @BADDOENTWORLD ON INSTAGRAM_TWIT',\n",
       "       'Leka El Poeta featuring Mishelle Master Boy remixed by DJ Yayo',\n",
       "       'DJ Zoom', 'DJ Flex|A-Star|Edouble|Felix Erwiah',\n",
       "       'Miky Woodz|DJ Nelson|Jay Wheeler', 'DJ RUFFY X TOBEAT DRUMS',\n",
       "       'DJ Buy a Block', 'DJ Hoang Viet', 'DJ Drez',\n",
       "       'Smalltown DJs feat. Lisa Lobsinger', 'DJ HOANG LONG', 'DJ Kulsz',\n",
       "       'DJ HAI CENA',\n",
       "       'DJ BOY|MC Joãozinho VT|MC V7|MC Letto|MC Leozinho Zs|MC IG|MC Davi|MC Kako|Victor Pereira dos Santos|Wellington Campos dos Santos|Alex Oliveira Santos|Guilherme Sergio Ramos|João Vitor dos Santos|Davi Almeida|Jackson Frayle Toledo Campos|Guilherme de Souza Macena|Dj Boy',\n",
       "       'DJ Housejaq', 'DJ Sin City', 'DJ Cam Quartet',\n",
       "       'DJ KAYWISE & PHYNO', 'DJ June,Pacho', 'DJ MONSTER GAMBIA',\n",
       "       'DoctorSpook;DJ Dubstep Rave;Dubstep Spook', 'DJ HAI DANG',\n",
       "       'DJ CHOSE, GUCCI MANE', 'DJ Khalo', 'DJ Jayhood', 'DJ Huy Anh',\n",
       "       'DJ.Splash;Jocelin Konrad Ulrich Bodge', 'DJ Drez,Marti Nikko',\n",
       "       'DJ Cupi Trung', 'Viral DJs', 'DJ Mix',\n",
       "       'Dubster Spook;DJ Dubstep Rave;Dubstep Dr.', 'DJ Skribble',\n",
       "       'DJ David Jung', 'DJ Lola', 'DJ Mitch',\n",
       "       'DJ Freddy;Freddy Bobadilla', 'DJ Krlos Berrospi;Pau Donés',\n",
       "       'DJ Fixx', 'DJ Lucky 773', 'DJ Irene',\n",
       "       'DJ Krlos Berrospi;Hayro Alfredo Gonzales Lopez',\n",
       "       'DJ Ol Hendelsson', 'DJ HAI MARKID', 'DJ Hoang Vuong', 'DJ Icey',\n",
       "       'DJ Slime', 'DJ Hai Vuong', 'DJ FUKKUS', 'DJ KHANH KOI',\n",
       "       'DJ Jason', 'DJ Krlos Berrospi;JAIME GUTIERREZ', 'DJ Tung Tee',\n",
       "       'DJ Wasu;BRADLEY JAMES NOWELL;Anthony Kiedis;Billie Joe Armstrong',\n",
       "       'DJ Quyen', 'DJ Hoang Phong', 'DJ Kilimix', 'DJ June',\n",
       "       'Yung Fresh, DJ Black Bill Gates, DJ Lil Keem',\n",
       "       'Phyno, DJ Kaywise', 'Laycon, Joeboy, DJ Neptune',\n",
       "       'Megan Thee Stallion, DJ Chose', 'Mambo Kingz, Farruko, DJ Luian',\n",
       "       'DJ Ganzus', '3-6 Mafia|Trillville|DJ Paul|HCP|3-6 Mafia|Fiend',\n",
       "       'DJ Fart', 'DJ S.WAYVE', 'DJ Clay', 'J Balvin,DJ Snake,Tyga',\n",
       "       'DJ Ace of Spades', 'DJ Jazz II',\n",
       "       'Jay Wheeler, Farruko, DJ Nelson', 'DJ Chose',\n",
       "       'Battle Mix by DJ J.V. Kidd', 'DJ Just Dizle;DJ Spinna',\n",
       "       'DJ Venom', 'DJ Maretimo',\n",
       "       'DJ Krlos Berrospi;Dj Chaval;Chili Fernandez',\n",
       "       \"DJ 'Double J' En Effect\", 'DJ Power Fitness',\n",
       "       'DJ Wasu;Golbert Angel Zarate', 'DJ Luna',\n",
       "       'DJ Wasu;Shakira Isabel Mebarak Ripoll;Paulina Susana Rubio Dosamantes;Donato Póveda;Fabio Alfonso Salgado',\n",
       "       'DJ Latino', 'DJ Kaywise,Phyno', 'DJ Black;KWADWO AMPOFO',\n",
       "       'DJ Brytos', 'DJ Megan Ryte', 'Yelawolf, DJ Muggs', 'DJ Chargers',\n",
       "       'DJ Drewski,Sheff G,Sleepy Hallow', 'DJ JRAN',\n",
       "       'Yelawolf,DJ Muggs,Caskey', 'DJ Sonni',\n",
       "       'Yelawolf,DJ Muggs,Struggle Jennings', 'Yelawolf,DJ Muggs'],\n",
       "      dtype=object)"
      ]
     },
     "execution_count": 21,
     "metadata": {},
     "output_type": "execute_result"
    }
   ],
   "source": [
    "DJs.Artist.unique()"
   ]
  },
  {
   "cell_type": "code",
   "execution_count": 22,
   "id": "0ab9b6e5",
   "metadata": {},
   "outputs": [],
   "source": [
    "#regex=r\"DJ\\s\\w+\"\n",
    "\n",
    "#re.findall(regex, mlc)\n",
    "#This is not working, perhaps Regex was the wrong way to go."
   ]
  },
  {
   "cell_type": "code",
   "execution_count": 23,
   "id": "2ab7d498",
   "metadata": {},
   "outputs": [],
   "source": [
    "sw_ratio = mlc.groupby('DSP')['Songwriter?'].mean()\n",
    "count_o_correctsub=sw_ratio.sort_values(ascending=False)"
   ]
  },
  {
   "cell_type": "code",
   "execution_count": 24,
   "id": "9c438fde",
   "metadata": {},
   "outputs": [],
   "source": [
    "rows_of_DSP=mlc.DSP.value_counts()"
   ]
  },
  {
   "cell_type": "code",
   "execution_count": 25,
   "id": "9f0f23cc",
   "metadata": {},
   "outputs": [
    {
     "name": "stdout",
     "output_type": "stream",
     "text": [
      "DSP\n",
      "Spotify               2.552564e+09\n",
      "Apple                 1.606454e+09\n",
      "Pandora               8.742366e+08\n",
      "SoundCloud            1.668138e+08\n",
      "YouTube               1.580311e+08\n",
      "Amazon                1.511998e+08\n",
      "Tidal                 4.879313e+07\n",
      "AudioMack             1.199156e+07\n",
      "Melodyv               5.384657e+06\n",
      "iHeart Radio          2.141959e+06\n",
      "GTL                   1.280764e+06\n",
      "Trebel                1.493470e+05\n",
      "NugsNet               1.107090e+05\n",
      "LiveXLive             1.013070e+05\n",
      "Deezer                8.783000e+04\n",
      "Midwest Tape          8.570800e+04\n",
      "Anghami               3.468200e+04\n",
      "Sonos                 3.140200e+04\n",
      "Qoboz                 6.621000e+03\n",
      "MonkingMe             3.549000e+03\n",
      "PowerMusic            3.154000e+03\n",
      "MixCloud              2.661000e+03\n",
      "Pacemaker             1.707000e+03\n",
      "Wolfgangs             9.650000e+02\n",
      "Ultimate Guitar       3.090000e+02\n",
      "Smithsonian           2.080000e+02\n",
      "Fan Label             9.100000e+01\n",
      "Recisio               2.900000e+01\n",
      "Classical Archives    2.000000e+01\n",
      "Name: Streams, dtype: float64\n"
     ]
    }
   ],
   "source": [
    "#Group think composition\n",
    "streams_per_DSP=mlc.groupby('DSP')['Streams'].sum()\n",
    "streams_per_DSP=streams_per_DSP.sort_values(ascending=False)\n",
    "print(streams_per_DSP)"
   ]
  },
  {
   "cell_type": "markdown",
   "id": "94aef1c5",
   "metadata": {},
   "source": [
    "#### Turn the findings into a dataframe"
   ]
  },
  {
   "cell_type": "code",
   "execution_count": 26,
   "id": "b2cde876",
   "metadata": {},
   "outputs": [
    {
     "name": "stdout",
     "output_type": "stream",
     "text": [
      "                      SW_avg\n",
      "DSP                         \n",
      "Amazon              0.261740\n",
      "Anghami             0.000000\n",
      "Apple               0.808514\n",
      "AudioMack           0.000000\n",
      "Classical Archives  1.000000\n",
      "Deezer              0.862745\n",
      "Fan Label           0.000000\n",
      "GTL                 0.028440\n",
      "LiveXLive           0.070000\n",
      "Melodyv             0.114596\n",
      "Midwest Tape        0.000000\n",
      "MixCloud            0.000000\n",
      "MonkingMe           0.000000\n",
      "NugsNet             0.000000\n",
      "Pacemaker           0.000000\n",
      "Pandora             0.244828\n",
      "PowerMusic          0.000000\n",
      "Qoboz               0.903846\n",
      "Recisio             0.545455\n",
      "Smithsonian         0.000000\n",
      "Sonos               0.000000\n",
      "SoundCloud          0.000000\n",
      "Spotify             0.854376\n",
      "Tidal               0.003692\n",
      "Trebel              0.000000\n",
      "Ultimate Guitar     0.000000\n",
      "Wolfgangs           0.000000\n",
      "YouTube             0.000000\n",
      "iHeart Radio        0.000000\n"
     ]
    }
   ],
   "source": [
    "songwriter_df=pd.DataFrame(sw_ratio)\n",
    "songwriter_df.columns =['SW_avg']\n",
    "print(songwriter_df)"
   ]
  },
  {
   "cell_type": "code",
   "execution_count": 27,
   "id": "08f2b2aa",
   "metadata": {},
   "outputs": [],
   "source": [
    "songwriter_df.reset_index(inplace=True)\n",
    "songwriter_df = songwriter_df.rename(columns = {'index':\"DSP\"})"
   ]
  },
  {
   "cell_type": "code",
   "execution_count": 28,
   "id": "be975774",
   "metadata": {},
   "outputs": [
    {
     "name": "stdout",
     "output_type": "stream",
     "text": [
      "                   DSP    SW_avg\n",
      "0               Amazon  0.261740\n",
      "1              Anghami  0.000000\n",
      "2                Apple  0.808514\n",
      "3            AudioMack  0.000000\n",
      "4   Classical Archives  1.000000\n",
      "5               Deezer  0.862745\n",
      "6            Fan Label  0.000000\n",
      "7                  GTL  0.028440\n",
      "8            LiveXLive  0.070000\n",
      "9              Melodyv  0.114596\n",
      "10        Midwest Tape  0.000000\n",
      "11            MixCloud  0.000000\n",
      "12           MonkingMe  0.000000\n",
      "13             NugsNet  0.000000\n",
      "14           Pacemaker  0.000000\n",
      "15             Pandora  0.244828\n",
      "16          PowerMusic  0.000000\n",
      "17               Qoboz  0.903846\n",
      "18             Recisio  0.545455\n",
      "19         Smithsonian  0.000000\n",
      "20               Sonos  0.000000\n",
      "21          SoundCloud  0.000000\n",
      "22             Spotify  0.854376\n",
      "23               Tidal  0.003692\n",
      "24              Trebel  0.000000\n",
      "25     Ultimate Guitar  0.000000\n",
      "26           Wolfgangs  0.000000\n",
      "27             YouTube  0.000000\n",
      "28        iHeart Radio  0.000000\n"
     ]
    }
   ],
   "source": [
    "print(songwriter_df)"
   ]
  },
  {
   "cell_type": "code",
   "execution_count": 29,
   "id": "2935f6fc",
   "metadata": {},
   "outputs": [],
   "source": [
    "streams_df=pd.DataFrame(streams_per_DSP)"
   ]
  },
  {
   "cell_type": "code",
   "execution_count": 30,
   "id": "5ac8e7a9",
   "metadata": {},
   "outputs": [
    {
     "name": "stdout",
     "output_type": "stream",
     "text": [
      "                   DSP       Streams\n",
      "0              Spotify  2.552564e+09\n",
      "1                Apple  1.606454e+09\n",
      "2              Pandora  8.742366e+08\n",
      "3           SoundCloud  1.668138e+08\n",
      "4              YouTube  1.580311e+08\n",
      "5               Amazon  1.511998e+08\n",
      "6                Tidal  4.879313e+07\n",
      "7            AudioMack  1.199156e+07\n",
      "8              Melodyv  5.384657e+06\n",
      "9         iHeart Radio  2.141959e+06\n",
      "10                 GTL  1.280764e+06\n",
      "11              Trebel  1.493470e+05\n",
      "12             NugsNet  1.107090e+05\n",
      "13           LiveXLive  1.013070e+05\n",
      "14              Deezer  8.783000e+04\n",
      "15        Midwest Tape  8.570800e+04\n",
      "16             Anghami  3.468200e+04\n",
      "17               Sonos  3.140200e+04\n",
      "18               Qoboz  6.621000e+03\n",
      "19           MonkingMe  3.549000e+03\n",
      "20          PowerMusic  3.154000e+03\n",
      "21            MixCloud  2.661000e+03\n",
      "22           Pacemaker  1.707000e+03\n",
      "23           Wolfgangs  9.650000e+02\n",
      "24     Ultimate Guitar  3.090000e+02\n",
      "25         Smithsonian  2.080000e+02\n",
      "26           Fan Label  9.100000e+01\n",
      "27             Recisio  2.900000e+01\n",
      "28  Classical Archives  2.000000e+01\n"
     ]
    }
   ],
   "source": [
    "streams_df.reset_index(inplace=True)\n",
    "streams_df = streams_df.rename(columns = {'index': \"DSP\"})\n",
    "print(streams_df)"
   ]
  },
  {
   "cell_type": "code",
   "execution_count": 31,
   "id": "88225321",
   "metadata": {},
   "outputs": [
    {
     "name": "stdout",
     "output_type": "stream",
     "text": [
      "                   DSP  songs_per_DSP\n",
      "0              Spotify          32268\n",
      "1                Apple          22200\n",
      "2               Amazon          14438\n",
      "3              Pandora          13777\n",
      "4                Tidal           3521\n",
      "5              YouTube           2752\n",
      "6           SoundCloud           2122\n",
      "7                  GTL           1090\n",
      "8              Melodyv            829\n",
      "9               Trebel            817\n",
      "10        iHeart Radio            707\n",
      "11           AudioMack            550\n",
      "12             NugsNet            316\n",
      "13           LiveXLive            200\n",
      "14               Qoboz            104\n",
      "15        Midwest Tape            102\n",
      "16              Deezer             51\n",
      "17             Anghami             46\n",
      "18               Sonos             23\n",
      "19             Recisio             22\n",
      "20         Smithsonian             21\n",
      "21     Ultimate Guitar             19\n",
      "22          PowerMusic              8\n",
      "23           Fan Label              4\n",
      "24            MixCloud              4\n",
      "25           Wolfgangs              4\n",
      "26           Pacemaker              3\n",
      "27  Classical Archives              2\n",
      "28           MonkingMe              1\n"
     ]
    }
   ],
   "source": [
    "row_o_dsp=pd.DataFrame(rows_of_DSP)\n",
    "row_o_dsp.reset_index(inplace=True)\n",
    "row_o_dsp = row_o_dsp.rename(columns = {'index': \"DSP\", 'DSP': \"songs_per_DSP\"})\n",
    "print(row_o_dsp)"
   ]
  },
  {
   "cell_type": "code",
   "execution_count": 32,
   "id": "a89fd183",
   "metadata": {},
   "outputs": [
    {
     "name": "stdout",
     "output_type": "stream",
     "text": [
      "                   DSP    SW_avg       Streams\n",
      "0               Amazon  0.261740  1.511998e+08\n",
      "1              Anghami  0.000000  3.468200e+04\n",
      "2                Apple  0.808514  1.606454e+09\n",
      "3            AudioMack  0.000000  1.199156e+07\n",
      "4   Classical Archives  1.000000  2.000000e+01\n",
      "5               Deezer  0.862745  8.783000e+04\n",
      "6            Fan Label  0.000000  9.100000e+01\n",
      "7                  GTL  0.028440  1.280764e+06\n",
      "8            LiveXLive  0.070000  1.013070e+05\n",
      "9              Melodyv  0.114596  5.384657e+06\n",
      "10        Midwest Tape  0.000000  8.570800e+04\n",
      "11            MixCloud  0.000000  2.661000e+03\n",
      "12           MonkingMe  0.000000  3.549000e+03\n",
      "13             NugsNet  0.000000  1.107090e+05\n",
      "14           Pacemaker  0.000000  1.707000e+03\n",
      "15             Pandora  0.244828  8.742366e+08\n",
      "16          PowerMusic  0.000000  3.154000e+03\n",
      "17               Qoboz  0.903846  6.621000e+03\n",
      "18             Recisio  0.545455  2.900000e+01\n",
      "19         Smithsonian  0.000000  2.080000e+02\n",
      "20               Sonos  0.000000  3.140200e+04\n",
      "21          SoundCloud  0.000000  1.668138e+08\n",
      "22             Spotify  0.854376  2.552564e+09\n",
      "23               Tidal  0.003692  4.879313e+07\n",
      "24              Trebel  0.000000  1.493470e+05\n",
      "25     Ultimate Guitar  0.000000  3.090000e+02\n",
      "26           Wolfgangs  0.000000  9.650000e+02\n",
      "27             YouTube  0.000000  1.580311e+08\n",
      "28        iHeart Radio  0.000000  2.141959e+06\n"
     ]
    }
   ],
   "source": [
    "DSP_df1 = pd.merge(songwriter_df, streams_df, on=['DSP'], how='inner')\n",
    "print(DSP_df1)"
   ]
  },
  {
   "cell_type": "code",
   "execution_count": 33,
   "id": "ba0e4ec5",
   "metadata": {},
   "outputs": [
    {
     "name": "stdout",
     "output_type": "stream",
     "text": [
      "                   DSP    SW_avg       Streams  songs_per_DSP\n",
      "0               Amazon  0.261740  1.511998e+08          14438\n",
      "1              Anghami  0.000000  3.468200e+04             46\n",
      "2                Apple  0.808514  1.606454e+09          22200\n",
      "3            AudioMack  0.000000  1.199156e+07            550\n",
      "4   Classical Archives  1.000000  2.000000e+01              2\n",
      "5               Deezer  0.862745  8.783000e+04             51\n",
      "6            Fan Label  0.000000  9.100000e+01              4\n",
      "7                  GTL  0.028440  1.280764e+06           1090\n",
      "8            LiveXLive  0.070000  1.013070e+05            200\n",
      "9              Melodyv  0.114596  5.384657e+06            829\n",
      "10        Midwest Tape  0.000000  8.570800e+04            102\n",
      "11            MixCloud  0.000000  2.661000e+03              4\n",
      "12           MonkingMe  0.000000  3.549000e+03              1\n",
      "13             NugsNet  0.000000  1.107090e+05            316\n",
      "14           Pacemaker  0.000000  1.707000e+03              3\n",
      "15             Pandora  0.244828  8.742366e+08          13777\n",
      "16          PowerMusic  0.000000  3.154000e+03              8\n",
      "17               Qoboz  0.903846  6.621000e+03            104\n",
      "18             Recisio  0.545455  2.900000e+01             22\n",
      "19         Smithsonian  0.000000  2.080000e+02             21\n",
      "20               Sonos  0.000000  3.140200e+04             23\n",
      "21          SoundCloud  0.000000  1.668138e+08           2122\n",
      "22             Spotify  0.854376  2.552564e+09          32268\n",
      "23               Tidal  0.003692  4.879313e+07           3521\n",
      "24              Trebel  0.000000  1.493470e+05            817\n",
      "25     Ultimate Guitar  0.000000  3.090000e+02             19\n",
      "26           Wolfgangs  0.000000  9.650000e+02              4\n",
      "27             YouTube  0.000000  1.580311e+08           2752\n",
      "28        iHeart Radio  0.000000  2.141959e+06            707\n"
     ]
    }
   ],
   "source": [
    "DSP_df2 = pd.merge(DSP_df1, row_o_dsp, on=['DSP'], how='inner')\n",
    "print(DSP_df2)"
   ]
  },
  {
   "cell_type": "code",
   "execution_count": 34,
   "id": "9ce82296",
   "metadata": {},
   "outputs": [
    {
     "name": "stdout",
     "output_type": "stream",
     "text": [
      "                   DSP    SW_avg       Streams  songs_per_DSP\n",
      "22             Spotify  0.854376  2.552564e+09          32268\n",
      "2                Apple  0.808514  1.606454e+09          22200\n",
      "15             Pandora  0.244828  8.742366e+08          13777\n",
      "21          SoundCloud  0.000000  1.668138e+08           2122\n",
      "27             YouTube  0.000000  1.580311e+08           2752\n",
      "0               Amazon  0.261740  1.511998e+08          14438\n",
      "23               Tidal  0.003692  4.879313e+07           3521\n",
      "3            AudioMack  0.000000  1.199156e+07            550\n",
      "9              Melodyv  0.114596  5.384657e+06            829\n",
      "28        iHeart Radio  0.000000  2.141959e+06            707\n",
      "7                  GTL  0.028440  1.280764e+06           1090\n",
      "24              Trebel  0.000000  1.493470e+05            817\n",
      "13             NugsNet  0.000000  1.107090e+05            316\n",
      "8            LiveXLive  0.070000  1.013070e+05            200\n",
      "5               Deezer  0.862745  8.783000e+04             51\n",
      "10        Midwest Tape  0.000000  8.570800e+04            102\n",
      "1              Anghami  0.000000  3.468200e+04             46\n",
      "20               Sonos  0.000000  3.140200e+04             23\n",
      "17               Qoboz  0.903846  6.621000e+03            104\n",
      "12           MonkingMe  0.000000  3.549000e+03              1\n",
      "16          PowerMusic  0.000000  3.154000e+03              8\n",
      "11            MixCloud  0.000000  2.661000e+03              4\n",
      "14           Pacemaker  0.000000  1.707000e+03              3\n",
      "26           Wolfgangs  0.000000  9.650000e+02              4\n",
      "25     Ultimate Guitar  0.000000  3.090000e+02             19\n",
      "19         Smithsonian  0.000000  2.080000e+02             21\n",
      "6            Fan Label  0.000000  9.100000e+01              4\n",
      "18             Recisio  0.545455  2.900000e+01             22\n",
      "4   Classical Archives  1.000000  2.000000e+01              2\n"
     ]
    }
   ],
   "source": [
    "DSP_df2 = DSP_df2.sort_values(by=['Streams'], ascending=False)\n",
    "print(DSP_df2)"
   ]
  },
  {
   "cell_type": "code",
   "execution_count": 35,
   "id": "b9c4db57",
   "metadata": {},
   "outputs": [
    {
     "name": "stdout",
     "output_type": "stream",
     "text": [
      "                   DSP    SW_avg       Streams  songs_per_DSP\n",
      "22             Spotify  0.854376  2.552564e+09          32268\n",
      "2                Apple  0.808514  1.606454e+09          22200\n",
      "15             Pandora  0.244828  8.742366e+08          13777\n",
      "21          SoundCloud  0.000000  1.668138e+08           2122\n",
      "27             YouTube  0.000000  1.580311e+08           2752\n",
      "0               Amazon  0.261740  1.511998e+08          14438\n",
      "23               Tidal  0.003692  4.879313e+07           3521\n",
      "3            AudioMack  0.000000  1.199156e+07            550\n",
      "9              Melodyv  0.114596  5.384657e+06            829\n",
      "28        iHeart Radio  0.000000  2.141959e+06            707\n",
      "7                  GTL  0.028440  1.280764e+06           1090\n",
      "24              Trebel  0.000000  1.493470e+05            817\n",
      "13             NugsNet  0.000000  1.107090e+05            316\n",
      "8            LiveXLive  0.070000  1.013070e+05            200\n",
      "5               Deezer  0.862745  8.783000e+04             51\n",
      "10        Midwest Tape  0.000000  8.570800e+04            102\n",
      "1              Anghami  0.000000  3.468200e+04             46\n",
      "20               Sonos  0.000000  3.140200e+04             23\n",
      "17               Qoboz  0.903846  6.621000e+03            104\n",
      "12           MonkingMe  0.000000  3.549000e+03              1\n",
      "16          PowerMusic  0.000000  3.154000e+03              8\n",
      "11            MixCloud  0.000000  2.661000e+03              4\n",
      "14           Pacemaker  0.000000  1.707000e+03              3\n",
      "26           Wolfgangs  0.000000  9.650000e+02              4\n",
      "25     Ultimate Guitar  0.000000  3.090000e+02             19\n",
      "19         Smithsonian  0.000000  2.080000e+02             21\n",
      "6            Fan Label  0.000000  9.100000e+01              4\n",
      "18             Recisio  0.545455  2.900000e+01             22\n",
      "4   Classical Archives  1.000000  2.000000e+01              2\n"
     ]
    }
   ],
   "source": [
    "pd.reset_option('display.float_format')\n",
    "print(DSP_df2)"
   ]
  },
  {
   "cell_type": "code",
   "execution_count": 36,
   "id": "b2e5801b",
   "metadata": {},
   "outputs": [
    {
     "name": "stdout",
     "output_type": "stream",
     "text": [
      "<class 'pandas.core.frame.DataFrame'>\n",
      "Int64Index: 29 entries, 22 to 4\n",
      "Data columns (total 4 columns):\n",
      " #   Column         Non-Null Count  Dtype  \n",
      "---  ------         --------------  -----  \n",
      " 0   DSP            29 non-null     object \n",
      " 1   SW_avg         29 non-null     float64\n",
      " 2   Streams        29 non-null     float64\n",
      " 3   songs_per_DSP  29 non-null     int64  \n",
      "dtypes: float64(2), int64(1), object(1)\n",
      "memory usage: 1.1+ KB\n"
     ]
    }
   ],
   "source": [
    "DSP_df2.info()"
   ]
  },
  {
   "cell_type": "code",
   "execution_count": 37,
   "id": "403ab6a4",
   "metadata": {},
   "outputs": [
    {
     "name": "stdout",
     "output_type": "stream",
     "text": [
      "           DSP    SW_avg       Streams  songs_per_DSP\n",
      "22     Spotify  0.854376  2.552564e+09          32268\n",
      "2        Apple  0.808514  1.606454e+09          22200\n",
      "15     Pandora  0.244828  8.742366e+08          13777\n",
      "21  SoundCloud  0.000000  1.668138e+08           2122\n",
      "27     YouTube  0.000000  1.580311e+08           2752\n",
      "0       Amazon  0.261740  1.511998e+08          14438\n",
      "23       Tidal  0.003692  4.879313e+07           3521\n"
     ]
    }
   ],
   "source": [
    "top_7=DSP_df2.head(7)\n",
    "print(top_7)"
   ]
  },
  {
   "cell_type": "code",
   "execution_count": 38,
   "id": "08309c0d",
   "metadata": {},
   "outputs": [
    {
     "data": {
      "image/png": "[encoded data removed]",
      "text/plain": [
       "<Figure size 432x288 with 1 Axes>"
      ]
     },
     "metadata": {
      "needs_background": "light"
     },
     "output_type": "display_data"
    }
   ],
   "source": [
    "ax = sns.barplot(x=\"DSP\", y=\"Streams\", data=top_7, palette=sns.color_palette(\"Blues_r\", 10), order=top_7['DSP'])\n",
    "plt.xticks(rotation = 50)\n",
    "sns.set(rc = {'figure.figsize':(15,5)});"
   ]
  },
  {
   "cell_type": "code",
   "execution_count": 39,
   "id": "3e2ee3c7",
   "metadata": {},
   "outputs": [
    {
     "data": {
      "image/png": "[encoded data removed]",
      "text/plain": [
       "<Figure size 1080x360 with 1 Axes>"
      ]
     },
     "metadata": {},
     "output_type": "display_data"
    }
   ],
   "source": [
    "scatter= sns.scatterplot(data=top_7, x=\"DSP\", y=\"SW_avg\", palette=sns.color_palette(\"GnBu\", 10))"
   ]
  },
  {
   "cell_type": "code",
   "execution_count": 40,
   "id": "2146d94a",
   "metadata": {},
   "outputs": [],
   "source": [
    "# violin = sns.violinplot(data=mlc, x = 'DSP', y='Songwriter?', \n",
    "#                         inner='quart', linewidth=1,\n",
    "#                        palette={0:'b', 1:\"r\"}, split=True)\n",
    "#sns.despine(left=True)\n"
   ]
  },
  {
   "cell_type": "code",
   "execution_count": 41,
   "id": "f434d98f",
   "metadata": {},
   "outputs": [
    {
     "data": {
      "image/png": "[encoded data removed]",
      "text/plain": [
       "<Figure size 864x432 with 1 Axes>"
      ]
     },
     "metadata": {},
     "output_type": "display_data"
    }
   ],
   "source": [
    "# Plot top 7 by Songs_Per_DSP\n",
    "plt.figure(figsize=(12, 6))\n",
    "plt.bar(top_7.DSP, top_7.songs_per_DSP, color=['c'], edgecolor='gold')\n",
    "plt.ylabel('Number of Songs', fontsize=16)\n",
    "plt.xticks(rotation = 50, fontsize=16)\n",
    "plt.yticks([5000, 10000, 15000, 20000, 25000, 30000, 35000], fontsize=16)\n",
    "plt.title('Top 7 DSPs by Number of Songs Streamed', fontsize=20);\n"
   ]
  },
  {
   "cell_type": "code",
   "execution_count": 42,
   "id": "b8f68466",
   "metadata": {},
   "outputs": [
    {
     "data": {
      "text/html": [
       "<div>\n",
       "<style scoped>\n",
       "    .dataframe tbody tr th:only-of-type {\n",
       "        vertical-align: middle;\n",
       "    }\n",
       "\n",
       "    .dataframe tbody tr th {\n",
       "        vertical-align: top;\n",
       "    }\n",
       "\n",
       "    .dataframe thead th {\n",
       "        text-align: right;\n",
       "    }\n",
       "</style>\n",
       "<table border=\"1\" class=\"dataframe\">\n",
       "  <thead>\n",
       "    <tr style=\"text-align: right;\">\n",
       "      <th></th>\n",
       "      <th>DSP</th>\n",
       "      <th>SW_avg</th>\n",
       "      <th>Streams</th>\n",
       "      <th>songs_per_DSP</th>\n",
       "    </tr>\n",
       "  </thead>\n",
       "  <tbody>\n",
       "    <tr>\n",
       "      <th>22</th>\n",
       "      <td>Spotify</td>\n",
       "      <td>0.854376</td>\n",
       "      <td>2.552564e+09</td>\n",
       "      <td>32268</td>\n",
       "    </tr>\n",
       "    <tr>\n",
       "      <th>2</th>\n",
       "      <td>Apple</td>\n",
       "      <td>0.808514</td>\n",
       "      <td>1.606454e+09</td>\n",
       "      <td>22200</td>\n",
       "    </tr>\n",
       "    <tr>\n",
       "      <th>15</th>\n",
       "      <td>Pandora</td>\n",
       "      <td>0.244828</td>\n",
       "      <td>8.742366e+08</td>\n",
       "      <td>13777</td>\n",
       "    </tr>\n",
       "    <tr>\n",
       "      <th>21</th>\n",
       "      <td>SoundCloud</td>\n",
       "      <td>0.000000</td>\n",
       "      <td>1.668138e+08</td>\n",
       "      <td>2122</td>\n",
       "    </tr>\n",
       "    <tr>\n",
       "      <th>27</th>\n",
       "      <td>YouTube</td>\n",
       "      <td>0.000000</td>\n",
       "      <td>1.580311e+08</td>\n",
       "      <td>2752</td>\n",
       "    </tr>\n",
       "    <tr>\n",
       "      <th>0</th>\n",
       "      <td>Amazon</td>\n",
       "      <td>0.261740</td>\n",
       "      <td>1.511998e+08</td>\n",
       "      <td>14438</td>\n",
       "    </tr>\n",
       "    <tr>\n",
       "      <th>23</th>\n",
       "      <td>Tidal</td>\n",
       "      <td>0.003692</td>\n",
       "      <td>4.879313e+07</td>\n",
       "      <td>3521</td>\n",
       "    </tr>\n",
       "  </tbody>\n",
       "</table>\n",
       "</div>"
      ],
      "text/plain": [
       "           DSP    SW_avg       Streams  songs_per_DSP\n",
       "22     Spotify  0.854376  2.552564e+09          32268\n",
       "2        Apple  0.808514  1.606454e+09          22200\n",
       "15     Pandora  0.244828  8.742366e+08          13777\n",
       "21  SoundCloud  0.000000  1.668138e+08           2122\n",
       "27     YouTube  0.000000  1.580311e+08           2752\n",
       "0       Amazon  0.261740  1.511998e+08          14438\n",
       "23       Tidal  0.003692  4.879313e+07           3521"
      ]
     },
     "execution_count": 42,
     "metadata": {},
     "output_type": "execute_result"
    }
   ],
   "source": [
    "top_7"
   ]
  },
  {
   "cell_type": "code",
   "execution_count": 43,
   "id": "5cfc868f",
   "metadata": {},
   "outputs": [
    {
     "data": {
      "text/html": [
       "<div>\n",
       "<style scoped>\n",
       "    .dataframe tbody tr th:only-of-type {\n",
       "        vertical-align: middle;\n",
       "    }\n",
       "\n",
       "    .dataframe tbody tr th {\n",
       "        vertical-align: top;\n",
       "    }\n",
       "\n",
       "    .dataframe thead th {\n",
       "        text-align: right;\n",
       "    }\n",
       "</style>\n",
       "<table border=\"1\" class=\"dataframe\">\n",
       "  <thead>\n",
       "    <tr style=\"text-align: right;\">\n",
       "      <th></th>\n",
       "      <th>DSP</th>\n",
       "      <th>SW_avg</th>\n",
       "      <th>Streams</th>\n",
       "      <th>songs_per_DSP</th>\n",
       "    </tr>\n",
       "  </thead>\n",
       "  <tbody>\n",
       "    <tr>\n",
       "      <th>22</th>\n",
       "      <td>Spotify</td>\n",
       "      <td>0.854376</td>\n",
       "      <td>2.552564e+09</td>\n",
       "      <td>32268</td>\n",
       "    </tr>\n",
       "    <tr>\n",
       "      <th>2</th>\n",
       "      <td>Apple</td>\n",
       "      <td>0.808514</td>\n",
       "      <td>1.606454e+09</td>\n",
       "      <td>22200</td>\n",
       "    </tr>\n",
       "    <tr>\n",
       "      <th>0</th>\n",
       "      <td>Amazon</td>\n",
       "      <td>0.261740</td>\n",
       "      <td>1.511998e+08</td>\n",
       "      <td>14438</td>\n",
       "    </tr>\n",
       "    <tr>\n",
       "      <th>15</th>\n",
       "      <td>Pandora</td>\n",
       "      <td>0.244828</td>\n",
       "      <td>8.742366e+08</td>\n",
       "      <td>13777</td>\n",
       "    </tr>\n",
       "    <tr>\n",
       "      <th>23</th>\n",
       "      <td>Tidal</td>\n",
       "      <td>0.003692</td>\n",
       "      <td>4.879313e+07</td>\n",
       "      <td>3521</td>\n",
       "    </tr>\n",
       "    <tr>\n",
       "      <th>27</th>\n",
       "      <td>YouTube</td>\n",
       "      <td>0.000000</td>\n",
       "      <td>1.580311e+08</td>\n",
       "      <td>2752</td>\n",
       "    </tr>\n",
       "    <tr>\n",
       "      <th>21</th>\n",
       "      <td>SoundCloud</td>\n",
       "      <td>0.000000</td>\n",
       "      <td>1.668138e+08</td>\n",
       "      <td>2122</td>\n",
       "    </tr>\n",
       "  </tbody>\n",
       "</table>\n",
       "</div>"
      ],
      "text/plain": [
       "           DSP    SW_avg       Streams  songs_per_DSP\n",
       "22     Spotify  0.854376  2.552564e+09          32268\n",
       "2        Apple  0.808514  1.606454e+09          22200\n",
       "0       Amazon  0.261740  1.511998e+08          14438\n",
       "15     Pandora  0.244828  8.742366e+08          13777\n",
       "23       Tidal  0.003692  4.879313e+07           3521\n",
       "27     YouTube  0.000000  1.580311e+08           2752\n",
       "21  SoundCloud  0.000000  1.668138e+08           2122"
      ]
     },
     "execution_count": 43,
     "metadata": {},
     "output_type": "execute_result"
    }
   ],
   "source": [
    "top_7DSP=top_7.sort_values(by=['songs_per_DSP'], ascending=False)\n",
    "top_7DSP"
   ]
  },
  {
   "cell_type": "code",
   "execution_count": 44,
   "id": "31b75485",
   "metadata": {},
   "outputs": [
    {
     "data": {
      "text/html": [
       "<div>\n",
       "<style scoped>\n",
       "    .dataframe tbody tr th:only-of-type {\n",
       "        vertical-align: middle;\n",
       "    }\n",
       "\n",
       "    .dataframe tbody tr th {\n",
       "        vertical-align: top;\n",
       "    }\n",
       "\n",
       "    .dataframe thead th {\n",
       "        text-align: right;\n",
       "    }\n",
       "</style>\n",
       "<table border=\"1\" class=\"dataframe\">\n",
       "  <thead>\n",
       "    <tr style=\"text-align: right;\">\n",
       "      <th></th>\n",
       "      <th>ISRC</th>\n",
       "      <th>Country</th>\n",
       "      <th>Registrant</th>\n",
       "      <th>Release_Year</th>\n",
       "      <th>Period</th>\n",
       "      <th>DSP</th>\n",
       "      <th>Streams</th>\n",
       "      <th>Artist</th>\n",
       "      <th>Label</th>\n",
       "      <th>Song</th>\n",
       "      <th>Album</th>\n",
       "      <th>Duration</th>\n",
       "      <th>Songwriter?</th>\n",
       "    </tr>\n",
       "  </thead>\n",
       "  <tbody>\n",
       "    <tr>\n",
       "      <th>0</th>\n",
       "      <td>USUG12101043</td>\n",
       "      <td>US</td>\n",
       "      <td>UG1</td>\n",
       "      <td>21.0</td>\n",
       "      <td>3/1/2021</td>\n",
       "      <td>Apple</td>\n",
       "      <td>16216932</td>\n",
       "      <td>Drake</td>\n",
       "      <td>OVO</td>\n",
       "      <td>Lemon Pepper Freestyle (feat. Rick Ross)</td>\n",
       "      <td>Scary Hours 2</td>\n",
       "      <td>383</td>\n",
       "      <td>1</td>\n",
       "    </tr>\n",
       "  </tbody>\n",
       "</table>\n",
       "</div>"
      ],
      "text/plain": [
       "           ISRC Country Registrant  Release_Year    Period    DSP   Streams  \\\n",
       "0  USUG12101043      US        UG1          21.0  3/1/2021  Apple  16216932   \n",
       "\n",
       "  Artist Label                                      Song          Album  \\\n",
       "0  Drake   OVO  Lemon Pepper Freestyle (feat. Rick Ross)  Scary Hours 2   \n",
       "\n",
       "   Duration  Songwriter?  \n",
       "0       383            1  "
      ]
     },
     "execution_count": 44,
     "metadata": {},
     "output_type": "execute_result"
    }
   ],
   "source": [
    "#need to remind myself what the mlc contained\n",
    "mlc.head(1)"
   ]
  },
  {
   "cell_type": "code",
   "execution_count": 45,
   "id": "eb91f121",
   "metadata": {},
   "outputs": [
    {
     "data": {
      "text/plain": [
       "Atlantic Records                  1384\n",
       "Lofi Records                      1232\n",
       "Warner Records                     995\n",
       "Columbia                           843\n",
       "Universal                          818\n",
       "                                  ... \n",
       "Silence and Sounds                   1\n",
       "Classic Music Company                1\n",
       "FreestyleRs// PlanSecret Music       1\n",
       "Eddie Vedder/Republic World          1\n",
       "God Over Money Records               1\n",
       "Name: Label, Length: 11778, dtype: int64"
      ]
     },
     "execution_count": 45,
     "metadata": {},
     "output_type": "execute_result"
    }
   ],
   "source": [
    "mlc.Label.value_counts()"
   ]
  },
  {
   "cell_type": "code",
   "execution_count": 46,
   "id": "4ae4500e",
   "metadata": {},
   "outputs": [
    {
     "name": "stdout",
     "output_type": "stream",
     "text": [
      "Label\n",
      "Atlantic Records                                 172396961\n",
      "Columbia                                         131147208\n",
      "300 Entertainment                                 96692925\n",
      "Alamo (Geffen Records)                            88320747\n",
      "Taylor Swift                                      77937703\n",
      "                                                   ...    \n",
      "712847 Records DK                                        1\n",
      "AVATAR GROUP CONSCIOUSNESS                               1\n",
      "Geomagnetic                                              1\n",
      "Selected                                                 1\n",
      "Deen Chaser / Rapbay / Urbanlife Distribution            1\n",
      "Name: Streams, Length: 11778, dtype: int32\n"
     ]
    }
   ],
   "source": [
    "streams_per_Label=mlc.groupby('Label')['Streams'].sum()\n",
    "streams_per_Label=streams_per_Label.sort_values(ascending=False)\n",
    "print(streams_per_Label)"
   ]
  },
  {
   "cell_type": "code",
   "execution_count": 47,
   "id": "3e4ca8bd",
   "metadata": {},
   "outputs": [],
   "source": [
    "Label_ratio = mlc.groupby('Label')['Songwriter?'].mean()\n",
    "Label_ratio = Label_ratio.sort_values(ascending=False)"
   ]
  },
  {
   "cell_type": "code",
   "execution_count": 48,
   "id": "a704d6ec",
   "metadata": {},
   "outputs": [
    {
     "name": "stdout",
     "output_type": "stream",
     "text": [
      "                                                 Streams  Songwriter?\n",
      "Label                                                                \n",
      "Atlantic Records                               172396961     0.484104\n",
      "Columbia                                       131147208     0.875445\n",
      "300 Entertainment                               96692925     0.278607\n",
      "Alamo (Geffen Records)                          88320747     0.639053\n",
      "Taylor Swift                                    77937703     0.429658\n",
      "...                                                  ...          ...\n",
      "712847 Records DK                                      1     0.000000\n",
      "AVATAR GROUP CONSCIOUSNESS                             1     0.000000\n",
      "Geomagnetic                                            1     0.000000\n",
      "Selected                                               1     0.000000\n",
      "Deen Chaser / Rapbay / Urbanlife Distribution          1     0.000000\n",
      "\n",
      "[11778 rows x 2 columns]\n"
     ]
    }
   ],
   "source": [
    "Label_df = pd.merge(streams_per_Label, Label_ratio, on=['Label'], how='inner')\n",
    "print(Label_df)"
   ]
  },
  {
   "cell_type": "code",
   "execution_count": 49,
   "id": "a9db3976",
   "metadata": {},
   "outputs": [],
   "source": [
    "Label_df=Label_df.rename(columns={'Songwriter?':'SW_avg'})"
   ]
  },
  {
   "cell_type": "code",
   "execution_count": 50,
   "id": "2e3b06d1",
   "metadata": {},
   "outputs": [
    {
     "name": "stdout",
     "output_type": "stream",
     "text": [
      "                                               Label    Streams    SW_avg\n",
      "0                                   Atlantic Records  172396961  0.484104\n",
      "1                                           Columbia  131147208  0.875445\n",
      "2                                  300 Entertainment   96692925  0.278607\n",
      "3                             Alamo (Geffen Records)   88320747  0.639053\n",
      "4                                       Taylor Swift   77937703  0.429658\n",
      "...                                              ...        ...       ...\n",
      "11773                              712847 Records DK          1  0.000000\n",
      "11774                     AVATAR GROUP CONSCIOUSNESS          1  0.000000\n",
      "11775                                    Geomagnetic          1  0.000000\n",
      "11776                                       Selected          1  0.000000\n",
      "11777  Deen Chaser / Rapbay / Urbanlife Distribution          1  0.000000\n",
      "\n",
      "[11778 rows x 3 columns]\n"
     ]
    }
   ],
   "source": [
    "Label_df.reset_index(inplace=True)\n",
    "Label_df = Label_df.rename(columns = {'index': \"Label\"})\n",
    "print(Label_df)"
   ]
  },
  {
   "cell_type": "code",
   "execution_count": 51,
   "id": "2467c3c1",
   "metadata": {},
   "outputs": [
    {
     "name": "stdout",
     "output_type": "stream",
     "text": [
      "                    Label    Streams    SW_avg\n",
      "0        Atlantic Records  172396961  0.484104\n",
      "1                Columbia  131147208  0.875445\n",
      "2       300 Entertainment   96692925  0.278607\n",
      "3  Alamo (Geffen Records)   88320747  0.639053\n",
      "4            Taylor Swift   77937703  0.429658\n",
      "5           Alamo Records   72800179  0.615108\n",
      "6            Lofi Records   69694317  0.987013\n"
     ]
    }
   ],
   "source": [
    "radiohead = Label_df.head(7)\n",
    "print(radiohead)"
   ]
  },
  {
   "cell_type": "code",
   "execution_count": 70,
   "id": "1a2ddde7",
   "metadata": {},
   "outputs": [
    {
     "data": {
      "image/png": "[encoded data removed]",
      "text/plain": [
       "<Figure size 1080x504 with 1 Axes>"
      ]
     },
     "metadata": {},
     "output_type": "display_data"
    }
   ],
   "source": [
    "# Plot the responses for different events and regions\n",
    "plt.gcf().set_size_inches(15,7) # Rudy: Make it bigger\n",
    "sns.barplot(x=\"Label\", y=\"Streams\", data=radiohead)\n",
    "plt.title('Record Label by Number of Streams', fontsize=20)\n",
    "plt.xticks(rotation=50, fontsize=16)\n",
    "plt.xlabel('', fontsize=0)\n",
    "plt.ylabel('Number of Streams', fontsize=16)\n",
    "plt.yticks(fontsize=16);\n"
   ]
  },
  {
   "cell_type": "code",
   "execution_count": 66,
   "id": "a8435222",
   "metadata": {},
   "outputs": [
    {
     "data": {
      "text/html": [
       "<div>\n",
       "<style scoped>\n",
       "    .dataframe tbody tr th:only-of-type {\n",
       "        vertical-align: middle;\n",
       "    }\n",
       "\n",
       "    .dataframe tbody tr th {\n",
       "        vertical-align: top;\n",
       "    }\n",
       "\n",
       "    .dataframe thead th {\n",
       "        text-align: right;\n",
       "    }\n",
       "</style>\n",
       "<table border=\"1\" class=\"dataframe\">\n",
       "  <thead>\n",
       "    <tr style=\"text-align: right;\">\n",
       "      <th></th>\n",
       "      <th>Label</th>\n",
       "      <th>Streams</th>\n",
       "      <th>SW_avg</th>\n",
       "    </tr>\n",
       "  </thead>\n",
       "  <tbody>\n",
       "    <tr>\n",
       "      <th>6</th>\n",
       "      <td>Lofi Records</td>\n",
       "      <td>69694317</td>\n",
       "      <td>0.987013</td>\n",
       "    </tr>\n",
       "    <tr>\n",
       "      <th>1</th>\n",
       "      <td>Columbia</td>\n",
       "      <td>131147208</td>\n",
       "      <td>0.875445</td>\n",
       "    </tr>\n",
       "    <tr>\n",
       "      <th>3</th>\n",
       "      <td>Alamo (Geffen Records)</td>\n",
       "      <td>88320747</td>\n",
       "      <td>0.639053</td>\n",
       "    </tr>\n",
       "    <tr>\n",
       "      <th>5</th>\n",
       "      <td>Alamo Records</td>\n",
       "      <td>72800179</td>\n",
       "      <td>0.615108</td>\n",
       "    </tr>\n",
       "    <tr>\n",
       "      <th>0</th>\n",
       "      <td>Atlantic Records</td>\n",
       "      <td>172396961</td>\n",
       "      <td>0.484104</td>\n",
       "    </tr>\n",
       "    <tr>\n",
       "      <th>4</th>\n",
       "      <td>Taylor Swift</td>\n",
       "      <td>77937703</td>\n",
       "      <td>0.429658</td>\n",
       "    </tr>\n",
       "    <tr>\n",
       "      <th>2</th>\n",
       "      <td>300 Entertainment</td>\n",
       "      <td>96692925</td>\n",
       "      <td>0.278607</td>\n",
       "    </tr>\n",
       "  </tbody>\n",
       "</table>\n",
       "</div>"
      ],
      "text/plain": [
       "                    Label    Streams    SW_avg\n",
       "6            Lofi Records   69694317  0.987013\n",
       "1                Columbia  131147208  0.875445\n",
       "3  Alamo (Geffen Records)   88320747  0.639053\n",
       "5           Alamo Records   72800179  0.615108\n",
       "0        Atlantic Records  172396961  0.484104\n",
       "4            Taylor Swift   77937703  0.429658\n",
       "2       300 Entertainment   96692925  0.278607"
      ]
     },
     "execution_count": 66,
     "metadata": {},
     "output_type": "execute_result"
    }
   ],
   "source": [
    "Top_7_Labels = Label_df.sort_values(by='SW_avg', ascending=False)\n",
    "Top_7_Labels = Top_7_Labels[Top_7_Labels['Label'].isin(['Atlantic Records', 'Columbia', '300 Entertainment','Lofi Records', 'Alamo (Geffen Records)','Alamo Records', 'Taylor Swift'])]\n",
    "Top_7_Labels"
   ]
  },
  {
   "cell_type": "code",
   "execution_count": 69,
   "id": "af486a8e",
   "metadata": {},
   "outputs": [
    {
     "data": {
      "image/png": "[encoded data removed]",
      "text/plain": [
       "<Figure size 1080x504 with 1 Axes>"
      ]
     },
     "metadata": {},
     "output_type": "display_data"
    }
   ],
   "source": [
    "sns.set_theme(style=\"darkgrid\")\n",
    "sns.set(font_scale=1)\n",
    "sns.barplot(x=\"Label\", y=\"SW_avg\", data=Top_7_Labels)\n",
    "plt.title('Recording Label by % of Songwriter Info Provided', fontsize=20)\n",
    "plt.xticks(rotation=50, fontsize=16)\n",
    "plt.xlabel('', fontsize=0)\n",
    "plt.ylabel('% of Songwriter Info Provided', fontsize=16)\n",
    "plt.yticks(fontsize=16)\n",
    "plt.gcf().set_size_inches(15,7)"
   ]
  },
  {
   "cell_type": "markdown",
   "id": "d72fd13a",
   "metadata": {},
   "source": [
    "#### LET'S LOOK AT FOREIGN AND DOMESTIC OPTIONS"
   ]
  },
  {
   "cell_type": "code",
   "execution_count": 54,
   "id": "50da1b27",
   "metadata": {},
   "outputs": [
    {
     "data": {
      "text/html": [
       "<div>\n",
       "<style scoped>\n",
       "    .dataframe tbody tr th:only-of-type {\n",
       "        vertical-align: middle;\n",
       "    }\n",
       "\n",
       "    .dataframe tbody tr th {\n",
       "        vertical-align: top;\n",
       "    }\n",
       "\n",
       "    .dataframe thead th {\n",
       "        text-align: right;\n",
       "    }\n",
       "</style>\n",
       "<table border=\"1\" class=\"dataframe\">\n",
       "  <thead>\n",
       "    <tr style=\"text-align: right;\">\n",
       "      <th></th>\n",
       "      <th>ISRC</th>\n",
       "      <th>Country</th>\n",
       "      <th>Registrant</th>\n",
       "      <th>Release_Year</th>\n",
       "      <th>Period</th>\n",
       "      <th>DSP</th>\n",
       "      <th>Streams</th>\n",
       "      <th>Artist</th>\n",
       "      <th>Label</th>\n",
       "      <th>Song</th>\n",
       "      <th>Album</th>\n",
       "      <th>Duration</th>\n",
       "      <th>Songwriter?</th>\n",
       "    </tr>\n",
       "  </thead>\n",
       "  <tbody>\n",
       "    <tr>\n",
       "      <th>5</th>\n",
       "      <td>QZJ842000983</td>\n",
       "      <td>QZ</td>\n",
       "      <td>J84</td>\n",
       "      <td>20.0</td>\n",
       "      <td>5/1/2021</td>\n",
       "      <td>Spotify</td>\n",
       "      <td>14265940</td>\n",
       "      <td>Trippie Redd,Playboi Carti</td>\n",
       "      <td>1400 Entertainment  / 10K Projects</td>\n",
       "      <td>Miss The Rage (feat. Playboi Carti)</td>\n",
       "      <td>Miss The Rage (feat. Playboi Carti)</td>\n",
       "      <td>237</td>\n",
       "      <td>1</td>\n",
       "    </tr>\n",
       "    <tr>\n",
       "      <th>7</th>\n",
       "      <td>QMJMT2103634</td>\n",
       "      <td>QM</td>\n",
       "      <td>JMT</td>\n",
       "      <td>21.0</td>\n",
       "      <td>5/1/2021</td>\n",
       "      <td>Spotify</td>\n",
       "      <td>14847867</td>\n",
       "      <td>J. Cole,21 Savage,Morray</td>\n",
       "      <td>Dreamville, Inc., Under exclusive license to R...</td>\n",
       "      <td>m y . l i f e (with 21 Savage &amp; Morray)</td>\n",
       "      <td>The Off-Season</td>\n",
       "      <td>219</td>\n",
       "      <td>1</td>\n",
       "    </tr>\n",
       "    <tr>\n",
       "      <th>11</th>\n",
       "      <td>QMCE32100237</td>\n",
       "      <td>QM</td>\n",
       "      <td>CE3</td>\n",
       "      <td>21.0</td>\n",
       "      <td>5/1/2021</td>\n",
       "      <td>Spotify</td>\n",
       "      <td>8233820</td>\n",
       "      <td>Young Stoner Life,Young Thug,Gunna,Drake</td>\n",
       "      <td>300 Entertainment</td>\n",
       "      <td>Solid (feat. Drake)</td>\n",
       "      <td>Slime Language 2</td>\n",
       "      <td>216</td>\n",
       "      <td>0</td>\n",
       "    </tr>\n",
       "    <tr>\n",
       "      <th>20</th>\n",
       "      <td>TCAFA2064435</td>\n",
       "      <td>TC</td>\n",
       "      <td>AFA</td>\n",
       "      <td>20.0</td>\n",
       "      <td>3/1/2021</td>\n",
       "      <td>Pandora</td>\n",
       "      <td>9473</td>\n",
       "      <td>Kehlani|Russ</td>\n",
       "      <td>Russ My Way Inc</td>\n",
       "      <td>Take You Back (feat. Kehlani)</td>\n",
       "      <td>Take You Back (feat. Kehlani)</td>\n",
       "      <td>356461</td>\n",
       "      <td>1</td>\n",
       "    </tr>\n",
       "    <tr>\n",
       "      <th>26</th>\n",
       "      <td>GBAHS2100229</td>\n",
       "      <td>GB</td>\n",
       "      <td>AHS</td>\n",
       "      <td>21.0</td>\n",
       "      <td>5/1/2021</td>\n",
       "      <td>Spotify</td>\n",
       "      <td>5554060</td>\n",
       "      <td>Tion Wayne,Russ Millions,ArrDee,E1 (3x3),ZT (3...</td>\n",
       "      <td>Atlantic Records UK</td>\n",
       "      <td>Body (Remix) [feat. ArrDee, E1 (3x3), ZT (3x3)...</td>\n",
       "      <td>Body (Remix) [feat. ArrDee, E1 (3x3), ZT (3x3)...</td>\n",
       "      <td>279</td>\n",
       "      <td>1</td>\n",
       "    </tr>\n",
       "  </tbody>\n",
       "</table>\n",
       "</div>"
      ],
      "text/plain": [
       "            ISRC Country Registrant  Release_Year    Period      DSP  \\\n",
       "5   QZJ842000983      QZ        J84          20.0  5/1/2021  Spotify   \n",
       "7   QMJMT2103634      QM        JMT          21.0  5/1/2021  Spotify   \n",
       "11  QMCE32100237      QM        CE3          21.0  5/1/2021  Spotify   \n",
       "20  TCAFA2064435      TC        AFA          20.0  3/1/2021  Pandora   \n",
       "26  GBAHS2100229      GB        AHS          21.0  5/1/2021  Spotify   \n",
       "\n",
       "     Streams                                             Artist  \\\n",
       "5   14265940                         Trippie Redd,Playboi Carti   \n",
       "7   14847867                           J. Cole,21 Savage,Morray   \n",
       "11   8233820           Young Stoner Life,Young Thug,Gunna,Drake   \n",
       "20      9473                                       Kehlani|Russ   \n",
       "26   5554060  Tion Wayne,Russ Millions,ArrDee,E1 (3x3),ZT (3...   \n",
       "\n",
       "                                                Label  \\\n",
       "5                  1400 Entertainment  / 10K Projects   \n",
       "7   Dreamville, Inc., Under exclusive license to R...   \n",
       "11                                  300 Entertainment   \n",
       "20                                    Russ My Way Inc   \n",
       "26                                Atlantic Records UK   \n",
       "\n",
       "                                                 Song  \\\n",
       "5                 Miss The Rage (feat. Playboi Carti)   \n",
       "7             m y . l i f e (with 21 Savage & Morray)   \n",
       "11                                Solid (feat. Drake)   \n",
       "20                      Take You Back (feat. Kehlani)   \n",
       "26  Body (Remix) [feat. ArrDee, E1 (3x3), ZT (3x3)...   \n",
       "\n",
       "                                                Album  Duration  Songwriter?  \n",
       "5                 Miss The Rage (feat. Playboi Carti)       237            1  \n",
       "7                                      The Off-Season       219            1  \n",
       "11                                   Slime Language 2       216            0  \n",
       "20                      Take You Back (feat. Kehlani)    356461            1  \n",
       "26  Body (Remix) [feat. ArrDee, E1 (3x3), ZT (3x3)...       279            1  "
      ]
     },
     "execution_count": 54,
     "metadata": {},
     "output_type": "execute_result"
    }
   ],
   "source": [
    "foreign=mlc.loc[mlc['Country']!= 'US']\n",
    "foreign.head()"
   ]
  },
  {
   "cell_type": "code",
   "execution_count": 55,
   "id": "b9713c1f",
   "metadata": {},
   "outputs": [
    {
     "data": {
      "text/plain": [
       "1          648\n",
       "3           64\n",
       "4           44\n",
       "6           43\n",
       "5           36\n",
       "          ... \n",
       "90001        1\n",
       "26562        1\n",
       "49059        1\n",
       "24864        1\n",
       "1768669      1\n",
       "Name: Streams, Length: 35317, dtype: int64"
      ]
     },
     "execution_count": 55,
     "metadata": {},
     "output_type": "execute_result"
    }
   ],
   "source": [
    "foreign['Streams'].value_counts()"
   ]
  },
  {
   "cell_type": "code",
   "execution_count": 56,
   "id": "9adc2ef9",
   "metadata": {},
   "outputs": [
    {
     "data": {
      "text/plain": [
       "Country\n",
       "19    0.000000\n",
       "85    0.000000\n",
       "AE    0.418182\n",
       "AR    0.470588\n",
       "AT    0.397059\n",
       "        ...   \n",
       "UY    0.818182\n",
       "VN    0.920000\n",
       "WW    0.000000\n",
       "ZA    0.666667\n",
       "ZZ    0.441261\n",
       "Name: Songwriter?, Length: 76, dtype: float64"
      ]
     },
     "execution_count": 56,
     "metadata": {},
     "output_type": "execute_result"
    }
   ],
   "source": [
    "foreign_ratio = foreign.groupby('Country')['Songwriter?'].mean()\n",
    "foreign_ratio"
   ]
  },
  {
   "cell_type": "code",
   "execution_count": 57,
   "id": "fc76160f",
   "metadata": {},
   "outputs": [],
   "source": [
    "foreign_ratio=pd.DataFrame(foreign_ratio)"
   ]
  },
  {
   "cell_type": "code",
   "execution_count": 58,
   "id": "8b3fe650",
   "metadata": {},
   "outputs": [
    {
     "name": "stdout",
     "output_type": "stream",
     "text": [
      "   Country    SW_avg\n",
      "0       19  0.000000\n",
      "1       85  0.000000\n",
      "2       AE  0.418182\n",
      "3       AR  0.470588\n",
      "4       AT  0.397059\n",
      "..     ...       ...\n",
      "71      UY  0.818182\n",
      "72      VN  0.920000\n",
      "73      WW  0.000000\n",
      "74      ZA  0.666667\n",
      "75      ZZ  0.441261\n",
      "\n",
      "[76 rows x 2 columns]\n"
     ]
    }
   ],
   "source": [
    "foreign_ratio.reset_index(inplace=True)\n",
    "foreign_ratio = foreign_ratio.rename(columns = {'index': \"Country\", 'Songwriter?':'SW_avg'})\n",
    "print(foreign_ratio)\n",
    "#foreign_ratio = foreign_ratio.rename(columns={})"
   ]
  },
  {
   "cell_type": "code",
   "execution_count": 59,
   "id": "61c4a3bf",
   "metadata": {},
   "outputs": [
    {
     "name": "stdout",
     "output_type": "stream",
     "text": [
      "<class 'pandas.core.frame.DataFrame'>\n",
      "Int64Index: 58379 entries, 5 to 99999\n",
      "Data columns (total 13 columns):\n",
      " #   Column        Non-Null Count  Dtype  \n",
      "---  ------        --------------  -----  \n",
      " 0   ISRC          56619 non-null  object \n",
      " 1   Country       56682 non-null  object \n",
      " 2   Registrant    56682 non-null  object \n",
      " 3   Release_Year  56618 non-null  float64\n",
      " 4   Period        53543 non-null  object \n",
      " 5   DSP           55916 non-null  object \n",
      " 6   Streams       58379 non-null  int32  \n",
      " 7   Artist        58379 non-null  object \n",
      " 8   Label         57797 non-null  object \n",
      " 9   Song          58379 non-null  object \n",
      " 10  Album         58316 non-null  object \n",
      " 11  Duration      58379 non-null  int64  \n",
      " 12  Songwriter?   58379 non-null  int64  \n",
      "dtypes: float64(1), int32(1), int64(2), object(9)\n",
      "memory usage: 6.0+ MB\n"
     ]
    }
   ],
   "source": [
    "foreign.info()"
   ]
  },
  {
   "cell_type": "code",
   "execution_count": 60,
   "id": "ba88b3ae",
   "metadata": {},
   "outputs": [
    {
     "data": {
      "text/plain": [
       "5        14265940\n",
       "7        14847867\n",
       "11        8233820\n",
       "20           9473\n",
       "26        5554060\n",
       "           ...   \n",
       "99995     1987400\n",
       "99996     1987400\n",
       "99997     1380829\n",
       "99998     1531690\n",
       "99999     1768669\n",
       "Name: Streams, Length: 58379, dtype: int32"
      ]
     },
     "execution_count": 60,
     "metadata": {},
     "output_type": "execute_result"
    }
   ],
   "source": [
    "foreign.Streams.astype(int)\n",
    "#foreign['Streams']=foreign['Streams'].str.replace(\",\", \"\")"
   ]
  },
  {
   "cell_type": "code",
   "execution_count": 61,
   "id": "ab6b0a9a",
   "metadata": {},
   "outputs": [
    {
     "data": {
      "text/plain": [
       "Country\n",
       "UY    90612.363636\n",
       "GM    84992.850000\n",
       "NZ    83561.000000\n",
       "SE    64579.701679\n",
       "MX    59840.553879\n",
       "          ...     \n",
       "LS     3714.000000\n",
       "WW     3694.000000\n",
       "85     1316.666667\n",
       "AY      621.000000\n",
       "QA      307.000000\n",
       "Name: Streams, Length: 76, dtype: float64"
      ]
     },
     "execution_count": 61,
     "metadata": {},
     "output_type": "execute_result"
    }
   ],
   "source": [
    "foreign_stream=foreign.groupby('Country')['Streams'].mean()\n",
    "foreign_stream=foreign_stream.sort_values(ascending=False)\n",
    "foreign_stream"
   ]
  },
  {
   "cell_type": "code",
   "execution_count": null,
   "id": "5b558b69",
   "metadata": {},
   "outputs": [],
   "source": []
  }
 ],
 "metadata": {
  "kernelspec": {
   "display_name": "Python 3 (ipykernel)",
   "language": "python",
   "name": "python3"
  },
  "language_info": {
   "codemirror_mode": {
    "name": "ipython",
    "version": 3
   },
   "file_extension": ".py",
   "mimetype": "text/x-python",
   "name": "python",
   "nbconvert_exporter": "python",
   "pygments_lexer": "ipython3",
   "version": "3.9.7"
  }
 },
 "nbformat": 4,
 "nbformat_minor": 5
}
