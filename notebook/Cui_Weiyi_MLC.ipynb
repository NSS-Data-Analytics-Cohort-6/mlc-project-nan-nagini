{
 "cells": [
  {
   "cell_type": "code",
   "execution_count": 1,
   "id": "f01e08ba",
   "metadata": {},
   "outputs": [],
   "source": [
    "import pandas as pd\n",
    "import matplotlib.ticker as mtick\n",
    "import matplotlib.pyplot as plt\n",
    "import seaborn as sns\n",
    "import numpy as np\n",
    "import re"
   ]
  },
  {
   "cell_type": "markdown",
   "id": "5ef2a056",
   "metadata": {},
   "source": [
    "#### Download and first look at the data"
   ]
  },
  {
   "cell_type": "code",
   "execution_count": 2,
   "id": "29db1266",
   "metadata": {},
   "outputs": [],
   "source": [
    "mlc=pd.read_csv('../data/Matching_Sample.csv')"
   ]
  },
  {
   "cell_type": "code",
   "execution_count": 3,
   "id": "5d67d04d",
   "metadata": {},
   "outputs": [
    {
     "data": {
      "text/html": [
       "<div>\n",
       "<style scoped>\n",
       "    .dataframe tbody tr th:only-of-type {\n",
       "        vertical-align: middle;\n",
       "    }\n",
       "\n",
       "    .dataframe tbody tr th {\n",
       "        vertical-align: top;\n",
       "    }\n",
       "\n",
       "    .dataframe thead th {\n",
       "        text-align: right;\n",
       "    }\n",
       "</style>\n",
       "<table border=\"1\" class=\"dataframe\">\n",
       "  <thead>\n",
       "    <tr style=\"text-align: right;\">\n",
       "      <th></th>\n",
       "      <th>If</th>\n",
       "      <th>Country Code</th>\n",
       "      <th>Registrant Code</th>\n",
       "      <th>Year of Reference</th>\n",
       "      <th>Usage Period</th>\n",
       "      <th>Streaming Platform (DSP)</th>\n",
       "      <th>Streams</th>\n",
       "      <th>Recording Artist</th>\n",
       "      <th>Recording Label</th>\n",
       "      <th>Recording Title</th>\n",
       "      <th>Release Title</th>\n",
       "      <th>Recording Duration (Seconds)</th>\n",
       "      <th>Songwriter's Listed (1 = \"Yes\", 0 = \"No\")</th>\n",
       "    </tr>\n",
       "  </thead>\n",
       "  <tbody>\n",
       "    <tr>\n",
       "      <th>0</th>\n",
       "      <td>USUG12101043</td>\n",
       "      <td>US</td>\n",
       "      <td>UG1</td>\n",
       "      <td>21.0</td>\n",
       "      <td>3/1/2021</td>\n",
       "      <td>Apple</td>\n",
       "      <td>16,216,932</td>\n",
       "      <td>Drake</td>\n",
       "      <td>OVO</td>\n",
       "      <td>Lemon Pepper Freestyle (feat. Rick Ross)</td>\n",
       "      <td>Scary Hours 2</td>\n",
       "      <td>383</td>\n",
       "      <td>1</td>\n",
       "    </tr>\n",
       "    <tr>\n",
       "      <th>1</th>\n",
       "      <td>USRC12100543</td>\n",
       "      <td>US</td>\n",
       "      <td>RC1</td>\n",
       "      <td>21.0</td>\n",
       "      <td>4/1/2021</td>\n",
       "      <td>Spotify</td>\n",
       "      <td>21,456,166</td>\n",
       "      <td>Doja Cat,SZA</td>\n",
       "      <td>Kemosabe Records/RCA Records</td>\n",
       "      <td>Kiss Me More (feat. SZA)</td>\n",
       "      <td>Kiss Me More (feat. SZA)</td>\n",
       "      <td>209</td>\n",
       "      <td>1</td>\n",
       "    </tr>\n",
       "  </tbody>\n",
       "</table>\n",
       "</div>"
      ],
      "text/plain": [
       "            If  Country Code Registrant Code  Year of Reference Usage Period  \\\n",
       "0  USUG12101043           US             UG1               21.0     3/1/2021   \n",
       "1  USRC12100543           US             RC1               21.0     4/1/2021   \n",
       "\n",
       "  Streaming Platform (DSP)       Streams Recording Artist  \\\n",
       "0                    Apple   16,216,932             Drake   \n",
       "1                  Spotify   21,456,166      Doja Cat,SZA   \n",
       "\n",
       "                Recording Label                           Recording Title  \\\n",
       "0                           OVO  Lemon Pepper Freestyle (feat. Rick Ross)   \n",
       "1  Kemosabe Records/RCA Records                  Kiss Me More (feat. SZA)   \n",
       "\n",
       "              Release Title  Recording Duration (Seconds)  \\\n",
       "0             Scary Hours 2                           383   \n",
       "1  Kiss Me More (feat. SZA)                           209   \n",
       "\n",
       "   Songwriter's Listed (1 = \"Yes\", 0 = \"No\")  \n",
       "0                                          1  \n",
       "1                                          1  "
      ]
     },
     "execution_count": 3,
     "metadata": {},
     "output_type": "execute_result"
    }
   ],
   "source": [
    "mlc.head(2)"
   ]
  },
  {
   "cell_type": "markdown",
   "id": "86757e04",
   "metadata": {},
   "source": [
    "#### Checking the tail end for bad data"
   ]
  },
  {
   "cell_type": "code",
   "execution_count": 4,
   "id": "d71d8076",
   "metadata": {},
   "outputs": [
    {
     "data": {
      "text/html": [
       "<div>\n",
       "<style scoped>\n",
       "    .dataframe tbody tr th:only-of-type {\n",
       "        vertical-align: middle;\n",
       "    }\n",
       "\n",
       "    .dataframe tbody tr th {\n",
       "        vertical-align: top;\n",
       "    }\n",
       "\n",
       "    .dataframe thead th {\n",
       "        text-align: right;\n",
       "    }\n",
       "</style>\n",
       "<table border=\"1\" class=\"dataframe\">\n",
       "  <thead>\n",
       "    <tr style=\"text-align: right;\">\n",
       "      <th></th>\n",
       "      <th>If</th>\n",
       "      <th>Country Code</th>\n",
       "      <th>Registrant Code</th>\n",
       "      <th>Year of Reference</th>\n",
       "      <th>Usage Period</th>\n",
       "      <th>Streaming Platform (DSP)</th>\n",
       "      <th>Streams</th>\n",
       "      <th>Recording Artist</th>\n",
       "      <th>Recording Label</th>\n",
       "      <th>Recording Title</th>\n",
       "      <th>Release Title</th>\n",
       "      <th>Recording Duration (Seconds)</th>\n",
       "      <th>Songwriter's Listed (1 = \"Yes\", 0 = \"No\")</th>\n",
       "    </tr>\n",
       "  </thead>\n",
       "  <tbody>\n",
       "    <tr>\n",
       "      <th>99995</th>\n",
       "      <td>QZK6F2019397</td>\n",
       "      <td>QZ</td>\n",
       "      <td>K6F</td>\n",
       "      <td>20.0</td>\n",
       "      <td>3/1/2021</td>\n",
       "      <td>Spotify</td>\n",
       "      <td>1,987,400</td>\n",
       "      <td>Penelope Scott</td>\n",
       "      <td>Tesla's Pigeon</td>\n",
       "      <td>Rät</td>\n",
       "      <td>Public Void</td>\n",
       "      <td>195</td>\n",
       "      <td>1</td>\n",
       "    </tr>\n",
       "    <tr>\n",
       "      <th>99996</th>\n",
       "      <td>QZK6F2019397</td>\n",
       "      <td>QZ</td>\n",
       "      <td>K6F</td>\n",
       "      <td>20.0</td>\n",
       "      <td>3/1/2021</td>\n",
       "      <td>Spotify</td>\n",
       "      <td>1,987,400</td>\n",
       "      <td>Penelope Scott</td>\n",
       "      <td>Tesla's Pigeon</td>\n",
       "      <td>Rät</td>\n",
       "      <td>Public Void</td>\n",
       "      <td>195</td>\n",
       "      <td>1</td>\n",
       "    </tr>\n",
       "    <tr>\n",
       "      <th>99997</th>\n",
       "      <td>SE6HN1926755</td>\n",
       "      <td>SE</td>\n",
       "      <td>6HN</td>\n",
       "      <td>19.0</td>\n",
       "      <td>5/1/2021</td>\n",
       "      <td>Spotify</td>\n",
       "      <td>1,380,829</td>\n",
       "      <td>awfultune</td>\n",
       "      <td>awfultune</td>\n",
       "      <td>I Met Sarah in the Bathroom</td>\n",
       "      <td>I Met Sarah in the Bathroom</td>\n",
       "      <td>122</td>\n",
       "      <td>1</td>\n",
       "    </tr>\n",
       "    <tr>\n",
       "      <th>99998</th>\n",
       "      <td>SEYOK1669274</td>\n",
       "      <td>SE</td>\n",
       "      <td>YOK</td>\n",
       "      <td>16.0</td>\n",
       "      <td>5/1/2021</td>\n",
       "      <td>Spotify</td>\n",
       "      <td>1,531,690</td>\n",
       "      <td>Vacations</td>\n",
       "      <td>Nettwerk Records</td>\n",
       "      <td>Young</td>\n",
       "      <td>Vibes</td>\n",
       "      <td>190</td>\n",
       "      <td>1</td>\n",
       "    </tr>\n",
       "    <tr>\n",
       "      <th>99999</th>\n",
       "      <td>QZK6F2019397</td>\n",
       "      <td>QZ</td>\n",
       "      <td>K6F</td>\n",
       "      <td>20.0</td>\n",
       "      <td>5/1/2021</td>\n",
       "      <td>Spotify</td>\n",
       "      <td>1,768,669</td>\n",
       "      <td>Penelope Scott</td>\n",
       "      <td>Tesla's Pigeon</td>\n",
       "      <td>Rät</td>\n",
       "      <td>Public Void</td>\n",
       "      <td>195</td>\n",
       "      <td>1</td>\n",
       "    </tr>\n",
       "  </tbody>\n",
       "</table>\n",
       "</div>"
      ],
      "text/plain": [
       "                If  Country Code Registrant Code  Year of Reference  \\\n",
       "99995  QZK6F2019397           QZ             K6F               20.0   \n",
       "99996  QZK6F2019397           QZ             K6F               20.0   \n",
       "99997  SE6HN1926755           SE             6HN               19.0   \n",
       "99998  SEYOK1669274           SE             YOK               16.0   \n",
       "99999  QZK6F2019397           QZ             K6F               20.0   \n",
       "\n",
       "      Usage Period Streaming Platform (DSP)      Streams Recording Artist  \\\n",
       "99995     3/1/2021                  Spotify   1,987,400    Penelope Scott   \n",
       "99996     3/1/2021                  Spotify   1,987,400    Penelope Scott   \n",
       "99997     5/1/2021                  Spotify   1,380,829         awfultune   \n",
       "99998     5/1/2021                  Spotify   1,531,690         Vacations   \n",
       "99999     5/1/2021                  Spotify   1,768,669    Penelope Scott   \n",
       "\n",
       "        Recording Label              Recording Title  \\\n",
       "99995    Tesla's Pigeon                          Rät   \n",
       "99996    Tesla's Pigeon                          Rät   \n",
       "99997         awfultune  I Met Sarah in the Bathroom   \n",
       "99998  Nettwerk Records                        Young   \n",
       "99999    Tesla's Pigeon                          Rät   \n",
       "\n",
       "                     Release Title  Recording Duration (Seconds)  \\\n",
       "99995                  Public Void                           195   \n",
       "99996                  Public Void                           195   \n",
       "99997  I Met Sarah in the Bathroom                           122   \n",
       "99998                        Vibes                           190   \n",
       "99999                  Public Void                           195   \n",
       "\n",
       "       Songwriter's Listed (1 = \"Yes\", 0 = \"No\")  \n",
       "99995                                          1  \n",
       "99996                                          1  \n",
       "99997                                          1  \n",
       "99998                                          1  \n",
       "99999                                          1  "
      ]
     },
     "execution_count": 4,
     "metadata": {},
     "output_type": "execute_result"
    }
   ],
   "source": [
    "mlc.tail()"
   ]
  },
  {
   "cell_type": "code",
   "execution_count": 5,
   "id": "a7e86efd",
   "metadata": {},
   "outputs": [
    {
     "data": {
      "text/html": [
       "<div>\n",
       "<style scoped>\n",
       "    .dataframe tbody tr th:only-of-type {\n",
       "        vertical-align: middle;\n",
       "    }\n",
       "\n",
       "    .dataframe tbody tr th {\n",
       "        vertical-align: top;\n",
       "    }\n",
       "\n",
       "    .dataframe thead th {\n",
       "        text-align: right;\n",
       "    }\n",
       "</style>\n",
       "<table border=\"1\" class=\"dataframe\">\n",
       "  <thead>\n",
       "    <tr style=\"text-align: right;\">\n",
       "      <th></th>\n",
       "      <th>ISRC</th>\n",
       "      <th>Country</th>\n",
       "      <th>Registrant</th>\n",
       "      <th>Release_Year</th>\n",
       "      <th>Period</th>\n",
       "      <th>DSP</th>\n",
       "      <th>Streams</th>\n",
       "      <th>Artist</th>\n",
       "      <th>Label</th>\n",
       "      <th>Song</th>\n",
       "      <th>Album</th>\n",
       "      <th>Duration</th>\n",
       "      <th>Songwriter?</th>\n",
       "    </tr>\n",
       "  </thead>\n",
       "  <tbody>\n",
       "    <tr>\n",
       "      <th>0</th>\n",
       "      <td>USUG12101043</td>\n",
       "      <td>US</td>\n",
       "      <td>UG1</td>\n",
       "      <td>21.0</td>\n",
       "      <td>3/1/2021</td>\n",
       "      <td>Apple</td>\n",
       "      <td>16,216,932</td>\n",
       "      <td>Drake</td>\n",
       "      <td>OVO</td>\n",
       "      <td>Lemon Pepper Freestyle (feat. Rick Ross)</td>\n",
       "      <td>Scary Hours 2</td>\n",
       "      <td>383</td>\n",
       "      <td>1</td>\n",
       "    </tr>\n",
       "    <tr>\n",
       "      <th>1</th>\n",
       "      <td>USRC12100543</td>\n",
       "      <td>US</td>\n",
       "      <td>RC1</td>\n",
       "      <td>21.0</td>\n",
       "      <td>4/1/2021</td>\n",
       "      <td>Spotify</td>\n",
       "      <td>21,456,166</td>\n",
       "      <td>Doja Cat,SZA</td>\n",
       "      <td>Kemosabe Records/RCA Records</td>\n",
       "      <td>Kiss Me More (feat. SZA)</td>\n",
       "      <td>Kiss Me More (feat. SZA)</td>\n",
       "      <td>209</td>\n",
       "      <td>1</td>\n",
       "    </tr>\n",
       "    <tr>\n",
       "      <th>2</th>\n",
       "      <td>USSM12102263</td>\n",
       "      <td>US</td>\n",
       "      <td>SM1</td>\n",
       "      <td>21.0</td>\n",
       "      <td>NaN</td>\n",
       "      <td>Apple</td>\n",
       "      <td>15,747,471</td>\n",
       "      <td>DJ Khaled</td>\n",
       "      <td>Epic/We The Best</td>\n",
       "      <td>EVERY CHANCE I GET (feat. Lil Baby &amp; Lil Durk)</td>\n",
       "      <td>KHALED KHALED</td>\n",
       "      <td>237</td>\n",
       "      <td>1</td>\n",
       "    </tr>\n",
       "    <tr>\n",
       "      <th>3</th>\n",
       "      <td>USLD91731547</td>\n",
       "      <td>US</td>\n",
       "      <td>LD9</td>\n",
       "      <td>17.0</td>\n",
       "      <td>4/1/2021</td>\n",
       "      <td>Apple</td>\n",
       "      <td>17,259,260</td>\n",
       "      <td>Rod Wave</td>\n",
       "      <td>Alamo Records</td>\n",
       "      <td>Tombstone</td>\n",
       "      <td>SoulFly</td>\n",
       "      <td>160</td>\n",
       "      <td>1</td>\n",
       "    </tr>\n",
       "    <tr>\n",
       "      <th>4</th>\n",
       "      <td>USAT22007048</td>\n",
       "      <td>US</td>\n",
       "      <td>AT2</td>\n",
       "      <td>20.0</td>\n",
       "      <td>3/1/2021</td>\n",
       "      <td>Apple</td>\n",
       "      <td>8,789,577</td>\n",
       "      <td>Pooh Shiesty</td>\n",
       "      <td>Atlantic Records</td>\n",
       "      <td>Back In Blood (Feat. Lil Durk)</td>\n",
       "      <td>Back in Blood (feat. Lil Durk) - Single</td>\n",
       "      <td>184</td>\n",
       "      <td>1</td>\n",
       "    </tr>\n",
       "    <tr>\n",
       "      <th>...</th>\n",
       "      <td>...</td>\n",
       "      <td>...</td>\n",
       "      <td>...</td>\n",
       "      <td>...</td>\n",
       "      <td>...</td>\n",
       "      <td>...</td>\n",
       "      <td>...</td>\n",
       "      <td>...</td>\n",
       "      <td>...</td>\n",
       "      <td>...</td>\n",
       "      <td>...</td>\n",
       "      <td>...</td>\n",
       "      <td>...</td>\n",
       "    </tr>\n",
       "    <tr>\n",
       "      <th>99995</th>\n",
       "      <td>QZK6F2019397</td>\n",
       "      <td>QZ</td>\n",
       "      <td>K6F</td>\n",
       "      <td>20.0</td>\n",
       "      <td>3/1/2021</td>\n",
       "      <td>Spotify</td>\n",
       "      <td>1,987,400</td>\n",
       "      <td>Penelope Scott</td>\n",
       "      <td>Tesla's Pigeon</td>\n",
       "      <td>Rät</td>\n",
       "      <td>Public Void</td>\n",
       "      <td>195</td>\n",
       "      <td>1</td>\n",
       "    </tr>\n",
       "    <tr>\n",
       "      <th>99996</th>\n",
       "      <td>QZK6F2019397</td>\n",
       "      <td>QZ</td>\n",
       "      <td>K6F</td>\n",
       "      <td>20.0</td>\n",
       "      <td>3/1/2021</td>\n",
       "      <td>Spotify</td>\n",
       "      <td>1,987,400</td>\n",
       "      <td>Penelope Scott</td>\n",
       "      <td>Tesla's Pigeon</td>\n",
       "      <td>Rät</td>\n",
       "      <td>Public Void</td>\n",
       "      <td>195</td>\n",
       "      <td>1</td>\n",
       "    </tr>\n",
       "    <tr>\n",
       "      <th>99997</th>\n",
       "      <td>SE6HN1926755</td>\n",
       "      <td>SE</td>\n",
       "      <td>6HN</td>\n",
       "      <td>19.0</td>\n",
       "      <td>5/1/2021</td>\n",
       "      <td>Spotify</td>\n",
       "      <td>1,380,829</td>\n",
       "      <td>awfultune</td>\n",
       "      <td>awfultune</td>\n",
       "      <td>I Met Sarah in the Bathroom</td>\n",
       "      <td>I Met Sarah in the Bathroom</td>\n",
       "      <td>122</td>\n",
       "      <td>1</td>\n",
       "    </tr>\n",
       "    <tr>\n",
       "      <th>99998</th>\n",
       "      <td>SEYOK1669274</td>\n",
       "      <td>SE</td>\n",
       "      <td>YOK</td>\n",
       "      <td>16.0</td>\n",
       "      <td>5/1/2021</td>\n",
       "      <td>Spotify</td>\n",
       "      <td>1,531,690</td>\n",
       "      <td>Vacations</td>\n",
       "      <td>Nettwerk Records</td>\n",
       "      <td>Young</td>\n",
       "      <td>Vibes</td>\n",
       "      <td>190</td>\n",
       "      <td>1</td>\n",
       "    </tr>\n",
       "    <tr>\n",
       "      <th>99999</th>\n",
       "      <td>QZK6F2019397</td>\n",
       "      <td>QZ</td>\n",
       "      <td>K6F</td>\n",
       "      <td>20.0</td>\n",
       "      <td>5/1/2021</td>\n",
       "      <td>Spotify</td>\n",
       "      <td>1,768,669</td>\n",
       "      <td>Penelope Scott</td>\n",
       "      <td>Tesla's Pigeon</td>\n",
       "      <td>Rät</td>\n",
       "      <td>Public Void</td>\n",
       "      <td>195</td>\n",
       "      <td>1</td>\n",
       "    </tr>\n",
       "  </tbody>\n",
       "</table>\n",
       "<p>100000 rows × 13 columns</p>\n",
       "</div>"
      ],
      "text/plain": [
       "               ISRC Country Registrant  Release_Year    Period      DSP  \\\n",
       "0      USUG12101043      US        UG1          21.0  3/1/2021    Apple   \n",
       "1      USRC12100543      US        RC1          21.0  4/1/2021  Spotify   \n",
       "2      USSM12102263      US        SM1          21.0       NaN    Apple   \n",
       "3      USLD91731547      US        LD9          17.0  4/1/2021    Apple   \n",
       "4      USAT22007048      US        AT2          20.0  3/1/2021    Apple   \n",
       "...             ...     ...        ...           ...       ...      ...   \n",
       "99995  QZK6F2019397      QZ        K6F          20.0  3/1/2021  Spotify   \n",
       "99996  QZK6F2019397      QZ        K6F          20.0  3/1/2021  Spotify   \n",
       "99997  SE6HN1926755      SE        6HN          19.0  5/1/2021  Spotify   \n",
       "99998  SEYOK1669274      SE        YOK          16.0  5/1/2021  Spotify   \n",
       "99999  QZK6F2019397      QZ        K6F          20.0  5/1/2021  Spotify   \n",
       "\n",
       "            Streams          Artist                         Label  \\\n",
       "0       16,216,932            Drake                           OVO   \n",
       "1       21,456,166     Doja Cat,SZA  Kemosabe Records/RCA Records   \n",
       "2       15,747,471        DJ Khaled              Epic/We The Best   \n",
       "3       17,259,260         Rod Wave                 Alamo Records   \n",
       "4        8,789,577     Pooh Shiesty              Atlantic Records   \n",
       "...             ...             ...                           ...   \n",
       "99995    1,987,400   Penelope Scott                Tesla's Pigeon   \n",
       "99996    1,987,400   Penelope Scott                Tesla's Pigeon   \n",
       "99997    1,380,829        awfultune                     awfultune   \n",
       "99998    1,531,690        Vacations              Nettwerk Records   \n",
       "99999    1,768,669   Penelope Scott                Tesla's Pigeon   \n",
       "\n",
       "                                                 Song  \\\n",
       "0            Lemon Pepper Freestyle (feat. Rick Ross)   \n",
       "1                            Kiss Me More (feat. SZA)   \n",
       "2      EVERY CHANCE I GET (feat. Lil Baby & Lil Durk)   \n",
       "3                                           Tombstone   \n",
       "4                      Back In Blood (Feat. Lil Durk)   \n",
       "...                                               ...   \n",
       "99995                                             Rät   \n",
       "99996                                             Rät   \n",
       "99997                     I Met Sarah in the Bathroom   \n",
       "99998                                           Young   \n",
       "99999                                             Rät   \n",
       "\n",
       "                                         Album  Duration  Songwriter?  \n",
       "0                                Scary Hours 2       383            1  \n",
       "1                     Kiss Me More (feat. SZA)       209            1  \n",
       "2                                KHALED KHALED       237            1  \n",
       "3                                      SoulFly       160            1  \n",
       "4      Back in Blood (feat. Lil Durk) - Single       184            1  \n",
       "...                                        ...       ...          ...  \n",
       "99995                              Public Void       195            1  \n",
       "99996                              Public Void       195            1  \n",
       "99997              I Met Sarah in the Bathroom       122            1  \n",
       "99998                                    Vibes       190            1  \n",
       "99999                              Public Void       195            1  \n",
       "\n",
       "[100000 rows x 13 columns]"
      ]
     },
     "execution_count": 5,
     "metadata": {},
     "output_type": "execute_result"
    }
   ],
   "source": [
    "mlc.columns = ['ISRC', 'Country', 'Registrant', 'Release_Year', 'Period', 'DSP', 'Streams', 'Artist', 'Label', 'Song', 'Album', 'Duration', 'Songwriter?']\n",
    "mlc"
   ]
  },
  {
   "cell_type": "markdown",
   "id": "5616e4e7",
   "metadata": {},
   "source": [
    "###### Exploratory phase"
   ]
  },
  {
   "cell_type": "markdown",
   "id": "aada16ac",
   "metadata": {},
   "source": [
    "#### Foreign producers seem to get the most exposure on Spotify, Apple, and Amazon...What about domestic?"
   ]
  },
  {
   "cell_type": "code",
   "execution_count": 6,
   "id": "2f0d1306",
   "metadata": {},
   "outputs": [
    {
     "data": {
      "text/plain": [
       "Apple           10093\n",
       "Spotify          8434\n",
       "Pandora          7585\n",
       "Amazon           7505\n",
       "Tidal            1895\n",
       "YouTube          1328\n",
       "SoundCloud       1026\n",
       "Trebel            574\n",
       "GTL               433\n",
       "iHeart Radio      383\n",
       "Melodyv           307\n",
       "AudioMack         232\n",
       "LiveXLive         105\n",
       "Midwest Tape       74\n",
       "Deezer             39\n",
       "Qoboz              25\n",
       "Smithsonian        21\n",
       "Sonos              19\n",
       "Wolfgangs           4\n",
       "Fan Label           2\n",
       "MixCloud            1\n",
       "Name: DSP, dtype: int64"
      ]
     },
     "execution_count": 6,
     "metadata": {},
     "output_type": "execute_result"
    }
   ],
   "source": [
    "domestic = mlc.loc[mlc['Country']== 'US']\n",
    "\n",
    "domestic['DSP'].value_counts()"
   ]
  },
  {
   "cell_type": "markdown",
   "id": "8ef1d78d",
   "metadata": {},
   "source": [
    "#### Apple, Spotify, and Pandora made the top 3 for domestic, but it was close.\n",
    "who was listening to classical music?"
   ]
  },
  {
   "cell_type": "code",
   "execution_count": 7,
   "id": "139940e5",
   "metadata": {},
   "outputs": [
    {
     "data": {
      "text/html": [
       "<div>\n",
       "<style scoped>\n",
       "    .dataframe tbody tr th:only-of-type {\n",
       "        vertical-align: middle;\n",
       "    }\n",
       "\n",
       "    .dataframe tbody tr th {\n",
       "        vertical-align: top;\n",
       "    }\n",
       "\n",
       "    .dataframe thead th {\n",
       "        text-align: right;\n",
       "    }\n",
       "</style>\n",
       "<table border=\"1\" class=\"dataframe\">\n",
       "  <thead>\n",
       "    <tr style=\"text-align: right;\">\n",
       "      <th></th>\n",
       "      <th>ISRC</th>\n",
       "      <th>Country</th>\n",
       "      <th>Registrant</th>\n",
       "      <th>Release_Year</th>\n",
       "      <th>Period</th>\n",
       "      <th>DSP</th>\n",
       "      <th>Streams</th>\n",
       "      <th>Artist</th>\n",
       "      <th>Label</th>\n",
       "      <th>Song</th>\n",
       "      <th>Album</th>\n",
       "      <th>Duration</th>\n",
       "      <th>Songwriter?</th>\n",
       "    </tr>\n",
       "  </thead>\n",
       "  <tbody>\n",
       "    <tr>\n",
       "      <th>71086</th>\n",
       "      <td>DEB339350501</td>\n",
       "      <td>DE</td>\n",
       "      <td>B33</td>\n",
       "      <td>93.0</td>\n",
       "      <td>4/1/2021</td>\n",
       "      <td>Classical Archives</td>\n",
       "      <td>12</td>\n",
       "      <td>Tõnu Kaljuste, Estonian Philharmonic Chamber C...</td>\n",
       "      <td>ECM New Series</td>\n",
       "      <td>Te Deum, for double chorus, strings, prepared ...</td>\n",
       "      <td>Pärt: Te Deum</td>\n",
       "      <td>1723</td>\n",
       "      <td>1</td>\n",
       "    </tr>\n",
       "    <tr>\n",
       "      <th>87615</th>\n",
       "      <td>NLA508532103</td>\n",
       "      <td>NL</td>\n",
       "      <td>A50</td>\n",
       "      <td>85.0</td>\n",
       "      <td>2/1/2021</td>\n",
       "      <td>Classical Archives</td>\n",
       "      <td>8</td>\n",
       "      <td>Beaux Arts Trio</td>\n",
       "      <td>Decca Music Group Ltd.</td>\n",
       "      <td>Trio élégiaque, for piano and strings in D-, O...</td>\n",
       "      <td>Rachmaninov: Piano Trios Nos.1 &amp; 2</td>\n",
       "      <td>1195</td>\n",
       "      <td>1</td>\n",
       "    </tr>\n",
       "  </tbody>\n",
       "</table>\n",
       "</div>"
      ],
      "text/plain": [
       "               ISRC Country Registrant  Release_Year    Period  \\\n",
       "71086  DEB339350501      DE        B33          93.0  4/1/2021   \n",
       "87615  NLA508532103      NL        A50          85.0  2/1/2021   \n",
       "\n",
       "                      DSP Streams  \\\n",
       "71086  Classical Archives     12    \n",
       "87615  Classical Archives      8    \n",
       "\n",
       "                                                  Artist  \\\n",
       "71086  Tõnu Kaljuste, Estonian Philharmonic Chamber C...   \n",
       "87615                                    Beaux Arts Trio   \n",
       "\n",
       "                        Label  \\\n",
       "71086          ECM New Series   \n",
       "87615  Decca Music Group Ltd.   \n",
       "\n",
       "                                                    Song  \\\n",
       "71086  Te Deum, for double chorus, strings, prepared ...   \n",
       "87615  Trio élégiaque, for piano and strings in D-, O...   \n",
       "\n",
       "                                    Album  Duration  Songwriter?  \n",
       "71086                       Pärt: Te Deum      1723            1  \n",
       "87615  Rachmaninov: Piano Trios Nos.1 & 2      1195            1  "
      ]
     },
     "execution_count": 7,
     "metadata": {},
     "output_type": "execute_result"
    }
   ],
   "source": [
    "mlc.loc[mlc['DSP']=='Classical Archives']\n",
    "#Long French names, but these are really long songs"
   ]
  },
  {
   "cell_type": "code",
   "execution_count": 8,
   "id": "32b83fa0",
   "metadata": {},
   "outputs": [
    {
     "data": {
      "text/plain": [
       "818738"
      ]
     },
     "execution_count": 8,
     "metadata": {},
     "output_type": "execute_result"
    }
   ],
   "source": [
    "#What is the longest song?\n",
    "longest_song = max(mlc.Duration)\n",
    "longest_song"
   ]
  },
  {
   "cell_type": "code",
   "execution_count": 9,
   "id": "830f14e9",
   "metadata": {
    "scrolled": true
   },
   "outputs": [
    {
     "data": {
      "text/plain": [
       "Atlantic Records                  1384\n",
       "Lofi Records                      1232\n",
       "Warner Records                     995\n",
       "Columbia                           843\n",
       "Universal                          818\n",
       "                                  ... \n",
       "Silence and Sounds                   1\n",
       "Classic Music Company                1\n",
       "FreestyleRs// PlanSecret Music       1\n",
       "Eddie Vedder/Republic World          1\n",
       "God Over Money Records               1\n",
       "Name: Label, Length: 11778, dtype: int64"
      ]
     },
     "execution_count": 9,
     "metadata": {},
     "output_type": "execute_result"
    }
   ],
   "source": [
    "mlc.Label.value_counts()"
   ]
  },
  {
   "cell_type": "code",
   "execution_count": 10,
   "id": "6a25bc9c",
   "metadata": {},
   "outputs": [
    {
     "data": {
      "text/html": [
       "<div>\n",
       "<style scoped>\n",
       "    .dataframe tbody tr th:only-of-type {\n",
       "        vertical-align: middle;\n",
       "    }\n",
       "\n",
       "    .dataframe tbody tr th {\n",
       "        vertical-align: top;\n",
       "    }\n",
       "\n",
       "    .dataframe thead th {\n",
       "        text-align: right;\n",
       "    }\n",
       "</style>\n",
       "<table border=\"1\" class=\"dataframe\">\n",
       "  <thead>\n",
       "    <tr style=\"text-align: right;\">\n",
       "      <th></th>\n",
       "      <th>ISRC</th>\n",
       "      <th>Country</th>\n",
       "      <th>Registrant</th>\n",
       "      <th>Release_Year</th>\n",
       "      <th>Period</th>\n",
       "      <th>DSP</th>\n",
       "      <th>Streams</th>\n",
       "      <th>Artist</th>\n",
       "      <th>Label</th>\n",
       "      <th>Song</th>\n",
       "      <th>Album</th>\n",
       "      <th>Duration</th>\n",
       "      <th>Songwriter?</th>\n",
       "    </tr>\n",
       "  </thead>\n",
       "  <tbody>\n",
       "    <tr>\n",
       "      <th>79752</th>\n",
       "      <td>QMCE32000650</td>\n",
       "      <td>QM</td>\n",
       "      <td>CE3</td>\n",
       "      <td>20.0</td>\n",
       "      <td>2/1/2021</td>\n",
       "      <td>Trebel</td>\n",
       "      <td>6,464</td>\n",
       "      <td>Megan Thee Stallion</td>\n",
       "      <td>Warner</td>\n",
       "      <td>Cry Baby (feat. DaBaby)</td>\n",
       "      <td>Good News</td>\n",
       "      <td>818738</td>\n",
       "      <td>0</td>\n",
       "    </tr>\n",
       "  </tbody>\n",
       "</table>\n",
       "</div>"
      ],
      "text/plain": [
       "               ISRC Country Registrant  Release_Year    Period     DSP  \\\n",
       "79752  QMCE32000650      QM        CE3          20.0  2/1/2021  Trebel   \n",
       "\n",
       "       Streams               Artist   Label                     Song  \\\n",
       "79752   6,464   Megan Thee Stallion  Warner  Cry Baby (feat. DaBaby)   \n",
       "\n",
       "           Album  Duration  Songwriter?  \n",
       "79752  Good News    818738            0  "
      ]
     },
     "execution_count": 10,
     "metadata": {},
     "output_type": "execute_result"
    }
   ],
   "source": [
    "mlc.loc[mlc['Duration']==mlc.Duration.max()]\n"
   ]
  },
  {
   "cell_type": "markdown",
   "id": "d7541509",
   "metadata": {},
   "source": [
    "#### Megan Thee Stallion has a 9 day long song. That is impressive."
   ]
  },
  {
   "cell_type": "code",
   "execution_count": 11,
   "id": "e55281d6",
   "metadata": {
    "scrolled": true
   },
   "outputs": [
    {
     "name": "stdout",
     "output_type": "stream",
     "text": [
      "<class 'pandas.core.frame.DataFrame'>\n",
      "RangeIndex: 100000 entries, 0 to 99999\n",
      "Data columns (total 13 columns):\n",
      " #   Column        Non-Null Count   Dtype  \n",
      "---  ------        --------------   -----  \n",
      " 0   ISRC          98240 non-null   object \n",
      " 1   Country       98303 non-null   object \n",
      " 2   Registrant    98303 non-null   object \n",
      " 3   Release_Year  98239 non-null   float64\n",
      " 4   Period        91898 non-null   object \n",
      " 5   DSP           96001 non-null   object \n",
      " 6   Streams       100000 non-null  object \n",
      " 7   Artist        100000 non-null  object \n",
      " 8   Label         98992 non-null   object \n",
      " 9   Song          100000 non-null  object \n",
      " 10  Album         99931 non-null   object \n",
      " 11  Duration      100000 non-null  int64  \n",
      " 12  Songwriter?   100000 non-null  int64  \n",
      "dtypes: float64(1), int64(2), object(10)\n",
      "memory usage: 9.9+ MB\n"
     ]
    }
   ],
   "source": [
    "mlc.info()"
   ]
  },
  {
   "cell_type": "code",
   "execution_count": 12,
   "id": "33e8bd75",
   "metadata": {},
   "outputs": [],
   "source": [
    "mlc['Streams']=mlc['Streams'].str.replace(\" \", \",\")\n",
    "mlc['Streams']=mlc['Streams'].str.replace(\",\", \"\")\n"
   ]
  },
  {
   "cell_type": "code",
   "execution_count": 13,
   "id": "f718b85e",
   "metadata": {},
   "outputs": [
    {
     "name": "stdout",
     "output_type": "stream",
     "text": [
      "<class 'pandas.core.frame.DataFrame'>\n",
      "RangeIndex: 100000 entries, 0 to 99999\n",
      "Data columns (total 13 columns):\n",
      " #   Column        Non-Null Count   Dtype  \n",
      "---  ------        --------------   -----  \n",
      " 0   ISRC          98240 non-null   object \n",
      " 1   Country       98303 non-null   object \n",
      " 2   Registrant    98303 non-null   object \n",
      " 3   Release_Year  98239 non-null   float64\n",
      " 4   Period        91898 non-null   object \n",
      " 5   DSP           96001 non-null   object \n",
      " 6   Streams       100000 non-null  object \n",
      " 7   Artist        100000 non-null  object \n",
      " 8   Label         98992 non-null   object \n",
      " 9   Song          100000 non-null  object \n",
      " 10  Album         99931 non-null   object \n",
      " 11  Duration      100000 non-null  int64  \n",
      " 12  Songwriter?   100000 non-null  int64  \n",
      "dtypes: float64(1), int64(2), object(10)\n",
      "memory usage: 9.9+ MB\n"
     ]
    }
   ],
   "source": [
    "mlc.info()"
   ]
  },
  {
   "cell_type": "code",
   "execution_count": 14,
   "id": "24b2e978",
   "metadata": {},
   "outputs": [],
   "source": [
    "mlc['Streams']=mlc['Streams'].astype(int)"
   ]
  },
  {
   "cell_type": "code",
   "execution_count": 15,
   "id": "8c7d2baa",
   "metadata": {},
   "outputs": [
    {
     "name": "stdout",
     "output_type": "stream",
     "text": [
      "<class 'pandas.core.frame.DataFrame'>\n",
      "RangeIndex: 100000 entries, 0 to 99999\n",
      "Data columns (total 13 columns):\n",
      " #   Column        Non-Null Count   Dtype  \n",
      "---  ------        --------------   -----  \n",
      " 0   ISRC          98240 non-null   object \n",
      " 1   Country       98303 non-null   object \n",
      " 2   Registrant    98303 non-null   object \n",
      " 3   Release_Year  98239 non-null   float64\n",
      " 4   Period        91898 non-null   object \n",
      " 5   DSP           96001 non-null   object \n",
      " 6   Streams       100000 non-null  int32  \n",
      " 7   Artist        100000 non-null  object \n",
      " 8   Label         98992 non-null   object \n",
      " 9   Song          100000 non-null  object \n",
      " 10  Album         99931 non-null   object \n",
      " 11  Duration      100000 non-null  int64  \n",
      " 12  Songwriter?   100000 non-null  int64  \n",
      "dtypes: float64(1), int32(1), int64(2), object(9)\n",
      "memory usage: 9.5+ MB\n"
     ]
    }
   ],
   "source": [
    "mlc.info()"
   ]
  },
  {
   "cell_type": "code",
   "execution_count": 16,
   "id": "e7a49654",
   "metadata": {},
   "outputs": [],
   "source": [
    "# sh{}\n",
    "# good{}\n",
    "# long{}\n",
    "\n",
    "# for index in mlc:\n",
    "#     if Duration <= 30:\n",
    "#         sh{}+1\n",
    "#     elif Duration <30 or mlc.Duration > 1800:\n",
    "#         good{}+1\n",
    "#     else:\n",
    "#         long{}+1"
   ]
  },
  {
   "cell_type": "code",
   "execution_count": 17,
   "id": "98d02ca7",
   "metadata": {},
   "outputs": [
    {
     "name": "stdout",
     "output_type": "stream",
     "text": [
      "DSP\n",
      "Classical Archives    100.000000\n",
      "Qoboz                  90.384615\n",
      "Deezer                 86.274510\n",
      "Spotify                85.437585\n",
      "Apple                  80.851351\n",
      "Recisio                54.545455\n",
      "Amazon                 26.173985\n",
      "Pandora                24.482834\n",
      "Melodyv                11.459590\n",
      "LiveXLive               7.000000\n",
      "GTL                     2.844037\n",
      "Tidal                   0.369213\n",
      "Smithsonian             0.000000\n",
      "Ultimate Guitar         0.000000\n",
      "Trebel                  0.000000\n",
      "Wolfgangs               0.000000\n",
      "SoundCloud              0.000000\n",
      "Sonos                   0.000000\n",
      "YouTube                 0.000000\n",
      "Pacemaker               0.000000\n",
      "PowerMusic              0.000000\n",
      "Anghami                 0.000000\n",
      "NugsNet                 0.000000\n",
      "MonkingMe               0.000000\n",
      "MixCloud                0.000000\n",
      "Midwest Tape            0.000000\n",
      "Fan Label               0.000000\n",
      "AudioMack               0.000000\n",
      "iHeart Radio            0.000000\n",
      "Name: Songwriter?, dtype: float64\n"
     ]
    }
   ],
   "source": [
    "mlc[\"Songwriter?\"] = pd.to_numeric(mlc[\"Songwriter?\"]*100)\n",
    "sw_ratio = mlc.groupby('DSP')['Songwriter?'].mean()\n",
    "sw_ratio = sw_ratio.sort_values(ascending=False)\n",
    "print(sw_ratio)\n",
    "\n",
    "#Jasmine Drumright came up with this code to look into who has songwriter info"
   ]
  },
  {
   "cell_type": "code",
   "execution_count": 18,
   "id": "d7cd0b5a",
   "metadata": {},
   "outputs": [
    {
     "data": {
      "text/html": [
       "<div>\n",
       "<style scoped>\n",
       "    .dataframe tbody tr th:only-of-type {\n",
       "        vertical-align: middle;\n",
       "    }\n",
       "\n",
       "    .dataframe tbody tr th {\n",
       "        vertical-align: top;\n",
       "    }\n",
       "\n",
       "    .dataframe thead th {\n",
       "        text-align: right;\n",
       "    }\n",
       "</style>\n",
       "<table border=\"1\" class=\"dataframe\">\n",
       "  <thead>\n",
       "    <tr style=\"text-align: right;\">\n",
       "      <th></th>\n",
       "      <th>ISRC</th>\n",
       "      <th>Country</th>\n",
       "      <th>Registrant</th>\n",
       "      <th>Release_Year</th>\n",
       "      <th>Period</th>\n",
       "      <th>DSP</th>\n",
       "      <th>Streams</th>\n",
       "      <th>Artist</th>\n",
       "      <th>Label</th>\n",
       "      <th>Song</th>\n",
       "      <th>Album</th>\n",
       "      <th>Duration</th>\n",
       "      <th>Songwriter?</th>\n",
       "    </tr>\n",
       "  </thead>\n",
       "  <tbody>\n",
       "    <tr>\n",
       "      <th>0</th>\n",
       "      <td>USUG12101043</td>\n",
       "      <td>US</td>\n",
       "      <td>UG1</td>\n",
       "      <td>21.0</td>\n",
       "      <td>3/1/2021</td>\n",
       "      <td>Apple</td>\n",
       "      <td>16216932</td>\n",
       "      <td>Drake</td>\n",
       "      <td>OVO</td>\n",
       "      <td>Lemon Pepper Freestyle (feat. Rick Ross)</td>\n",
       "      <td>Scary Hours 2</td>\n",
       "      <td>383</td>\n",
       "      <td>100</td>\n",
       "    </tr>\n",
       "    <tr>\n",
       "      <th>1</th>\n",
       "      <td>USRC12100543</td>\n",
       "      <td>US</td>\n",
       "      <td>RC1</td>\n",
       "      <td>21.0</td>\n",
       "      <td>4/1/2021</td>\n",
       "      <td>Spotify</td>\n",
       "      <td>21456166</td>\n",
       "      <td>Doja Cat,SZA</td>\n",
       "      <td>Kemosabe Records/RCA Records</td>\n",
       "      <td>Kiss Me More (feat. SZA)</td>\n",
       "      <td>Kiss Me More (feat. SZA)</td>\n",
       "      <td>209</td>\n",
       "      <td>100</td>\n",
       "    </tr>\n",
       "    <tr>\n",
       "      <th>2</th>\n",
       "      <td>USSM12102263</td>\n",
       "      <td>US</td>\n",
       "      <td>SM1</td>\n",
       "      <td>21.0</td>\n",
       "      <td>NaN</td>\n",
       "      <td>Apple</td>\n",
       "      <td>15747471</td>\n",
       "      <td>DJ Khaled</td>\n",
       "      <td>Epic/We The Best</td>\n",
       "      <td>EVERY CHANCE I GET (feat. Lil Baby &amp; Lil Durk)</td>\n",
       "      <td>KHALED KHALED</td>\n",
       "      <td>237</td>\n",
       "      <td>100</td>\n",
       "    </tr>\n",
       "    <tr>\n",
       "      <th>3</th>\n",
       "      <td>USLD91731547</td>\n",
       "      <td>US</td>\n",
       "      <td>LD9</td>\n",
       "      <td>17.0</td>\n",
       "      <td>4/1/2021</td>\n",
       "      <td>Apple</td>\n",
       "      <td>17259260</td>\n",
       "      <td>Rod Wave</td>\n",
       "      <td>Alamo Records</td>\n",
       "      <td>Tombstone</td>\n",
       "      <td>SoulFly</td>\n",
       "      <td>160</td>\n",
       "      <td>100</td>\n",
       "    </tr>\n",
       "    <tr>\n",
       "      <th>4</th>\n",
       "      <td>USAT22007048</td>\n",
       "      <td>US</td>\n",
       "      <td>AT2</td>\n",
       "      <td>20.0</td>\n",
       "      <td>3/1/2021</td>\n",
       "      <td>Apple</td>\n",
       "      <td>8789577</td>\n",
       "      <td>Pooh Shiesty</td>\n",
       "      <td>Atlantic Records</td>\n",
       "      <td>Back In Blood (Feat. Lil Durk)</td>\n",
       "      <td>Back in Blood (feat. Lil Durk) - Single</td>\n",
       "      <td>184</td>\n",
       "      <td>100</td>\n",
       "    </tr>\n",
       "  </tbody>\n",
       "</table>\n",
       "</div>"
      ],
      "text/plain": [
       "           ISRC Country Registrant  Release_Year    Period      DSP   Streams  \\\n",
       "0  USUG12101043      US        UG1          21.0  3/1/2021    Apple  16216932   \n",
       "1  USRC12100543      US        RC1          21.0  4/1/2021  Spotify  21456166   \n",
       "2  USSM12102263      US        SM1          21.0       NaN    Apple  15747471   \n",
       "3  USLD91731547      US        LD9          17.0  4/1/2021    Apple  17259260   \n",
       "4  USAT22007048      US        AT2          20.0  3/1/2021    Apple   8789577   \n",
       "\n",
       "         Artist                         Label  \\\n",
       "0         Drake                           OVO   \n",
       "1  Doja Cat,SZA  Kemosabe Records/RCA Records   \n",
       "2     DJ Khaled              Epic/We The Best   \n",
       "3      Rod Wave                 Alamo Records   \n",
       "4  Pooh Shiesty              Atlantic Records   \n",
       "\n",
       "                                             Song  \\\n",
       "0        Lemon Pepper Freestyle (feat. Rick Ross)   \n",
       "1                        Kiss Me More (feat. SZA)   \n",
       "2  EVERY CHANCE I GET (feat. Lil Baby & Lil Durk)   \n",
       "3                                       Tombstone   \n",
       "4                  Back In Blood (Feat. Lil Durk)   \n",
       "\n",
       "                                     Album  Duration  Songwriter?  \n",
       "0                            Scary Hours 2       383          100  \n",
       "1                 Kiss Me More (feat. SZA)       209          100  \n",
       "2                            KHALED KHALED       237          100  \n",
       "3                                  SoulFly       160          100  \n",
       "4  Back in Blood (feat. Lil Durk) - Single       184          100  "
      ]
     },
     "execution_count": 18,
     "metadata": {},
     "output_type": "execute_result"
    }
   ],
   "source": [
    "mlc.head()"
   ]
  },
  {
   "cell_type": "code",
   "execution_count": 19,
   "id": "55f6d1d4",
   "metadata": {},
   "outputs": [],
   "source": [
    "DJs=mlc.loc[mlc.Artist.str.contains('DJ')]"
   ]
  },
  {
   "cell_type": "code",
   "execution_count": 20,
   "id": "825dbdee",
   "metadata": {
    "scrolled": true
   },
   "outputs": [
    {
     "data": {
      "text/plain": [
       "ISRC          Country  Registrant  Release_Year  Period    DSP      Streams  Artist                       Label                                                Song                                      Album                                                                                             Duration  Songwriter?\n",
       "FR10S1847070  FR       10S         18.0          3/1/2021  GTL      1        DJ Brytos                    Brytos Entertainment Under License to CD RUN Africa  Classic Hip Hop Trap                      Classic Hip Hop Trap                                                                              4769      0              20\n",
       "FR6V81680808  FR       6V8         16.0          3/1/2021  GTL      1        DJ Just Dizle;DJ Spinna      Big Lynden Radio                                     Dearly Departed, Pt. 2 (The Rip Mixtape)  Dearly Departed (The Rip Mixtape) (Dj Just Dizle & Dj Spinna Présent)                             5225      0              11\n",
       "FR10S1847071  FR       10S         18.0          3/1/2021  GTL      1        DJ Brytos                    Brytos Entertainment Under License to CD RUN Africa  2018 100% Street Anthem                   2018 100% Street Anthem                                                                           7826      0              10\n",
       "GBKTX1006411  GB       KTX         10.0          3/1/2021  GTL      1        DJ 'Double J' En Effect      Highroller Music                                     Top 40 Rnb Continuous Mix (R And B)       Top 40 R&B Club Anthems 2013 - The Best Rnb Dance Chart Hits For Clubbing & Partying ( R And B )  3621      0               9\n",
       "FR6V81680807  FR       6V8         16.0          3/1/2021  GTL      1        DJ Just Dizle;DJ Spinna      Big Lynden Radio                                     Dearly Departed, Pt. 1 (The Rip Mixtape)  Dearly Departed (The Rip Mixtape) (Dj Just Dizle & Dj Spinna Présent)                             4088      0               8\n",
       "                                                                                                                                                                                                                                                                                                                                    ..\n",
       "QZGLM2150323  QZ       GLM         21.0          4/1/2021  Apple    18773    DJ 4KERTY                    Dj 4kerty                                            Majo (feat. Bella Shmurda)                Majo (feat. Bella Shmurda) - Single                                                               166       100             1\n",
       "QZGLM2139601  QZ       GLM         21.0          5/1/2021  Spotify  248176   Papu DJ,L-Gante              PAPU DJ                                              L-Gante Rkt                               L-Gante Rkt                                                                                       182       100             1\n",
       "QZGLM2079744  QZ       GLM         20.0          3/1/2021  Spotify  76703    El Taiger,DJ Conds,The Yabo  El Taiger                                            La Guariconfianza                         Blychy                                                                                            208       100             1\n",
       "QZFZ42170731  QZ       FZ4         21.0          3/1/2021  Spotify  26568    DJ FUKKUS                    VIP Records                                          Let me introduce myself                   Let me introduce myself                                                                           106       100             1\n",
       "USZ4V2100009  US       Z4V         21.0          3/1/2021  Spotify  20825    Danny L Harle,DJ Danny       Mad Decent                                           Take My Heart Away                        Harlecore                                                                                         186       100             1\n",
       "Length: 372, dtype: int64"
      ]
     },
     "execution_count": 20,
     "metadata": {},
     "output_type": "execute_result"
    }
   ],
   "source": [
    "DJs.value_counts()\n",
    "#That's too much info"
   ]
  },
  {
   "cell_type": "code",
   "execution_count": 21,
   "id": "6fa2c880",
   "metadata": {},
   "outputs": [
    {
     "data": {
      "text/plain": [
       "array(['DJ Khaled',\n",
       "       'DJ Scheme,Ski Mask The Slump God,Danny Towers,Lil Yachty',\n",
       "       'DJ Chose,Megan Thee Stallion',\n",
       "       'DJ Khaled,Bryson Tiller,Meek Mill,H.E.R.',\n",
       "       'DJ Khaled,Big Sean,Rick Ross,A Boogie Wit da Hoodie,Diddy',\n",
       "       'DJ Khaled,Lil Baby,Lil Durk',\n",
       "       'DJ Scheme,Cordae,Ski Mask The Slump God,Take A Daytrip',\n",
       "       'Juice WRLD, DJ Scheme', 'DJ Snake,Selena Gomez',\n",
       "       'Brent Faiyaz,DJ Dahi,Tyler, The Creator',\n",
       "       'Brent Faiyaz & DJ Dahi Feat. Tyler The Creator',\n",
       "       'Kaito Shoma,DJ Paul,Kingpin Skinny Pimp',\n",
       "       'DJ Khaled,Bryson Tiller,Roddy Ricch,Lil Baby',\n",
       "       'DJ Pharris,Chance the Rapper,Wiz Khalifa,Rockie Fresh',\n",
       "       'DJ Chose|Megan Thee Stallion',\n",
       "       'DJ Khaled,Nas,JAY-Z,James Fauntleroy',\n",
       "       'Fat Joe, DJ Khaled & Amorphous', 'DJ Scheme,Juice WRLD',\n",
       "       'DJ Khaled feat. Justin Bieber & 21 Savage',\n",
       "       'DJ Khaled feat. Nas, JAY-Z & James Fauntleroy',\n",
       "       'Bad Bunny|Mambo Kingz|Prince Royce|DJ Luian|J Balvin',\n",
       "       'DJ Scheme,Ski Mask The Slump God,ZillaKami', 'DJ Khaled,Cardi B',\n",
       "       'DJ Khaled feat. Lil Wayne & Jeremih', 'DJ Scheme,iann dior',\n",
       "       'DJ Khaled feat. Bryson Tiller, H.E.R. & Meek Mill',\n",
       "       'DJ Khaled [feat. Drake, Rick Ross & Lil Wayne]',\n",
       "       'Lil Gnar,Ski Mask The Slump God,Chief Keef,DJ Scheme', 'DJ BJ',\n",
       "       'DJ Snake', 'DJ Khaled,Buju Banton,Capleton,Bounty Killer',\n",
       "       'DJ Khaled feat. Drake', 'Papu DJ,L-Gante', 'DJ Tunez', 'DJ LB',\n",
       "       'Bone Thugs-N-Harmony,DJ Kay Slay,Busta Rhymes,Twista,Jaz-O',\n",
       "       'Kingpin Skinny Pimp, Kaito Shoma, DJ Paul', 'DJ Drama',\n",
       "       'DJ 4KERTY', 'DJ Khaled|Ludacris|Snoop Dogg|Rick Ross|T-Pain',\n",
       "       'DJ Sauna,DJ Luke Nasty', 'DJ Khaled|Drake',\n",
       "       'Jay Wheeler, Myke Towers & DJ Nelson (feat. Jhay Cortez, Lunay, Rauw Alejandro & Kendo Kaponi)',\n",
       "       'Jay Wheeler & DJ Nelson (feat. Myke Towers)',\n",
       "       'Fat Joe, DJ Khaled, Amorphous', 'DJ Chose|Beatking', 'DJ Hip Hop',\n",
       "       'El Taiger,DJ Conds,The Yabo', 'DJ Paul',\n",
       "       'Enrique Iglesias [feat. Ludacris & DJ Frank E]',\n",
       "       'DJ Kay Slay (feat. Sheek Louch, Styles P, Benny The Butcher, Bun B, Ghostface Killah, Raekwon, AZ, Papoose, Ransom, Memphis Bleek, Billy Danze, Lil Fame, Dave East, 3D Natee, Joell Ortiz, Saigon, Mistah F.A.B., Chris Rivers, Jon Connor, Twista, E-40, Nino Man, Shoota, Mysonne, Sauce Money, Ice-T, Trick Trick, RJ Payne, E-A-Ski, Fred The Godson, Loaded Lux, Termanology, Young Noble, EDI, Locksmith, Cassidy, Maino, Vado, Rockness, DJ Paul, MC Gruff, Stan Spit, Uncle Murda, Cory Gunz, Melle Mel, Grandmaster Caz, Trae Tha Truth, Bynoe, Hocus 45th & Royce da 59)',\n",
       "       'DJ Muggs,Roc Marciano',\n",
       "       'DJ Luian, Mambo Kingz & Anuel Aa [feat. Nicky Jam, Darell & Brytiago]',\n",
       "       'Jay Wheeler,DJ Nelson', 'DJ Pioneer,TJ,Zoey Dollaz,Chris Brown',\n",
       "       'DJ Xavierj713', 'DJ Tunez,Olamide', 'Kash Doll, DJ Infamous',\n",
       "       'Jay Wheeler|DJ Nelson', 'DJ Snake, Selena Gomez & Tiësto',\n",
       "       'KYEN?ES?, DJ Nelson', 'DJ Alias', 'Brent Faiyaz|DJ Dahi',\n",
       "       'DJ Khaled,H.E.R.,Migos', 'Insane Clown Posse,DJ Paul,Stitches',\n",
       "       'Snoop Dogg|T-Pain|Rick Ross|DJ Khaled|Ludacris',\n",
       "       'J. Anthoni, DJ Tunez', 'DJsNeverEndingStory',\n",
       "       'DJ Tunez,WizKid,Adekunle Gold,Omah Lay',\n",
       "       'Robert Glasper,H.E.R.,Meshell Ndegeocello,DJ Tunez', 'DJ Kahled',\n",
       "       'DJ Pedro Fuentes', 'DJ Jeff Duran,YoungBoy',\n",
       "       'DJ Luian,Mambo Kingz,Farruko,Wisin,Myke Towers,Darell,Arcangel',\n",
       "       'Doja Cat,DJ Sliink', 'DJ Khaled,21 Savage,Justin Bieber',\n",
       "       'DJ Scheme', 'Lost Kids, DJ Candlestick, Brent Faiyaz',\n",
       "       'DJ Khaled Feat. Nicki Minaj Feat. Future Feat. Rick Ross',\n",
       "       'DJ Envy, Fabolous, A Boogie Wit da Hoodie',\n",
       "       'Bob Moses,DJ Seinfeld', 'Yelawolf,DJ Paul',\n",
       "       'DJ Khaled feat. J. Cole', 'Papu DJ, L-Gante',\n",
       "       'DJ Scheme,$NOT,Fenix Flexin', 'Danny L Harle,DJ Danny',\n",
       "       'DJ Clue Feat. Mary J. Blige Feat. Jadakiss',\n",
       "       'DJ Khaled feat. Pusha T & Jadakiss',\n",
       "       'DJ Khaled feat. Justin Bieber, Chance the Rapper & Quavo',\n",
       "       'DJ Drama|Future', 'Jay Wheeler & DJ Nelson', 'DJ Makarov',\n",
       "       'Ghost Town DJs', 'DJ.Fresh, Curren$y', 'DJYung$avage',\n",
       "       'Torche,DJ Coolzz', \"DJ Space'C\", 'Jay Wheeler, DJ Nelson',\n",
       "       'DJ Clue|DMX', 'Rome Streetz, DJ Muggs', 'Yelawolf, DJ Paul',\n",
       "       'DJ E-Feezy,Trey Songz,Tory Lanez,Ty Dolla $ign',\n",
       "       'DJ Dirty Vibrations', 'DJ Drama|Outkast|Marsha Ambrosius',\n",
       "       'Fabolous|Wiz Khalifa|Roscoe Dash|DJ Drama',\n",
       "       'DJ Clue Feat. L.O.X. Feat. CamRon Feat. Fabolous',\n",
       "       'DJ Tunez,J. Anthoni', 'DJ Sight', 'DJ ESCO|Future',\n",
       "       'DJ Tao,L-Gante,Papu DJ',\n",
       "       'DJ Clue Feat. DMX Feat. Jadakiss Feat. Styles Feat. Eve Feat. Drag-On',\n",
       "       'DJ Clue Feat. Beanie Sigel Feat. Freeway',\n",
       "       'T.I. featuring Young Buck, Young Dro and DJ Drama',\n",
       "       'DJ Muggs,MF DOOM,Kool G Rap', 'Juice WRLD|DJ Scheme',\n",
       "       'DJ Khaled Feat. J. Cole Feat. Bas',\n",
       "       'Mambo Kingz, DJ Luian, Luigi 21 Plus & Ozuna',\n",
       "       'Yelawolf featuring DJ Paul K.O.M.', 'DJ Gotta',\n",
       "       'DJ Kay Slay (feat. Sheek Louch, Styles P, Sauce Money, Nino Man, Vado, RJ Payne & Jon Connor)',\n",
       "       'DJ Drillinois', 'DJ Neptune|Joeboy|Mr Eazi', 'DJ ESCO',\n",
       "       'DJ Pharris', 'Svpa,DJ Chose', 'DJ Pho',\n",
       "       'DJ Khalil Feat. Denzel Curry Feat. YBN Cordae Feat. SwaVay Feat. Trevor Rich',\n",
       "       'DJ Victoriouz, CEO Trayle',\n",
       "       'DJ Drama featuring Rick Ross, Westside Gunn and Lule',\n",
       "       'DJ Hotday', 'DJ Muggs,Rome Streetz', 'Mac Miller,DJ Bonics',\n",
       "       'DJ Khaled|A Boogie Wit Da Hoodie|Big Sean|Rick Ross|Puff Daddy',\n",
       "       'DJ Jubilee & Partners-N-Crime', 'DJ Electrohead',\n",
       "       'Kash Doll|DJ Infamous', 'DJ Screw,Lil Keke', 'DJ RossChild',\n",
       "       'DJ Yella', 'DJ Espinos', 'DJ Elvis', 'DJ Drobitussin',\n",
       "       'DJ Purpberry',\n",
       "       'DJ Kay Slay|Sheek Louch|Styles P|Sauce Money|Nino Man|Vado|RJ Payne|Jon Connor',\n",
       "       'El Taiger,DJ Conds', 'Zombie Nation|DJ Gius',\n",
       "       'DJ BADDO BEST OF FELA MIX [ ADD @DJBADDO & @BADDOENTWORLD ON INSTAGRAM_TWIT',\n",
       "       'Leka El Poeta featuring Mishelle Master Boy remixed by DJ Yayo',\n",
       "       'DJ Zoom', 'DJ Flex|A-Star|Edouble|Felix Erwiah',\n",
       "       'Miky Woodz|DJ Nelson|Jay Wheeler', 'DJ RUFFY X TOBEAT DRUMS',\n",
       "       'DJ Buy a Block', 'DJ Hoang Viet', 'DJ Drez',\n",
       "       'Smalltown DJs feat. Lisa Lobsinger', 'DJ HOANG LONG', 'DJ Kulsz',\n",
       "       'DJ HAI CENA',\n",
       "       'DJ BOY|MC Joãozinho VT|MC V7|MC Letto|MC Leozinho Zs|MC IG|MC Davi|MC Kako|Victor Pereira dos Santos|Wellington Campos dos Santos|Alex Oliveira Santos|Guilherme Sergio Ramos|João Vitor dos Santos|Davi Almeida|Jackson Frayle Toledo Campos|Guilherme de Souza Macena|Dj Boy',\n",
       "       'DJ Housejaq', 'DJ Sin City', 'DJ Cam Quartet',\n",
       "       'DJ KAYWISE & PHYNO', 'DJ June,Pacho', 'DJ MONSTER GAMBIA',\n",
       "       'DoctorSpook;DJ Dubstep Rave;Dubstep Spook', 'DJ HAI DANG',\n",
       "       'DJ CHOSE, GUCCI MANE', 'DJ Khalo', 'DJ Jayhood', 'DJ Huy Anh',\n",
       "       'DJ.Splash;Jocelin Konrad Ulrich Bodge', 'DJ Drez,Marti Nikko',\n",
       "       'DJ Cupi Trung', 'Viral DJs', 'DJ Mix',\n",
       "       'Dubster Spook;DJ Dubstep Rave;Dubstep Dr.', 'DJ Skribble',\n",
       "       'DJ David Jung', 'DJ Lola', 'DJ Mitch',\n",
       "       'DJ Freddy;Freddy Bobadilla', 'DJ Krlos Berrospi;Pau Donés',\n",
       "       'DJ Fixx', 'DJ Lucky 773', 'DJ Irene',\n",
       "       'DJ Krlos Berrospi;Hayro Alfredo Gonzales Lopez',\n",
       "       'DJ Ol Hendelsson', 'DJ HAI MARKID', 'DJ Hoang Vuong', 'DJ Icey',\n",
       "       'DJ Slime', 'DJ Hai Vuong', 'DJ FUKKUS', 'DJ KHANH KOI',\n",
       "       'DJ Jason', 'DJ Krlos Berrospi;JAIME GUTIERREZ', 'DJ Tung Tee',\n",
       "       'DJ Wasu;BRADLEY JAMES NOWELL;Anthony Kiedis;Billie Joe Armstrong',\n",
       "       'DJ Quyen', 'DJ Hoang Phong', 'DJ Kilimix', 'DJ June',\n",
       "       'Yung Fresh, DJ Black Bill Gates, DJ Lil Keem',\n",
       "       'Phyno, DJ Kaywise', 'Laycon, Joeboy, DJ Neptune',\n",
       "       'Megan Thee Stallion, DJ Chose', 'Mambo Kingz, Farruko, DJ Luian',\n",
       "       'DJ Ganzus', '3-6 Mafia|Trillville|DJ Paul|HCP|3-6 Mafia|Fiend',\n",
       "       'DJ Fart', 'DJ S.WAYVE', 'DJ Clay', 'J Balvin,DJ Snake,Tyga',\n",
       "       'DJ Ace of Spades', 'DJ Jazz II',\n",
       "       'Jay Wheeler, Farruko, DJ Nelson', 'DJ Chose',\n",
       "       'Battle Mix by DJ J.V. Kidd', 'DJ Just Dizle;DJ Spinna',\n",
       "       'DJ Venom', 'DJ Maretimo',\n",
       "       'DJ Krlos Berrospi;Dj Chaval;Chili Fernandez',\n",
       "       \"DJ 'Double J' En Effect\", 'DJ Power Fitness',\n",
       "       'DJ Wasu;Golbert Angel Zarate', 'DJ Luna',\n",
       "       'DJ Wasu;Shakira Isabel Mebarak Ripoll;Paulina Susana Rubio Dosamantes;Donato Póveda;Fabio Alfonso Salgado',\n",
       "       'DJ Latino', 'DJ Kaywise,Phyno', 'DJ Black;KWADWO AMPOFO',\n",
       "       'DJ Brytos', 'DJ Megan Ryte', 'Yelawolf, DJ Muggs', 'DJ Chargers',\n",
       "       'DJ Drewski,Sheff G,Sleepy Hallow', 'DJ JRAN',\n",
       "       'Yelawolf,DJ Muggs,Caskey', 'DJ Sonni',\n",
       "       'Yelawolf,DJ Muggs,Struggle Jennings', 'Yelawolf,DJ Muggs'],\n",
       "      dtype=object)"
      ]
     },
     "execution_count": 21,
     "metadata": {},
     "output_type": "execute_result"
    }
   ],
   "source": [
    "DJs.Artist.unique()"
   ]
  },
  {
   "cell_type": "code",
   "execution_count": 34,
   "id": "336b9201",
   "metadata": {},
   "outputs": [
    {
     "name": "stdout",
     "output_type": "stream",
     "text": [
      "<class 'pandas.core.frame.DataFrame'>\n",
      "Int64Index: 593 entries, 2 to 97693\n",
      "Data columns (total 13 columns):\n",
      " #   Column        Non-Null Count  Dtype  \n",
      "---  ------        --------------  -----  \n",
      " 0   ISRC          585 non-null    object \n",
      " 1   Country       585 non-null    object \n",
      " 2   Registrant    585 non-null    object \n",
      " 3   Release_Year  585 non-null    float64\n",
      " 4   Period        482 non-null    object \n",
      " 5   DSP           538 non-null    object \n",
      " 6   Streams       593 non-null    int32  \n",
      " 7   Artist        593 non-null    object \n",
      " 8   Label         580 non-null    object \n",
      " 9   Song          593 non-null    object \n",
      " 10  Album         593 non-null    object \n",
      " 11  Duration      593 non-null    int64  \n",
      " 12  Songwriter?   593 non-null    int64  \n",
      "dtypes: float64(1), int32(1), int64(2), object(9)\n",
      "memory usage: 62.5+ KB\n"
     ]
    }
   ],
   "source": [
    "DJs.info()"
   ]
  },
  {
   "cell_type": "code",
   "execution_count": 37,
   "id": "2e102585",
   "metadata": {},
   "outputs": [
    {
     "data": {
      "text/plain": [
       "2                                                DJ Khaled\n",
       "28                                               DJ Khaled\n",
       "38                                               DJ Khaled\n",
       "105                                              DJ Khaled\n",
       "175      DJ Scheme,Ski Mask The Slump God,Danny Towers,...\n",
       "                               ...                        \n",
       "96752                                    Phyno, DJ Kaywise\n",
       "96753                                    Phyno, DJ Kaywise\n",
       "96974                             Yelawolf,DJ Muggs,Caskey\n",
       "97217                  Yelawolf,DJ Muggs,Struggle Jennings\n",
       "97693                                    Yelawolf,DJ Muggs\n",
       "Name: Artist, Length: 593, dtype: object"
      ]
     },
     "execution_count": 37,
     "metadata": {},
     "output_type": "execute_result"
    }
   ],
   "source": [
    "DJs.Artist.astype(str)"
   ]
  },
  {
   "cell_type": "code",
   "execution_count": 40,
   "id": "0ab9b6e5",
   "metadata": {},
   "outputs": [],
   "source": [
    "#regex=r\"DJ\\s\\w+\"\n",
    "\n",
    "DJs = re.findall('DJ\\s\\w+', str(DJs.Artist))\n",
    "#GOT IT TO WORK!!!!"
   ]
  },
  {
   "cell_type": "code",
   "execution_count": 44,
   "id": "9b94e60a",
   "metadata": {},
   "outputs": [
    {
     "data": {
      "text/plain": [
       "['DJ Khaled',\n",
       " 'DJ Khaled',\n",
       " 'DJ Khaled',\n",
       " 'DJ Khaled',\n",
       " 'DJ Scheme',\n",
       " 'DJ Kaywise',\n",
       " 'DJ Kaywise',\n",
       " 'DJ Muggs',\n",
       " 'DJ Muggs',\n",
       " 'DJ Muggs']"
      ]
     },
     "execution_count": 44,
     "metadata": {},
     "output_type": "execute_result"
    }
   ],
   "source": [
    "DJs"
   ]
  },
  {
   "cell_type": "code",
   "execution_count": null,
   "id": "2ab7d498",
   "metadata": {},
   "outputs": [],
   "source": [
    "sw_ratio = mlc.groupby('DSP')['Songwriter?'].mean()\n",
    "count_o_correctsub=sw_ratio.sort_values(ascending=False)"
   ]
  },
  {
   "cell_type": "code",
   "execution_count": null,
   "id": "9c438fde",
   "metadata": {},
   "outputs": [],
   "source": [
    "rows_of_DSP=mlc.DSP.value_counts()"
   ]
  },
  {
   "cell_type": "code",
   "execution_count": null,
   "id": "9f0f23cc",
   "metadata": {},
   "outputs": [],
   "source": [
    "#Group think composition\n",
    "streams_per_DSP=mlc.groupby('DSP')['Streams'].sum()\n",
    "streams_per_DSP=streams_per_DSP.sort_values(ascending=False)\n",
    "print(streams_per_DSP)"
   ]
  },
  {
   "cell_type": "markdown",
   "id": "94aef1c5",
   "metadata": {},
   "source": [
    "#### Turn the findings into a dataframe"
   ]
  },
  {
   "cell_type": "code",
   "execution_count": null,
   "id": "b2cde876",
   "metadata": {},
   "outputs": [],
   "source": [
    "songwriter_df=pd.DataFrame(sw_ratio)\n",
    "songwriter_df.columns =['SW_avg']\n",
    "print(songwriter_df)"
   ]
  },
  {
   "cell_type": "code",
   "execution_count": null,
   "id": "08f2b2aa",
   "metadata": {},
   "outputs": [],
   "source": [
    "songwriter_df.reset_index(inplace=True)\n",
    "songwriter_df = songwriter_df.rename(columns = {'index':\"DSP\"})"
   ]
  },
  {
   "cell_type": "code",
   "execution_count": null,
   "id": "be975774",
   "metadata": {},
   "outputs": [],
   "source": [
    "print(songwriter_df)"
   ]
  },
  {
   "cell_type": "code",
   "execution_count": null,
   "id": "2935f6fc",
   "metadata": {},
   "outputs": [],
   "source": [
    "streams_df=pd.DataFrame(streams_per_DSP)"
   ]
  },
  {
   "cell_type": "code",
   "execution_count": null,
   "id": "5ac8e7a9",
   "metadata": {},
   "outputs": [],
   "source": [
    "streams_df.reset_index(inplace=True)\n",
    "streams_df = streams_df.rename(columns = {'index': \"DSP\"})\n",
    "print(streams_df)"
   ]
  },
  {
   "cell_type": "code",
   "execution_count": null,
   "id": "88225321",
   "metadata": {},
   "outputs": [],
   "source": [
    "row_o_dsp=pd.DataFrame(rows_of_DSP)\n",
    "row_o_dsp.reset_index(inplace=True)\n",
    "row_o_dsp = row_o_dsp.rename(columns = {'index': \"DSP\", 'DSP': \"songs_per_DSP\"})\n",
    "print(row_o_dsp)"
   ]
  },
  {
   "cell_type": "code",
   "execution_count": null,
   "id": "a89fd183",
   "metadata": {},
   "outputs": [],
   "source": [
    "DSP_df1 = pd.merge(songwriter_df, streams_df, on=['DSP'], how='inner')\n",
    "print(DSP_df1)"
   ]
  },
  {
   "cell_type": "code",
   "execution_count": null,
   "id": "ba0e4ec5",
   "metadata": {},
   "outputs": [],
   "source": [
    "DSP_df2 = pd.merge(DSP_df1, row_o_dsp, on=['DSP'], how='inner')\n",
    "print(DSP_df2)"
   ]
  },
  {
   "cell_type": "code",
   "execution_count": null,
   "id": "9ce82296",
   "metadata": {},
   "outputs": [],
   "source": [
    "DSP_df2 = DSP_df2.sort_values(by=['Streams'], ascending=False)\n",
    "print(DSP_df2)"
   ]
  },
  {
   "cell_type": "code",
   "execution_count": null,
   "id": "b9c4db57",
   "metadata": {},
   "outputs": [],
   "source": [
    "pd.reset_option('display.float_format')\n",
    "print(DSP_df2)"
   ]
  },
  {
   "cell_type": "code",
   "execution_count": null,
   "id": "b2e5801b",
   "metadata": {},
   "outputs": [],
   "source": [
    "DSP_df2.info()"
   ]
  },
  {
   "cell_type": "code",
   "execution_count": null,
   "id": "403ab6a4",
   "metadata": {},
   "outputs": [],
   "source": [
    "top_7=DSP_df2.head(7)\n",
    "print(top_7)"
   ]
  },
  {
   "cell_type": "code",
   "execution_count": null,
   "id": "08309c0d",
   "metadata": {},
   "outputs": [],
   "source": [
    "ax = sns.barplot(x=\"DSP\", y=\"Streams\", data=top_7, palette=sns.color_palette(\"Blues_r\", 10), order=top_7['DSP'])\n",
    "plt.xticks(rotation = 50)\n",
    "sns.set(rc = {'figure.figsize':(15,5)});"
   ]
  },
  {
   "cell_type": "code",
   "execution_count": null,
   "id": "3e2ee3c7",
   "metadata": {},
   "outputs": [],
   "source": [
    "scatter= sns.barplot(data=top_7, x=\"DSP\", y=\"SW_avg\", palette=sns.color_palette(\"GnBu\", 10))"
   ]
  },
  {
   "cell_type": "code",
   "execution_count": null,
   "id": "2146d94a",
   "metadata": {},
   "outputs": [],
   "source": [
    "# violin = sns.violinplot(data=mlc, x = 'DSP', y='Songwriter?', \n",
    "#                         inner='quart', linewidth=1,\n",
    "#                        palette={0:'b', 1:\"r\"}, split=True)\n",
    "#sns.despine(left=True)\n"
   ]
  },
  {
   "cell_type": "code",
   "execution_count": null,
   "id": "f434d98f",
   "metadata": {},
   "outputs": [],
   "source": [
    "# Plot top 7 by Songs_Per_DSP\n",
    "plt.figure(figsize=(12, 6))\n",
    "plt.bar(top_7.DSP, top_7.songs_per_DSP, color=['c'], edgecolor='gold')\n",
    "plt.ylabel('Number of Songs', fontsize=16)\n",
    "plt.xticks(rotation = 50, fontsize=16)\n",
    "plt.yticks([5000, 10000, 15000, 20000, 25000, 30000, 35000], fontsize=16)\n",
    "plt.title('Top 7 DSPs by Number of Songs Streamed', fontsize=20);\n"
   ]
  },
  {
   "cell_type": "code",
   "execution_count": null,
   "id": "9d5e6f4a",
   "metadata": {},
   "outputs": [],
   "source": [
    "top_7"
   ]
  },
  {
   "cell_type": "code",
   "execution_count": null,
   "id": "08b8a148",
   "metadata": {},
   "outputs": [],
   "source": [
    "top_7DSP=top_7.sort_values(by=['songs_per_DSP'], ascending=False)\n",
    "top_7DSP"
   ]
  },
  {
   "cell_type": "code",
   "execution_count": null,
   "id": "0ef5f9d5",
   "metadata": {},
   "outputs": [],
   "source": [
    "#need to remind myself what the mlc contained\n",
    "mlc.head(1)"
   ]
  },
  {
   "cell_type": "code",
   "execution_count": null,
   "id": "eadcc574",
   "metadata": {},
   "outputs": [],
   "source": [
    "mlc.Label.value_counts()"
   ]
  },
  {
   "cell_type": "code",
   "execution_count": null,
   "id": "30a88095",
   "metadata": {},
   "outputs": [],
   "source": [
    "streams_per_Label=mlc.groupby('Label')['Streams'].sum()\n",
    "streams_per_Label=streams_per_Label.sort_values(ascending=False)\n",
    "print(streams_per_Label)"
   ]
  },
  {
   "cell_type": "code",
   "execution_count": null,
   "id": "7d14a075",
   "metadata": {},
   "outputs": [],
   "source": [
    "Label_ratio = mlc.groupby('Label')['Songwriter?'].mean()\n",
    "Label_ratio = Label_ratio.sort_values(ascending=False)"
   ]
  },
  {
   "cell_type": "code",
   "execution_count": null,
   "id": "7467fc14",
   "metadata": {},
   "outputs": [],
   "source": [
    "Label_df = pd.merge(streams_per_Label, Label_ratio, on=['Label'], how='inner')\n",
    "print(Label_df)"
   ]
  },
  {
   "cell_type": "code",
   "execution_count": null,
   "id": "f84c59ab",
   "metadata": {},
   "outputs": [],
   "source": [
    "Label_df=Label_df.rename(columns={'Songwriter?':'SW_avg'})"
   ]
  },
  {
   "cell_type": "code",
   "execution_count": null,
   "id": "d151c8ba",
   "metadata": {},
   "outputs": [],
   "source": [
    "Label_df.reset_index(inplace=True)\n",
    "Label_df = Label_df.rename(columns = {'index': \"Label\"})\n",
    "Label_df.head(10)"
   ]
  },
  {
   "cell_type": "code",
   "execution_count": null,
   "id": "b144d111",
   "metadata": {},
   "outputs": [],
   "source": [
    "radiohead = Label_df.head(7)\n",
    "print(radiohead)"
   ]
  },
  {
   "cell_type": "code",
   "execution_count": null,
   "id": "16fbbdb0",
   "metadata": {},
   "outputs": [],
   "source": [
    "# Plot the responses for different events and regions\n",
    "plt.gcf().set_size_inches(15,7) # Rudy: Make it bigger\n",
    "sns.barplot(x=\"Label\", y=\"Streams\", data=radiohead, palette=['c','orange','g','r','m','b','pink'])\n",
    "plt.title('Record Label by Number of Streams', fontsize=20)\n",
    "plt.xticks(rotation=50, fontsize=16)\n",
    "plt.xlabel('', fontsize=0)\n",
    "plt.ylabel('Number of Streams', fontsize=16)\n",
    "plt.yticks(fontsize=16);\n"
   ]
  },
  {
   "cell_type": "code",
   "execution_count": null,
   "id": "571997bb",
   "metadata": {},
   "outputs": [],
   "source": [
    "Top_7_Labels = Label_df.sort_values(by='SW_avg', ascending=False)\n",
    "Top_7_Labels = Top_7_Labels[Top_7_Labels['Label'].isin(['Atlantic Records', 'Columbia', '300 Entertainment','Lofi Records', 'Alamo (Geffen Records)','Alamo Records', 'Taylor Swift'])]\n",
    "Top_7_Labels"
   ]
  },
  {
   "cell_type": "code",
   "execution_count": null,
   "id": "ad70f870",
   "metadata": {},
   "outputs": [],
   "source": [
    "sns.set_theme(style=\"darkgrid\")\n",
    "sns.set(font_scale=1)\n",
    "sns.barplot(x=\"Label\", y=\"SW_avg\", data=Top_7_Labels, palette=['pink','orange','r','b','c','m','g'], edgecolor='black')\n",
    "plt.title('Recording Label by % of Songwriter Info Provided', fontsize=20)\n",
    "plt.xticks(rotation=50, fontsize=16)\n",
    "plt.xlabel('', fontsize=0)\n",
    "plt.ylabel('% of Songwriter Info Provided', fontsize=16)\n",
    "plt.yticks(fontsize=16)\n",
    "plt.gcf().set_size_inches(15,7)"
   ]
  },
  {
   "cell_type": "code",
   "execution_count": null,
   "id": "1a8f2df5",
   "metadata": {},
   "outputs": [],
   "source": [
    "plt.pie(Top_7_Labels.Streams, labels = Top_7_Labels.Label, autopct='%.0f%%')\n",
    "plt.show()"
   ]
  },
  {
   "cell_type": "code",
   "execution_count": null,
   "id": "bdb6deca",
   "metadata": {},
   "outputs": [],
   "source": [
    "label_song_count = pd.DataFrame(mlc.Label.value_counts())\n",
    "label_song_count.reset_index(inplace=True)\n",
    "songs_by_label = label_song_count.rename(columns = {'index': \"Label\", 'Label':'Num_of_songs'})\n",
    "songs_by_label"
   ]
  },
  {
   "cell_type": "code",
   "execution_count": null,
   "id": "e7d52a87",
   "metadata": {},
   "outputs": [],
   "source": [
    "Label_df=pd.merge(Label_df, songs_by_label, on=['Label'], how='inner')\n",
    "Label_df"
   ]
  },
  {
   "cell_type": "code",
   "execution_count": null,
   "id": "31f7f0da",
   "metadata": {},
   "outputs": [],
   "source": [
    "Top_7_lsong = Label_df.sort_values(by='Num_of_songs', ascending=False)\n",
    "Top_7_lsong= Top_7_lsong[Top_7_lsong['Label'].isin(['Atlantic Records', 'Columbia', '300 Entertainment','Lofi Records', 'Alamo (Geffen Records)','Alamo Records', 'Taylor Swift'])]\n",
    "Top_7_lsong"
   ]
  },
  {
   "cell_type": "code",
   "execution_count": null,
   "id": "4119c561",
   "metadata": {},
   "outputs": [],
   "source": [
    "\n",
    "plt.hlines(y=Top_7_lsong['Label'], xmin=0, xmax=Top_7_lsong['SW_avg'],linewidth=3, alpha =0.8)\n",
    "plt.scatter(Top_7_lsong['Num_of_songs'], s=80, alpha=1)\n",
    "plt.title(\"Percent of submitted songwriter\", fontsize=20, x=0.5,y=1.02)\n",
    "plt.xlabel('Lable', fontsize=20)\n",
    "plt.ylabel('',fontsize=20)\n",
    "plt.yticks(fontsize=15)\n",
    "plt.xticks(fontsize=15)\n",
    "plt.grid();"
   ]
  },
  {
   "cell_type": "markdown",
   "id": "7233e891",
   "metadata": {},
   "source": [
    "#### LET'S LOOK AT FOREIGN AND DOMESTIC OPTIONS"
   ]
  },
  {
   "cell_type": "code",
   "execution_count": null,
   "id": "5294034e",
   "metadata": {},
   "outputs": [],
   "source": [
    "foreign=mlc.loc[mlc['Country']!= 'US']\n",
    "foreign.head()"
   ]
  },
  {
   "cell_type": "code",
   "execution_count": null,
   "id": "37e2ea97",
   "metadata": {},
   "outputs": [],
   "source": [
    "foreign['Streams'].value_counts()"
   ]
  },
  {
   "cell_type": "code",
   "execution_count": null,
   "id": "d47b2d51",
   "metadata": {},
   "outputs": [],
   "source": [
    "foreign_ratio = foreign.groupby('Country')['Songwriter?'].mean()\n",
    "foreign_ratio"
   ]
  },
  {
   "cell_type": "code",
   "execution_count": null,
   "id": "2e68afcd",
   "metadata": {},
   "outputs": [],
   "source": [
    "foreign_ratio=pd.DataFrame(foreign_ratio)"
   ]
  },
  {
   "cell_type": "code",
   "execution_count": null,
   "id": "8e211590",
   "metadata": {},
   "outputs": [],
   "source": [
    "foreign_ratio.reset_index(inplace=True)\n",
    "foreign_ratio = foreign_ratio.rename(columns = {'index': \"Country\", 'Songwriter?':'SW_avg'})\n",
    "print(foreign_ratio)\n",
    "#foreign_ratio = foreign_ratio.rename(columns={})"
   ]
  },
  {
   "cell_type": "code",
   "execution_count": null,
   "id": "5dae6620",
   "metadata": {},
   "outputs": [],
   "source": [
    "foreign.info()"
   ]
  },
  {
   "cell_type": "code",
   "execution_count": null,
   "id": "f6c27509",
   "metadata": {},
   "outputs": [],
   "source": [
    "foreign.Streams.astype(int)\n",
    "#foreign['Streams']=foreign['Streams'].str.replace(\",\", \"\")"
   ]
  },
  {
   "cell_type": "code",
   "execution_count": null,
   "id": "f0ffeb2f",
   "metadata": {},
   "outputs": [],
   "source": [
    "foreign_stream=foreign.groupby('Country')['Streams'].mean()\n",
    "foreign_stream=foreign_stream.sort_values(ascending=False)\n",
    "foreign_stream"
   ]
  },
  {
   "cell_type": "code",
   "execution_count": null,
   "id": "b9444a40",
   "metadata": {},
   "outputs": [],
   "source": [
    "foreign_stream.reset_index(inplace=True)\n",
    "foreign_stream = foreign_ratio.rename(columns = {'index': \"Country\"})\n",
    "foreign_stream"
   ]
  },
  {
   "cell_type": "code",
   "execution_count": null,
   "id": "36e68b7a",
   "metadata": {},
   "outputs": [],
   "source": []
  }
 ],
 "metadata": {
  "kernelspec": {
   "display_name": "Python 3 (ipykernel)",
   "language": "python",
   "name": "python3"
  },
  "language_info": {
   "codemirror_mode": {
    "name": "ipython",
    "version": 3
   },
   "file_extension": ".py",
   "mimetype": "text/x-python",
   "name": "python",
   "nbconvert_exporter": "python",
   "pygments_lexer": "ipython3",
   "version": "3.9.7"
  }
 },
 "nbformat": 4,
 "nbformat_minor": 5
}
